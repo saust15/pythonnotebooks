{
 "cells": [
  {
   "cell_type": "code",
   "execution_count": 15,
   "metadata": {
    "ExecuteTime": {
     "end_time": "2021-10-03T23:39:41.811629Z",
     "start_time": "2021-10-03T23:39:41.315822Z"
    }
   },
   "outputs": [],
   "source": [
    "import requests\n",
    "\n",
    "url = 'https://download.bls.gov/pub/time.series/ap/ap.series'\n",
    "r = requests.get(url)\n",
    "text_file = open(\"ap_series.txt\", \"w\")\n",
    "text_file.write(r.text)\n",
    "text_file.close()"
   ]
  },
  {
   "cell_type": "code",
   "execution_count": 8,
   "metadata": {
    "ExecuteTime": {
     "end_time": "2021-10-03T23:26:56.538109Z",
     "start_time": "2021-10-03T23:26:56.376543Z"
    }
   },
   "outputs": [],
   "source": [
    "import pandas as pd\n",
    "\n",
    "household_df = pd.read_table('ap_data_1_householdfuels.txt', index_col=0, sep='\\s+')"
   ]
  },
  {
   "cell_type": "code",
   "execution_count": 9,
   "metadata": {
    "ExecuteTime": {
     "end_time": "2021-10-03T23:27:00.473869Z",
     "start_time": "2021-10-03T23:27:00.441801Z"
    }
   },
   "outputs": [
    {
     "data": {
      "text/html": [
       "<div>\n",
       "<style scoped>\n",
       "    .dataframe tbody tr th:only-of-type {\n",
       "        vertical-align: middle;\n",
       "    }\n",
       "\n",
       "    .dataframe tbody tr th {\n",
       "        vertical-align: top;\n",
       "    }\n",
       "\n",
       "    .dataframe thead th {\n",
       "        text-align: right;\n",
       "    }\n",
       "</style>\n",
       "<table border=\"1\" class=\"dataframe\">\n",
       "  <thead>\n",
       "    <tr style=\"text-align: right;\">\n",
       "      <th></th>\n",
       "      <th>year</th>\n",
       "      <th>period</th>\n",
       "      <th>value</th>\n",
       "      <th>footnote_codes</th>\n",
       "    </tr>\n",
       "    <tr>\n",
       "      <th>series_id</th>\n",
       "      <th></th>\n",
       "      <th></th>\n",
       "      <th></th>\n",
       "      <th></th>\n",
       "    </tr>\n",
       "  </thead>\n",
       "  <tbody>\n",
       "    <tr>\n",
       "      <td>APU000072511</td>\n",
       "      <td>1978</td>\n",
       "      <td>M11</td>\n",
       "      <td>0.533</td>\n",
       "      <td>NaN</td>\n",
       "    </tr>\n",
       "    <tr>\n",
       "      <td>APU000072511</td>\n",
       "      <td>1978</td>\n",
       "      <td>M12</td>\n",
       "      <td>0.545</td>\n",
       "      <td>NaN</td>\n",
       "    </tr>\n",
       "    <tr>\n",
       "      <td>APU000072511</td>\n",
       "      <td>1979</td>\n",
       "      <td>M01</td>\n",
       "      <td>0.555</td>\n",
       "      <td>NaN</td>\n",
       "    </tr>\n",
       "    <tr>\n",
       "      <td>APU000072511</td>\n",
       "      <td>1979</td>\n",
       "      <td>M02</td>\n",
       "      <td>0.577</td>\n",
       "      <td>NaN</td>\n",
       "    </tr>\n",
       "    <tr>\n",
       "      <td>APU000072511</td>\n",
       "      <td>1979</td>\n",
       "      <td>M03</td>\n",
       "      <td>0.605</td>\n",
       "      <td>NaN</td>\n",
       "    </tr>\n",
       "  </tbody>\n",
       "</table>\n",
       "</div>"
      ],
      "text/plain": [
       "              year period  value  footnote_codes\n",
       "series_id                                       \n",
       "APU000072511  1978    M11  0.533             NaN\n",
       "APU000072511  1978    M12  0.545             NaN\n",
       "APU000072511  1979    M01  0.555             NaN\n",
       "APU000072511  1979    M02  0.577             NaN\n",
       "APU000072511  1979    M03  0.605             NaN"
      ]
     },
     "execution_count": 9,
     "metadata": {},
     "output_type": "execute_result"
    }
   ],
   "source": [
    "household_df.head()"
   ]
  },
  {
   "cell_type": "code",
   "execution_count": 74,
   "metadata": {
    "ExecuteTime": {
     "end_time": "2021-10-04T00:47:38.255462Z",
     "start_time": "2021-10-04T00:47:37.987824Z"
    }
   },
   "outputs": [
    {
     "name": "stdout",
     "output_type": "stream",
     "text": [
      "<class 'pandas.core.frame.DataFrame'>\n",
      "RangeIndex: 183895 entries, 0 to 183894\n",
      "Data columns (total 5 columns):\n",
      "series_id            183895 non-null object\n",
      "year                 183895 non-null int64\n",
      "period               183895 non-null object\n",
      "       value         183895 non-null object\n",
      "footnote_codes       0 non-null float64\n",
      "dtypes: float64(1), int64(1), object(3)\n",
      "memory usage: 7.0+ MB\n"
     ]
    }
   ],
   "source": [
    "import pandas as pd\n",
    "\n",
    "datazero_df = pd.read_table('ap_data_0_current.txt')\n",
    "\n",
    "datazero_df.head()\n",
    "datazero_df.info()"
   ]
  },
  {
   "cell_type": "code",
   "execution_count": 68,
   "metadata": {
    "ExecuteTime": {
     "end_time": "2021-10-04T00:44:43.939018Z",
     "start_time": "2021-10-04T00:44:43.856770Z"
    }
   },
   "outputs": [
    {
     "name": "stdout",
     "output_type": "stream",
     "text": [
      "<class 'pandas.core.frame.DataFrame'>\n",
      "Index: 183895 entries, APU0000701111 to APUS49G7471A\n",
      "Data columns (total 4 columns):\n",
      "year              183895 non-null int64\n",
      "period            183895 non-null object\n",
      "value             183895 non-null object\n",
      "footnote_codes    0 non-null float64\n",
      "dtypes: float64(1), int64(1), object(2)\n",
      "memory usage: 7.0+ MB\n"
     ]
    }
   ],
   "source": [
    "#datazero_df.rename({'series_id        ':'series_id'}, axis=1, inplace=True)\n",
    "list(datazero_df.columns)\n",
    "datazero_df.info()"
   ]
  },
  {
   "cell_type": "code",
   "execution_count": 78,
   "metadata": {
    "ExecuteTime": {
     "end_time": "2021-10-04T00:51:39.459620Z",
     "start_time": "2021-10-04T00:51:39.436251Z"
    }
   },
   "outputs": [
    {
     "data": {
      "text/plain": [
       "['series_id        ', 'year', 'period', '       value', 'footnote_codes']"
      ]
     },
     "execution_count": 78,
     "metadata": {},
     "output_type": "execute_result"
    }
   ],
   "source": [
    "list(datazero_df.columns)"
   ]
  },
  {
   "cell_type": "code",
   "execution_count": 81,
   "metadata": {
    "ExecuteTime": {
     "end_time": "2021-10-04T00:52:56.326534Z",
     "start_time": "2021-10-04T00:52:56.295283Z"
    }
   },
   "outputs": [
    {
     "data": {
      "text/plain": [
       "['series_id', 'year', 'period', 'value', 'footnote_codes']"
      ]
     },
     "execution_count": 81,
     "metadata": {},
     "output_type": "execute_result"
    }
   ],
   "source": [
    "datazero_df.rename(columns = {'       value':'value'}, inplace = True)\n",
    "list(datazero_df.columns)"
   ]
  },
  {
   "cell_type": "code",
   "execution_count": 14,
   "metadata": {
    "ExecuteTime": {
     "end_time": "2021-10-03T23:37:41.831415Z",
     "start_time": "2021-10-03T23:37:41.807393Z"
    },
    "run_control": {
     "marked": true
    }
   },
   "outputs": [
    {
     "data": {
      "text/html": [
       "<div>\n",
       "<style scoped>\n",
       "    .dataframe tbody tr th:only-of-type {\n",
       "        vertical-align: middle;\n",
       "    }\n",
       "\n",
       "    .dataframe tbody tr th {\n",
       "        vertical-align: top;\n",
       "    }\n",
       "\n",
       "    .dataframe thead th {\n",
       "        text-align: right;\n",
       "    }\n",
       "</style>\n",
       "<table border=\"1\" class=\"dataframe\">\n",
       "  <thead>\n",
       "    <tr style=\"text-align: right;\">\n",
       "      <th></th>\n",
       "      <th>item_name</th>\n",
       "    </tr>\n",
       "    <tr>\n",
       "      <th>item_code</th>\n",
       "      <th></th>\n",
       "    </tr>\n",
       "  </thead>\n",
       "  <tbody>\n",
       "    <tr>\n",
       "      <td>701111</td>\n",
       "      <td>Flour, white, all purpose, per lb. (453.6 gm)</td>\n",
       "    </tr>\n",
       "    <tr>\n",
       "      <td>701311</td>\n",
       "      <td>Rice, white, long grain, precooked (cost per p...</td>\n",
       "    </tr>\n",
       "    <tr>\n",
       "      <td>701312</td>\n",
       "      <td>Rice, white, long grain, uncooked, per lb. (45...</td>\n",
       "    </tr>\n",
       "    <tr>\n",
       "      <td>701321</td>\n",
       "      <td>Spaghetti (cost per pound/453.6 grams)</td>\n",
       "    </tr>\n",
       "    <tr>\n",
       "      <td>701322</td>\n",
       "      <td>Spaghetti and macaroni, per lb. (453.6 gm)</td>\n",
       "    </tr>\n",
       "  </tbody>\n",
       "</table>\n",
       "</div>"
      ],
      "text/plain": [
       "                                                   item_name\n",
       "item_code                                                   \n",
       "701111         Flour, white, all purpose, per lb. (453.6 gm)\n",
       "701311     Rice, white, long grain, precooked (cost per p...\n",
       "701312     Rice, white, long grain, uncooked, per lb. (45...\n",
       "701321                Spaghetti (cost per pound/453.6 grams)\n",
       "701322            Spaghetti and macaroni, per lb. (453.6 gm)"
      ]
     },
     "execution_count": 14,
     "metadata": {},
     "output_type": "execute_result"
    }
   ],
   "source": [
    "import pandas as pd\n",
    "\n",
    "items_df = pd.read_table('ap_items.txt', index_col=0)\n",
    "\n",
    "items_df.head()"
   ]
  },
  {
   "cell_type": "code",
   "execution_count": 75,
   "metadata": {
    "ExecuteTime": {
     "end_time": "2021-10-04T00:49:16.243298Z",
     "start_time": "2021-10-04T00:49:16.195973Z"
    }
   },
   "outputs": [
    {
     "name": "stdout",
     "output_type": "stream",
     "text": [
      "<class 'pandas.core.frame.DataFrame'>\n",
      "RangeIndex: 1481 entries, 0 to 1480\n",
      "Data columns (total 9 columns):\n",
      "series_id            1481 non-null object\n",
      "area_code            1481 non-null object\n",
      "item_code            1481 non-null object\n",
      "series_title         1481 non-null object\n",
      "footnote_codes       0 non-null float64\n",
      "begin_year           1481 non-null int64\n",
      "begin_period         1481 non-null object\n",
      "end_year             1481 non-null int64\n",
      "end_period           1481 non-null object\n",
      "dtypes: float64(1), int64(2), object(6)\n",
      "memory usage: 104.3+ KB\n"
     ]
    }
   ],
   "source": [
    "import pandas as pd\n",
    "\n",
    "series_df = pd.read_table('ap_series.txt')\n",
    "\n",
    "series_df.head()\n",
    "series_df.info()"
   ]
  },
  {
   "cell_type": "code",
   "execution_count": 77,
   "metadata": {
    "ExecuteTime": {
     "end_time": "2021-10-04T00:50:54.431103Z",
     "start_time": "2021-10-04T00:50:54.407876Z"
    }
   },
   "outputs": [
    {
     "data": {
      "text/plain": [
       "['series_id',\n",
       " 'area_code',\n",
       " 'item_code',\n",
       " 'series_title',\n",
       " 'footnote_codes',\n",
       " 'begin_year',\n",
       " 'begin_period',\n",
       " 'end_year',\n",
       " 'end_period']"
      ]
     },
     "execution_count": 77,
     "metadata": {},
     "output_type": "execute_result"
    }
   ],
   "source": [
    "series_df.rename(columns = {'series_id        ':'series_id'}, inplace = True)\n",
    "list(series_df.columns)"
   ]
  },
  {
   "cell_type": "code",
   "execution_count": 17,
   "metadata": {
    "ExecuteTime": {
     "end_time": "2021-10-03T23:44:51.156543Z",
     "start_time": "2021-10-03T23:44:50.747234Z"
    }
   },
   "outputs": [
    {
     "name": "stdout",
     "output_type": "stream",
     "text": [
      "2021-10-03 18:44:51,132 INFO sqlalchemy.engine.base.Engine SELECT CAST('test plain returns' AS VARCHAR(60)) AS anon_1\n",
      "2021-10-03 18:44:51,132 INFO sqlalchemy.engine.base.Engine ()\n",
      "2021-10-03 18:44:51,140 INFO sqlalchemy.engine.base.Engine SELECT CAST('test unicode returns' AS VARCHAR(60)) AS anon_1\n",
      "2021-10-03 18:44:51,140 INFO sqlalchemy.engine.base.Engine ()\n"
     ]
    }
   ],
   "source": [
    "from sqlalchemy import create_engine\n",
    "\n",
    "engine = create_engine('sqlite:///bls_avgcostdata.db', echo=True)\n",
    "sqlite_connection = engine.connect()"
   ]
  },
  {
   "cell_type": "code",
   "execution_count": 83,
   "metadata": {
    "ExecuteTime": {
     "end_time": "2021-10-04T00:55:14.297425Z",
     "start_time": "2021-10-04T00:55:09.053300Z"
    }
   },
   "outputs": [
    {
     "name": "stdout",
     "output_type": "stream",
     "text": [
      "2021-10-03 19:55:09,258 INFO sqlalchemy.engine.base.Engine PRAGMA main.table_info(\"Current_Data_Zero\")\n"
     ]
    },
    {
     "name": "stderr",
     "output_type": "stream",
     "text": [
      "INFO:sqlalchemy.engine.base.Engine:PRAGMA main.table_info(\"Current_Data_Zero\")\n"
     ]
    },
    {
     "name": "stdout",
     "output_type": "stream",
     "text": [
      "2021-10-03 19:55:09,258 INFO sqlalchemy.engine.base.Engine ()\n"
     ]
    },
    {
     "name": "stderr",
     "output_type": "stream",
     "text": [
      "INFO:sqlalchemy.engine.base.Engine:()\n"
     ]
    },
    {
     "name": "stdout",
     "output_type": "stream",
     "text": [
      "2021-10-03 19:55:09,273 INFO sqlalchemy.engine.base.Engine PRAGMA main.table_info(\"Current_Data_Zero\")\n"
     ]
    },
    {
     "name": "stderr",
     "output_type": "stream",
     "text": [
      "INFO:sqlalchemy.engine.base.Engine:PRAGMA main.table_info(\"Current_Data_Zero\")\n"
     ]
    },
    {
     "name": "stdout",
     "output_type": "stream",
     "text": [
      "2021-10-03 19:55:09,273 INFO sqlalchemy.engine.base.Engine ()\n"
     ]
    },
    {
     "name": "stderr",
     "output_type": "stream",
     "text": [
      "INFO:sqlalchemy.engine.base.Engine:()\n"
     ]
    },
    {
     "name": "stdout",
     "output_type": "stream",
     "text": [
      "2021-10-03 19:55:09,281 INFO sqlalchemy.engine.base.Engine SELECT name FROM sqlite_master WHERE type='table' ORDER BY name\n"
     ]
    },
    {
     "name": "stderr",
     "output_type": "stream",
     "text": [
      "INFO:sqlalchemy.engine.base.Engine:SELECT name FROM sqlite_master WHERE type='table' ORDER BY name\n"
     ]
    },
    {
     "name": "stdout",
     "output_type": "stream",
     "text": [
      "2021-10-03 19:55:09,281 INFO sqlalchemy.engine.base.Engine ()\n"
     ]
    },
    {
     "name": "stderr",
     "output_type": "stream",
     "text": [
      "INFO:sqlalchemy.engine.base.Engine:()\n"
     ]
    },
    {
     "name": "stdout",
     "output_type": "stream",
     "text": [
      "2021-10-03 19:55:09,289 INFO sqlalchemy.engine.base.Engine PRAGMA main.table_info(\"Current_Data_Zero\")\n"
     ]
    },
    {
     "name": "stderr",
     "output_type": "stream",
     "text": [
      "INFO:sqlalchemy.engine.base.Engine:PRAGMA main.table_info(\"Current_Data_Zero\")\n"
     ]
    },
    {
     "name": "stdout",
     "output_type": "stream",
     "text": [
      "2021-10-03 19:55:09,289 INFO sqlalchemy.engine.base.Engine ()\n"
     ]
    },
    {
     "name": "stderr",
     "output_type": "stream",
     "text": [
      "INFO:sqlalchemy.engine.base.Engine:()\n"
     ]
    },
    {
     "name": "stdout",
     "output_type": "stream",
     "text": [
      "2021-10-03 19:55:09,297 INFO sqlalchemy.engine.base.Engine SELECT sql FROM  (SELECT * FROM sqlite_master UNION ALL   SELECT * FROM sqlite_temp_master) WHERE name = 'Current_Data_Zero' AND type = 'table'\n"
     ]
    },
    {
     "name": "stderr",
     "output_type": "stream",
     "text": [
      "INFO:sqlalchemy.engine.base.Engine:SELECT sql FROM  (SELECT * FROM sqlite_master UNION ALL   SELECT * FROM sqlite_temp_master) WHERE name = 'Current_Data_Zero' AND type = 'table'\n"
     ]
    },
    {
     "name": "stdout",
     "output_type": "stream",
     "text": [
      "2021-10-03 19:55:09,297 INFO sqlalchemy.engine.base.Engine ()\n"
     ]
    },
    {
     "name": "stderr",
     "output_type": "stream",
     "text": [
      "INFO:sqlalchemy.engine.base.Engine:()\n"
     ]
    },
    {
     "name": "stdout",
     "output_type": "stream",
     "text": [
      "2021-10-03 19:55:09,305 INFO sqlalchemy.engine.base.Engine PRAGMA main.foreign_key_list(\"Current_Data_Zero\")\n"
     ]
    },
    {
     "name": "stderr",
     "output_type": "stream",
     "text": [
      "INFO:sqlalchemy.engine.base.Engine:PRAGMA main.foreign_key_list(\"Current_Data_Zero\")\n"
     ]
    },
    {
     "name": "stdout",
     "output_type": "stream",
     "text": [
      "2021-10-03 19:55:09,305 INFO sqlalchemy.engine.base.Engine ()\n"
     ]
    },
    {
     "name": "stderr",
     "output_type": "stream",
     "text": [
      "INFO:sqlalchemy.engine.base.Engine:()\n"
     ]
    },
    {
     "name": "stdout",
     "output_type": "stream",
     "text": [
      "2021-10-03 19:55:09,313 INFO sqlalchemy.engine.base.Engine PRAGMA temp.foreign_key_list(\"Current_Data_Zero\")\n"
     ]
    },
    {
     "name": "stderr",
     "output_type": "stream",
     "text": [
      "INFO:sqlalchemy.engine.base.Engine:PRAGMA temp.foreign_key_list(\"Current_Data_Zero\")\n"
     ]
    },
    {
     "name": "stdout",
     "output_type": "stream",
     "text": [
      "2021-10-03 19:55:09,313 INFO sqlalchemy.engine.base.Engine ()\n"
     ]
    },
    {
     "name": "stderr",
     "output_type": "stream",
     "text": [
      "INFO:sqlalchemy.engine.base.Engine:()\n"
     ]
    },
    {
     "name": "stdout",
     "output_type": "stream",
     "text": [
      "2021-10-03 19:55:09,321 INFO sqlalchemy.engine.base.Engine SELECT sql FROM  (SELECT * FROM sqlite_master UNION ALL   SELECT * FROM sqlite_temp_master) WHERE name = 'Current_Data_Zero' AND type = 'table'\n"
     ]
    },
    {
     "name": "stderr",
     "output_type": "stream",
     "text": [
      "INFO:sqlalchemy.engine.base.Engine:SELECT sql FROM  (SELECT * FROM sqlite_master UNION ALL   SELECT * FROM sqlite_temp_master) WHERE name = 'Current_Data_Zero' AND type = 'table'\n"
     ]
    },
    {
     "name": "stdout",
     "output_type": "stream",
     "text": [
      "2021-10-03 19:55:09,321 INFO sqlalchemy.engine.base.Engine ()\n"
     ]
    },
    {
     "name": "stderr",
     "output_type": "stream",
     "text": [
      "INFO:sqlalchemy.engine.base.Engine:()\n"
     ]
    },
    {
     "name": "stdout",
     "output_type": "stream",
     "text": [
      "2021-10-03 19:55:09,329 INFO sqlalchemy.engine.base.Engine PRAGMA main.index_list(\"Current_Data_Zero\")\n"
     ]
    },
    {
     "name": "stderr",
     "output_type": "stream",
     "text": [
      "INFO:sqlalchemy.engine.base.Engine:PRAGMA main.index_list(\"Current_Data_Zero\")\n"
     ]
    },
    {
     "name": "stdout",
     "output_type": "stream",
     "text": [
      "2021-10-03 19:55:09,329 INFO sqlalchemy.engine.base.Engine ()\n"
     ]
    },
    {
     "name": "stderr",
     "output_type": "stream",
     "text": [
      "INFO:sqlalchemy.engine.base.Engine:()\n"
     ]
    },
    {
     "name": "stdout",
     "output_type": "stream",
     "text": [
      "2021-10-03 19:55:09,337 INFO sqlalchemy.engine.base.Engine PRAGMA main.index_info(\"ix_Current_Data_Zero_series_id\")\n"
     ]
    },
    {
     "name": "stderr",
     "output_type": "stream",
     "text": [
      "INFO:sqlalchemy.engine.base.Engine:PRAGMA main.index_info(\"ix_Current_Data_Zero_series_id\")\n"
     ]
    },
    {
     "name": "stdout",
     "output_type": "stream",
     "text": [
      "2021-10-03 19:55:09,337 INFO sqlalchemy.engine.base.Engine ()\n"
     ]
    },
    {
     "name": "stderr",
     "output_type": "stream",
     "text": [
      "INFO:sqlalchemy.engine.base.Engine:()\n"
     ]
    },
    {
     "name": "stdout",
     "output_type": "stream",
     "text": [
      "2021-10-03 19:55:09,345 INFO sqlalchemy.engine.base.Engine PRAGMA main.index_list(\"Current_Data_Zero\")\n"
     ]
    },
    {
     "name": "stderr",
     "output_type": "stream",
     "text": [
      "INFO:sqlalchemy.engine.base.Engine:PRAGMA main.index_list(\"Current_Data_Zero\")\n"
     ]
    },
    {
     "name": "stdout",
     "output_type": "stream",
     "text": [
      "2021-10-03 19:55:09,345 INFO sqlalchemy.engine.base.Engine ()\n"
     ]
    },
    {
     "name": "stderr",
     "output_type": "stream",
     "text": [
      "INFO:sqlalchemy.engine.base.Engine:()\n"
     ]
    },
    {
     "name": "stdout",
     "output_type": "stream",
     "text": [
      "2021-10-03 19:55:09,345 INFO sqlalchemy.engine.base.Engine PRAGMA main.index_info(\"ix_Current_Data_Zero_series_id\")\n"
     ]
    },
    {
     "name": "stderr",
     "output_type": "stream",
     "text": [
      "INFO:sqlalchemy.engine.base.Engine:PRAGMA main.index_info(\"ix_Current_Data_Zero_series_id\")\n"
     ]
    },
    {
     "name": "stdout",
     "output_type": "stream",
     "text": [
      "2021-10-03 19:55:09,353 INFO sqlalchemy.engine.base.Engine ()\n"
     ]
    },
    {
     "name": "stderr",
     "output_type": "stream",
     "text": [
      "INFO:sqlalchemy.engine.base.Engine:()\n"
     ]
    },
    {
     "name": "stdout",
     "output_type": "stream",
     "text": [
      "2021-10-03 19:55:09,353 INFO sqlalchemy.engine.base.Engine SELECT sql FROM  (SELECT * FROM sqlite_master UNION ALL   SELECT * FROM sqlite_temp_master) WHERE name = 'Current_Data_Zero' AND type = 'table'\n"
     ]
    },
    {
     "name": "stderr",
     "output_type": "stream",
     "text": [
      "INFO:sqlalchemy.engine.base.Engine:SELECT sql FROM  (SELECT * FROM sqlite_master UNION ALL   SELECT * FROM sqlite_temp_master) WHERE name = 'Current_Data_Zero' AND type = 'table'\n"
     ]
    },
    {
     "name": "stdout",
     "output_type": "stream",
     "text": [
      "2021-10-03 19:55:09,361 INFO sqlalchemy.engine.base.Engine ()\n"
     ]
    },
    {
     "name": "stderr",
     "output_type": "stream",
     "text": [
      "INFO:sqlalchemy.engine.base.Engine:()\n"
     ]
    },
    {
     "name": "stdout",
     "output_type": "stream",
     "text": [
      "2021-10-03 19:55:09,361 INFO sqlalchemy.engine.base.Engine \n",
      "DROP TABLE \"Current_Data_Zero\"\n"
     ]
    },
    {
     "name": "stderr",
     "output_type": "stream",
     "text": [
      "INFO:sqlalchemy.engine.base.Engine:\n",
      "DROP TABLE \"Current_Data_Zero\"\n"
     ]
    },
    {
     "name": "stdout",
     "output_type": "stream",
     "text": [
      "2021-10-03 19:55:09,361 INFO sqlalchemy.engine.base.Engine ()\n"
     ]
    },
    {
     "name": "stderr",
     "output_type": "stream",
     "text": [
      "INFO:sqlalchemy.engine.base.Engine:()\n"
     ]
    },
    {
     "name": "stdout",
     "output_type": "stream",
     "text": [
      "2021-10-03 19:55:09,474 INFO sqlalchemy.engine.base.Engine COMMIT\n"
     ]
    },
    {
     "name": "stderr",
     "output_type": "stream",
     "text": [
      "INFO:sqlalchemy.engine.base.Engine:COMMIT\n"
     ]
    },
    {
     "name": "stdout",
     "output_type": "stream",
     "text": [
      "2021-10-03 19:55:09,474 INFO sqlalchemy.engine.base.Engine \n",
      "CREATE TABLE \"Current_Data_Zero\" (\n",
      "\t\"index\" BIGINT, \n",
      "\tseries_id TEXT, \n",
      "\tyear BIGINT, \n",
      "\tperiod TEXT, \n",
      "\tvalue TEXT, \n",
      "\tfootnote_codes FLOAT\n",
      ")\n",
      "\n",
      "\n"
     ]
    },
    {
     "name": "stderr",
     "output_type": "stream",
     "text": [
      "INFO:sqlalchemy.engine.base.Engine:\n",
      "CREATE TABLE \"Current_Data_Zero\" (\n",
      "\t\"index\" BIGINT, \n",
      "\tseries_id TEXT, \n",
      "\tyear BIGINT, \n",
      "\tperiod TEXT, \n",
      "\tvalue TEXT, \n",
      "\tfootnote_codes FLOAT\n",
      ")\n",
      "\n",
      "\n"
     ]
    },
    {
     "name": "stdout",
     "output_type": "stream",
     "text": [
      "2021-10-03 19:55:09,482 INFO sqlalchemy.engine.base.Engine ()\n"
     ]
    },
    {
     "name": "stderr",
     "output_type": "stream",
     "text": [
      "INFO:sqlalchemy.engine.base.Engine:()\n"
     ]
    },
    {
     "name": "stdout",
     "output_type": "stream",
     "text": [
      "2021-10-03 19:55:09,506 INFO sqlalchemy.engine.base.Engine COMMIT\n"
     ]
    },
    {
     "name": "stderr",
     "output_type": "stream",
     "text": [
      "INFO:sqlalchemy.engine.base.Engine:COMMIT\n"
     ]
    },
    {
     "name": "stdout",
     "output_type": "stream",
     "text": [
      "2021-10-03 19:55:09,506 INFO sqlalchemy.engine.base.Engine CREATE INDEX \"ix_Current_Data_Zero_index\" ON \"Current_Data_Zero\" (\"index\")\n"
     ]
    },
    {
     "name": "stderr",
     "output_type": "stream",
     "text": [
      "INFO:sqlalchemy.engine.base.Engine:CREATE INDEX \"ix_Current_Data_Zero_index\" ON \"Current_Data_Zero\" (\"index\")\n"
     ]
    },
    {
     "name": "stdout",
     "output_type": "stream",
     "text": [
      "2021-10-03 19:55:09,514 INFO sqlalchemy.engine.base.Engine ()\n"
     ]
    },
    {
     "name": "stderr",
     "output_type": "stream",
     "text": [
      "INFO:sqlalchemy.engine.base.Engine:()\n"
     ]
    },
    {
     "name": "stdout",
     "output_type": "stream",
     "text": [
      "2021-10-03 19:55:09,530 INFO sqlalchemy.engine.base.Engine COMMIT\n"
     ]
    },
    {
     "name": "stderr",
     "output_type": "stream",
     "text": [
      "INFO:sqlalchemy.engine.base.Engine:COMMIT\n"
     ]
    },
    {
     "name": "stdout",
     "output_type": "stream",
     "text": [
      "2021-10-03 19:55:09,618 INFO sqlalchemy.engine.base.Engine BEGIN (implicit)\n"
     ]
    },
    {
     "name": "stderr",
     "output_type": "stream",
     "text": [
      "INFO:sqlalchemy.engine.base.Engine:BEGIN (implicit)\n"
     ]
    },
    {
     "name": "stdout",
     "output_type": "stream",
     "text": [
      "2021-10-03 19:55:11,940 INFO sqlalchemy.engine.base.Engine INSERT INTO \"Current_Data_Zero\" (\"index\", series_id, year, period, value, footnote_codes) VALUES (?, ?, ?, ?, ?, ?)\n"
     ]
    },
    {
     "name": "stderr",
     "output_type": "stream",
     "text": [
      "INFO:sqlalchemy.engine.base.Engine:INSERT INTO \"Current_Data_Zero\" (\"index\", series_id, year, period, value, footnote_codes) VALUES (?, ?, ?, ?, ?, ?)\n"
     ]
    },
    {
     "name": "stdout",
     "output_type": "stream",
     "text": [
      "2021-10-03 19:55:11,951 INFO sqlalchemy.engine.base.Engine ((0, 'APU0000701111    ', 1995, 'M01', '       0.238', None), (1, 'APU0000701111    ', 1995, 'M02', '       0.242', None), (2, 'APU0000701111    ', 1995, 'M03', '       0.242', None), (3, 'APU0000701111    ', 1995, 'M04', '       0.236', None), (4, 'APU0000701111    ', 1995, 'M05', '       0.244', None), (5, 'APU0000701111    ', 1995, 'M06', '       0.244', None), (6, 'APU0000701111    ', 1995, 'M07', '       0.248', None), (7, 'APU0000701111    ', 1995, 'M08', '       0.255', None)  ... displaying 10 of 183895 total bound parameter sets ...  (183893, 'APUS49G7471A     ', 2021, 'M07', '       3.651', None), (183894, 'APUS49G7471A     ', 2021, 'M08', '       3.737', None))\n"
     ]
    },
    {
     "name": "stderr",
     "output_type": "stream",
     "text": [
      "INFO:sqlalchemy.engine.base.Engine:((0, 'APU0000701111    ', 1995, 'M01', '       0.238', None), (1, 'APU0000701111    ', 1995, 'M02', '       0.242', None), (2, 'APU0000701111    ', 1995, 'M03', '       0.242', None), (3, 'APU0000701111    ', 1995, 'M04', '       0.236', None), (4, 'APU0000701111    ', 1995, 'M05', '       0.244', None), (5, 'APU0000701111    ', 1995, 'M06', '       0.244', None), (6, 'APU0000701111    ', 1995, 'M07', '       0.248', None), (7, 'APU0000701111    ', 1995, 'M08', '       0.255', None)  ... displaying 10 of 183895 total bound parameter sets ...  (183893, 'APUS49G7471A     ', 2021, 'M07', '       3.651', None), (183894, 'APUS49G7471A     ', 2021, 'M08', '       3.737', None))\n"
     ]
    },
    {
     "name": "stdout",
     "output_type": "stream",
     "text": [
      "2021-10-03 19:55:14,190 INFO sqlalchemy.engine.base.Engine COMMIT\n"
     ]
    },
    {
     "name": "stderr",
     "output_type": "stream",
     "text": [
      "INFO:sqlalchemy.engine.base.Engine:COMMIT\n"
     ]
    },
    {
     "name": "stdout",
     "output_type": "stream",
     "text": [
      "2021-10-03 19:55:14,281 INFO sqlalchemy.engine.base.Engine SELECT name FROM sqlite_master WHERE type='table' ORDER BY name\n"
     ]
    },
    {
     "name": "stderr",
     "output_type": "stream",
     "text": [
      "INFO:sqlalchemy.engine.base.Engine:SELECT name FROM sqlite_master WHERE type='table' ORDER BY name\n"
     ]
    },
    {
     "name": "stdout",
     "output_type": "stream",
     "text": [
      "2021-10-03 19:55:14,289 INFO sqlalchemy.engine.base.Engine ()\n"
     ]
    },
    {
     "name": "stderr",
     "output_type": "stream",
     "text": [
      "INFO:sqlalchemy.engine.base.Engine:()\n"
     ]
    }
   ],
   "source": [
    "sqlite_table = \"Current_Data_Zero\"\n",
    "datazero_df.to_sql(sqlite_table, sqlite_connection, if_exists='replace')"
   ]
  },
  {
   "cell_type": "code",
   "execution_count": 24,
   "metadata": {
    "ExecuteTime": {
     "end_time": "2021-10-03T23:52:57.953717Z",
     "start_time": "2021-10-03T23:52:57.794030Z"
    }
   },
   "outputs": [
    {
     "name": "stdout",
     "output_type": "stream",
     "text": [
      "2021-10-03 18:52:57,802 INFO sqlalchemy.engine.base.Engine PRAGMA main.table_info(\"Items_Data\")\n",
      "2021-10-03 18:52:57,802 INFO sqlalchemy.engine.base.Engine ()\n",
      "2021-10-03 18:52:57,810 INFO sqlalchemy.engine.base.Engine PRAGMA temp.table_info(\"Items_Data\")\n",
      "2021-10-03 18:52:57,812 INFO sqlalchemy.engine.base.Engine ()\n",
      "2021-10-03 18:52:57,815 INFO sqlalchemy.engine.base.Engine \n",
      "CREATE TABLE \"Items_Data\" (\n",
      "\titem_code TEXT, \n",
      "\titem_name TEXT\n",
      ")\n",
      "\n",
      "\n",
      "2021-10-03 18:52:57,816 INFO sqlalchemy.engine.base.Engine ()\n",
      "2021-10-03 18:52:57,855 INFO sqlalchemy.engine.base.Engine COMMIT\n",
      "2021-10-03 18:52:57,855 INFO sqlalchemy.engine.base.Engine CREATE INDEX \"ix_Items_Data_item_code\" ON \"Items_Data\" (item_code)\n",
      "2021-10-03 18:52:57,863 INFO sqlalchemy.engine.base.Engine ()\n",
      "2021-10-03 18:52:57,871 INFO sqlalchemy.engine.base.Engine COMMIT\n",
      "2021-10-03 18:52:57,879 INFO sqlalchemy.engine.base.Engine BEGIN (implicit)\n",
      "2021-10-03 18:52:57,879 INFO sqlalchemy.engine.base.Engine INSERT INTO \"Items_Data\" (item_code, item_name) VALUES (?, ?)\n",
      "2021-10-03 18:52:57,887 INFO sqlalchemy.engine.base.Engine (('701111', 'Flour, white, all purpose, per lb. (453.6 gm)'), ('701311', 'Rice, white, long grain, precooked (cost per pound/453.6 grams)'), ('701312', 'Rice, white, long grain, uncooked, per lb. (453.6 gm)'), ('701321', 'Spaghetti (cost per pound/453.6 grams)'), ('701322', 'Spaghetti and macaroni, per lb. (453.6 gm)'), ('702111', 'Bread, white, pan, per lb. (453.6 gm)'), ('702112', 'Bread, French, per lb. (453.6 gm)'), ('702211', 'Bread, rye, pan (cost per pound/453.6 grams)')  ... displaying 10 of 160 total bound parameter sets ...  ('FN1102', 'All soft drinks, 12 pk, 12 oz., cans, per 12 oz. (354.9 ml)'), ('FS1101', 'Butter, stick, per lb. (453.6 gm)'))\n",
      "2021-10-03 18:52:57,895 INFO sqlalchemy.engine.base.Engine COMMIT\n",
      "2021-10-03 18:52:57,911 INFO sqlalchemy.engine.base.Engine SELECT name FROM sqlite_master WHERE type='table' ORDER BY name\n",
      "2021-10-03 18:52:57,911 INFO sqlalchemy.engine.base.Engine ()\n"
     ]
    },
    {
     "ename": "AttributeError",
     "evalue": "'Connection' object has no attribute 'commit'",
     "output_type": "error",
     "traceback": [
      "\u001b[1;31m---------------------------------------------------------------------------\u001b[0m",
      "\u001b[1;31mAttributeError\u001b[0m                            Traceback (most recent call last)",
      "\u001b[1;32m<ipython-input-24-bdcfebc34370>\u001b[0m in \u001b[0;36m<module>\u001b[1;34m\u001b[0m\n\u001b[0;32m      1\u001b[0m \u001b[0msqlite_table\u001b[0m \u001b[1;33m=\u001b[0m \u001b[1;34m\"Items_Data\"\u001b[0m\u001b[1;33m\u001b[0m\u001b[1;33m\u001b[0m\u001b[0m\n\u001b[0;32m      2\u001b[0m \u001b[0mitems_df\u001b[0m\u001b[1;33m.\u001b[0m\u001b[0mto_sql\u001b[0m\u001b[1;33m(\u001b[0m\u001b[0msqlite_table\u001b[0m\u001b[1;33m,\u001b[0m \u001b[0msqlite_connection\u001b[0m\u001b[1;33m,\u001b[0m \u001b[0mif_exists\u001b[0m\u001b[1;33m=\u001b[0m\u001b[1;34m'fail'\u001b[0m\u001b[1;33m)\u001b[0m\u001b[1;33m\u001b[0m\u001b[1;33m\u001b[0m\u001b[0m\n\u001b[1;32m----> 3\u001b[1;33m \u001b[0msqlite_connection\u001b[0m\u001b[1;33m.\u001b[0m\u001b[0mcommit\u001b[0m\u001b[1;33m(\u001b[0m\u001b[1;33m)\u001b[0m\u001b[1;33m\u001b[0m\u001b[1;33m\u001b[0m\u001b[0m\n\u001b[0m",
      "\u001b[1;31mAttributeError\u001b[0m: 'Connection' object has no attribute 'commit'"
     ]
    }
   ],
   "source": [
    "sqlite_table = \"Items_Data\"\n",
    "items_df.to_sql(sqlite_table, sqlite_connection, if_exists='fail')"
   ]
  },
  {
   "cell_type": "code",
   "execution_count": 25,
   "metadata": {
    "ExecuteTime": {
     "end_time": "2021-10-03T23:54:21.108763Z",
     "start_time": "2021-10-03T23:54:21.076763Z"
    }
   },
   "outputs": [],
   "source": [
    "import sqlite3\n",
    "\n",
    "\n",
    "conn = sqlite3.connect(r'C:\\Users\\austi\\bls_avgcostdata.db')\n",
    "\n",
    "conn.commit()"
   ]
  },
  {
   "cell_type": "code",
   "execution_count": 58,
   "metadata": {
    "ExecuteTime": {
     "end_time": "2021-10-04T00:39:19.024431Z",
     "start_time": "2021-10-04T00:39:19.000449Z"
    }
   },
   "outputs": [
    {
     "name": "stdout",
     "output_type": "stream",
     "text": [
      "                name\n",
      "0     Household_Data\n",
      "1         Items_Data\n",
      "2  Current_Data_Zero\n",
      "3        Series_Data\n"
     ]
    }
   ],
   "source": [
    "table = pd.read_sql_query(\"SELECT name FROM sqlite_master WHERE type='table'\", conn)\n",
    "print(table)\n"
   ]
  },
  {
   "cell_type": "code",
   "execution_count": 59,
   "metadata": {
    "ExecuteTime": {
     "end_time": "2021-10-04T00:39:24.630364Z",
     "start_time": "2021-10-04T00:39:24.590990Z"
    }
   },
   "outputs": [
    {
     "data": {
      "text/plain": [
       "['series_id        ',\n",
       " 'area_code',\n",
       " 'item_code',\n",
       " 'series_title',\n",
       " 'footnote_codes',\n",
       " 'begin_year',\n",
       " 'begin_period',\n",
       " 'end_year',\n",
       " 'end_period']"
      ]
     },
     "execution_count": 59,
     "metadata": {},
     "output_type": "execute_result"
    }
   ],
   "source": [
    "table = pd.read_sql_query(\"SELECT * FROM Series_Data\", conn)\n",
    "table.head(10)\n",
    "list(table.columns)"
   ]
  },
  {
   "cell_type": "code",
   "execution_count": 93,
   "metadata": {
    "ExecuteTime": {
     "end_time": "2021-10-04T01:09:10.934588Z",
     "start_time": "2021-10-04T01:09:10.059108Z"
    }
   },
   "outputs": [],
   "source": [
    "cursor = conn.cursor()\n",
    "\n",
    "results_df = pd.read_sql( '''SELECT a.series_title, a.begin_year, a.end_year, b.item_name, c.value AS current_value\n",
    "          FROM Series_Data AS a\n",
    "          INNER JOIN Items_Data AS b\n",
    "          ON a.item_code = b.item_code\n",
    "          INNER JOIN Current_Data_Zero AS c\n",
    "          ON a.series_id = c.series_id\n",
    "          WHERE a.begin_year > 2011 AND b.item_name LIKE 'Gasoline%'\n",
    "          ORDER BY a.begin_year DESC;''', conn)\n",
    "\n",
    "#results_df2 = results_df.drop_duplicates('series_title').head()"
   ]
  },
  {
   "cell_type": "code",
   "execution_count": 95,
   "metadata": {
    "ExecuteTime": {
     "end_time": "2021-10-04T01:09:37.891980Z",
     "start_time": "2021-10-04T01:09:37.827076Z"
    }
   },
   "outputs": [],
   "source": [
    "results_df.to_csv('gasolinecurrentvalue2.csv', index = False)"
   ]
  },
  {
   "cell_type": "code",
   "execution_count": null,
   "metadata": {},
   "outputs": [],
   "source": []
  },
  {
   "cell_type": "code",
   "execution_count": null,
   "metadata": {},
   "outputs": [],
   "source": []
  }
 ],
 "metadata": {
  "kernelspec": {
   "display_name": "Python 3",
   "language": "python",
   "name": "python3"
  },
  "language_info": {
   "codemirror_mode": {
    "name": "ipython",
    "version": 3
   },
   "file_extension": ".py",
   "mimetype": "text/x-python",
   "name": "python",
   "nbconvert_exporter": "python",
   "pygments_lexer": "ipython3",
   "version": "3.7.4"
  },
  "varInspector": {
   "cols": {
    "lenName": 16,
    "lenType": 16,
    "lenVar": 40
   },
   "kernels_config": {
    "python": {
     "delete_cmd_postfix": "",
     "delete_cmd_prefix": "del ",
     "library": "var_list.py",
     "varRefreshCmd": "print(var_dic_list())"
    },
    "r": {
     "delete_cmd_postfix": ") ",
     "delete_cmd_prefix": "rm(",
     "library": "var_list.r",
     "varRefreshCmd": "cat(var_dic_list()) "
    }
   },
   "types_to_exclude": [
    "module",
    "function",
    "builtin_function_or_method",
    "instance",
    "_Feature"
   ],
   "window_display": false
  }
 },
 "nbformat": 4,
 "nbformat_minor": 2
}
