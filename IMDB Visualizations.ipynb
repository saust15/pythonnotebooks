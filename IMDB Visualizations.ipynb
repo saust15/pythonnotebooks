{
 "cells": [
  {
   "cell_type": "code",
   "execution_count": 3,
   "metadata": {
    "ExecuteTime": {
     "end_time": "2021-10-30T23:34:59.116214Z",
     "start_time": "2021-10-30T23:34:55.554807Z"
    }
   },
   "outputs": [],
   "source": [
    "import matplotlib.pyplot as plt\n",
    "import seaborn as sns"
   ]
  },
  {
   "cell_type": "code",
   "execution_count": 1,
   "metadata": {
    "ExecuteTime": {
     "end_time": "2021-10-30T23:34:39.072608Z",
     "start_time": "2021-10-30T23:34:37.104235Z"
    }
   },
   "outputs": [
    {
     "data": {
      "text/html": [
       "<div>\n",
       "<style scoped>\n",
       "    .dataframe tbody tr th:only-of-type {\n",
       "        vertical-align: middle;\n",
       "    }\n",
       "\n",
       "    .dataframe tbody tr th {\n",
       "        vertical-align: top;\n",
       "    }\n",
       "\n",
       "    .dataframe thead th {\n",
       "        text-align: right;\n",
       "    }\n",
       "</style>\n",
       "<table border=\"1\" class=\"dataframe\">\n",
       "  <thead>\n",
       "    <tr style=\"text-align: right;\">\n",
       "      <th></th>\n",
       "      <th>ID</th>\n",
       "      <th>title</th>\n",
       "      <th>number_of_votes</th>\n",
       "      <th>averageRating</th>\n",
       "      <th>year</th>\n",
       "      <th>runtimeMinutes</th>\n",
       "    </tr>\n",
       "  </thead>\n",
       "  <tbody>\n",
       "    <tr>\n",
       "      <td>0</td>\n",
       "      <td>tt0111161</td>\n",
       "      <td>The Prisoner</td>\n",
       "      <td>2467229</td>\n",
       "      <td>9.3</td>\n",
       "      <td>1994</td>\n",
       "      <td>142</td>\n",
       "    </tr>\n",
       "    <tr>\n",
       "      <td>1</td>\n",
       "      <td>tt0468569</td>\n",
       "      <td>The Dark Knight</td>\n",
       "      <td>2421844</td>\n",
       "      <td>9.0</td>\n",
       "      <td>2008</td>\n",
       "      <td>152</td>\n",
       "    </tr>\n",
       "    <tr>\n",
       "      <td>2</td>\n",
       "      <td>tt1375666</td>\n",
       "      <td>Inception</td>\n",
       "      <td>2172818</td>\n",
       "      <td>8.8</td>\n",
       "      <td>2010</td>\n",
       "      <td>148</td>\n",
       "    </tr>\n",
       "    <tr>\n",
       "      <td>3</td>\n",
       "      <td>tt0137523</td>\n",
       "      <td>Fight Club</td>\n",
       "      <td>1942270</td>\n",
       "      <td>8.8</td>\n",
       "      <td>1999</td>\n",
       "      <td>139</td>\n",
       "    </tr>\n",
       "    <tr>\n",
       "      <td>4</td>\n",
       "      <td>tt0110912</td>\n",
       "      <td>Pulp Fiction</td>\n",
       "      <td>1910475</td>\n",
       "      <td>8.9</td>\n",
       "      <td>1994</td>\n",
       "      <td>154</td>\n",
       "    </tr>\n",
       "  </tbody>\n",
       "</table>\n",
       "</div>"
      ],
      "text/plain": [
       "          ID            title  number_of_votes  averageRating  year  \\\n",
       "0  tt0111161     The Prisoner          2467229            9.3  1994   \n",
       "1  tt0468569  The Dark Knight          2421844            9.0  2008   \n",
       "2  tt1375666        Inception          2172818            8.8  2010   \n",
       "3  tt0137523       Fight Club          1942270            8.8  1999   \n",
       "4  tt0110912     Pulp Fiction          1910475            8.9  1994   \n",
       "\n",
       "   runtimeMinutes  \n",
       "0             142  \n",
       "1             152  \n",
       "2             148  \n",
       "3             139  \n",
       "4             154  "
      ]
     },
     "execution_count": 1,
     "metadata": {},
     "output_type": "execute_result"
    }
   ],
   "source": [
    "import pandas as pd\n",
    "\n",
    "#Load and View\n",
    "csv_file = \"moviestop20percent.csv\"\n",
    "df = pd.read_csv(csv_file)\n",
    "df.head()"
   ]
  },
  {
   "cell_type": "code",
   "execution_count": 4,
   "metadata": {
    "ExecuteTime": {
     "end_time": "2021-10-30T23:35:26.696572Z",
     "start_time": "2021-10-30T23:35:24.209018Z"
    }
   },
   "outputs": [
    {
     "data": {
      "text/plain": [
       "<Figure size 720x576 with 0 Axes>"
      ]
     },
     "metadata": {},
     "output_type": "display_data"
    },
    {
     "data": {
      "image/png": "[encoded data removed]",
      "text/plain": [
       "<Figure size 432x288 with 3 Axes>"
      ]
     },
     "metadata": {
      "needs_background": "light"
     },
     "output_type": "display_data"
    }
   ],
   "source": [
    "from statsmodels.graphics.mosaicplot import mosaic\n",
    "\n",
    "plt.figure(figsize=(10, 8))\n",
    "plt.rcParams['font.size'] = 10.0\n",
    "mosaic(df, ['year']);"
   ]
  },
  {
   "cell_type": "code",
   "execution_count": 5,
   "metadata": {
    "ExecuteTime": {
     "end_time": "2021-10-30T23:37:33.468713Z",
     "start_time": "2021-10-30T23:37:31.846420Z"
    }
   },
   "outputs": [
    {
     "data": {
      "text/plain": [
       "<matplotlib.axes._subplots.AxesSubplot at 0x1f6289f4348>"
      ]
     },
     "execution_count": 5,
     "metadata": {},
     "output_type": "execute_result"
    },
    {
     "data": {
      "image/png": "[encoded data removed]",
      "text/plain": [
       "<Figure size 432x288 with 1 Axes>"
      ]
     },
     "metadata": {
      "needs_background": "light"
     },
     "output_type": "display_data"
    }
   ],
   "source": [
    "\n",
    "df.groupby('year').size().plot(kind='bar')"
   ]
  },
  {
   "cell_type": "code",
   "execution_count": 11,
   "metadata": {
    "ExecuteTime": {
     "end_time": "2021-10-30T23:42:38.303842Z",
     "start_time": "2021-10-30T23:42:34.708760Z"
    }
   },
   "outputs": [
    {
     "data": {
      "image/png": "[encoded data removed]",
      "text/plain": [
       "<Figure size 1296x1008 with 1 Axes>"
      ]
     },
     "metadata": {},
     "output_type": "display_data"
    },
    {
     "data": {
      "text/plain": [
       "<Figure size 432x288 with 0 Axes>"
      ]
     },
     "metadata": {},
     "output_type": "display_data"
    }
   ],
   "source": [
    "import matplotlib.pyplot as plt\n",
    "import matplotlib\n",
    "import seaborn as sns\n",
    "\n",
    "plt.figure(figsize=(18, 14))\n",
    "\n",
    "g = sns.countplot(x=\"year\", data=df, palette=\"Greens_d\")\n",
    "sns.set_style(\"dark\")\n",
    "g.set(xlabel='Year', ylabel='Total Count')\n",
    "plt.title(\"Top 20 Percent (Average Rating of 8 and above) of media on IMDB by year 2021\",pad=20)\n",
    "plt.xticks(rotation=45)\n",
    "\n",
    "for p in g.patches:\n",
    "    height = p.get_height()\n",
    "    g.text(p.get_x()+p.get_width()/2., height + 0.1,height ,ha=\"center\")\n",
    "    \n",
    "fig = matplotlib.pyplot.figure()\n",
    "\n",
    "plt.show(g)\n",
    "#plt.savefig(\"sample.jpg\")"
   ]
  },
  {
   "cell_type": "code",
   "execution_count": 18,
   "metadata": {
    "ExecuteTime": {
     "end_time": "2021-10-31T00:02:59.210910Z",
     "start_time": "2021-10-31T00:02:59.083412Z"
    }
   },
   "outputs": [
    {
     "data": {
      "application/vnd.plotly.v1+json": {
       "config": {
        "plotlyServerURL": "https://plot.ly"
       },
       "data": [
        {
         "alignmentgroup": "True",
         "bingroup": "x",
         "hovertemplate": "year=%{x}<br>count=%{y}<extra></extra>",
         "legendgroup": "",
         "marker": {
          "color": "#636efa",
          "pattern": {
           "shape": ""
          }
         },
         "name": "",
         "offsetgroup": "",
         "orientation": "v",
         "showlegend": false,
         "type": "histogram",
         "x": [
          1994,
          2008,
          2010,
          1999,
          1994,
          1994,
          1999,
          2001,
          2003,
          1972,
          2014,
          2012,
          2002,
          1995,
          2012,
          2000,
          2005,
          2009,
          1991,
          1998,
          1977,
          1993,
          2013,
          2006,
          2006,
          1980,
          1999,
          2010,
          1974,
          2000,
          1985,
          1999,
          1994,
          1990,
          2019,
          1998,
          2005,
          2003,
          2008,
          1991,
          1995,
          1998,
          1995,
          1983,
          2003,
          1994,
          2009,
          1992,
          1975,
          2004,
          1980,
          1999,
          2019,
          2015,
          1995,
          2018,
          1981,
          1993,
          2014,
          2007,
          1997,
          2002,
          2001,
          2001,
          1979,
          1988,
          2000,
          2011,
          2011,
          2000,
          2010,
          1971,
          1983,
          2002,
          1998,
          2014,
          1976,
          2014,
          2008,
          1957,
          2001,
          1982,
          2002,
          1966,
          1989,
          1987,
          2001,
          2010,
          2017,
          1986,
          2013,
          2019,
          2004,
          1996,
          2015,
          1997,
          1996,
          2006,
          2013,
          1960,
          1979,
          1968,
          1995,
          2007,
          1998,
          1997,
          2007,
          1942,
          2003,
          1976,
          1975,
          2019,
          1995,
          2016,
          1964,
          2017,
          1954,
          2013,
          2011,
          1989,
          2015,
          2017,
          2018,
          2018,
          1941,
          1946,
          1987,
          1986,
          2015,
          1992,
          1982,
          1984,
          1958,
          1979,
          1986,
          2006,
          2009,
          1997,
          2004,
          2004,
          2004,
          2021,
          2019,
          1980,
          1984,
          1954,
          1978,
          1968,
          1959,
          1988,
          1974,
          1962,
          2012,
          1939,
          1995,
          1962,
          2020,
          2009,
          1959,
          1988,
          1973,
          2004,
          1988,
          1965,
          1981,
          1963,
          2000,
          2011,
          1980,
          1936,
          1952,
          1959,
          2016,
          1940,
          1957,
          1950,
          2009,
          1957,
          2014,
          2007,
          1931,
          1957,
          2014,
          1960,
          2016,
          2009,
          1967,
          1927,
          1954,
          1993,
          1949,
          2010,
          2016,
          1995,
          1950,
          1984,
          2003,
          1975,
          1948,
          1976,
          1931,
          1944,
          1954,
          2000,
          1940,
          2016,
          1979,
          1950,
          2020,
          1921,
          2019,
          1948,
          1985,
          1961,
          1957,
          2006,
          1959,
          1939,
          1966,
          2001,
          2016,
          1925,
          2021,
          1957,
          1984,
          1934,
          2020,
          1994,
          2020,
          2012,
          1940,
          2004,
          1926,
          1972,
          1998,
          2005,
          2018,
          2017,
          2020,
          2012,
          2003,
          2019,
          2007,
          2015,
          2008,
          2018,
          2020,
          1961,
          1952,
          2011,
          2010,
          1962,
          1994,
          1997,
          2001,
          1985,
          1996,
          2010,
          1995,
          2012,
          2013,
          2013,
          1955,
          2013,
          2016,
          2000,
          1998,
          1946,
          1982,
          2012,
          1920,
          2018,
          1930,
          1953,
          2021,
          1953,
          1995,
          1966,
          2014,
          2012,
          2014,
          1975,
          1962,
          1998,
          2014,
          2019,
          1994,
          1928,
          1966,
          2008
         ],
         "xaxis": "x",
         "yaxis": "y"
        }
       ],
       "layout": {
        "barmode": "relative",
        "legend": {
         "tracegroupgap": 0
        },
        "margin": {
         "t": 60
        },
        "template": {
         "data": {
          "bar": [
           {
            "error_x": {
             "color": "#2a3f5f"
            },
            "error_y": {
             "color": "#2a3f5f"
            },
            "marker": {
             "line": {
              "color": "#E5ECF6",
              "width": 0.5
             },
             "pattern": {
              "fillmode": "overlay",
              "size": 10,
              "solidity": 0.2
             }
            },
            "type": "bar"
           }
          ],
          "barpolar": [
           {
            "marker": {
             "line": {
              "color": "#E5ECF6",
              "width": 0.5
             },
             "pattern": {
              "fillmode": "overlay",
              "size": 10,
              "solidity": 0.2
             }
            },
            "type": "barpolar"
           }
          ],
          "carpet": [
           {
            "aaxis": {
             "endlinecolor": "#2a3f5f",
             "gridcolor": "white",
             "linecolor": "white",
             "minorgridcolor": "white",
             "startlinecolor": "#2a3f5f"
            },
            "baxis": {
             "endlinecolor": "#2a3f5f",
             "gridcolor": "white",
             "linecolor": "white",
             "minorgridcolor": "white",
             "startlinecolor": "#2a3f5f"
            },
            "type": "carpet"
           }
          ],
          "choropleth": [
           {
            "colorbar": {
             "outlinewidth": 0,
             "ticks": ""
            },
            "type": "choropleth"
           }
          ],
          "contour": [
           {
            "colorbar": {
             "outlinewidth": 0,
             "ticks": ""
            },
            "colorscale": [
             [
              0,
              "#0d0887"
             ],
             [
              0.1111111111111111,
              "#46039f"
             ],
             [
              0.2222222222222222,
              "#7201a8"
             ],
             [
              0.3333333333333333,
              "#9c179e"
             ],
             [
              0.4444444444444444,
              "#bd3786"
             ],
             [
              0.5555555555555556,
              "#d8576b"
             ],
             [
              0.6666666666666666,
              "#ed7953"
             ],
             [
              0.7777777777777778,
              "#fb9f3a"
             ],
             [
              0.8888888888888888,
              "#fdca26"
             ],
             [
              1,
              "#f0f921"
             ]
            ],
            "type": "contour"
           }
          ],
          "contourcarpet": [
           {
            "colorbar": {
             "outlinewidth": 0,
             "ticks": ""
            },
            "type": "contourcarpet"
           }
          ],
          "heatmap": [
           {
            "colorbar": {
             "outlinewidth": 0,
             "ticks": ""
            },
            "colorscale": [
             [
              0,
              "#0d0887"
             ],
             [
              0.1111111111111111,
              "#46039f"
             ],
             [
              0.2222222222222222,
              "#7201a8"
             ],
             [
              0.3333333333333333,
              "#9c179e"
             ],
             [
              0.4444444444444444,
              "#bd3786"
             ],
             [
              0.5555555555555556,
              "#d8576b"
             ],
             [
              0.6666666666666666,
              "#ed7953"
             ],
             [
              0.7777777777777778,
              "#fb9f3a"
             ],
             [
              0.8888888888888888,
              "#fdca26"
             ],
             [
              1,
              "#f0f921"
             ]
            ],
            "type": "heatmap"
           }
          ],
          "heatmapgl": [
           {
            "colorbar": {
             "outlinewidth": 0,
             "ticks": ""
            },
            "colorscale": [
             [
              0,
              "#0d0887"
             ],
             [
              0.1111111111111111,
              "#46039f"
             ],
             [
              0.2222222222222222,
              "#7201a8"
             ],
             [
              0.3333333333333333,
              "#9c179e"
             ],
             [
              0.4444444444444444,
              "#bd3786"
             ],
             [
              0.5555555555555556,
              "#d8576b"
             ],
             [
              0.6666666666666666,
              "#ed7953"
             ],
             [
              0.7777777777777778,
              "#fb9f3a"
             ],
             [
              0.8888888888888888,
              "#fdca26"
             ],
             [
              1,
              "#f0f921"
             ]
            ],
            "type": "heatmapgl"
           }
          ],
          "histogram": [
           {
            "marker": {
             "pattern": {
              "fillmode": "overlay",
              "size": 10,
              "solidity": 0.2
             }
            },
            "type": "histogram"
           }
          ],
          "histogram2d": [
           {
            "colorbar": {
             "outlinewidth": 0,
             "ticks": ""
            },
            "colorscale": [
             [
              0,
              "#0d0887"
             ],
             [
              0.1111111111111111,
              "#46039f"
             ],
             [
              0.2222222222222222,
              "#7201a8"
             ],
             [
              0.3333333333333333,
              "#9c179e"
             ],
             [
              0.4444444444444444,
              "#bd3786"
             ],
             [
              0.5555555555555556,
              "#d8576b"
             ],
             [
              0.6666666666666666,
              "#ed7953"
             ],
             [
              0.7777777777777778,
              "#fb9f3a"
             ],
             [
              0.8888888888888888,
              "#fdca26"
             ],
             [
              1,
              "#f0f921"
             ]
            ],
            "type": "histogram2d"
           }
          ],
          "histogram2dcontour": [
           {
            "colorbar": {
             "outlinewidth": 0,
             "ticks": ""
            },
            "colorscale": [
             [
              0,
              "#0d0887"
             ],
             [
              0.1111111111111111,
              "#46039f"
             ],
             [
              0.2222222222222222,
              "#7201a8"
             ],
             [
              0.3333333333333333,
              "#9c179e"
             ],
             [
              0.4444444444444444,
              "#bd3786"
             ],
             [
              0.5555555555555556,
              "#d8576b"
             ],
             [
              0.6666666666666666,
              "#ed7953"
             ],
             [
              0.7777777777777778,
              "#fb9f3a"
             ],
             [
              0.8888888888888888,
              "#fdca26"
             ],
             [
              1,
              "#f0f921"
             ]
            ],
            "type": "histogram2dcontour"
           }
          ],
          "mesh3d": [
           {
            "colorbar": {
             "outlinewidth": 0,
             "ticks": ""
            },
            "type": "mesh3d"
           }
          ],
          "parcoords": [
           {
            "line": {
             "colorbar": {
              "outlinewidth": 0,
              "ticks": ""
             }
            },
            "type": "parcoords"
           }
          ],
          "pie": [
           {
            "automargin": true,
            "type": "pie"
           }
          ],
          "scatter": [
           {
            "marker": {
             "colorbar": {
              "outlinewidth": 0,
              "ticks": ""
             }
            },
            "type": "scatter"
           }
          ],
          "scatter3d": [
           {
            "line": {
             "colorbar": {
              "outlinewidth": 0,
              "ticks": ""
             }
            },
            "marker": {
             "colorbar": {
              "outlinewidth": 0,
              "ticks": ""
             }
            },
            "type": "scatter3d"
           }
          ],
          "scattercarpet": [
           {
            "marker": {
             "colorbar": {
              "outlinewidth": 0,
              "ticks": ""
             }
            },
            "type": "scattercarpet"
           }
          ],
          "scattergeo": [
           {
            "marker": {
             "colorbar": {
              "outlinewidth": 0,
              "ticks": ""
             }
            },
            "type": "scattergeo"
           }
          ],
          "scattergl": [
           {
            "marker": {
             "colorbar": {
              "outlinewidth": 0,
              "ticks": ""
             }
            },
            "type": "scattergl"
           }
          ],
          "scattermapbox": [
           {
            "marker": {
             "colorbar": {
              "outlinewidth": 0,
              "ticks": ""
             }
            },
            "type": "scattermapbox"
           }
          ],
          "scatterpolar": [
           {
            "marker": {
             "colorbar": {
              "outlinewidth": 0,
              "ticks": ""
             }
            },
            "type": "scatterpolar"
           }
          ],
          "scatterpolargl": [
           {
            "marker": {
             "colorbar": {
              "outlinewidth": 0,
              "ticks": ""
             }
            },
            "type": "scatterpolargl"
           }
          ],
          "scatterternary": [
           {
            "marker": {
             "colorbar": {
              "outlinewidth": 0,
              "ticks": ""
             }
            },
            "type": "scatterternary"
           }
          ],
          "surface": [
           {
            "colorbar": {
             "outlinewidth": 0,
             "ticks": ""
            },
            "colorscale": [
             [
              0,
              "#0d0887"
             ],
             [
              0.1111111111111111,
              "#46039f"
             ],
             [
              0.2222222222222222,
              "#7201a8"
             ],
             [
              0.3333333333333333,
              "#9c179e"
             ],
             [
              0.4444444444444444,
              "#bd3786"
             ],
             [
              0.5555555555555556,
              "#d8576b"
             ],
             [
              0.6666666666666666,
              "#ed7953"
             ],
             [
              0.7777777777777778,
              "#fb9f3a"
             ],
             [
              0.8888888888888888,
              "#fdca26"
             ],
             [
              1,
              "#f0f921"
             ]
            ],
            "type": "surface"
           }
          ],
          "table": [
           {
            "cells": {
             "fill": {
              "color": "#EBF0F8"
             },
             "line": {
              "color": "white"
             }
            },
            "header": {
             "fill": {
              "color": "#C8D4E3"
             },
             "line": {
              "color": "white"
             }
            },
            "type": "table"
           }
          ]
         },
         "layout": {
          "annotationdefaults": {
           "arrowcolor": "#2a3f5f",
           "arrowhead": 0,
           "arrowwidth": 1
          },
          "autotypenumbers": "strict",
          "coloraxis": {
           "colorbar": {
            "outlinewidth": 0,
            "ticks": ""
           }
          },
          "colorscale": {
           "diverging": [
            [
             0,
             "#8e0152"
            ],
            [
             0.1,
             "#c51b7d"
            ],
            [
             0.2,
             "#de77ae"
            ],
            [
             0.3,
             "#f1b6da"
            ],
            [
             0.4,
             "#fde0ef"
            ],
            [
             0.5,
             "#f7f7f7"
            ],
            [
             0.6,
             "#e6f5d0"
            ],
            [
             0.7,
             "#b8e186"
            ],
            [
             0.8,
             "#7fbc41"
            ],
            [
             0.9,
             "#4d9221"
            ],
            [
             1,
             "#276419"
            ]
           ],
           "sequential": [
            [
             0,
             "#0d0887"
            ],
            [
             0.1111111111111111,
             "#46039f"
            ],
            [
             0.2222222222222222,
             "#7201a8"
            ],
            [
             0.3333333333333333,
             "#9c179e"
            ],
            [
             0.4444444444444444,
             "#bd3786"
            ],
            [
             0.5555555555555556,
             "#d8576b"
            ],
            [
             0.6666666666666666,
             "#ed7953"
            ],
            [
             0.7777777777777778,
             "#fb9f3a"
            ],
            [
             0.8888888888888888,
             "#fdca26"
            ],
            [
             1,
             "#f0f921"
            ]
           ],
           "sequentialminus": [
            [
             0,
             "#0d0887"
            ],
            [
             0.1111111111111111,
             "#46039f"
            ],
            [
             0.2222222222222222,
             "#7201a8"
            ],
            [
             0.3333333333333333,
             "#9c179e"
            ],
            [
             0.4444444444444444,
             "#bd3786"
            ],
            [
             0.5555555555555556,
             "#d8576b"
            ],
            [
             0.6666666666666666,
             "#ed7953"
            ],
            [
             0.7777777777777778,
             "#fb9f3a"
            ],
            [
             0.8888888888888888,
             "#fdca26"
            ],
            [
             1,
             "#f0f921"
            ]
           ]
          },
          "colorway": [
           "#636efa",
           "#EF553B",
           "#00cc96",
           "#ab63fa",
           "#FFA15A",
           "#19d3f3",
           "#FF6692",
           "#B6E880",
           "#FF97FF",
           "#FECB52"
          ],
          "font": {
           "color": "#2a3f5f"
          },
          "geo": {
           "bgcolor": "white",
           "lakecolor": "white",
           "landcolor": "#E5ECF6",
           "showlakes": true,
           "showland": true,
           "subunitcolor": "white"
          },
          "hoverlabel": {
           "align": "left"
          },
          "hovermode": "closest",
          "mapbox": {
           "style": "light"
          },
          "paper_bgcolor": "white",
          "plot_bgcolor": "#E5ECF6",
          "polar": {
           "angularaxis": {
            "gridcolor": "white",
            "linecolor": "white",
            "ticks": ""
           },
           "bgcolor": "#E5ECF6",
           "radialaxis": {
            "gridcolor": "white",
            "linecolor": "white",
            "ticks": ""
           }
          },
          "scene": {
           "xaxis": {
            "backgroundcolor": "#E5ECF6",
            "gridcolor": "white",
            "gridwidth": 2,
            "linecolor": "white",
            "showbackground": true,
            "ticks": "",
            "zerolinecolor": "white"
           },
           "yaxis": {
            "backgroundcolor": "#E5ECF6",
            "gridcolor": "white",
            "gridwidth": 2,
            "linecolor": "white",
            "showbackground": true,
            "ticks": "",
            "zerolinecolor": "white"
           },
           "zaxis": {
            "backgroundcolor": "#E5ECF6",
            "gridcolor": "white",
            "gridwidth": 2,
            "linecolor": "white",
            "showbackground": true,
            "ticks": "",
            "zerolinecolor": "white"
           }
          },
          "shapedefaults": {
           "line": {
            "color": "#2a3f5f"
           }
          },
          "ternary": {
           "aaxis": {
            "gridcolor": "white",
            "linecolor": "white",
            "ticks": ""
           },
           "baxis": {
            "gridcolor": "white",
            "linecolor": "white",
            "ticks": ""
           },
           "bgcolor": "#E5ECF6",
           "caxis": {
            "gridcolor": "white",
            "linecolor": "white",
            "ticks": ""
           }
          },
          "title": {
           "x": 0.05
          },
          "xaxis": {
           "automargin": true,
           "gridcolor": "white",
           "linecolor": "white",
           "ticks": "",
           "title": {
            "standoff": 15
           },
           "zerolinecolor": "white",
           "zerolinewidth": 2
          },
          "yaxis": {
           "automargin": true,
           "gridcolor": "white",
           "linecolor": "white",
           "ticks": "",
           "title": {
            "standoff": 15
           },
           "zerolinecolor": "white",
           "zerolinewidth": 2
          }
         }
        },
        "xaxis": {
         "anchor": "y",
         "domain": [
          0,
          1
         ],
         "title": {
          "text": "year"
         }
        },
        "yaxis": {
         "anchor": "x",
         "domain": [
          0,
          1
         ],
         "title": {
          "text": "count"
         }
        }
       }
      },
      "text/html": [
       "<div>                            <div id=\"38d08e9d-a22e-41d1-a191-d31afd4d9a51\" class=\"plotly-graph-div\" style=\"height:525px; width:100%;\"></div>            <script type=\"text/javascript\">                require([\"plotly\"], function(Plotly) {                    window.PLOTLYENV=window.PLOTLYENV || {};                                    if (document.getElementById(\"38d08e9d-a22e-41d1-a191-d31afd4d9a51\")) {                    Plotly.newPlot(                        \"38d08e9d-a22e-41d1-a191-d31afd4d9a51\",                        [{\"alignmentgroup\":\"True\",\"bingroup\":\"x\",\"hovertemplate\":\"year=%{x}<br>count=%{y}<extra></extra>\",\"legendgroup\":\"\",\"marker\":{\"color\":\"#636efa\",\"pattern\":{\"shape\":\"\"}},\"name\":\"\",\"offsetgroup\":\"\",\"orientation\":\"v\",\"showlegend\":false,\"type\":\"histogram\",\"x\":[1994,2008,2010,1999,1994,1994,1999,2001,2003,1972,2014,2012,2002,1995,2012,2000,2005,2009,1991,1998,1977,1993,2013,2006,2006,1980,1999,2010,1974,2000,1985,1999,1994,1990,2019,1998,2005,2003,2008,1991,1995,1998,1995,1983,2003,1994,2009,1992,1975,2004,1980,1999,2019,2015,1995,2018,1981,1993,2014,2007,1997,2002,2001,2001,1979,1988,2000,2011,2011,2000,2010,1971,1983,2002,1998,2014,1976,2014,2008,1957,2001,1982,2002,1966,1989,1987,2001,2010,2017,1986,2013,2019,2004,1996,2015,1997,1996,2006,2013,1960,1979,1968,1995,2007,1998,1997,2007,1942,2003,1976,1975,2019,1995,2016,1964,2017,1954,2013,2011,1989,2015,2017,2018,2018,1941,1946,1987,1986,2015,1992,1982,1984,1958,1979,1986,2006,2009,1997,2004,2004,2004,2021,2019,1980,1984,1954,1978,1968,1959,1988,1974,1962,2012,1939,1995,1962,2020,2009,1959,1988,1973,2004,1988,1965,1981,1963,2000,2011,1980,1936,1952,1959,2016,1940,1957,1950,2009,1957,2014,2007,1931,1957,2014,1960,2016,2009,1967,1927,1954,1993,1949,2010,2016,1995,1950,1984,2003,1975,1948,1976,1931,1944,1954,2000,1940,2016,1979,1950,2020,1921,2019,1948,1985,1961,1957,2006,1959,1939,1966,2001,2016,1925,2021,1957,1984,1934,2020,1994,2020,2012,1940,2004,1926,1972,1998,2005,2018,2017,2020,2012,2003,2019,2007,2015,2008,2018,2020,1961,1952,2011,2010,1962,1994,1997,2001,1985,1996,2010,1995,2012,2013,2013,1955,2013,2016,2000,1998,1946,1982,2012,1920,2018,1930,1953,2021,1953,1995,1966,2014,2012,2014,1975,1962,1998,2014,2019,1994,1928,1966,2008],\"xaxis\":\"x\",\"yaxis\":\"y\"}],                        {\"barmode\":\"relative\",\"legend\":{\"tracegroupgap\":0},\"margin\":{\"t\":60},\"template\":{\"data\":{\"bar\":[{\"error_x\":{\"color\":\"#2a3f5f\"},\"error_y\":{\"color\":\"#2a3f5f\"},\"marker\":{\"line\":{\"color\":\"#E5ECF6\",\"width\":0.5},\"pattern\":{\"fillmode\":\"overlay\",\"size\":10,\"solidity\":0.2}},\"type\":\"bar\"}],\"barpolar\":[{\"marker\":{\"line\":{\"color\":\"#E5ECF6\",\"width\":0.5},\"pattern\":{\"fillmode\":\"overlay\",\"size\":10,\"solidity\":0.2}},\"type\":\"barpolar\"}],\"carpet\":[{\"aaxis\":{\"endlinecolor\":\"#2a3f5f\",\"gridcolor\":\"white\",\"linecolor\":\"white\",\"minorgridcolor\":\"white\",\"startlinecolor\":\"#2a3f5f\"},\"baxis\":{\"endlinecolor\":\"#2a3f5f\",\"gridcolor\":\"white\",\"linecolor\":\"white\",\"minorgridcolor\":\"white\",\"startlinecolor\":\"#2a3f5f\"},\"type\":\"carpet\"}],\"choropleth\":[{\"colorbar\":{\"outlinewidth\":0,\"ticks\":\"\"},\"type\":\"choropleth\"}],\"contour\":[{\"colorbar\":{\"outlinewidth\":0,\"ticks\":\"\"},\"colorscale\":[[0.0,\"#0d0887\"],[0.1111111111111111,\"#46039f\"],[0.2222222222222222,\"#7201a8\"],[0.3333333333333333,\"#9c179e\"],[0.4444444444444444,\"#bd3786\"],[0.5555555555555556,\"#d8576b\"],[0.6666666666666666,\"#ed7953\"],[0.7777777777777778,\"#fb9f3a\"],[0.8888888888888888,\"#fdca26\"],[1.0,\"#f0f921\"]],\"type\":\"contour\"}],\"contourcarpet\":[{\"colorbar\":{\"outlinewidth\":0,\"ticks\":\"\"},\"type\":\"contourcarpet\"}],\"heatmap\":[{\"colorbar\":{\"outlinewidth\":0,\"ticks\":\"\"},\"colorscale\":[[0.0,\"#0d0887\"],[0.1111111111111111,\"#46039f\"],[0.2222222222222222,\"#7201a8\"],[0.3333333333333333,\"#9c179e\"],[0.4444444444444444,\"#bd3786\"],[0.5555555555555556,\"#d8576b\"],[0.6666666666666666,\"#ed7953\"],[0.7777777777777778,\"#fb9f3a\"],[0.8888888888888888,\"#fdca26\"],[1.0,\"#f0f921\"]],\"type\":\"heatmap\"}],\"heatmapgl\":[{\"colorbar\":{\"outlinewidth\":0,\"ticks\":\"\"},\"colorscale\":[[0.0,\"#0d0887\"],[0.1111111111111111,\"#46039f\"],[0.2222222222222222,\"#7201a8\"],[0.3333333333333333,\"#9c179e\"],[0.4444444444444444,\"#bd3786\"],[0.5555555555555556,\"#d8576b\"],[0.6666666666666666,\"#ed7953\"],[0.7777777777777778,\"#fb9f3a\"],[0.8888888888888888,\"#fdca26\"],[1.0,\"#f0f921\"]],\"type\":\"heatmapgl\"}],\"histogram\":[{\"marker\":{\"pattern\":{\"fillmode\":\"overlay\",\"size\":10,\"solidity\":0.2}},\"type\":\"histogram\"}],\"histogram2d\":[{\"colorbar\":{\"outlinewidth\":0,\"ticks\":\"\"},\"colorscale\":[[0.0,\"#0d0887\"],[0.1111111111111111,\"#46039f\"],[0.2222222222222222,\"#7201a8\"],[0.3333333333333333,\"#9c179e\"],[0.4444444444444444,\"#bd3786\"],[0.5555555555555556,\"#d8576b\"],[0.6666666666666666,\"#ed7953\"],[0.7777777777777778,\"#fb9f3a\"],[0.8888888888888888,\"#fdca26\"],[1.0,\"#f0f921\"]],\"type\":\"histogram2d\"}],\"histogram2dcontour\":[{\"colorbar\":{\"outlinewidth\":0,\"ticks\":\"\"},\"colorscale\":[[0.0,\"#0d0887\"],[0.1111111111111111,\"#46039f\"],[0.2222222222222222,\"#7201a8\"],[0.3333333333333333,\"#9c179e\"],[0.4444444444444444,\"#bd3786\"],[0.5555555555555556,\"#d8576b\"],[0.6666666666666666,\"#ed7953\"],[0.7777777777777778,\"#fb9f3a\"],[0.8888888888888888,\"#fdca26\"],[1.0,\"#f0f921\"]],\"type\":\"histogram2dcontour\"}],\"mesh3d\":[{\"colorbar\":{\"outlinewidth\":0,\"ticks\":\"\"},\"type\":\"mesh3d\"}],\"parcoords\":[{\"line\":{\"colorbar\":{\"outlinewidth\":0,\"ticks\":\"\"}},\"type\":\"parcoords\"}],\"pie\":[{\"automargin\":true,\"type\":\"pie\"}],\"scatter\":[{\"marker\":{\"colorbar\":{\"outlinewidth\":0,\"ticks\":\"\"}},\"type\":\"scatter\"}],\"scatter3d\":[{\"line\":{\"colorbar\":{\"outlinewidth\":0,\"ticks\":\"\"}},\"marker\":{\"colorbar\":{\"outlinewidth\":0,\"ticks\":\"\"}},\"type\":\"scatter3d\"}],\"scattercarpet\":[{\"marker\":{\"colorbar\":{\"outlinewidth\":0,\"ticks\":\"\"}},\"type\":\"scattercarpet\"}],\"scattergeo\":[{\"marker\":{\"colorbar\":{\"outlinewidth\":0,\"ticks\":\"\"}},\"type\":\"scattergeo\"}],\"scattergl\":[{\"marker\":{\"colorbar\":{\"outlinewidth\":0,\"ticks\":\"\"}},\"type\":\"scattergl\"}],\"scattermapbox\":[{\"marker\":{\"colorbar\":{\"outlinewidth\":0,\"ticks\":\"\"}},\"type\":\"scattermapbox\"}],\"scatterpolar\":[{\"marker\":{\"colorbar\":{\"outlinewidth\":0,\"ticks\":\"\"}},\"type\":\"scatterpolar\"}],\"scatterpolargl\":[{\"marker\":{\"colorbar\":{\"outlinewidth\":0,\"ticks\":\"\"}},\"type\":\"scatterpolargl\"}],\"scatterternary\":[{\"marker\":{\"colorbar\":{\"outlinewidth\":0,\"ticks\":\"\"}},\"type\":\"scatterternary\"}],\"surface\":[{\"colorbar\":{\"outlinewidth\":0,\"ticks\":\"\"},\"colorscale\":[[0.0,\"#0d0887\"],[0.1111111111111111,\"#46039f\"],[0.2222222222222222,\"#7201a8\"],[0.3333333333333333,\"#9c179e\"],[0.4444444444444444,\"#bd3786\"],[0.5555555555555556,\"#d8576b\"],[0.6666666666666666,\"#ed7953\"],[0.7777777777777778,\"#fb9f3a\"],[0.8888888888888888,\"#fdca26\"],[1.0,\"#f0f921\"]],\"type\":\"surface\"}],\"table\":[{\"cells\":{\"fill\":{\"color\":\"#EBF0F8\"},\"line\":{\"color\":\"white\"}},\"header\":{\"fill\":{\"color\":\"#C8D4E3\"},\"line\":{\"color\":\"white\"}},\"type\":\"table\"}]},\"layout\":{\"annotationdefaults\":{\"arrowcolor\":\"#2a3f5f\",\"arrowhead\":0,\"arrowwidth\":1},\"autotypenumbers\":\"strict\",\"coloraxis\":{\"colorbar\":{\"outlinewidth\":0,\"ticks\":\"\"}},\"colorscale\":{\"diverging\":[[0,\"#8e0152\"],[0.1,\"#c51b7d\"],[0.2,\"#de77ae\"],[0.3,\"#f1b6da\"],[0.4,\"#fde0ef\"],[0.5,\"#f7f7f7\"],[0.6,\"#e6f5d0\"],[0.7,\"#b8e186\"],[0.8,\"#7fbc41\"],[0.9,\"#4d9221\"],[1,\"#276419\"]],\"sequential\":[[0.0,\"#0d0887\"],[0.1111111111111111,\"#46039f\"],[0.2222222222222222,\"#7201a8\"],[0.3333333333333333,\"#9c179e\"],[0.4444444444444444,\"#bd3786\"],[0.5555555555555556,\"#d8576b\"],[0.6666666666666666,\"#ed7953\"],[0.7777777777777778,\"#fb9f3a\"],[0.8888888888888888,\"#fdca26\"],[1.0,\"#f0f921\"]],\"sequentialminus\":[[0.0,\"#0d0887\"],[0.1111111111111111,\"#46039f\"],[0.2222222222222222,\"#7201a8\"],[0.3333333333333333,\"#9c179e\"],[0.4444444444444444,\"#bd3786\"],[0.5555555555555556,\"#d8576b\"],[0.6666666666666666,\"#ed7953\"],[0.7777777777777778,\"#fb9f3a\"],[0.8888888888888888,\"#fdca26\"],[1.0,\"#f0f921\"]]},\"colorway\":[\"#636efa\",\"#EF553B\",\"#00cc96\",\"#ab63fa\",\"#FFA15A\",\"#19d3f3\",\"#FF6692\",\"#B6E880\",\"#FF97FF\",\"#FECB52\"],\"font\":{\"color\":\"#2a3f5f\"},\"geo\":{\"bgcolor\":\"white\",\"lakecolor\":\"white\",\"landcolor\":\"#E5ECF6\",\"showlakes\":true,\"showland\":true,\"subunitcolor\":\"white\"},\"hoverlabel\":{\"align\":\"left\"},\"hovermode\":\"closest\",\"mapbox\":{\"style\":\"light\"},\"paper_bgcolor\":\"white\",\"plot_bgcolor\":\"#E5ECF6\",\"polar\":{\"angularaxis\":{\"gridcolor\":\"white\",\"linecolor\":\"white\",\"ticks\":\"\"},\"bgcolor\":\"#E5ECF6\",\"radialaxis\":{\"gridcolor\":\"white\",\"linecolor\":\"white\",\"ticks\":\"\"}},\"scene\":{\"xaxis\":{\"backgroundcolor\":\"#E5ECF6\",\"gridcolor\":\"white\",\"gridwidth\":2,\"linecolor\":\"white\",\"showbackground\":true,\"ticks\":\"\",\"zerolinecolor\":\"white\"},\"yaxis\":{\"backgroundcolor\":\"#E5ECF6\",\"gridcolor\":\"white\",\"gridwidth\":2,\"linecolor\":\"white\",\"showbackground\":true,\"ticks\":\"\",\"zerolinecolor\":\"white\"},\"zaxis\":{\"backgroundcolor\":\"#E5ECF6\",\"gridcolor\":\"white\",\"gridwidth\":2,\"linecolor\":\"white\",\"showbackground\":true,\"ticks\":\"\",\"zerolinecolor\":\"white\"}},\"shapedefaults\":{\"line\":{\"color\":\"#2a3f5f\"}},\"ternary\":{\"aaxis\":{\"gridcolor\":\"white\",\"linecolor\":\"white\",\"ticks\":\"\"},\"baxis\":{\"gridcolor\":\"white\",\"linecolor\":\"white\",\"ticks\":\"\"},\"bgcolor\":\"#E5ECF6\",\"caxis\":{\"gridcolor\":\"white\",\"linecolor\":\"white\",\"ticks\":\"\"}},\"title\":{\"x\":0.05},\"xaxis\":{\"automargin\":true,\"gridcolor\":\"white\",\"linecolor\":\"white\",\"ticks\":\"\",\"title\":{\"standoff\":15},\"zerolinecolor\":\"white\",\"zerolinewidth\":2},\"yaxis\":{\"automargin\":true,\"gridcolor\":\"white\",\"linecolor\":\"white\",\"ticks\":\"\",\"title\":{\"standoff\":15},\"zerolinecolor\":\"white\",\"zerolinewidth\":2}}},\"xaxis\":{\"anchor\":\"y\",\"domain\":[0.0,1.0],\"title\":{\"text\":\"year\"}},\"yaxis\":{\"anchor\":\"x\",\"domain\":[0.0,1.0],\"title\":{\"text\":\"count\"}}},                        {\"responsive\": true}                    ).then(function(){\n",
       "                            \n",
       "var gd = document.getElementById('38d08e9d-a22e-41d1-a191-d31afd4d9a51');\n",
       "var x = new MutationObserver(function (mutations, observer) {{\n",
       "        var display = window.getComputedStyle(gd).display;\n",
       "        if (!display || display === 'none') {{\n",
       "            console.log([gd, 'removed!']);\n",
       "            Plotly.purge(gd);\n",
       "            observer.disconnect();\n",
       "        }}\n",
       "}});\n",
       "\n",
       "// Listen for the removal of the full notebook cells\n",
       "var notebookContainer = gd.closest('#notebook-container');\n",
       "if (notebookContainer) {{\n",
       "    x.observe(notebookContainer, {childList: true});\n",
       "}}\n",
       "\n",
       "// Listen for the clearing of the current output cell\n",
       "var outputEl = gd.closest('.output');\n",
       "if (outputEl) {{\n",
       "    x.observe(outputEl, {childList: true});\n",
       "}}\n",
       "\n",
       "                        })                };                });            </script>        </div>"
      ]
     },
     "metadata": {},
     "output_type": "display_data"
    }
   ],
   "source": [
    "#fig = px.bar(df, x='year', y='number_of_votes',orientation='h')\n",
    "\n",
    "import plotly.express as px\n",
    "fig = px.histogram(df, x=\"year\")\n",
    "fig.show()\n"
   ]
  },
  {
   "cell_type": "code",
   "execution_count": 20,
   "metadata": {
    "ExecuteTime": {
     "end_time": "2021-10-31T00:04:09.533922Z",
     "start_time": "2021-10-31T00:04:09.260975Z"
    }
   },
   "outputs": [
    {
     "data": {
      "application/vnd.plotly.v1+json": {
       "config": {
        "plotlyServerURL": "https://plot.ly"
       },
       "data": [
        {
         "hovertemplate": "year=%{x}<br>averageRating=%{y}<extra></extra>",
         "legendgroup": "",
         "marker": {
          "color": "#636efa",
          "symbol": "circle"
         },
         "mode": "markers",
         "name": "",
         "orientation": "v",
         "showlegend": false,
         "type": "scatter",
         "x": [
          1994,
          2008,
          2010,
          1999,
          1994,
          1994,
          1999,
          2001,
          2003,
          1972,
          2014,
          2012,
          2002,
          1995,
          2012,
          2000,
          2005,
          2009,
          1991,
          1998,
          1977,
          1993,
          2013,
          2006,
          2006,
          1980,
          1999,
          2010,
          1974,
          2000,
          1985,
          1999,
          1994,
          1990,
          2019,
          1998,
          2005,
          2003,
          2008,
          1991,
          1995,
          1998,
          1995,
          1983,
          2003,
          1994,
          2009,
          1992,
          1975,
          2004,
          1980,
          1999,
          2019,
          2015,
          1995,
          2018,
          1981,
          1993,
          2014,
          2007,
          1997,
          2002,
          2001,
          2001,
          1979,
          1988,
          2000,
          2011,
          2011,
          2000,
          2010,
          1971,
          1983,
          2002,
          1998,
          2014,
          1976,
          2014,
          2008,
          1957,
          2001,
          1982,
          2002,
          1966,
          1989,
          1987,
          2001,
          2010,
          2017,
          1986,
          2013,
          2019,
          2004,
          1996,
          2015,
          1997,
          1996,
          2006,
          2013,
          1960,
          1979,
          1968,
          1995,
          2007,
          1998,
          1997,
          2007,
          1942,
          2003,
          1976,
          1975,
          2019,
          1995,
          2016,
          1964,
          2017,
          1954,
          2013,
          2011,
          1989,
          2015,
          2017,
          2018,
          2018,
          1941,
          1946,
          1987,
          1986,
          2015,
          1992,
          1982,
          1984,
          1958,
          1979,
          1986,
          2006,
          2009,
          1997,
          2004,
          2004,
          2004,
          2021,
          2019,
          1980,
          1984,
          1954,
          1978,
          1968,
          1959,
          1988,
          1974,
          1962,
          2012,
          1939,
          1995,
          1962,
          2020,
          2009,
          1959,
          1988,
          1973,
          2004,
          1988,
          1965,
          1981,
          1963,
          2000,
          2011,
          1980,
          1936,
          1952,
          1959,
          2016,
          1940,
          1957,
          1950,
          2009,
          1957,
          2014,
          2007,
          1931,
          1957,
          2014,
          1960,
          2016,
          2009,
          1967,
          1927,
          1954,
          1993,
          1949,
          2010,
          2016,
          1995,
          1950,
          1984,
          2003,
          1975,
          1948,
          1976,
          1931,
          1944,
          1954,
          2000,
          1940,
          2016,
          1979,
          1950,
          2020,
          1921,
          2019,
          1948,
          1985,
          1961,
          1957,
          2006,
          1959,
          1939,
          1966,
          2001,
          2016,
          1925,
          2021,
          1957,
          1984,
          1934,
          2020,
          1994,
          2020,
          2012,
          1940,
          2004,
          1926,
          1972,
          1998,
          2005,
          2018,
          2017,
          2020,
          2012,
          2003,
          2019,
          2007,
          2015,
          2008,
          2018,
          2020,
          1961,
          1952,
          2011,
          2010,
          1962,
          1994,
          1997,
          2001,
          1985,
          1996,
          2010,
          1995,
          2012,
          2013,
          2013,
          1955,
          2013,
          2016,
          2000,
          1998,
          1946,
          1982,
          2012,
          1920,
          2018,
          1930,
          1953,
          2021,
          1953,
          1995,
          1966,
          2014,
          2012,
          2014,
          1975,
          1962,
          1998,
          2014,
          2019,
          1994,
          1928,
          1966,
          2008
         ],
         "xaxis": "x",
         "y": [
          9.3,
          9,
          8.8,
          8.8,
          8.9,
          8.8,
          8.7,
          8.8,
          8.9,
          9.2,
          8.6,
          8.4,
          8.7,
          8.6,
          8.4,
          8.5,
          8.2,
          8.3,
          8.6,
          8.6,
          8.6,
          8.9,
          8.2,
          8.5,
          8.5,
          8.7,
          8.6,
          8.2,
          9,
          8.4,
          8.5,
          8.3,
          8.5,
          8.7,
          8.4,
          8.5,
          8.1,
          8.1,
          8.4,
          8.5,
          8.5,
          8.1,
          8.3,
          8.3,
          8.1,
          8.5,
          8.2,
          8.3,
          8.7,
          8.3,
          8.4,
          8.1,
          8.4,
          8.1,
          8.3,
          8.4,
          8.4,
          8.1,
          8.1,
          8.1,
          8.3,
          8.1,
          8.2,
          8.1,
          8.4,
          8.2,
          8.3,
          8.1,
          8.5,
          8.3,
          8.2,
          8.3,
          8.3,
          8.5,
          8.1,
          8.5,
          8.2,
          8.1,
          8.1,
          9,
          8.3,
          8.1,
          8.6,
          8.8,
          8.2,
          8.3,
          8.6,
          8.1,
          8.1,
          8.3,
          8.1,
          8.6,
          8.1,
          8.1,
          8.1,
          8.6,
          8.1,
          8.2,
          8.1,
          8.5,
          8.4,
          8.3,
          8.2,
          8.1,
          8.2,
          8.2,
          8.2,
          8.5,
          8.4,
          8.1,
          8.2,
          8.3,
          8.2,
          8.1,
          8.4,
          8.1,
          8.5,
          8.1,
          8.1,
          8.1,
          8.1,
          8.4,
          8.4,
          8.2,
          8.3,
          8.6,
          8.1,
          8.1,
          8.1,
          8.2,
          8.1,
          8.3,
          8.3,
          8.1,
          8.1,
          8.4,
          8.4,
          8.4,
          8.2,
          8.1,
          8.2,
          8.1,
          8.1,
          8.2,
          8.3,
          8.6,
          8.1,
          8.5,
          8.3,
          8.2,
          8.2,
          8.3,
          8.3,
          8.1,
          8.1,
          8.3,
          8.1,
          8.1,
          8.2,
          8.5,
          8.3,
          8.1,
          8.5,
          8.2,
          8.3,
          8.2,
          8.1,
          8.3,
          8.1,
          8.5,
          8.3,
          8.1,
          8.4,
          8.4,
          8.1,
          8.4,
          8.2,
          8.4,
          8.1,
          8.4,
          8.5,
          8.2,
          8.1,
          8.3,
          8.4,
          8.1,
          8.1,
          8.3,
          8.2,
          8.1,
          8.1,
          8.3,
          8.1,
          8.1,
          8.2,
          8.1,
          8.1,
          8.1,
          8.3,
          8.1,
          8.3,
          8.3,
          8.1,
          8.1,
          8.1,
          8.1,
          8.1,
          8.2,
          8.2,
          8.3,
          8.2,
          8.2,
          8.2,
          8.2,
          8.4,
          8.1,
          8.1,
          8.1,
          8.1,
          8.1,
          8.7,
          8.2,
          8.7,
          8.2,
          8.1,
          8.1,
          8.3,
          8.1,
          9.1,
          8.2,
          8.1,
          8.2,
          8.1,
          8.1,
          8.1,
          8.2,
          8.2,
          8.2,
          8.8,
          8.1,
          8.1,
          8.1,
          8.2,
          8.2,
          8.1,
          8.4,
          8.4,
          8.2,
          8.3,
          8.2,
          8.2,
          8.1,
          8.1,
          8.3,
          8.1,
          8.3,
          8.2,
          8.5,
          8.1,
          8.2,
          8.2,
          8.1,
          8.1,
          8.2,
          8.2,
          8.2,
          8.1,
          8.1,
          8.1,
          8.1,
          8.1,
          8.2,
          8.1,
          8.1,
          8.4,
          8.2,
          8.1,
          8.1,
          8.1,
          8.1,
          8.1,
          8.2,
          8.1,
          8.1,
          8.1,
          8.3,
          8.1,
          8.1,
          8.1,
          8.1
         ],
         "yaxis": "y"
        }
       ],
       "layout": {
        "legend": {
         "tracegroupgap": 0
        },
        "margin": {
         "t": 60
        },
        "template": {
         "data": {
          "bar": [
           {
            "error_x": {
             "color": "#2a3f5f"
            },
            "error_y": {
             "color": "#2a3f5f"
            },
            "marker": {
             "line": {
              "color": "#E5ECF6",
              "width": 0.5
             },
             "pattern": {
              "fillmode": "overlay",
              "size": 10,
              "solidity": 0.2
             }
            },
            "type": "bar"
           }
          ],
          "barpolar": [
           {
            "marker": {
             "line": {
              "color": "#E5ECF6",
              "width": 0.5
             },
             "pattern": {
              "fillmode": "overlay",
              "size": 10,
              "solidity": 0.2
             }
            },
            "type": "barpolar"
           }
          ],
          "carpet": [
           {
            "aaxis": {
             "endlinecolor": "#2a3f5f",
             "gridcolor": "white",
             "linecolor": "white",
             "minorgridcolor": "white",
             "startlinecolor": "#2a3f5f"
            },
            "baxis": {
             "endlinecolor": "#2a3f5f",
             "gridcolor": "white",
             "linecolor": "white",
             "minorgridcolor": "white",
             "startlinecolor": "#2a3f5f"
            },
            "type": "carpet"
           }
          ],
          "choropleth": [
           {
            "colorbar": {
             "outlinewidth": 0,
             "ticks": ""
            },
            "type": "choropleth"
           }
          ],
          "contour": [
           {
            "colorbar": {
             "outlinewidth": 0,
             "ticks": ""
            },
            "colorscale": [
             [
              0,
              "#0d0887"
             ],
             [
              0.1111111111111111,
              "#46039f"
             ],
             [
              0.2222222222222222,
              "#7201a8"
             ],
             [
              0.3333333333333333,
              "#9c179e"
             ],
             [
              0.4444444444444444,
              "#bd3786"
             ],
             [
              0.5555555555555556,
              "#d8576b"
             ],
             [
              0.6666666666666666,
              "#ed7953"
             ],
             [
              0.7777777777777778,
              "#fb9f3a"
             ],
             [
              0.8888888888888888,
              "#fdca26"
             ],
             [
              1,
              "#f0f921"
             ]
            ],
            "type": "contour"
           }
          ],
          "contourcarpet": [
           {
            "colorbar": {
             "outlinewidth": 0,
             "ticks": ""
            },
            "type": "contourcarpet"
           }
          ],
          "heatmap": [
           {
            "colorbar": {
             "outlinewidth": 0,
             "ticks": ""
            },
            "colorscale": [
             [
              0,
              "#0d0887"
             ],
             [
              0.1111111111111111,
              "#46039f"
             ],
             [
              0.2222222222222222,
              "#7201a8"
             ],
             [
              0.3333333333333333,
              "#9c179e"
             ],
             [
              0.4444444444444444,
              "#bd3786"
             ],
             [
              0.5555555555555556,
              "#d8576b"
             ],
             [
              0.6666666666666666,
              "#ed7953"
             ],
             [
              0.7777777777777778,
              "#fb9f3a"
             ],
             [
              0.8888888888888888,
              "#fdca26"
             ],
             [
              1,
              "#f0f921"
             ]
            ],
            "type": "heatmap"
           }
          ],
          "heatmapgl": [
           {
            "colorbar": {
             "outlinewidth": 0,
             "ticks": ""
            },
            "colorscale": [
             [
              0,
              "#0d0887"
             ],
             [
              0.1111111111111111,
              "#46039f"
             ],
             [
              0.2222222222222222,
              "#7201a8"
             ],
             [
              0.3333333333333333,
              "#9c179e"
             ],
             [
              0.4444444444444444,
              "#bd3786"
             ],
             [
              0.5555555555555556,
              "#d8576b"
             ],
             [
              0.6666666666666666,
              "#ed7953"
             ],
             [
              0.7777777777777778,
              "#fb9f3a"
             ],
             [
              0.8888888888888888,
              "#fdca26"
             ],
             [
              1,
              "#f0f921"
             ]
            ],
            "type": "heatmapgl"
           }
          ],
          "histogram": [
           {
            "marker": {
             "pattern": {
              "fillmode": "overlay",
              "size": 10,
              "solidity": 0.2
             }
            },
            "type": "histogram"
           }
          ],
          "histogram2d": [
           {
            "colorbar": {
             "outlinewidth": 0,
             "ticks": ""
            },
            "colorscale": [
             [
              0,
              "#0d0887"
             ],
             [
              0.1111111111111111,
              "#46039f"
             ],
             [
              0.2222222222222222,
              "#7201a8"
             ],
             [
              0.3333333333333333,
              "#9c179e"
             ],
             [
              0.4444444444444444,
              "#bd3786"
             ],
             [
              0.5555555555555556,
              "#d8576b"
             ],
             [
              0.6666666666666666,
              "#ed7953"
             ],
             [
              0.7777777777777778,
              "#fb9f3a"
             ],
             [
              0.8888888888888888,
              "#fdca26"
             ],
             [
              1,
              "#f0f921"
             ]
            ],
            "type": "histogram2d"
           }
          ],
          "histogram2dcontour": [
           {
            "colorbar": {
             "outlinewidth": 0,
             "ticks": ""
            },
            "colorscale": [
             [
              0,
              "#0d0887"
             ],
             [
              0.1111111111111111,
              "#46039f"
             ],
             [
              0.2222222222222222,
              "#7201a8"
             ],
             [
              0.3333333333333333,
              "#9c179e"
             ],
             [
              0.4444444444444444,
              "#bd3786"
             ],
             [
              0.5555555555555556,
              "#d8576b"
             ],
             [
              0.6666666666666666,
              "#ed7953"
             ],
             [
              0.7777777777777778,
              "#fb9f3a"
             ],
             [
              0.8888888888888888,
              "#fdca26"
             ],
             [
              1,
              "#f0f921"
             ]
            ],
            "type": "histogram2dcontour"
           }
          ],
          "mesh3d": [
           {
            "colorbar": {
             "outlinewidth": 0,
             "ticks": ""
            },
            "type": "mesh3d"
           }
          ],
          "parcoords": [
           {
            "line": {
             "colorbar": {
              "outlinewidth": 0,
              "ticks": ""
             }
            },
            "type": "parcoords"
           }
          ],
          "pie": [
           {
            "automargin": true,
            "type": "pie"
           }
          ],
          "scatter": [
           {
            "marker": {
             "colorbar": {
              "outlinewidth": 0,
              "ticks": ""
             }
            },
            "type": "scatter"
           }
          ],
          "scatter3d": [
           {
            "line": {
             "colorbar": {
              "outlinewidth": 0,
              "ticks": ""
             }
            },
            "marker": {
             "colorbar": {
              "outlinewidth": 0,
              "ticks": ""
             }
            },
            "type": "scatter3d"
           }
          ],
          "scattercarpet": [
           {
            "marker": {
             "colorbar": {
              "outlinewidth": 0,
              "ticks": ""
             }
            },
            "type": "scattercarpet"
           }
          ],
          "scattergeo": [
           {
            "marker": {
             "colorbar": {
              "outlinewidth": 0,
              "ticks": ""
             }
            },
            "type": "scattergeo"
           }
          ],
          "scattergl": [
           {
            "marker": {
             "colorbar": {
              "outlinewidth": 0,
              "ticks": ""
             }
            },
            "type": "scattergl"
           }
          ],
          "scattermapbox": [
           {
            "marker": {
             "colorbar": {
              "outlinewidth": 0,
              "ticks": ""
             }
            },
            "type": "scattermapbox"
           }
          ],
          "scatterpolar": [
           {
            "marker": {
             "colorbar": {
              "outlinewidth": 0,
              "ticks": ""
             }
            },
            "type": "scatterpolar"
           }
          ],
          "scatterpolargl": [
           {
            "marker": {
             "colorbar": {
              "outlinewidth": 0,
              "ticks": ""
             }
            },
            "type": "scatterpolargl"
           }
          ],
          "scatterternary": [
           {
            "marker": {
             "colorbar": {
              "outlinewidth": 0,
              "ticks": ""
             }
            },
            "type": "scatterternary"
           }
          ],
          "surface": [
           {
            "colorbar": {
             "outlinewidth": 0,
             "ticks": ""
            },
            "colorscale": [
             [
              0,
              "#0d0887"
             ],
             [
              0.1111111111111111,
              "#46039f"
             ],
             [
              0.2222222222222222,
              "#7201a8"
             ],
             [
              0.3333333333333333,
              "#9c179e"
             ],
             [
              0.4444444444444444,
              "#bd3786"
             ],
             [
              0.5555555555555556,
              "#d8576b"
             ],
             [
              0.6666666666666666,
              "#ed7953"
             ],
             [
              0.7777777777777778,
              "#fb9f3a"
             ],
             [
              0.8888888888888888,
              "#fdca26"
             ],
             [
              1,
              "#f0f921"
             ]
            ],
            "type": "surface"
           }
          ],
          "table": [
           {
            "cells": {
             "fill": {
              "color": "#EBF0F8"
             },
             "line": {
              "color": "white"
             }
            },
            "header": {
             "fill": {
              "color": "#C8D4E3"
             },
             "line": {
              "color": "white"
             }
            },
            "type": "table"
           }
          ]
         },
         "layout": {
          "annotationdefaults": {
           "arrowcolor": "#2a3f5f",
           "arrowhead": 0,
           "arrowwidth": 1
          },
          "autotypenumbers": "strict",
          "coloraxis": {
           "colorbar": {
            "outlinewidth": 0,
            "ticks": ""
           }
          },
          "colorscale": {
           "diverging": [
            [
             0,
             "#8e0152"
            ],
            [
             0.1,
             "#c51b7d"
            ],
            [
             0.2,
             "#de77ae"
            ],
            [
             0.3,
             "#f1b6da"
            ],
            [
             0.4,
             "#fde0ef"
            ],
            [
             0.5,
             "#f7f7f7"
            ],
            [
             0.6,
             "#e6f5d0"
            ],
            [
             0.7,
             "#b8e186"
            ],
            [
             0.8,
             "#7fbc41"
            ],
            [
             0.9,
             "#4d9221"
            ],
            [
             1,
             "#276419"
            ]
           ],
           "sequential": [
            [
             0,
             "#0d0887"
            ],
            [
             0.1111111111111111,
             "#46039f"
            ],
            [
             0.2222222222222222,
             "#7201a8"
            ],
            [
             0.3333333333333333,
             "#9c179e"
            ],
            [
             0.4444444444444444,
             "#bd3786"
            ],
            [
             0.5555555555555556,
             "#d8576b"
            ],
            [
             0.6666666666666666,
             "#ed7953"
            ],
            [
             0.7777777777777778,
             "#fb9f3a"
            ],
            [
             0.8888888888888888,
             "#fdca26"
            ],
            [
             1,
             "#f0f921"
            ]
           ],
           "sequentialminus": [
            [
             0,
             "#0d0887"
            ],
            [
             0.1111111111111111,
             "#46039f"
            ],
            [
             0.2222222222222222,
             "#7201a8"
            ],
            [
             0.3333333333333333,
             "#9c179e"
            ],
            [
             0.4444444444444444,
             "#bd3786"
            ],
            [
             0.5555555555555556,
             "#d8576b"
            ],
            [
             0.6666666666666666,
             "#ed7953"
            ],
            [
             0.7777777777777778,
             "#fb9f3a"
            ],
            [
             0.8888888888888888,
             "#fdca26"
            ],
            [
             1,
             "#f0f921"
            ]
           ]
          },
          "colorway": [
           "#636efa",
           "#EF553B",
           "#00cc96",
           "#ab63fa",
           "#FFA15A",
           "#19d3f3",
           "#FF6692",
           "#B6E880",
           "#FF97FF",
           "#FECB52"
          ],
          "font": {
           "color": "#2a3f5f"
          },
          "geo": {
           "bgcolor": "white",
           "lakecolor": "white",
           "landcolor": "#E5ECF6",
           "showlakes": true,
           "showland": true,
           "subunitcolor": "white"
          },
          "hoverlabel": {
           "align": "left"
          },
          "hovermode": "closest",
          "mapbox": {
           "style": "light"
          },
          "paper_bgcolor": "white",
          "plot_bgcolor": "#E5ECF6",
          "polar": {
           "angularaxis": {
            "gridcolor": "white",
            "linecolor": "white",
            "ticks": ""
           },
           "bgcolor": "#E5ECF6",
           "radialaxis": {
            "gridcolor": "white",
            "linecolor": "white",
            "ticks": ""
           }
          },
          "scene": {
           "xaxis": {
            "backgroundcolor": "#E5ECF6",
            "gridcolor": "white",
            "gridwidth": 2,
            "linecolor": "white",
            "showbackground": true,
            "ticks": "",
            "zerolinecolor": "white"
           },
           "yaxis": {
            "backgroundcolor": "#E5ECF6",
            "gridcolor": "white",
            "gridwidth": 2,
            "linecolor": "white",
            "showbackground": true,
            "ticks": "",
            "zerolinecolor": "white"
           },
           "zaxis": {
            "backgroundcolor": "#E5ECF6",
            "gridcolor": "white",
            "gridwidth": 2,
            "linecolor": "white",
            "showbackground": true,
            "ticks": "",
            "zerolinecolor": "white"
           }
          },
          "shapedefaults": {
           "line": {
            "color": "#2a3f5f"
           }
          },
          "ternary": {
           "aaxis": {
            "gridcolor": "white",
            "linecolor": "white",
            "ticks": ""
           },
           "baxis": {
            "gridcolor": "white",
            "linecolor": "white",
            "ticks": ""
           },
           "bgcolor": "#E5ECF6",
           "caxis": {
            "gridcolor": "white",
            "linecolor": "white",
            "ticks": ""
           }
          },
          "title": {
           "x": 0.05
          },
          "xaxis": {
           "automargin": true,
           "gridcolor": "white",
           "linecolor": "white",
           "ticks": "",
           "title": {
            "standoff": 15
           },
           "zerolinecolor": "white",
           "zerolinewidth": 2
          },
          "yaxis": {
           "automargin": true,
           "gridcolor": "white",
           "linecolor": "white",
           "ticks": "",
           "title": {
            "standoff": 15
           },
           "zerolinecolor": "white",
           "zerolinewidth": 2
          }
         }
        },
        "xaxis": {
         "anchor": "y",
         "domain": [
          0,
          1
         ],
         "title": {
          "text": "year"
         }
        },
        "yaxis": {
         "anchor": "x",
         "domain": [
          0,
          1
         ],
         "title": {
          "text": "averageRating"
         }
        }
       }
      },
      "text/html": [
       "<div>                            <div id=\"7958bdd6-1f01-4543-bc82-e4613cf8d5ed\" class=\"plotly-graph-div\" style=\"height:525px; width:100%;\"></div>            <script type=\"text/javascript\">                require([\"plotly\"], function(Plotly) {                    window.PLOTLYENV=window.PLOTLYENV || {};                                    if (document.getElementById(\"7958bdd6-1f01-4543-bc82-e4613cf8d5ed\")) {                    Plotly.newPlot(                        \"7958bdd6-1f01-4543-bc82-e4613cf8d5ed\",                        [{\"hovertemplate\":\"year=%{x}<br>averageRating=%{y}<extra></extra>\",\"legendgroup\":\"\",\"marker\":{\"color\":\"#636efa\",\"symbol\":\"circle\"},\"mode\":\"markers\",\"name\":\"\",\"orientation\":\"v\",\"showlegend\":false,\"type\":\"scatter\",\"x\":[1994,2008,2010,1999,1994,1994,1999,2001,2003,1972,2014,2012,2002,1995,2012,2000,2005,2009,1991,1998,1977,1993,2013,2006,2006,1980,1999,2010,1974,2000,1985,1999,1994,1990,2019,1998,2005,2003,2008,1991,1995,1998,1995,1983,2003,1994,2009,1992,1975,2004,1980,1999,2019,2015,1995,2018,1981,1993,2014,2007,1997,2002,2001,2001,1979,1988,2000,2011,2011,2000,2010,1971,1983,2002,1998,2014,1976,2014,2008,1957,2001,1982,2002,1966,1989,1987,2001,2010,2017,1986,2013,2019,2004,1996,2015,1997,1996,2006,2013,1960,1979,1968,1995,2007,1998,1997,2007,1942,2003,1976,1975,2019,1995,2016,1964,2017,1954,2013,2011,1989,2015,2017,2018,2018,1941,1946,1987,1986,2015,1992,1982,1984,1958,1979,1986,2006,2009,1997,2004,2004,2004,2021,2019,1980,1984,1954,1978,1968,1959,1988,1974,1962,2012,1939,1995,1962,2020,2009,1959,1988,1973,2004,1988,1965,1981,1963,2000,2011,1980,1936,1952,1959,2016,1940,1957,1950,2009,1957,2014,2007,1931,1957,2014,1960,2016,2009,1967,1927,1954,1993,1949,2010,2016,1995,1950,1984,2003,1975,1948,1976,1931,1944,1954,2000,1940,2016,1979,1950,2020,1921,2019,1948,1985,1961,1957,2006,1959,1939,1966,2001,2016,1925,2021,1957,1984,1934,2020,1994,2020,2012,1940,2004,1926,1972,1998,2005,2018,2017,2020,2012,2003,2019,2007,2015,2008,2018,2020,1961,1952,2011,2010,1962,1994,1997,2001,1985,1996,2010,1995,2012,2013,2013,1955,2013,2016,2000,1998,1946,1982,2012,1920,2018,1930,1953,2021,1953,1995,1966,2014,2012,2014,1975,1962,1998,2014,2019,1994,1928,1966,2008],\"xaxis\":\"x\",\"y\":[9.3,9.0,8.8,8.8,8.9,8.8,8.7,8.8,8.9,9.2,8.6,8.4,8.7,8.6,8.4,8.5,8.2,8.3,8.6,8.6,8.6,8.9,8.2,8.5,8.5,8.7,8.6,8.2,9.0,8.4,8.5,8.3,8.5,8.7,8.4,8.5,8.1,8.1,8.4,8.5,8.5,8.1,8.3,8.3,8.1,8.5,8.2,8.3,8.7,8.3,8.4,8.1,8.4,8.1,8.3,8.4,8.4,8.1,8.1,8.1,8.3,8.1,8.2,8.1,8.4,8.2,8.3,8.1,8.5,8.3,8.2,8.3,8.3,8.5,8.1,8.5,8.2,8.1,8.1,9.0,8.3,8.1,8.6,8.8,8.2,8.3,8.6,8.1,8.1,8.3,8.1,8.6,8.1,8.1,8.1,8.6,8.1,8.2,8.1,8.5,8.4,8.3,8.2,8.1,8.2,8.2,8.2,8.5,8.4,8.1,8.2,8.3,8.2,8.1,8.4,8.1,8.5,8.1,8.1,8.1,8.1,8.4,8.4,8.2,8.3,8.6,8.1,8.1,8.1,8.2,8.1,8.3,8.3,8.1,8.1,8.4,8.4,8.4,8.2,8.1,8.2,8.1,8.1,8.2,8.3,8.6,8.1,8.5,8.3,8.2,8.2,8.3,8.3,8.1,8.1,8.3,8.1,8.1,8.2,8.5,8.3,8.1,8.5,8.2,8.3,8.2,8.1,8.3,8.1,8.5,8.3,8.1,8.4,8.4,8.1,8.4,8.2,8.4,8.1,8.4,8.5,8.2,8.1,8.3,8.4,8.1,8.1,8.3,8.2,8.1,8.1,8.3,8.1,8.1,8.2,8.1,8.1,8.1,8.3,8.1,8.3,8.3,8.1,8.1,8.1,8.1,8.1,8.2,8.2,8.3,8.2,8.2,8.2,8.2,8.4,8.1,8.1,8.1,8.1,8.1,8.7,8.2,8.7,8.2,8.1,8.1,8.3,8.1,9.1,8.2,8.1,8.2,8.1,8.1,8.1,8.2,8.2,8.2,8.8,8.1,8.1,8.1,8.2,8.2,8.1,8.4,8.4,8.2,8.3,8.2,8.2,8.1,8.1,8.3,8.1,8.3,8.2,8.5,8.1,8.2,8.2,8.1,8.1,8.2,8.2,8.2,8.1,8.1,8.1,8.1,8.1,8.2,8.1,8.1,8.4,8.2,8.1,8.1,8.1,8.1,8.1,8.2,8.1,8.1,8.1,8.3,8.1,8.1,8.1,8.1],\"yaxis\":\"y\"}],                        {\"legend\":{\"tracegroupgap\":0},\"margin\":{\"t\":60},\"template\":{\"data\":{\"bar\":[{\"error_x\":{\"color\":\"#2a3f5f\"},\"error_y\":{\"color\":\"#2a3f5f\"},\"marker\":{\"line\":{\"color\":\"#E5ECF6\",\"width\":0.5},\"pattern\":{\"fillmode\":\"overlay\",\"size\":10,\"solidity\":0.2}},\"type\":\"bar\"}],\"barpolar\":[{\"marker\":{\"line\":{\"color\":\"#E5ECF6\",\"width\":0.5},\"pattern\":{\"fillmode\":\"overlay\",\"size\":10,\"solidity\":0.2}},\"type\":\"barpolar\"}],\"carpet\":[{\"aaxis\":{\"endlinecolor\":\"#2a3f5f\",\"gridcolor\":\"white\",\"linecolor\":\"white\",\"minorgridcolor\":\"white\",\"startlinecolor\":\"#2a3f5f\"},\"baxis\":{\"endlinecolor\":\"#2a3f5f\",\"gridcolor\":\"white\",\"linecolor\":\"white\",\"minorgridcolor\":\"white\",\"startlinecolor\":\"#2a3f5f\"},\"type\":\"carpet\"}],\"choropleth\":[{\"colorbar\":{\"outlinewidth\":0,\"ticks\":\"\"},\"type\":\"choropleth\"}],\"contour\":[{\"colorbar\":{\"outlinewidth\":0,\"ticks\":\"\"},\"colorscale\":[[0.0,\"#0d0887\"],[0.1111111111111111,\"#46039f\"],[0.2222222222222222,\"#7201a8\"],[0.3333333333333333,\"#9c179e\"],[0.4444444444444444,\"#bd3786\"],[0.5555555555555556,\"#d8576b\"],[0.6666666666666666,\"#ed7953\"],[0.7777777777777778,\"#fb9f3a\"],[0.8888888888888888,\"#fdca26\"],[1.0,\"#f0f921\"]],\"type\":\"contour\"}],\"contourcarpet\":[{\"colorbar\":{\"outlinewidth\":0,\"ticks\":\"\"},\"type\":\"contourcarpet\"}],\"heatmap\":[{\"colorbar\":{\"outlinewidth\":0,\"ticks\":\"\"},\"colorscale\":[[0.0,\"#0d0887\"],[0.1111111111111111,\"#46039f\"],[0.2222222222222222,\"#7201a8\"],[0.3333333333333333,\"#9c179e\"],[0.4444444444444444,\"#bd3786\"],[0.5555555555555556,\"#d8576b\"],[0.6666666666666666,\"#ed7953\"],[0.7777777777777778,\"#fb9f3a\"],[0.8888888888888888,\"#fdca26\"],[1.0,\"#f0f921\"]],\"type\":\"heatmap\"}],\"heatmapgl\":[{\"colorbar\":{\"outlinewidth\":0,\"ticks\":\"\"},\"colorscale\":[[0.0,\"#0d0887\"],[0.1111111111111111,\"#46039f\"],[0.2222222222222222,\"#7201a8\"],[0.3333333333333333,\"#9c179e\"],[0.4444444444444444,\"#bd3786\"],[0.5555555555555556,\"#d8576b\"],[0.6666666666666666,\"#ed7953\"],[0.7777777777777778,\"#fb9f3a\"],[0.8888888888888888,\"#fdca26\"],[1.0,\"#f0f921\"]],\"type\":\"heatmapgl\"}],\"histogram\":[{\"marker\":{\"pattern\":{\"fillmode\":\"overlay\",\"size\":10,\"solidity\":0.2}},\"type\":\"histogram\"}],\"histogram2d\":[{\"colorbar\":{\"outlinewidth\":0,\"ticks\":\"\"},\"colorscale\":[[0.0,\"#0d0887\"],[0.1111111111111111,\"#46039f\"],[0.2222222222222222,\"#7201a8\"],[0.3333333333333333,\"#9c179e\"],[0.4444444444444444,\"#bd3786\"],[0.5555555555555556,\"#d8576b\"],[0.6666666666666666,\"#ed7953\"],[0.7777777777777778,\"#fb9f3a\"],[0.8888888888888888,\"#fdca26\"],[1.0,\"#f0f921\"]],\"type\":\"histogram2d\"}],\"histogram2dcontour\":[{\"colorbar\":{\"outlinewidth\":0,\"ticks\":\"\"},\"colorscale\":[[0.0,\"#0d0887\"],[0.1111111111111111,\"#46039f\"],[0.2222222222222222,\"#7201a8\"],[0.3333333333333333,\"#9c179e\"],[0.4444444444444444,\"#bd3786\"],[0.5555555555555556,\"#d8576b\"],[0.6666666666666666,\"#ed7953\"],[0.7777777777777778,\"#fb9f3a\"],[0.8888888888888888,\"#fdca26\"],[1.0,\"#f0f921\"]],\"type\":\"histogram2dcontour\"}],\"mesh3d\":[{\"colorbar\":{\"outlinewidth\":0,\"ticks\":\"\"},\"type\":\"mesh3d\"}],\"parcoords\":[{\"line\":{\"colorbar\":{\"outlinewidth\":0,\"ticks\":\"\"}},\"type\":\"parcoords\"}],\"pie\":[{\"automargin\":true,\"type\":\"pie\"}],\"scatter\":[{\"marker\":{\"colorbar\":{\"outlinewidth\":0,\"ticks\":\"\"}},\"type\":\"scatter\"}],\"scatter3d\":[{\"line\":{\"colorbar\":{\"outlinewidth\":0,\"ticks\":\"\"}},\"marker\":{\"colorbar\":{\"outlinewidth\":0,\"ticks\":\"\"}},\"type\":\"scatter3d\"}],\"scattercarpet\":[{\"marker\":{\"colorbar\":{\"outlinewidth\":0,\"ticks\":\"\"}},\"type\":\"scattercarpet\"}],\"scattergeo\":[{\"marker\":{\"colorbar\":{\"outlinewidth\":0,\"ticks\":\"\"}},\"type\":\"scattergeo\"}],\"scattergl\":[{\"marker\":{\"colorbar\":{\"outlinewidth\":0,\"ticks\":\"\"}},\"type\":\"scattergl\"}],\"scattermapbox\":[{\"marker\":{\"colorbar\":{\"outlinewidth\":0,\"ticks\":\"\"}},\"type\":\"scattermapbox\"}],\"scatterpolar\":[{\"marker\":{\"colorbar\":{\"outlinewidth\":0,\"ticks\":\"\"}},\"type\":\"scatterpolar\"}],\"scatterpolargl\":[{\"marker\":{\"colorbar\":{\"outlinewidth\":0,\"ticks\":\"\"}},\"type\":\"scatterpolargl\"}],\"scatterternary\":[{\"marker\":{\"colorbar\":{\"outlinewidth\":0,\"ticks\":\"\"}},\"type\":\"scatterternary\"}],\"surface\":[{\"colorbar\":{\"outlinewidth\":0,\"ticks\":\"\"},\"colorscale\":[[0.0,\"#0d0887\"],[0.1111111111111111,\"#46039f\"],[0.2222222222222222,\"#7201a8\"],[0.3333333333333333,\"#9c179e\"],[0.4444444444444444,\"#bd3786\"],[0.5555555555555556,\"#d8576b\"],[0.6666666666666666,\"#ed7953\"],[0.7777777777777778,\"#fb9f3a\"],[0.8888888888888888,\"#fdca26\"],[1.0,\"#f0f921\"]],\"type\":\"surface\"}],\"table\":[{\"cells\":{\"fill\":{\"color\":\"#EBF0F8\"},\"line\":{\"color\":\"white\"}},\"header\":{\"fill\":{\"color\":\"#C8D4E3\"},\"line\":{\"color\":\"white\"}},\"type\":\"table\"}]},\"layout\":{\"annotationdefaults\":{\"arrowcolor\":\"#2a3f5f\",\"arrowhead\":0,\"arrowwidth\":1},\"autotypenumbers\":\"strict\",\"coloraxis\":{\"colorbar\":{\"outlinewidth\":0,\"ticks\":\"\"}},\"colorscale\":{\"diverging\":[[0,\"#8e0152\"],[0.1,\"#c51b7d\"],[0.2,\"#de77ae\"],[0.3,\"#f1b6da\"],[0.4,\"#fde0ef\"],[0.5,\"#f7f7f7\"],[0.6,\"#e6f5d0\"],[0.7,\"#b8e186\"],[0.8,\"#7fbc41\"],[0.9,\"#4d9221\"],[1,\"#276419\"]],\"sequential\":[[0.0,\"#0d0887\"],[0.1111111111111111,\"#46039f\"],[0.2222222222222222,\"#7201a8\"],[0.3333333333333333,\"#9c179e\"],[0.4444444444444444,\"#bd3786\"],[0.5555555555555556,\"#d8576b\"],[0.6666666666666666,\"#ed7953\"],[0.7777777777777778,\"#fb9f3a\"],[0.8888888888888888,\"#fdca26\"],[1.0,\"#f0f921\"]],\"sequentialminus\":[[0.0,\"#0d0887\"],[0.1111111111111111,\"#46039f\"],[0.2222222222222222,\"#7201a8\"],[0.3333333333333333,\"#9c179e\"],[0.4444444444444444,\"#bd3786\"],[0.5555555555555556,\"#d8576b\"],[0.6666666666666666,\"#ed7953\"],[0.7777777777777778,\"#fb9f3a\"],[0.8888888888888888,\"#fdca26\"],[1.0,\"#f0f921\"]]},\"colorway\":[\"#636efa\",\"#EF553B\",\"#00cc96\",\"#ab63fa\",\"#FFA15A\",\"#19d3f3\",\"#FF6692\",\"#B6E880\",\"#FF97FF\",\"#FECB52\"],\"font\":{\"color\":\"#2a3f5f\"},\"geo\":{\"bgcolor\":\"white\",\"lakecolor\":\"white\",\"landcolor\":\"#E5ECF6\",\"showlakes\":true,\"showland\":true,\"subunitcolor\":\"white\"},\"hoverlabel\":{\"align\":\"left\"},\"hovermode\":\"closest\",\"mapbox\":{\"style\":\"light\"},\"paper_bgcolor\":\"white\",\"plot_bgcolor\":\"#E5ECF6\",\"polar\":{\"angularaxis\":{\"gridcolor\":\"white\",\"linecolor\":\"white\",\"ticks\":\"\"},\"bgcolor\":\"#E5ECF6\",\"radialaxis\":{\"gridcolor\":\"white\",\"linecolor\":\"white\",\"ticks\":\"\"}},\"scene\":{\"xaxis\":{\"backgroundcolor\":\"#E5ECF6\",\"gridcolor\":\"white\",\"gridwidth\":2,\"linecolor\":\"white\",\"showbackground\":true,\"ticks\":\"\",\"zerolinecolor\":\"white\"},\"yaxis\":{\"backgroundcolor\":\"#E5ECF6\",\"gridcolor\":\"white\",\"gridwidth\":2,\"linecolor\":\"white\",\"showbackground\":true,\"ticks\":\"\",\"zerolinecolor\":\"white\"},\"zaxis\":{\"backgroundcolor\":\"#E5ECF6\",\"gridcolor\":\"white\",\"gridwidth\":2,\"linecolor\":\"white\",\"showbackground\":true,\"ticks\":\"\",\"zerolinecolor\":\"white\"}},\"shapedefaults\":{\"line\":{\"color\":\"#2a3f5f\"}},\"ternary\":{\"aaxis\":{\"gridcolor\":\"white\",\"linecolor\":\"white\",\"ticks\":\"\"},\"baxis\":{\"gridcolor\":\"white\",\"linecolor\":\"white\",\"ticks\":\"\"},\"bgcolor\":\"#E5ECF6\",\"caxis\":{\"gridcolor\":\"white\",\"linecolor\":\"white\",\"ticks\":\"\"}},\"title\":{\"x\":0.05},\"xaxis\":{\"automargin\":true,\"gridcolor\":\"white\",\"linecolor\":\"white\",\"ticks\":\"\",\"title\":{\"standoff\":15},\"zerolinecolor\":\"white\",\"zerolinewidth\":2},\"yaxis\":{\"automargin\":true,\"gridcolor\":\"white\",\"linecolor\":\"white\",\"ticks\":\"\",\"title\":{\"standoff\":15},\"zerolinecolor\":\"white\",\"zerolinewidth\":2}}},\"xaxis\":{\"anchor\":\"y\",\"domain\":[0.0,1.0],\"title\":{\"text\":\"year\"}},\"yaxis\":{\"anchor\":\"x\",\"domain\":[0.0,1.0],\"title\":{\"text\":\"averageRating\"}}},                        {\"responsive\": true}                    ).then(function(){\n",
       "                            \n",
       "var gd = document.getElementById('7958bdd6-1f01-4543-bc82-e4613cf8d5ed');\n",
       "var x = new MutationObserver(function (mutations, observer) {{\n",
       "        var display = window.getComputedStyle(gd).display;\n",
       "        if (!display || display === 'none') {{\n",
       "            console.log([gd, 'removed!']);\n",
       "            Plotly.purge(gd);\n",
       "            observer.disconnect();\n",
       "        }}\n",
       "}});\n",
       "\n",
       "// Listen for the removal of the full notebook cells\n",
       "var notebookContainer = gd.closest('#notebook-container');\n",
       "if (notebookContainer) {{\n",
       "    x.observe(notebookContainer, {childList: true});\n",
       "}}\n",
       "\n",
       "// Listen for the clearing of the current output cell\n",
       "var outputEl = gd.closest('.output');\n",
       "if (outputEl) {{\n",
       "    x.observe(outputEl, {childList: true});\n",
       "}}\n",
       "\n",
       "                        })                };                });            </script>        </div>"
      ]
     },
     "metadata": {},
     "output_type": "display_data"
    }
   ],
   "source": [
    "import plotly.graph_objects as go\n",
    "import plotly.express as px\n",
    "fig = px.scatter(df,x='year',y='averageRating')\n",
    "fig.show()\n"
   ]
  },
  {
   "cell_type": "code",
   "execution_count": 22,
   "metadata": {
    "ExecuteTime": {
     "end_time": "2021-10-31T00:08:40.872847Z",
     "start_time": "2021-10-31T00:08:40.486111Z"
    }
   },
   "outputs": [
    {
     "data": {
      "application/vnd.plotly.v1+json": {
       "config": {
        "plotlyServerURL": "https://plot.ly"
       },
       "data": [
        {
         "hovertemplate": "year=%{x}<br>averageRating=%{marker.color}<br>number_of_votes=%{marker.size}<extra></extra>",
         "legendgroup": "",
         "marker": {
          "color": [
           9.3,
           9,
           8.8,
           8.8,
           8.9,
           8.8,
           8.7,
           8.8,
           8.9,
           9.2,
           8.6,
           8.4,
           8.7,
           8.6,
           8.4,
           8.5,
           8.2,
           8.3,
           8.6,
           8.6,
           8.6,
           8.9,
           8.2,
           8.5,
           8.5,
           8.7,
           8.6,
           8.2,
           9,
           8.4,
           8.5,
           8.3,
           8.5,
           8.7,
           8.4,
           8.5,
           8.1,
           8.1,
           8.4,
           8.5,
           8.5,
           8.1,
           8.3,
           8.3,
           8.1,
           8.5,
           8.2,
           8.3,
           8.7,
           8.3,
           8.4,
           8.1,
           8.4,
           8.1,
           8.3,
           8.4,
           8.4,
           8.1,
           8.1,
           8.1,
           8.3,
           8.1,
           8.2,
           8.1,
           8.4,
           8.2,
           8.3,
           8.1,
           8.5,
           8.3,
           8.2,
           8.3,
           8.3,
           8.5,
           8.1,
           8.5,
           8.2,
           8.1,
           8.1,
           9,
           8.3,
           8.1,
           8.6,
           8.8,
           8.2,
           8.3,
           8.6,
           8.1,
           8.1,
           8.3,
           8.1,
           8.6,
           8.1,
           8.1,
           8.1,
           8.6,
           8.1,
           8.2,
           8.1,
           8.5,
           8.4,
           8.3,
           8.2,
           8.1,
           8.2,
           8.2,
           8.2,
           8.5,
           8.4,
           8.1,
           8.2,
           8.3,
           8.2,
           8.1,
           8.4,
           8.1,
           8.5,
           8.1,
           8.1,
           8.1,
           8.1,
           8.4,
           8.4,
           8.2,
           8.3,
           8.6,
           8.1,
           8.1,
           8.1,
           8.2,
           8.1,
           8.3,
           8.3,
           8.1,
           8.1,
           8.4,
           8.4,
           8.4,
           8.2,
           8.1,
           8.2,
           8.1,
           8.1,
           8.2,
           8.3,
           8.6,
           8.1,
           8.5,
           8.3,
           8.2,
           8.2,
           8.3,
           8.3,
           8.1,
           8.1,
           8.3,
           8.1,
           8.1,
           8.2,
           8.5,
           8.3,
           8.1,
           8.5,
           8.2,
           8.3,
           8.2,
           8.1,
           8.3,
           8.1,
           8.5,
           8.3,
           8.1,
           8.4,
           8.4,
           8.1,
           8.4,
           8.2,
           8.4,
           8.1,
           8.4,
           8.5,
           8.2,
           8.1,
           8.3,
           8.4,
           8.1,
           8.1,
           8.3,
           8.2,
           8.1,
           8.1,
           8.3,
           8.1,
           8.1,
           8.2,
           8.1,
           8.1,
           8.1,
           8.3,
           8.1,
           8.3,
           8.3,
           8.1,
           8.1,
           8.1,
           8.1,
           8.1,
           8.2,
           8.2,
           8.3,
           8.2,
           8.2,
           8.2,
           8.2,
           8.4,
           8.1,
           8.1,
           8.1,
           8.1,
           8.1,
           8.7,
           8.2,
           8.7,
           8.2,
           8.1,
           8.1,
           8.3,
           8.1,
           9.1,
           8.2,
           8.1,
           8.2,
           8.1,
           8.1,
           8.1,
           8.2,
           8.2,
           8.2,
           8.8,
           8.1,
           8.1,
           8.1,
           8.2,
           8.2,
           8.1,
           8.4,
           8.4,
           8.2,
           8.3,
           8.2,
           8.2,
           8.1,
           8.1,
           8.3,
           8.1,
           8.3,
           8.2,
           8.5,
           8.1,
           8.2,
           8.2,
           8.1,
           8.1,
           8.2,
           8.2,
           8.2,
           8.1,
           8.1,
           8.1,
           8.1,
           8.1,
           8.2,
           8.1,
           8.1,
           8.4,
           8.2,
           8.1,
           8.1,
           8.1,
           8.1,
           8.1,
           8.2,
           8.1,
           8.1,
           8.1,
           8.3,
           8.1,
           8.1,
           8.1,
           8.1
          ],
          "coloraxis": "coloraxis",
          "size": [
           2467229,
           2421844,
           2172818,
           1942270,
           1910475,
           1907240,
           1761346,
           1732666,
           1711411,
           1705544,
           1617714,
           1579445,
           1547227,
           1518316,
           1428387,
           1399974,
           1361283,
           1334288,
           1333127,
           1293171,
           1277926,
           1267768,
           1266742,
           1246174,
           1241847,
           1206117,
           1204876,
           1197339,
           1184768,
           1170047,
           1114069,
           1105082,
           1082512,
           1071234,
           1069793,
           1068187,
           1067048,
           1046925,
           1043427,
           1034566,
           1029594,
           990138,
           989203,
           986953,
           984721,
           984648,
           976575,
           958770,
           954758,
           949157,
           943341,
           942797,
           941857,
           928199,
           927722,
           925836,
           917621,
           909913,
           909746,
           901637,
           901559,
           887002,
           881790,
           851463,
           824005,
           821229,
           812219,
           803440,
           797600,
           796340,
           786820,
           786414,
           779099,
           771464,
           766727,
           764540,
           762400,
           746152,
           742400,
           730308,
           725430,
           722521,
           722424,
           718500,
           717727,
           702042,
           694558,
           694271,
           688717,
           678989,
           665314,
           662581,
           658178,
           656426,
           654361,
           652737,
           643771,
           639055,
           638517,
           631155,
           630269,
           630232,
           606627,
           594840,
           555466,
           552109,
           545417,
           543270,
           541333,
           540104,
           517951,
           492827,
           488427,
           468276,
           467944,
           466552,
           465763,
           452889,
           450305,
           449605,
           442809,
           432725,
           428475,
           427455,
           422741,
           422657,
           408536,
           395536,
           393244,
           392170,
           391533,
           382560,
           382469,
           381735,
           380377,
           372998,
           368159,
           365253,
           358101,
           343733,
           342001,
           337884,
           336290,
           335959,
           329461,
           329185,
           324804,
           314637,
           312356,
           311280,
           309748,
           304462,
           303807,
           301612,
           287159,
           279662,
           278941,
           266872,
           254673,
           253041,
           250794,
           248188,
           245604,
           243607,
           240750,
           233939,
           232220,
           232217,
           230682,
           228899,
           228819,
           228722,
           225384,
           213371,
           211368,
           211265,
           201237,
           187321,
           187068,
           180911,
           176123,
           175568,
           172592,
           172293,
           171613,
           170673,
           170175,
           166894,
           166839,
           166095,
           165251,
           162371,
           160754,
           160315,
           160191,
           160093,
           159033,
           158458,
           155781,
           152458,
           150670,
           150120,
           148607,
           136857,
           131148,
           128191,
           126230,
           125952,
           124387,
           120238,
           119941,
           119736,
           119517,
           117324,
           116553,
           116552,
           111490,
           111473,
           110817,
           109429,
           106823,
           106545,
           102616,
           102235,
           99213,
           98880,
           98033,
           98005,
           90129,
           89821,
           89526,
           87104,
           86876,
           86817,
           83468,
           83157,
           82917,
           81180,
           79414,
           78863,
           77956,
           77543,
           77473,
           76810,
           76417,
           75699,
           74037,
           73791,
           73751,
           72943,
           72758,
           72573,
           71756,
           70379,
           69741,
           68197,
           67727,
           67480,
           66475,
           66132,
           64797,
           64449,
           63908,
           63623,
           63394,
           62280,
           61545,
           61016,
           60833,
           60401,
           60354,
           59776,
           59365,
           58256,
           57831,
           57676,
           56965,
           56856,
           55315,
           55214,
           53876,
           53683,
           52825,
           52409,
           52311,
           51848,
           51734,
           51468,
           50860,
           50322
          ],
          "sizemode": "area",
          "sizeref": 685.3413888888889,
          "symbol": "circle"
         },
         "mode": "markers",
         "name": "",
         "orientation": "v",
         "showlegend": false,
         "type": "scatter",
         "x": [
          1994,
          2008,
          2010,
          1999,
          1994,
          1994,
          1999,
          2001,
          2003,
          1972,
          2014,
          2012,
          2002,
          1995,
          2012,
          2000,
          2005,
          2009,
          1991,
          1998,
          1977,
          1993,
          2013,
          2006,
          2006,
          1980,
          1999,
          2010,
          1974,
          2000,
          1985,
          1999,
          1994,
          1990,
          2019,
          1998,
          2005,
          2003,
          2008,
          1991,
          1995,
          1998,
          1995,
          1983,
          2003,
          1994,
          2009,
          1992,
          1975,
          2004,
          1980,
          1999,
          2019,
          2015,
          1995,
          2018,
          1981,
          1993,
          2014,
          2007,
          1997,
          2002,
          2001,
          2001,
          1979,
          1988,
          2000,
          2011,
          2011,
          2000,
          2010,
          1971,
          1983,
          2002,
          1998,
          2014,
          1976,
          2014,
          2008,
          1957,
          2001,
          1982,
          2002,
          1966,
          1989,
          1987,
          2001,
          2010,
          2017,
          1986,
          2013,
          2019,
          2004,
          1996,
          2015,
          1997,
          1996,
          2006,
          2013,
          1960,
          1979,
          1968,
          1995,
          2007,
          1998,
          1997,
          2007,
          1942,
          2003,
          1976,
          1975,
          2019,
          1995,
          2016,
          1964,
          2017,
          1954,
          2013,
          2011,
          1989,
          2015,
          2017,
          2018,
          2018,
          1941,
          1946,
          1987,
          1986,
          2015,
          1992,
          1982,
          1984,
          1958,
          1979,
          1986,
          2006,
          2009,
          1997,
          2004,
          2004,
          2004,
          2021,
          2019,
          1980,
          1984,
          1954,
          1978,
          1968,
          1959,
          1988,
          1974,
          1962,
          2012,
          1939,
          1995,
          1962,
          2020,
          2009,
          1959,
          1988,
          1973,
          2004,
          1988,
          1965,
          1981,
          1963,
          2000,
          2011,
          1980,
          1936,
          1952,
          1959,
          2016,
          1940,
          1957,
          1950,
          2009,
          1957,
          2014,
          2007,
          1931,
          1957,
          2014,
          1960,
          2016,
          2009,
          1967,
          1927,
          1954,
          1993,
          1949,
          2010,
          2016,
          1995,
          1950,
          1984,
          2003,
          1975,
          1948,
          1976,
          1931,
          1944,
          1954,
          2000,
          1940,
          2016,
          1979,
          1950,
          2020,
          1921,
          2019,
          1948,
          1985,
          1961,
          1957,
          2006,
          1959,
          1939,
          1966,
          2001,
          2016,
          1925,
          2021,
          1957,
          1984,
          1934,
          2020,
          1994,
          2020,
          2012,
          1940,
          2004,
          1926,
          1972,
          1998,
          2005,
          2018,
          2017,
          2020,
          2012,
          2003,
          2019,
          2007,
          2015,
          2008,
          2018,
          2020,
          1961,
          1952,
          2011,
          2010,
          1962,
          1994,
          1997,
          2001,
          1985,
          1996,
          2010,
          1995,
          2012,
          2013,
          2013,
          1955,
          2013,
          2016,
          2000,
          1998,
          1946,
          1982,
          2012,
          1920,
          2018,
          1930,
          1953,
          2021,
          1953,
          1995,
          1966,
          2014,
          2012,
          2014,
          1975,
          1962,
          1998,
          2014,
          2019,
          1994,
          1928,
          1966,
          2008
         ],
         "xaxis": "x",
         "y": [
          9.3,
          9,
          8.8,
          8.8,
          8.9,
          8.8,
          8.7,
          8.8,
          8.9,
          9.2,
          8.6,
          8.4,
          8.7,
          8.6,
          8.4,
          8.5,
          8.2,
          8.3,
          8.6,
          8.6,
          8.6,
          8.9,
          8.2,
          8.5,
          8.5,
          8.7,
          8.6,
          8.2,
          9,
          8.4,
          8.5,
          8.3,
          8.5,
          8.7,
          8.4,
          8.5,
          8.1,
          8.1,
          8.4,
          8.5,
          8.5,
          8.1,
          8.3,
          8.3,
          8.1,
          8.5,
          8.2,
          8.3,
          8.7,
          8.3,
          8.4,
          8.1,
          8.4,
          8.1,
          8.3,
          8.4,
          8.4,
          8.1,
          8.1,
          8.1,
          8.3,
          8.1,
          8.2,
          8.1,
          8.4,
          8.2,
          8.3,
          8.1,
          8.5,
          8.3,
          8.2,
          8.3,
          8.3,
          8.5,
          8.1,
          8.5,
          8.2,
          8.1,
          8.1,
          9,
          8.3,
          8.1,
          8.6,
          8.8,
          8.2,
          8.3,
          8.6,
          8.1,
          8.1,
          8.3,
          8.1,
          8.6,
          8.1,
          8.1,
          8.1,
          8.6,
          8.1,
          8.2,
          8.1,
          8.5,
          8.4,
          8.3,
          8.2,
          8.1,
          8.2,
          8.2,
          8.2,
          8.5,
          8.4,
          8.1,
          8.2,
          8.3,
          8.2,
          8.1,
          8.4,
          8.1,
          8.5,
          8.1,
          8.1,
          8.1,
          8.1,
          8.4,
          8.4,
          8.2,
          8.3,
          8.6,
          8.1,
          8.1,
          8.1,
          8.2,
          8.1,
          8.3,
          8.3,
          8.1,
          8.1,
          8.4,
          8.4,
          8.4,
          8.2,
          8.1,
          8.2,
          8.1,
          8.1,
          8.2,
          8.3,
          8.6,
          8.1,
          8.5,
          8.3,
          8.2,
          8.2,
          8.3,
          8.3,
          8.1,
          8.1,
          8.3,
          8.1,
          8.1,
          8.2,
          8.5,
          8.3,
          8.1,
          8.5,
          8.2,
          8.3,
          8.2,
          8.1,
          8.3,
          8.1,
          8.5,
          8.3,
          8.1,
          8.4,
          8.4,
          8.1,
          8.4,
          8.2,
          8.4,
          8.1,
          8.4,
          8.5,
          8.2,
          8.1,
          8.3,
          8.4,
          8.1,
          8.1,
          8.3,
          8.2,
          8.1,
          8.1,
          8.3,
          8.1,
          8.1,
          8.2,
          8.1,
          8.1,
          8.1,
          8.3,
          8.1,
          8.3,
          8.3,
          8.1,
          8.1,
          8.1,
          8.1,
          8.1,
          8.2,
          8.2,
          8.3,
          8.2,
          8.2,
          8.2,
          8.2,
          8.4,
          8.1,
          8.1,
          8.1,
          8.1,
          8.1,
          8.7,
          8.2,
          8.7,
          8.2,
          8.1,
          8.1,
          8.3,
          8.1,
          9.1,
          8.2,
          8.1,
          8.2,
          8.1,
          8.1,
          8.1,
          8.2,
          8.2,
          8.2,
          8.8,
          8.1,
          8.1,
          8.1,
          8.2,
          8.2,
          8.1,
          8.4,
          8.4,
          8.2,
          8.3,
          8.2,
          8.2,
          8.1,
          8.1,
          8.3,
          8.1,
          8.3,
          8.2,
          8.5,
          8.1,
          8.2,
          8.2,
          8.1,
          8.1,
          8.2,
          8.2,
          8.2,
          8.1,
          8.1,
          8.1,
          8.1,
          8.1,
          8.2,
          8.1,
          8.1,
          8.4,
          8.2,
          8.1,
          8.1,
          8.1,
          8.1,
          8.1,
          8.2,
          8.1,
          8.1,
          8.1,
          8.3,
          8.1,
          8.1,
          8.1,
          8.1
         ],
         "yaxis": "y"
        }
       ],
       "layout": {
        "coloraxis": {
         "colorbar": {
          "title": {
           "text": "averageRating"
          }
         },
         "colorscale": [
          [
           0,
           "#0d0887"
          ],
          [
           0.1111111111111111,
           "#46039f"
          ],
          [
           0.2222222222222222,
           "#7201a8"
          ],
          [
           0.3333333333333333,
           "#9c179e"
          ],
          [
           0.4444444444444444,
           "#bd3786"
          ],
          [
           0.5555555555555556,
           "#d8576b"
          ],
          [
           0.6666666666666666,
           "#ed7953"
          ],
          [
           0.7777777777777778,
           "#fb9f3a"
          ],
          [
           0.8888888888888888,
           "#fdca26"
          ],
          [
           1,
           "#f0f921"
          ]
         ]
        },
        "legend": {
         "itemsizing": "constant",
         "tracegroupgap": 0
        },
        "margin": {
         "t": 60
        },
        "template": {
         "data": {
          "bar": [
           {
            "error_x": {
             "color": "#2a3f5f"
            },
            "error_y": {
             "color": "#2a3f5f"
            },
            "marker": {
             "line": {
              "color": "#E5ECF6",
              "width": 0.5
             },
             "pattern": {
              "fillmode": "overlay",
              "size": 10,
              "solidity": 0.2
             }
            },
            "type": "bar"
           }
          ],
          "barpolar": [
           {
            "marker": {
             "line": {
              "color": "#E5ECF6",
              "width": 0.5
             },
             "pattern": {
              "fillmode": "overlay",
              "size": 10,
              "solidity": 0.2
             }
            },
            "type": "barpolar"
           }
          ],
          "carpet": [
           {
            "aaxis": {
             "endlinecolor": "#2a3f5f",
             "gridcolor": "white",
             "linecolor": "white",
             "minorgridcolor": "white",
             "startlinecolor": "#2a3f5f"
            },
            "baxis": {
             "endlinecolor": "#2a3f5f",
             "gridcolor": "white",
             "linecolor": "white",
             "minorgridcolor": "white",
             "startlinecolor": "#2a3f5f"
            },
            "type": "carpet"
           }
          ],
          "choropleth": [
           {
            "colorbar": {
             "outlinewidth": 0,
             "ticks": ""
            },
            "type": "choropleth"
           }
          ],
          "contour": [
           {
            "colorbar": {
             "outlinewidth": 0,
             "ticks": ""
            },
            "colorscale": [
             [
              0,
              "#0d0887"
             ],
             [
              0.1111111111111111,
              "#46039f"
             ],
             [
              0.2222222222222222,
              "#7201a8"
             ],
             [
              0.3333333333333333,
              "#9c179e"
             ],
             [
              0.4444444444444444,
              "#bd3786"
             ],
             [
              0.5555555555555556,
              "#d8576b"
             ],
             [
              0.6666666666666666,
              "#ed7953"
             ],
             [
              0.7777777777777778,
              "#fb9f3a"
             ],
             [
              0.8888888888888888,
              "#fdca26"
             ],
             [
              1,
              "#f0f921"
             ]
            ],
            "type": "contour"
           }
          ],
          "contourcarpet": [
           {
            "colorbar": {
             "outlinewidth": 0,
             "ticks": ""
            },
            "type": "contourcarpet"
           }
          ],
          "heatmap": [
           {
            "colorbar": {
             "outlinewidth": 0,
             "ticks": ""
            },
            "colorscale": [
             [
              0,
              "#0d0887"
             ],
             [
              0.1111111111111111,
              "#46039f"
             ],
             [
              0.2222222222222222,
              "#7201a8"
             ],
             [
              0.3333333333333333,
              "#9c179e"
             ],
             [
              0.4444444444444444,
              "#bd3786"
             ],
             [
              0.5555555555555556,
              "#d8576b"
             ],
             [
              0.6666666666666666,
              "#ed7953"
             ],
             [
              0.7777777777777778,
              "#fb9f3a"
             ],
             [
              0.8888888888888888,
              "#fdca26"
             ],
             [
              1,
              "#f0f921"
             ]
            ],
            "type": "heatmap"
           }
          ],
          "heatmapgl": [
           {
            "colorbar": {
             "outlinewidth": 0,
             "ticks": ""
            },
            "colorscale": [
             [
              0,
              "#0d0887"
             ],
             [
              0.1111111111111111,
              "#46039f"
             ],
             [
              0.2222222222222222,
              "#7201a8"
             ],
             [
              0.3333333333333333,
              "#9c179e"
             ],
             [
              0.4444444444444444,
              "#bd3786"
             ],
             [
              0.5555555555555556,
              "#d8576b"
             ],
             [
              0.6666666666666666,
              "#ed7953"
             ],
             [
              0.7777777777777778,
              "#fb9f3a"
             ],
             [
              0.8888888888888888,
              "#fdca26"
             ],
             [
              1,
              "#f0f921"
             ]
            ],
            "type": "heatmapgl"
           }
          ],
          "histogram": [
           {
            "marker": {
             "pattern": {
              "fillmode": "overlay",
              "size": 10,
              "solidity": 0.2
             }
            },
            "type": "histogram"
           }
          ],
          "histogram2d": [
           {
            "colorbar": {
             "outlinewidth": 0,
             "ticks": ""
            },
            "colorscale": [
             [
              0,
              "#0d0887"
             ],
             [
              0.1111111111111111,
              "#46039f"
             ],
             [
              0.2222222222222222,
              "#7201a8"
             ],
             [
              0.3333333333333333,
              "#9c179e"
             ],
             [
              0.4444444444444444,
              "#bd3786"
             ],
             [
              0.5555555555555556,
              "#d8576b"
             ],
             [
              0.6666666666666666,
              "#ed7953"
             ],
             [
              0.7777777777777778,
              "#fb9f3a"
             ],
             [
              0.8888888888888888,
              "#fdca26"
             ],
             [
              1,
              "#f0f921"
             ]
            ],
            "type": "histogram2d"
           }
          ],
          "histogram2dcontour": [
           {
            "colorbar": {
             "outlinewidth": 0,
             "ticks": ""
            },
            "colorscale": [
             [
              0,
              "#0d0887"
             ],
             [
              0.1111111111111111,
              "#46039f"
             ],
             [
              0.2222222222222222,
              "#7201a8"
             ],
             [
              0.3333333333333333,
              "#9c179e"
             ],
             [
              0.4444444444444444,
              "#bd3786"
             ],
             [
              0.5555555555555556,
              "#d8576b"
             ],
             [
              0.6666666666666666,
              "#ed7953"
             ],
             [
              0.7777777777777778,
              "#fb9f3a"
             ],
             [
              0.8888888888888888,
              "#fdca26"
             ],
             [
              1,
              "#f0f921"
             ]
            ],
            "type": "histogram2dcontour"
           }
          ],
          "mesh3d": [
           {
            "colorbar": {
             "outlinewidth": 0,
             "ticks": ""
            },
            "type": "mesh3d"
           }
          ],
          "parcoords": [
           {
            "line": {
             "colorbar": {
              "outlinewidth": 0,
              "ticks": ""
             }
            },
            "type": "parcoords"
           }
          ],
          "pie": [
           {
            "automargin": true,
            "type": "pie"
           }
          ],
          "scatter": [
           {
            "marker": {
             "colorbar": {
              "outlinewidth": 0,
              "ticks": ""
             }
            },
            "type": "scatter"
           }
          ],
          "scatter3d": [
           {
            "line": {
             "colorbar": {
              "outlinewidth": 0,
              "ticks": ""
             }
            },
            "marker": {
             "colorbar": {
              "outlinewidth": 0,
              "ticks": ""
             }
            },
            "type": "scatter3d"
           }
          ],
          "scattercarpet": [
           {
            "marker": {
             "colorbar": {
              "outlinewidth": 0,
              "ticks": ""
             }
            },
            "type": "scattercarpet"
           }
          ],
          "scattergeo": [
           {
            "marker": {
             "colorbar": {
              "outlinewidth": 0,
              "ticks": ""
             }
            },
            "type": "scattergeo"
           }
          ],
          "scattergl": [
           {
            "marker": {
             "colorbar": {
              "outlinewidth": 0,
              "ticks": ""
             }
            },
            "type": "scattergl"
           }
          ],
          "scattermapbox": [
           {
            "marker": {
             "colorbar": {
              "outlinewidth": 0,
              "ticks": ""
             }
            },
            "type": "scattermapbox"
           }
          ],
          "scatterpolar": [
           {
            "marker": {
             "colorbar": {
              "outlinewidth": 0,
              "ticks": ""
             }
            },
            "type": "scatterpolar"
           }
          ],
          "scatterpolargl": [
           {
            "marker": {
             "colorbar": {
              "outlinewidth": 0,
              "ticks": ""
             }
            },
            "type": "scatterpolargl"
           }
          ],
          "scatterternary": [
           {
            "marker": {
             "colorbar": {
              "outlinewidth": 0,
              "ticks": ""
             }
            },
            "type": "scatterternary"
           }
          ],
          "surface": [
           {
            "colorbar": {
             "outlinewidth": 0,
             "ticks": ""
            },
            "colorscale": [
             [
              0,
              "#0d0887"
             ],
             [
              0.1111111111111111,
              "#46039f"
             ],
             [
              0.2222222222222222,
              "#7201a8"
             ],
             [
              0.3333333333333333,
              "#9c179e"
             ],
             [
              0.4444444444444444,
              "#bd3786"
             ],
             [
              0.5555555555555556,
              "#d8576b"
             ],
             [
              0.6666666666666666,
              "#ed7953"
             ],
             [
              0.7777777777777778,
              "#fb9f3a"
             ],
             [
              0.8888888888888888,
              "#fdca26"
             ],
             [
              1,
              "#f0f921"
             ]
            ],
            "type": "surface"
           }
          ],
          "table": [
           {
            "cells": {
             "fill": {
              "color": "#EBF0F8"
             },
             "line": {
              "color": "white"
             }
            },
            "header": {
             "fill": {
              "color": "#C8D4E3"
             },
             "line": {
              "color": "white"
             }
            },
            "type": "table"
           }
          ]
         },
         "layout": {
          "annotationdefaults": {
           "arrowcolor": "#2a3f5f",
           "arrowhead": 0,
           "arrowwidth": 1
          },
          "autotypenumbers": "strict",
          "coloraxis": {
           "colorbar": {
            "outlinewidth": 0,
            "ticks": ""
           }
          },
          "colorscale": {
           "diverging": [
            [
             0,
             "#8e0152"
            ],
            [
             0.1,
             "#c51b7d"
            ],
            [
             0.2,
             "#de77ae"
            ],
            [
             0.3,
             "#f1b6da"
            ],
            [
             0.4,
             "#fde0ef"
            ],
            [
             0.5,
             "#f7f7f7"
            ],
            [
             0.6,
             "#e6f5d0"
            ],
            [
             0.7,
             "#b8e186"
            ],
            [
             0.8,
             "#7fbc41"
            ],
            [
             0.9,
             "#4d9221"
            ],
            [
             1,
             "#276419"
            ]
           ],
           "sequential": [
            [
             0,
             "#0d0887"
            ],
            [
             0.1111111111111111,
             "#46039f"
            ],
            [
             0.2222222222222222,
             "#7201a8"
            ],
            [
             0.3333333333333333,
             "#9c179e"
            ],
            [
             0.4444444444444444,
             "#bd3786"
            ],
            [
             0.5555555555555556,
             "#d8576b"
            ],
            [
             0.6666666666666666,
             "#ed7953"
            ],
            [
             0.7777777777777778,
             "#fb9f3a"
            ],
            [
             0.8888888888888888,
             "#fdca26"
            ],
            [
             1,
             "#f0f921"
            ]
           ],
           "sequentialminus": [
            [
             0,
             "#0d0887"
            ],
            [
             0.1111111111111111,
             "#46039f"
            ],
            [
             0.2222222222222222,
             "#7201a8"
            ],
            [
             0.3333333333333333,
             "#9c179e"
            ],
            [
             0.4444444444444444,
             "#bd3786"
            ],
            [
             0.5555555555555556,
             "#d8576b"
            ],
            [
             0.6666666666666666,
             "#ed7953"
            ],
            [
             0.7777777777777778,
             "#fb9f3a"
            ],
            [
             0.8888888888888888,
             "#fdca26"
            ],
            [
             1,
             "#f0f921"
            ]
           ]
          },
          "colorway": [
           "#636efa",
           "#EF553B",
           "#00cc96",
           "#ab63fa",
           "#FFA15A",
           "#19d3f3",
           "#FF6692",
           "#B6E880",
           "#FF97FF",
           "#FECB52"
          ],
          "font": {
           "color": "#2a3f5f"
          },
          "geo": {
           "bgcolor": "white",
           "lakecolor": "white",
           "landcolor": "#E5ECF6",
           "showlakes": true,
           "showland": true,
           "subunitcolor": "white"
          },
          "hoverlabel": {
           "align": "left"
          },
          "hovermode": "closest",
          "mapbox": {
           "style": "light"
          },
          "paper_bgcolor": "white",
          "plot_bgcolor": "#E5ECF6",
          "polar": {
           "angularaxis": {
            "gridcolor": "white",
            "linecolor": "white",
            "ticks": ""
           },
           "bgcolor": "#E5ECF6",
           "radialaxis": {
            "gridcolor": "white",
            "linecolor": "white",
            "ticks": ""
           }
          },
          "scene": {
           "xaxis": {
            "backgroundcolor": "#E5ECF6",
            "gridcolor": "white",
            "gridwidth": 2,
            "linecolor": "white",
            "showbackground": true,
            "ticks": "",
            "zerolinecolor": "white"
           },
           "yaxis": {
            "backgroundcolor": "#E5ECF6",
            "gridcolor": "white",
            "gridwidth": 2,
            "linecolor": "white",
            "showbackground": true,
            "ticks": "",
            "zerolinecolor": "white"
           },
           "zaxis": {
            "backgroundcolor": "#E5ECF6",
            "gridcolor": "white",
            "gridwidth": 2,
            "linecolor": "white",
            "showbackground": true,
            "ticks": "",
            "zerolinecolor": "white"
           }
          },
          "shapedefaults": {
           "line": {
            "color": "#2a3f5f"
           }
          },
          "ternary": {
           "aaxis": {
            "gridcolor": "white",
            "linecolor": "white",
            "ticks": ""
           },
           "baxis": {
            "gridcolor": "white",
            "linecolor": "white",
            "ticks": ""
           },
           "bgcolor": "#E5ECF6",
           "caxis": {
            "gridcolor": "white",
            "linecolor": "white",
            "ticks": ""
           }
          },
          "title": {
           "x": 0.05
          },
          "xaxis": {
           "automargin": true,
           "gridcolor": "white",
           "linecolor": "white",
           "ticks": "",
           "title": {
            "standoff": 15
           },
           "zerolinecolor": "white",
           "zerolinewidth": 2
          },
          "yaxis": {
           "automargin": true,
           "gridcolor": "white",
           "linecolor": "white",
           "ticks": "",
           "title": {
            "standoff": 15
           },
           "zerolinecolor": "white",
           "zerolinewidth": 2
          }
         }
        },
        "xaxis": {
         "anchor": "y",
         "domain": [
          0,
          1
         ],
         "title": {
          "text": "year"
         },
         "type": "log"
        },
        "yaxis": {
         "anchor": "x",
         "domain": [
          0,
          1
         ],
         "title": {
          "text": "averageRating"
         }
        }
       }
      },
      "text/html": [
       "<div>                            <div id=\"649ee076-f1e2-4f16-ab61-e799512249ef\" class=\"plotly-graph-div\" style=\"height:525px; width:100%;\"></div>            <script type=\"text/javascript\">                require([\"plotly\"], function(Plotly) {                    window.PLOTLYENV=window.PLOTLYENV || {};                                    if (document.getElementById(\"649ee076-f1e2-4f16-ab61-e799512249ef\")) {                    Plotly.newPlot(                        \"649ee076-f1e2-4f16-ab61-e799512249ef\",                        [{\"hovertemplate\":\"year=%{x}<br>averageRating=%{marker.color}<br>number_of_votes=%{marker.size}<extra></extra>\",\"legendgroup\":\"\",\"marker\":{\"color\":[9.3,9.0,8.8,8.8,8.9,8.8,8.7,8.8,8.9,9.2,8.6,8.4,8.7,8.6,8.4,8.5,8.2,8.3,8.6,8.6,8.6,8.9,8.2,8.5,8.5,8.7,8.6,8.2,9.0,8.4,8.5,8.3,8.5,8.7,8.4,8.5,8.1,8.1,8.4,8.5,8.5,8.1,8.3,8.3,8.1,8.5,8.2,8.3,8.7,8.3,8.4,8.1,8.4,8.1,8.3,8.4,8.4,8.1,8.1,8.1,8.3,8.1,8.2,8.1,8.4,8.2,8.3,8.1,8.5,8.3,8.2,8.3,8.3,8.5,8.1,8.5,8.2,8.1,8.1,9.0,8.3,8.1,8.6,8.8,8.2,8.3,8.6,8.1,8.1,8.3,8.1,8.6,8.1,8.1,8.1,8.6,8.1,8.2,8.1,8.5,8.4,8.3,8.2,8.1,8.2,8.2,8.2,8.5,8.4,8.1,8.2,8.3,8.2,8.1,8.4,8.1,8.5,8.1,8.1,8.1,8.1,8.4,8.4,8.2,8.3,8.6,8.1,8.1,8.1,8.2,8.1,8.3,8.3,8.1,8.1,8.4,8.4,8.4,8.2,8.1,8.2,8.1,8.1,8.2,8.3,8.6,8.1,8.5,8.3,8.2,8.2,8.3,8.3,8.1,8.1,8.3,8.1,8.1,8.2,8.5,8.3,8.1,8.5,8.2,8.3,8.2,8.1,8.3,8.1,8.5,8.3,8.1,8.4,8.4,8.1,8.4,8.2,8.4,8.1,8.4,8.5,8.2,8.1,8.3,8.4,8.1,8.1,8.3,8.2,8.1,8.1,8.3,8.1,8.1,8.2,8.1,8.1,8.1,8.3,8.1,8.3,8.3,8.1,8.1,8.1,8.1,8.1,8.2,8.2,8.3,8.2,8.2,8.2,8.2,8.4,8.1,8.1,8.1,8.1,8.1,8.7,8.2,8.7,8.2,8.1,8.1,8.3,8.1,9.1,8.2,8.1,8.2,8.1,8.1,8.1,8.2,8.2,8.2,8.8,8.1,8.1,8.1,8.2,8.2,8.1,8.4,8.4,8.2,8.3,8.2,8.2,8.1,8.1,8.3,8.1,8.3,8.2,8.5,8.1,8.2,8.2,8.1,8.1,8.2,8.2,8.2,8.1,8.1,8.1,8.1,8.1,8.2,8.1,8.1,8.4,8.2,8.1,8.1,8.1,8.1,8.1,8.2,8.1,8.1,8.1,8.3,8.1,8.1,8.1,8.1],\"coloraxis\":\"coloraxis\",\"size\":[2467229,2421844,2172818,1942270,1910475,1907240,1761346,1732666,1711411,1705544,1617714,1579445,1547227,1518316,1428387,1399974,1361283,1334288,1333127,1293171,1277926,1267768,1266742,1246174,1241847,1206117,1204876,1197339,1184768,1170047,1114069,1105082,1082512,1071234,1069793,1068187,1067048,1046925,1043427,1034566,1029594,990138,989203,986953,984721,984648,976575,958770,954758,949157,943341,942797,941857,928199,927722,925836,917621,909913,909746,901637,901559,887002,881790,851463,824005,821229,812219,803440,797600,796340,786820,786414,779099,771464,766727,764540,762400,746152,742400,730308,725430,722521,722424,718500,717727,702042,694558,694271,688717,678989,665314,662581,658178,656426,654361,652737,643771,639055,638517,631155,630269,630232,606627,594840,555466,552109,545417,543270,541333,540104,517951,492827,488427,468276,467944,466552,465763,452889,450305,449605,442809,432725,428475,427455,422741,422657,408536,395536,393244,392170,391533,382560,382469,381735,380377,372998,368159,365253,358101,343733,342001,337884,336290,335959,329461,329185,324804,314637,312356,311280,309748,304462,303807,301612,287159,279662,278941,266872,254673,253041,250794,248188,245604,243607,240750,233939,232220,232217,230682,228899,228819,228722,225384,213371,211368,211265,201237,187321,187068,180911,176123,175568,172592,172293,171613,170673,170175,166894,166839,166095,165251,162371,160754,160315,160191,160093,159033,158458,155781,152458,150670,150120,148607,136857,131148,128191,126230,125952,124387,120238,119941,119736,119517,117324,116553,116552,111490,111473,110817,109429,106823,106545,102616,102235,99213,98880,98033,98005,90129,89821,89526,87104,86876,86817,83468,83157,82917,81180,79414,78863,77956,77543,77473,76810,76417,75699,74037,73791,73751,72943,72758,72573,71756,70379,69741,68197,67727,67480,66475,66132,64797,64449,63908,63623,63394,62280,61545,61016,60833,60401,60354,59776,59365,58256,57831,57676,56965,56856,55315,55214,53876,53683,52825,52409,52311,51848,51734,51468,50860,50322],\"sizemode\":\"area\",\"sizeref\":685.3413888888889,\"symbol\":\"circle\"},\"mode\":\"markers\",\"name\":\"\",\"orientation\":\"v\",\"showlegend\":false,\"type\":\"scatter\",\"x\":[1994,2008,2010,1999,1994,1994,1999,2001,2003,1972,2014,2012,2002,1995,2012,2000,2005,2009,1991,1998,1977,1993,2013,2006,2006,1980,1999,2010,1974,2000,1985,1999,1994,1990,2019,1998,2005,2003,2008,1991,1995,1998,1995,1983,2003,1994,2009,1992,1975,2004,1980,1999,2019,2015,1995,2018,1981,1993,2014,2007,1997,2002,2001,2001,1979,1988,2000,2011,2011,2000,2010,1971,1983,2002,1998,2014,1976,2014,2008,1957,2001,1982,2002,1966,1989,1987,2001,2010,2017,1986,2013,2019,2004,1996,2015,1997,1996,2006,2013,1960,1979,1968,1995,2007,1998,1997,2007,1942,2003,1976,1975,2019,1995,2016,1964,2017,1954,2013,2011,1989,2015,2017,2018,2018,1941,1946,1987,1986,2015,1992,1982,1984,1958,1979,1986,2006,2009,1997,2004,2004,2004,2021,2019,1980,1984,1954,1978,1968,1959,1988,1974,1962,2012,1939,1995,1962,2020,2009,1959,1988,1973,2004,1988,1965,1981,1963,2000,2011,1980,1936,1952,1959,2016,1940,1957,1950,2009,1957,2014,2007,1931,1957,2014,1960,2016,2009,1967,1927,1954,1993,1949,2010,2016,1995,1950,1984,2003,1975,1948,1976,1931,1944,1954,2000,1940,2016,1979,1950,2020,1921,2019,1948,1985,1961,1957,2006,1959,1939,1966,2001,2016,1925,2021,1957,1984,1934,2020,1994,2020,2012,1940,2004,1926,1972,1998,2005,2018,2017,2020,2012,2003,2019,2007,2015,2008,2018,2020,1961,1952,2011,2010,1962,1994,1997,2001,1985,1996,2010,1995,2012,2013,2013,1955,2013,2016,2000,1998,1946,1982,2012,1920,2018,1930,1953,2021,1953,1995,1966,2014,2012,2014,1975,1962,1998,2014,2019,1994,1928,1966,2008],\"xaxis\":\"x\",\"y\":[9.3,9.0,8.8,8.8,8.9,8.8,8.7,8.8,8.9,9.2,8.6,8.4,8.7,8.6,8.4,8.5,8.2,8.3,8.6,8.6,8.6,8.9,8.2,8.5,8.5,8.7,8.6,8.2,9.0,8.4,8.5,8.3,8.5,8.7,8.4,8.5,8.1,8.1,8.4,8.5,8.5,8.1,8.3,8.3,8.1,8.5,8.2,8.3,8.7,8.3,8.4,8.1,8.4,8.1,8.3,8.4,8.4,8.1,8.1,8.1,8.3,8.1,8.2,8.1,8.4,8.2,8.3,8.1,8.5,8.3,8.2,8.3,8.3,8.5,8.1,8.5,8.2,8.1,8.1,9.0,8.3,8.1,8.6,8.8,8.2,8.3,8.6,8.1,8.1,8.3,8.1,8.6,8.1,8.1,8.1,8.6,8.1,8.2,8.1,8.5,8.4,8.3,8.2,8.1,8.2,8.2,8.2,8.5,8.4,8.1,8.2,8.3,8.2,8.1,8.4,8.1,8.5,8.1,8.1,8.1,8.1,8.4,8.4,8.2,8.3,8.6,8.1,8.1,8.1,8.2,8.1,8.3,8.3,8.1,8.1,8.4,8.4,8.4,8.2,8.1,8.2,8.1,8.1,8.2,8.3,8.6,8.1,8.5,8.3,8.2,8.2,8.3,8.3,8.1,8.1,8.3,8.1,8.1,8.2,8.5,8.3,8.1,8.5,8.2,8.3,8.2,8.1,8.3,8.1,8.5,8.3,8.1,8.4,8.4,8.1,8.4,8.2,8.4,8.1,8.4,8.5,8.2,8.1,8.3,8.4,8.1,8.1,8.3,8.2,8.1,8.1,8.3,8.1,8.1,8.2,8.1,8.1,8.1,8.3,8.1,8.3,8.3,8.1,8.1,8.1,8.1,8.1,8.2,8.2,8.3,8.2,8.2,8.2,8.2,8.4,8.1,8.1,8.1,8.1,8.1,8.7,8.2,8.7,8.2,8.1,8.1,8.3,8.1,9.1,8.2,8.1,8.2,8.1,8.1,8.1,8.2,8.2,8.2,8.8,8.1,8.1,8.1,8.2,8.2,8.1,8.4,8.4,8.2,8.3,8.2,8.2,8.1,8.1,8.3,8.1,8.3,8.2,8.5,8.1,8.2,8.2,8.1,8.1,8.2,8.2,8.2,8.1,8.1,8.1,8.1,8.1,8.2,8.1,8.1,8.4,8.2,8.1,8.1,8.1,8.1,8.1,8.2,8.1,8.1,8.1,8.3,8.1,8.1,8.1,8.1],\"yaxis\":\"y\"}],                        {\"coloraxis\":{\"colorbar\":{\"title\":{\"text\":\"averageRating\"}},\"colorscale\":[[0.0,\"#0d0887\"],[0.1111111111111111,\"#46039f\"],[0.2222222222222222,\"#7201a8\"],[0.3333333333333333,\"#9c179e\"],[0.4444444444444444,\"#bd3786\"],[0.5555555555555556,\"#d8576b\"],[0.6666666666666666,\"#ed7953\"],[0.7777777777777778,\"#fb9f3a\"],[0.8888888888888888,\"#fdca26\"],[1.0,\"#f0f921\"]]},\"legend\":{\"itemsizing\":\"constant\",\"tracegroupgap\":0},\"margin\":{\"t\":60},\"template\":{\"data\":{\"bar\":[{\"error_x\":{\"color\":\"#2a3f5f\"},\"error_y\":{\"color\":\"#2a3f5f\"},\"marker\":{\"line\":{\"color\":\"#E5ECF6\",\"width\":0.5},\"pattern\":{\"fillmode\":\"overlay\",\"size\":10,\"solidity\":0.2}},\"type\":\"bar\"}],\"barpolar\":[{\"marker\":{\"line\":{\"color\":\"#E5ECF6\",\"width\":0.5},\"pattern\":{\"fillmode\":\"overlay\",\"size\":10,\"solidity\":0.2}},\"type\":\"barpolar\"}],\"carpet\":[{\"aaxis\":{\"endlinecolor\":\"#2a3f5f\",\"gridcolor\":\"white\",\"linecolor\":\"white\",\"minorgridcolor\":\"white\",\"startlinecolor\":\"#2a3f5f\"},\"baxis\":{\"endlinecolor\":\"#2a3f5f\",\"gridcolor\":\"white\",\"linecolor\":\"white\",\"minorgridcolor\":\"white\",\"startlinecolor\":\"#2a3f5f\"},\"type\":\"carpet\"}],\"choropleth\":[{\"colorbar\":{\"outlinewidth\":0,\"ticks\":\"\"},\"type\":\"choropleth\"}],\"contour\":[{\"colorbar\":{\"outlinewidth\":0,\"ticks\":\"\"},\"colorscale\":[[0.0,\"#0d0887\"],[0.1111111111111111,\"#46039f\"],[0.2222222222222222,\"#7201a8\"],[0.3333333333333333,\"#9c179e\"],[0.4444444444444444,\"#bd3786\"],[0.5555555555555556,\"#d8576b\"],[0.6666666666666666,\"#ed7953\"],[0.7777777777777778,\"#fb9f3a\"],[0.8888888888888888,\"#fdca26\"],[1.0,\"#f0f921\"]],\"type\":\"contour\"}],\"contourcarpet\":[{\"colorbar\":{\"outlinewidth\":0,\"ticks\":\"\"},\"type\":\"contourcarpet\"}],\"heatmap\":[{\"colorbar\":{\"outlinewidth\":0,\"ticks\":\"\"},\"colorscale\":[[0.0,\"#0d0887\"],[0.1111111111111111,\"#46039f\"],[0.2222222222222222,\"#7201a8\"],[0.3333333333333333,\"#9c179e\"],[0.4444444444444444,\"#bd3786\"],[0.5555555555555556,\"#d8576b\"],[0.6666666666666666,\"#ed7953\"],[0.7777777777777778,\"#fb9f3a\"],[0.8888888888888888,\"#fdca26\"],[1.0,\"#f0f921\"]],\"type\":\"heatmap\"}],\"heatmapgl\":[{\"colorbar\":{\"outlinewidth\":0,\"ticks\":\"\"},\"colorscale\":[[0.0,\"#0d0887\"],[0.1111111111111111,\"#46039f\"],[0.2222222222222222,\"#7201a8\"],[0.3333333333333333,\"#9c179e\"],[0.4444444444444444,\"#bd3786\"],[0.5555555555555556,\"#d8576b\"],[0.6666666666666666,\"#ed7953\"],[0.7777777777777778,\"#fb9f3a\"],[0.8888888888888888,\"#fdca26\"],[1.0,\"#f0f921\"]],\"type\":\"heatmapgl\"}],\"histogram\":[{\"marker\":{\"pattern\":{\"fillmode\":\"overlay\",\"size\":10,\"solidity\":0.2}},\"type\":\"histogram\"}],\"histogram2d\":[{\"colorbar\":{\"outlinewidth\":0,\"ticks\":\"\"},\"colorscale\":[[0.0,\"#0d0887\"],[0.1111111111111111,\"#46039f\"],[0.2222222222222222,\"#7201a8\"],[0.3333333333333333,\"#9c179e\"],[0.4444444444444444,\"#bd3786\"],[0.5555555555555556,\"#d8576b\"],[0.6666666666666666,\"#ed7953\"],[0.7777777777777778,\"#fb9f3a\"],[0.8888888888888888,\"#fdca26\"],[1.0,\"#f0f921\"]],\"type\":\"histogram2d\"}],\"histogram2dcontour\":[{\"colorbar\":{\"outlinewidth\":0,\"ticks\":\"\"},\"colorscale\":[[0.0,\"#0d0887\"],[0.1111111111111111,\"#46039f\"],[0.2222222222222222,\"#7201a8\"],[0.3333333333333333,\"#9c179e\"],[0.4444444444444444,\"#bd3786\"],[0.5555555555555556,\"#d8576b\"],[0.6666666666666666,\"#ed7953\"],[0.7777777777777778,\"#fb9f3a\"],[0.8888888888888888,\"#fdca26\"],[1.0,\"#f0f921\"]],\"type\":\"histogram2dcontour\"}],\"mesh3d\":[{\"colorbar\":{\"outlinewidth\":0,\"ticks\":\"\"},\"type\":\"mesh3d\"}],\"parcoords\":[{\"line\":{\"colorbar\":{\"outlinewidth\":0,\"ticks\":\"\"}},\"type\":\"parcoords\"}],\"pie\":[{\"automargin\":true,\"type\":\"pie\"}],\"scatter\":[{\"marker\":{\"colorbar\":{\"outlinewidth\":0,\"ticks\":\"\"}},\"type\":\"scatter\"}],\"scatter3d\":[{\"line\":{\"colorbar\":{\"outlinewidth\":0,\"ticks\":\"\"}},\"marker\":{\"colorbar\":{\"outlinewidth\":0,\"ticks\":\"\"}},\"type\":\"scatter3d\"}],\"scattercarpet\":[{\"marker\":{\"colorbar\":{\"outlinewidth\":0,\"ticks\":\"\"}},\"type\":\"scattercarpet\"}],\"scattergeo\":[{\"marker\":{\"colorbar\":{\"outlinewidth\":0,\"ticks\":\"\"}},\"type\":\"scattergeo\"}],\"scattergl\":[{\"marker\":{\"colorbar\":{\"outlinewidth\":0,\"ticks\":\"\"}},\"type\":\"scattergl\"}],\"scattermapbox\":[{\"marker\":{\"colorbar\":{\"outlinewidth\":0,\"ticks\":\"\"}},\"type\":\"scattermapbox\"}],\"scatterpolar\":[{\"marker\":{\"colorbar\":{\"outlinewidth\":0,\"ticks\":\"\"}},\"type\":\"scatterpolar\"}],\"scatterpolargl\":[{\"marker\":{\"colorbar\":{\"outlinewidth\":0,\"ticks\":\"\"}},\"type\":\"scatterpolargl\"}],\"scatterternary\":[{\"marker\":{\"colorbar\":{\"outlinewidth\":0,\"ticks\":\"\"}},\"type\":\"scatterternary\"}],\"surface\":[{\"colorbar\":{\"outlinewidth\":0,\"ticks\":\"\"},\"colorscale\":[[0.0,\"#0d0887\"],[0.1111111111111111,\"#46039f\"],[0.2222222222222222,\"#7201a8\"],[0.3333333333333333,\"#9c179e\"],[0.4444444444444444,\"#bd3786\"],[0.5555555555555556,\"#d8576b\"],[0.6666666666666666,\"#ed7953\"],[0.7777777777777778,\"#fb9f3a\"],[0.8888888888888888,\"#fdca26\"],[1.0,\"#f0f921\"]],\"type\":\"surface\"}],\"table\":[{\"cells\":{\"fill\":{\"color\":\"#EBF0F8\"},\"line\":{\"color\":\"white\"}},\"header\":{\"fill\":{\"color\":\"#C8D4E3\"},\"line\":{\"color\":\"white\"}},\"type\":\"table\"}]},\"layout\":{\"annotationdefaults\":{\"arrowcolor\":\"#2a3f5f\",\"arrowhead\":0,\"arrowwidth\":1},\"autotypenumbers\":\"strict\",\"coloraxis\":{\"colorbar\":{\"outlinewidth\":0,\"ticks\":\"\"}},\"colorscale\":{\"diverging\":[[0,\"#8e0152\"],[0.1,\"#c51b7d\"],[0.2,\"#de77ae\"],[0.3,\"#f1b6da\"],[0.4,\"#fde0ef\"],[0.5,\"#f7f7f7\"],[0.6,\"#e6f5d0\"],[0.7,\"#b8e186\"],[0.8,\"#7fbc41\"],[0.9,\"#4d9221\"],[1,\"#276419\"]],\"sequential\":[[0.0,\"#0d0887\"],[0.1111111111111111,\"#46039f\"],[0.2222222222222222,\"#7201a8\"],[0.3333333333333333,\"#9c179e\"],[0.4444444444444444,\"#bd3786\"],[0.5555555555555556,\"#d8576b\"],[0.6666666666666666,\"#ed7953\"],[0.7777777777777778,\"#fb9f3a\"],[0.8888888888888888,\"#fdca26\"],[1.0,\"#f0f921\"]],\"sequentialminus\":[[0.0,\"#0d0887\"],[0.1111111111111111,\"#46039f\"],[0.2222222222222222,\"#7201a8\"],[0.3333333333333333,\"#9c179e\"],[0.4444444444444444,\"#bd3786\"],[0.5555555555555556,\"#d8576b\"],[0.6666666666666666,\"#ed7953\"],[0.7777777777777778,\"#fb9f3a\"],[0.8888888888888888,\"#fdca26\"],[1.0,\"#f0f921\"]]},\"colorway\":[\"#636efa\",\"#EF553B\",\"#00cc96\",\"#ab63fa\",\"#FFA15A\",\"#19d3f3\",\"#FF6692\",\"#B6E880\",\"#FF97FF\",\"#FECB52\"],\"font\":{\"color\":\"#2a3f5f\"},\"geo\":{\"bgcolor\":\"white\",\"lakecolor\":\"white\",\"landcolor\":\"#E5ECF6\",\"showlakes\":true,\"showland\":true,\"subunitcolor\":\"white\"},\"hoverlabel\":{\"align\":\"left\"},\"hovermode\":\"closest\",\"mapbox\":{\"style\":\"light\"},\"paper_bgcolor\":\"white\",\"plot_bgcolor\":\"#E5ECF6\",\"polar\":{\"angularaxis\":{\"gridcolor\":\"white\",\"linecolor\":\"white\",\"ticks\":\"\"},\"bgcolor\":\"#E5ECF6\",\"radialaxis\":{\"gridcolor\":\"white\",\"linecolor\":\"white\",\"ticks\":\"\"}},\"scene\":{\"xaxis\":{\"backgroundcolor\":\"#E5ECF6\",\"gridcolor\":\"white\",\"gridwidth\":2,\"linecolor\":\"white\",\"showbackground\":true,\"ticks\":\"\",\"zerolinecolor\":\"white\"},\"yaxis\":{\"backgroundcolor\":\"#E5ECF6\",\"gridcolor\":\"white\",\"gridwidth\":2,\"linecolor\":\"white\",\"showbackground\":true,\"ticks\":\"\",\"zerolinecolor\":\"white\"},\"zaxis\":{\"backgroundcolor\":\"#E5ECF6\",\"gridcolor\":\"white\",\"gridwidth\":2,\"linecolor\":\"white\",\"showbackground\":true,\"ticks\":\"\",\"zerolinecolor\":\"white\"}},\"shapedefaults\":{\"line\":{\"color\":\"#2a3f5f\"}},\"ternary\":{\"aaxis\":{\"gridcolor\":\"white\",\"linecolor\":\"white\",\"ticks\":\"\"},\"baxis\":{\"gridcolor\":\"white\",\"linecolor\":\"white\",\"ticks\":\"\"},\"bgcolor\":\"#E5ECF6\",\"caxis\":{\"gridcolor\":\"white\",\"linecolor\":\"white\",\"ticks\":\"\"}},\"title\":{\"x\":0.05},\"xaxis\":{\"automargin\":true,\"gridcolor\":\"white\",\"linecolor\":\"white\",\"ticks\":\"\",\"title\":{\"standoff\":15},\"zerolinecolor\":\"white\",\"zerolinewidth\":2},\"yaxis\":{\"automargin\":true,\"gridcolor\":\"white\",\"linecolor\":\"white\",\"ticks\":\"\",\"title\":{\"standoff\":15},\"zerolinecolor\":\"white\",\"zerolinewidth\":2}}},\"xaxis\":{\"anchor\":\"y\",\"domain\":[0.0,1.0],\"title\":{\"text\":\"year\"},\"type\":\"log\"},\"yaxis\":{\"anchor\":\"x\",\"domain\":[0.0,1.0],\"title\":{\"text\":\"averageRating\"}}},                        {\"responsive\": true}                    ).then(function(){\n",
       "                            \n",
       "var gd = document.getElementById('649ee076-f1e2-4f16-ab61-e799512249ef');\n",
       "var x = new MutationObserver(function (mutations, observer) {{\n",
       "        var display = window.getComputedStyle(gd).display;\n",
       "        if (!display || display === 'none') {{\n",
       "            console.log([gd, 'removed!']);\n",
       "            Plotly.purge(gd);\n",
       "            observer.disconnect();\n",
       "        }}\n",
       "}});\n",
       "\n",
       "// Listen for the removal of the full notebook cells\n",
       "var notebookContainer = gd.closest('#notebook-container');\n",
       "if (notebookContainer) {{\n",
       "    x.observe(notebookContainer, {childList: true});\n",
       "}}\n",
       "\n",
       "// Listen for the clearing of the current output cell\n",
       "var outputEl = gd.closest('.output');\n",
       "if (outputEl) {{\n",
       "    x.observe(outputEl, {childList: true});\n",
       "}}\n",
       "\n",
       "                        })                };                });            </script>        </div>"
      ]
     },
     "metadata": {},
     "output_type": "display_data"
    },
    {
     "data": {
      "application/vnd.plotly.v1+json": {
       "config": {
        "plotlyServerURL": "https://plot.ly"
       },
       "data": [
        {
         "coloraxis": "coloraxis",
         "histfunc": "sum",
         "hovertemplate": "year=%{x}<br>averageRating=%{y}<br>sum of number_of_votes=%{z}<extra></extra>",
         "name": "",
         "type": "histogram2d",
         "x": [
          1994,
          2008,
          2010,
          1999,
          1994,
          1994,
          1999,
          2001,
          2003,
          1972,
          2014,
          2012,
          2002,
          1995,
          2012,
          2000,
          2005,
          2009,
          1991,
          1998,
          1977,
          1993,
          2013,
          2006,
          2006,
          1980,
          1999,
          2010,
          1974,
          2000,
          1985,
          1999,
          1994,
          1990,
          2019,
          1998,
          2005,
          2003,
          2008,
          1991,
          1995,
          1998,
          1995,
          1983,
          2003,
          1994,
          2009,
          1992,
          1975,
          2004,
          1980,
          1999,
          2019,
          2015,
          1995,
          2018,
          1981,
          1993,
          2014,
          2007,
          1997,
          2002,
          2001,
          2001,
          1979,
          1988,
          2000,
          2011,
          2011,
          2000,
          2010,
          1971,
          1983,
          2002,
          1998,
          2014,
          1976,
          2014,
          2008,
          1957,
          2001,
          1982,
          2002,
          1966,
          1989,
          1987,
          2001,
          2010,
          2017,
          1986,
          2013,
          2019,
          2004,
          1996,
          2015,
          1997,
          1996,
          2006,
          2013,
          1960,
          1979,
          1968,
          1995,
          2007,
          1998,
          1997,
          2007,
          1942,
          2003,
          1976,
          1975,
          2019,
          1995,
          2016,
          1964,
          2017,
          1954,
          2013,
          2011,
          1989,
          2015,
          2017,
          2018,
          2018,
          1941,
          1946,
          1987,
          1986,
          2015,
          1992,
          1982,
          1984,
          1958,
          1979,
          1986,
          2006,
          2009,
          1997,
          2004,
          2004,
          2004,
          2021,
          2019,
          1980,
          1984,
          1954,
          1978,
          1968,
          1959,
          1988,
          1974,
          1962,
          2012,
          1939,
          1995,
          1962,
          2020,
          2009,
          1959,
          1988,
          1973,
          2004,
          1988,
          1965,
          1981,
          1963,
          2000,
          2011,
          1980,
          1936,
          1952,
          1959,
          2016,
          1940,
          1957,
          1950,
          2009,
          1957,
          2014,
          2007,
          1931,
          1957,
          2014,
          1960,
          2016,
          2009,
          1967,
          1927,
          1954,
          1993,
          1949,
          2010,
          2016,
          1995,
          1950,
          1984,
          2003,
          1975,
          1948,
          1976,
          1931,
          1944,
          1954,
          2000,
          1940,
          2016,
          1979,
          1950,
          2020,
          1921,
          2019,
          1948,
          1985,
          1961,
          1957,
          2006,
          1959,
          1939,
          1966,
          2001,
          2016,
          1925,
          2021,
          1957,
          1984,
          1934,
          2020,
          1994,
          2020,
          2012,
          1940,
          2004,
          1926,
          1972,
          1998,
          2005,
          2018,
          2017,
          2020,
          2012,
          2003,
          2019,
          2007,
          2015,
          2008,
          2018,
          2020,
          1961,
          1952,
          2011,
          2010,
          1962,
          1994,
          1997,
          2001,
          1985,
          1996,
          2010,
          1995,
          2012,
          2013,
          2013,
          1955,
          2013,
          2016,
          2000,
          1998,
          1946,
          1982,
          2012,
          1920,
          2018,
          1930,
          1953,
          2021,
          1953,
          1995,
          1966,
          2014,
          2012,
          2014,
          1975,
          1962,
          1998,
          2014,
          2019,
          1994,
          1928,
          1966,
          2008
         ],
         "xaxis": "x",
         "xbingroup": "x",
         "y": [
          9.3,
          9,
          8.8,
          8.8,
          8.9,
          8.8,
          8.7,
          8.8,
          8.9,
          9.2,
          8.6,
          8.4,
          8.7,
          8.6,
          8.4,
          8.5,
          8.2,
          8.3,
          8.6,
          8.6,
          8.6,
          8.9,
          8.2,
          8.5,
          8.5,
          8.7,
          8.6,
          8.2,
          9,
          8.4,
          8.5,
          8.3,
          8.5,
          8.7,
          8.4,
          8.5,
          8.1,
          8.1,
          8.4,
          8.5,
          8.5,
          8.1,
          8.3,
          8.3,
          8.1,
          8.5,
          8.2,
          8.3,
          8.7,
          8.3,
          8.4,
          8.1,
          8.4,
          8.1,
          8.3,
          8.4,
          8.4,
          8.1,
          8.1,
          8.1,
          8.3,
          8.1,
          8.2,
          8.1,
          8.4,
          8.2,
          8.3,
          8.1,
          8.5,
          8.3,
          8.2,
          8.3,
          8.3,
          8.5,
          8.1,
          8.5,
          8.2,
          8.1,
          8.1,
          9,
          8.3,
          8.1,
          8.6,
          8.8,
          8.2,
          8.3,
          8.6,
          8.1,
          8.1,
          8.3,
          8.1,
          8.6,
          8.1,
          8.1,
          8.1,
          8.6,
          8.1,
          8.2,
          8.1,
          8.5,
          8.4,
          8.3,
          8.2,
          8.1,
          8.2,
          8.2,
          8.2,
          8.5,
          8.4,
          8.1,
          8.2,
          8.3,
          8.2,
          8.1,
          8.4,
          8.1,
          8.5,
          8.1,
          8.1,
          8.1,
          8.1,
          8.4,
          8.4,
          8.2,
          8.3,
          8.6,
          8.1,
          8.1,
          8.1,
          8.2,
          8.1,
          8.3,
          8.3,
          8.1,
          8.1,
          8.4,
          8.4,
          8.4,
          8.2,
          8.1,
          8.2,
          8.1,
          8.1,
          8.2,
          8.3,
          8.6,
          8.1,
          8.5,
          8.3,
          8.2,
          8.2,
          8.3,
          8.3,
          8.1,
          8.1,
          8.3,
          8.1,
          8.1,
          8.2,
          8.5,
          8.3,
          8.1,
          8.5,
          8.2,
          8.3,
          8.2,
          8.1,
          8.3,
          8.1,
          8.5,
          8.3,
          8.1,
          8.4,
          8.4,
          8.1,
          8.4,
          8.2,
          8.4,
          8.1,
          8.4,
          8.5,
          8.2,
          8.1,
          8.3,
          8.4,
          8.1,
          8.1,
          8.3,
          8.2,
          8.1,
          8.1,
          8.3,
          8.1,
          8.1,
          8.2,
          8.1,
          8.1,
          8.1,
          8.3,
          8.1,
          8.3,
          8.3,
          8.1,
          8.1,
          8.1,
          8.1,
          8.1,
          8.2,
          8.2,
          8.3,
          8.2,
          8.2,
          8.2,
          8.2,
          8.4,
          8.1,
          8.1,
          8.1,
          8.1,
          8.1,
          8.7,
          8.2,
          8.7,
          8.2,
          8.1,
          8.1,
          8.3,
          8.1,
          9.1,
          8.2,
          8.1,
          8.2,
          8.1,
          8.1,
          8.1,
          8.2,
          8.2,
          8.2,
          8.8,
          8.1,
          8.1,
          8.1,
          8.2,
          8.2,
          8.1,
          8.4,
          8.4,
          8.2,
          8.3,
          8.2,
          8.2,
          8.1,
          8.1,
          8.3,
          8.1,
          8.3,
          8.2,
          8.5,
          8.1,
          8.2,
          8.2,
          8.1,
          8.1,
          8.2,
          8.2,
          8.2,
          8.1,
          8.1,
          8.1,
          8.1,
          8.1,
          8.2,
          8.1,
          8.1,
          8.4,
          8.2,
          8.1,
          8.1,
          8.1,
          8.1,
          8.1,
          8.2,
          8.1,
          8.1,
          8.1,
          8.3,
          8.1,
          8.1,
          8.1,
          8.1
         ],
         "yaxis": "y",
         "ybingroup": "y",
         "z": [
          2467229,
          2421844,
          2172818,
          1942270,
          1910475,
          1907240,
          1761346,
          1732666,
          1711411,
          1705544,
          1617714,
          1579445,
          1547227,
          1518316,
          1428387,
          1399974,
          1361283,
          1334288,
          1333127,
          1293171,
          1277926,
          1267768,
          1266742,
          1246174,
          1241847,
          1206117,
          1204876,
          1197339,
          1184768,
          1170047,
          1114069,
          1105082,
          1082512,
          1071234,
          1069793,
          1068187,
          1067048,
          1046925,
          1043427,
          1034566,
          1029594,
          990138,
          989203,
          986953,
          984721,
          984648,
          976575,
          958770,
          954758,
          949157,
          943341,
          942797,
          941857,
          928199,
          927722,
          925836,
          917621,
          909913,
          909746,
          901637,
          901559,
          887002,
          881790,
          851463,
          824005,
          821229,
          812219,
          803440,
          797600,
          796340,
          786820,
          786414,
          779099,
          771464,
          766727,
          764540,
          762400,
          746152,
          742400,
          730308,
          725430,
          722521,
          722424,
          718500,
          717727,
          702042,
          694558,
          694271,
          688717,
          678989,
          665314,
          662581,
          658178,
          656426,
          654361,
          652737,
          643771,
          639055,
          638517,
          631155,
          630269,
          630232,
          606627,
          594840,
          555466,
          552109,
          545417,
          543270,
          541333,
          540104,
          517951,
          492827,
          488427,
          468276,
          467944,
          466552,
          465763,
          452889,
          450305,
          449605,
          442809,
          432725,
          428475,
          427455,
          422741,
          422657,
          408536,
          395536,
          393244,
          392170,
          391533,
          382560,
          382469,
          381735,
          380377,
          372998,
          368159,
          365253,
          358101,
          343733,
          342001,
          337884,
          336290,
          335959,
          329461,
          329185,
          324804,
          314637,
          312356,
          311280,
          309748,
          304462,
          303807,
          301612,
          287159,
          279662,
          278941,
          266872,
          254673,
          253041,
          250794,
          248188,
          245604,
          243607,
          240750,
          233939,
          232220,
          232217,
          230682,
          228899,
          228819,
          228722,
          225384,
          213371,
          211368,
          211265,
          201237,
          187321,
          187068,
          180911,
          176123,
          175568,
          172592,
          172293,
          171613,
          170673,
          170175,
          166894,
          166839,
          166095,
          165251,
          162371,
          160754,
          160315,
          160191,
          160093,
          159033,
          158458,
          155781,
          152458,
          150670,
          150120,
          148607,
          136857,
          131148,
          128191,
          126230,
          125952,
          124387,
          120238,
          119941,
          119736,
          119517,
          117324,
          116553,
          116552,
          111490,
          111473,
          110817,
          109429,
          106823,
          106545,
          102616,
          102235,
          99213,
          98880,
          98033,
          98005,
          90129,
          89821,
          89526,
          87104,
          86876,
          86817,
          83468,
          83157,
          82917,
          81180,
          79414,
          78863,
          77956,
          77543,
          77473,
          76810,
          76417,
          75699,
          74037,
          73791,
          73751,
          72943,
          72758,
          72573,
          71756,
          70379,
          69741,
          68197,
          67727,
          67480,
          66475,
          66132,
          64797,
          64449,
          63908,
          63623,
          63394,
          62280,
          61545,
          61016,
          60833,
          60401,
          60354,
          59776,
          59365,
          58256,
          57831,
          57676,
          56965,
          56856,
          55315,
          55214,
          53876,
          53683,
          52825,
          52409,
          52311,
          51848,
          51734,
          51468,
          50860,
          50322
         ]
        }
       ],
       "layout": {
        "coloraxis": {
         "colorbar": {
          "title": {
           "text": "sum of number_of_votes"
          }
         },
         "colorscale": [
          [
           0,
           "#0d0887"
          ],
          [
           0.1111111111111111,
           "#46039f"
          ],
          [
           0.2222222222222222,
           "#7201a8"
          ],
          [
           0.3333333333333333,
           "#9c179e"
          ],
          [
           0.4444444444444444,
           "#bd3786"
          ],
          [
           0.5555555555555556,
           "#d8576b"
          ],
          [
           0.6666666666666666,
           "#ed7953"
          ],
          [
           0.7777777777777778,
           "#fb9f3a"
          ],
          [
           0.8888888888888888,
           "#fdca26"
          ],
          [
           1,
           "#f0f921"
          ]
         ]
        },
        "legend": {
         "tracegroupgap": 0
        },
        "margin": {
         "t": 60
        },
        "template": {
         "data": {
          "bar": [
           {
            "error_x": {
             "color": "#2a3f5f"
            },
            "error_y": {
             "color": "#2a3f5f"
            },
            "marker": {
             "line": {
              "color": "#E5ECF6",
              "width": 0.5
             },
             "pattern": {
              "fillmode": "overlay",
              "size": 10,
              "solidity": 0.2
             }
            },
            "type": "bar"
           }
          ],
          "barpolar": [
           {
            "marker": {
             "line": {
              "color": "#E5ECF6",
              "width": 0.5
             },
             "pattern": {
              "fillmode": "overlay",
              "size": 10,
              "solidity": 0.2
             }
            },
            "type": "barpolar"
           }
          ],
          "carpet": [
           {
            "aaxis": {
             "endlinecolor": "#2a3f5f",
             "gridcolor": "white",
             "linecolor": "white",
             "minorgridcolor": "white",
             "startlinecolor": "#2a3f5f"
            },
            "baxis": {
             "endlinecolor": "#2a3f5f",
             "gridcolor": "white",
             "linecolor": "white",
             "minorgridcolor": "white",
             "startlinecolor": "#2a3f5f"
            },
            "type": "carpet"
           }
          ],
          "choropleth": [
           {
            "colorbar": {
             "outlinewidth": 0,
             "ticks": ""
            },
            "type": "choropleth"
           }
          ],
          "contour": [
           {
            "colorbar": {
             "outlinewidth": 0,
             "ticks": ""
            },
            "colorscale": [
             [
              0,
              "#0d0887"
             ],
             [
              0.1111111111111111,
              "#46039f"
             ],
             [
              0.2222222222222222,
              "#7201a8"
             ],
             [
              0.3333333333333333,
              "#9c179e"
             ],
             [
              0.4444444444444444,
              "#bd3786"
             ],
             [
              0.5555555555555556,
              "#d8576b"
             ],
             [
              0.6666666666666666,
              "#ed7953"
             ],
             [
              0.7777777777777778,
              "#fb9f3a"
             ],
             [
              0.8888888888888888,
              "#fdca26"
             ],
             [
              1,
              "#f0f921"
             ]
            ],
            "type": "contour"
           }
          ],
          "contourcarpet": [
           {
            "colorbar": {
             "outlinewidth": 0,
             "ticks": ""
            },
            "type": "contourcarpet"
           }
          ],
          "heatmap": [
           {
            "colorbar": {
             "outlinewidth": 0,
             "ticks": ""
            },
            "colorscale": [
             [
              0,
              "#0d0887"
             ],
             [
              0.1111111111111111,
              "#46039f"
             ],
             [
              0.2222222222222222,
              "#7201a8"
             ],
             [
              0.3333333333333333,
              "#9c179e"
             ],
             [
              0.4444444444444444,
              "#bd3786"
             ],
             [
              0.5555555555555556,
              "#d8576b"
             ],
             [
              0.6666666666666666,
              "#ed7953"
             ],
             [
              0.7777777777777778,
              "#fb9f3a"
             ],
             [
              0.8888888888888888,
              "#fdca26"
             ],
             [
              1,
              "#f0f921"
             ]
            ],
            "type": "heatmap"
           }
          ],
          "heatmapgl": [
           {
            "colorbar": {
             "outlinewidth": 0,
             "ticks": ""
            },
            "colorscale": [
             [
              0,
              "#0d0887"
             ],
             [
              0.1111111111111111,
              "#46039f"
             ],
             [
              0.2222222222222222,
              "#7201a8"
             ],
             [
              0.3333333333333333,
              "#9c179e"
             ],
             [
              0.4444444444444444,
              "#bd3786"
             ],
             [
              0.5555555555555556,
              "#d8576b"
             ],
             [
              0.6666666666666666,
              "#ed7953"
             ],
             [
              0.7777777777777778,
              "#fb9f3a"
             ],
             [
              0.8888888888888888,
              "#fdca26"
             ],
             [
              1,
              "#f0f921"
             ]
            ],
            "type": "heatmapgl"
           }
          ],
          "histogram": [
           {
            "marker": {
             "pattern": {
              "fillmode": "overlay",
              "size": 10,
              "solidity": 0.2
             }
            },
            "type": "histogram"
           }
          ],
          "histogram2d": [
           {
            "colorbar": {
             "outlinewidth": 0,
             "ticks": ""
            },
            "colorscale": [
             [
              0,
              "#0d0887"
             ],
             [
              0.1111111111111111,
              "#46039f"
             ],
             [
              0.2222222222222222,
              "#7201a8"
             ],
             [
              0.3333333333333333,
              "#9c179e"
             ],
             [
              0.4444444444444444,
              "#bd3786"
             ],
             [
              0.5555555555555556,
              "#d8576b"
             ],
             [
              0.6666666666666666,
              "#ed7953"
             ],
             [
              0.7777777777777778,
              "#fb9f3a"
             ],
             [
              0.8888888888888888,
              "#fdca26"
             ],
             [
              1,
              "#f0f921"
             ]
            ],
            "type": "histogram2d"
           }
          ],
          "histogram2dcontour": [
           {
            "colorbar": {
             "outlinewidth": 0,
             "ticks": ""
            },
            "colorscale": [
             [
              0,
              "#0d0887"
             ],
             [
              0.1111111111111111,
              "#46039f"
             ],
             [
              0.2222222222222222,
              "#7201a8"
             ],
             [
              0.3333333333333333,
              "#9c179e"
             ],
             [
              0.4444444444444444,
              "#bd3786"
             ],
             [
              0.5555555555555556,
              "#d8576b"
             ],
             [
              0.6666666666666666,
              "#ed7953"
             ],
             [
              0.7777777777777778,
              "#fb9f3a"
             ],
             [
              0.8888888888888888,
              "#fdca26"
             ],
             [
              1,
              "#f0f921"
             ]
            ],
            "type": "histogram2dcontour"
           }
          ],
          "mesh3d": [
           {
            "colorbar": {
             "outlinewidth": 0,
             "ticks": ""
            },
            "type": "mesh3d"
           }
          ],
          "parcoords": [
           {
            "line": {
             "colorbar": {
              "outlinewidth": 0,
              "ticks": ""
             }
            },
            "type": "parcoords"
           }
          ],
          "pie": [
           {
            "automargin": true,
            "type": "pie"
           }
          ],
          "scatter": [
           {
            "marker": {
             "colorbar": {
              "outlinewidth": 0,
              "ticks": ""
             }
            },
            "type": "scatter"
           }
          ],
          "scatter3d": [
           {
            "line": {
             "colorbar": {
              "outlinewidth": 0,
              "ticks": ""
             }
            },
            "marker": {
             "colorbar": {
              "outlinewidth": 0,
              "ticks": ""
             }
            },
            "type": "scatter3d"
           }
          ],
          "scattercarpet": [
           {
            "marker": {
             "colorbar": {
              "outlinewidth": 0,
              "ticks": ""
             }
            },
            "type": "scattercarpet"
           }
          ],
          "scattergeo": [
           {
            "marker": {
             "colorbar": {
              "outlinewidth": 0,
              "ticks": ""
             }
            },
            "type": "scattergeo"
           }
          ],
          "scattergl": [
           {
            "marker": {
             "colorbar": {
              "outlinewidth": 0,
              "ticks": ""
             }
            },
            "type": "scattergl"
           }
          ],
          "scattermapbox": [
           {
            "marker": {
             "colorbar": {
              "outlinewidth": 0,
              "ticks": ""
             }
            },
            "type": "scattermapbox"
           }
          ],
          "scatterpolar": [
           {
            "marker": {
             "colorbar": {
              "outlinewidth": 0,
              "ticks": ""
             }
            },
            "type": "scatterpolar"
           }
          ],
          "scatterpolargl": [
           {
            "marker": {
             "colorbar": {
              "outlinewidth": 0,
              "ticks": ""
             }
            },
            "type": "scatterpolargl"
           }
          ],
          "scatterternary": [
           {
            "marker": {
             "colorbar": {
              "outlinewidth": 0,
              "ticks": ""
             }
            },
            "type": "scatterternary"
           }
          ],
          "surface": [
           {
            "colorbar": {
             "outlinewidth": 0,
             "ticks": ""
            },
            "colorscale": [
             [
              0,
              "#0d0887"
             ],
             [
              0.1111111111111111,
              "#46039f"
             ],
             [
              0.2222222222222222,
              "#7201a8"
             ],
             [
              0.3333333333333333,
              "#9c179e"
             ],
             [
              0.4444444444444444,
              "#bd3786"
             ],
             [
              0.5555555555555556,
              "#d8576b"
             ],
             [
              0.6666666666666666,
              "#ed7953"
             ],
             [
              0.7777777777777778,
              "#fb9f3a"
             ],
             [
              0.8888888888888888,
              "#fdca26"
             ],
             [
              1,
              "#f0f921"
             ]
            ],
            "type": "surface"
           }
          ],
          "table": [
           {
            "cells": {
             "fill": {
              "color": "#EBF0F8"
             },
             "line": {
              "color": "white"
             }
            },
            "header": {
             "fill": {
              "color": "#C8D4E3"
             },
             "line": {
              "color": "white"
             }
            },
            "type": "table"
           }
          ]
         },
         "layout": {
          "annotationdefaults": {
           "arrowcolor": "#2a3f5f",
           "arrowhead": 0,
           "arrowwidth": 1
          },
          "autotypenumbers": "strict",
          "coloraxis": {
           "colorbar": {
            "outlinewidth": 0,
            "ticks": ""
           }
          },
          "colorscale": {
           "diverging": [
            [
             0,
             "#8e0152"
            ],
            [
             0.1,
             "#c51b7d"
            ],
            [
             0.2,
             "#de77ae"
            ],
            [
             0.3,
             "#f1b6da"
            ],
            [
             0.4,
             "#fde0ef"
            ],
            [
             0.5,
             "#f7f7f7"
            ],
            [
             0.6,
             "#e6f5d0"
            ],
            [
             0.7,
             "#b8e186"
            ],
            [
             0.8,
             "#7fbc41"
            ],
            [
             0.9,
             "#4d9221"
            ],
            [
             1,
             "#276419"
            ]
           ],
           "sequential": [
            [
             0,
             "#0d0887"
            ],
            [
             0.1111111111111111,
             "#46039f"
            ],
            [
             0.2222222222222222,
             "#7201a8"
            ],
            [
             0.3333333333333333,
             "#9c179e"
            ],
            [
             0.4444444444444444,
             "#bd3786"
            ],
            [
             0.5555555555555556,
             "#d8576b"
            ],
            [
             0.6666666666666666,
             "#ed7953"
            ],
            [
             0.7777777777777778,
             "#fb9f3a"
            ],
            [
             0.8888888888888888,
             "#fdca26"
            ],
            [
             1,
             "#f0f921"
            ]
           ],
           "sequentialminus": [
            [
             0,
             "#0d0887"
            ],
            [
             0.1111111111111111,
             "#46039f"
            ],
            [
             0.2222222222222222,
             "#7201a8"
            ],
            [
             0.3333333333333333,
             "#9c179e"
            ],
            [
             0.4444444444444444,
             "#bd3786"
            ],
            [
             0.5555555555555556,
             "#d8576b"
            ],
            [
             0.6666666666666666,
             "#ed7953"
            ],
            [
             0.7777777777777778,
             "#fb9f3a"
            ],
            [
             0.8888888888888888,
             "#fdca26"
            ],
            [
             1,
             "#f0f921"
            ]
           ]
          },
          "colorway": [
           "#636efa",
           "#EF553B",
           "#00cc96",
           "#ab63fa",
           "#FFA15A",
           "#19d3f3",
           "#FF6692",
           "#B6E880",
           "#FF97FF",
           "#FECB52"
          ],
          "font": {
           "color": "#2a3f5f"
          },
          "geo": {
           "bgcolor": "white",
           "lakecolor": "white",
           "landcolor": "#E5ECF6",
           "showlakes": true,
           "showland": true,
           "subunitcolor": "white"
          },
          "hoverlabel": {
           "align": "left"
          },
          "hovermode": "closest",
          "mapbox": {
           "style": "light"
          },
          "paper_bgcolor": "white",
          "plot_bgcolor": "#E5ECF6",
          "polar": {
           "angularaxis": {
            "gridcolor": "white",
            "linecolor": "white",
            "ticks": ""
           },
           "bgcolor": "#E5ECF6",
           "radialaxis": {
            "gridcolor": "white",
            "linecolor": "white",
            "ticks": ""
           }
          },
          "scene": {
           "xaxis": {
            "backgroundcolor": "#E5ECF6",
            "gridcolor": "white",
            "gridwidth": 2,
            "linecolor": "white",
            "showbackground": true,
            "ticks": "",
            "zerolinecolor": "white"
           },
           "yaxis": {
            "backgroundcolor": "#E5ECF6",
            "gridcolor": "white",
            "gridwidth": 2,
            "linecolor": "white",
            "showbackground": true,
            "ticks": "",
            "zerolinecolor": "white"
           },
           "zaxis": {
            "backgroundcolor": "#E5ECF6",
            "gridcolor": "white",
            "gridwidth": 2,
            "linecolor": "white",
            "showbackground": true,
            "ticks": "",
            "zerolinecolor": "white"
           }
          },
          "shapedefaults": {
           "line": {
            "color": "#2a3f5f"
           }
          },
          "ternary": {
           "aaxis": {
            "gridcolor": "white",
            "linecolor": "white",
            "ticks": ""
           },
           "baxis": {
            "gridcolor": "white",
            "linecolor": "white",
            "ticks": ""
           },
           "bgcolor": "#E5ECF6",
           "caxis": {
            "gridcolor": "white",
            "linecolor": "white",
            "ticks": ""
           }
          },
          "title": {
           "x": 0.05
          },
          "xaxis": {
           "automargin": true,
           "gridcolor": "white",
           "linecolor": "white",
           "ticks": "",
           "title": {
            "standoff": 15
           },
           "zerolinecolor": "white",
           "zerolinewidth": 2
          },
          "yaxis": {
           "automargin": true,
           "gridcolor": "white",
           "linecolor": "white",
           "ticks": "",
           "title": {
            "standoff": 15
           },
           "zerolinecolor": "white",
           "zerolinewidth": 2
          }
         }
        },
        "xaxis": {
         "anchor": "y",
         "domain": [
          0,
          1
         ],
         "title": {
          "text": "year"
         }
        },
        "yaxis": {
         "anchor": "x",
         "domain": [
          0,
          1
         ],
         "title": {
          "text": "averageRating"
         }
        }
       }
      },
      "text/html": [
       "<div>                            <div id=\"68b218c3-4f5d-43a2-bb31-6f9224e9fca7\" class=\"plotly-graph-div\" style=\"height:525px; width:100%;\"></div>            <script type=\"text/javascript\">                require([\"plotly\"], function(Plotly) {                    window.PLOTLYENV=window.PLOTLYENV || {};                                    if (document.getElementById(\"68b218c3-4f5d-43a2-bb31-6f9224e9fca7\")) {                    Plotly.newPlot(                        \"68b218c3-4f5d-43a2-bb31-6f9224e9fca7\",                        [{\"coloraxis\":\"coloraxis\",\"histfunc\":\"sum\",\"hovertemplate\":\"year=%{x}<br>averageRating=%{y}<br>sum of number_of_votes=%{z}<extra></extra>\",\"name\":\"\",\"type\":\"histogram2d\",\"x\":[1994,2008,2010,1999,1994,1994,1999,2001,2003,1972,2014,2012,2002,1995,2012,2000,2005,2009,1991,1998,1977,1993,2013,2006,2006,1980,1999,2010,1974,2000,1985,1999,1994,1990,2019,1998,2005,2003,2008,1991,1995,1998,1995,1983,2003,1994,2009,1992,1975,2004,1980,1999,2019,2015,1995,2018,1981,1993,2014,2007,1997,2002,2001,2001,1979,1988,2000,2011,2011,2000,2010,1971,1983,2002,1998,2014,1976,2014,2008,1957,2001,1982,2002,1966,1989,1987,2001,2010,2017,1986,2013,2019,2004,1996,2015,1997,1996,2006,2013,1960,1979,1968,1995,2007,1998,1997,2007,1942,2003,1976,1975,2019,1995,2016,1964,2017,1954,2013,2011,1989,2015,2017,2018,2018,1941,1946,1987,1986,2015,1992,1982,1984,1958,1979,1986,2006,2009,1997,2004,2004,2004,2021,2019,1980,1984,1954,1978,1968,1959,1988,1974,1962,2012,1939,1995,1962,2020,2009,1959,1988,1973,2004,1988,1965,1981,1963,2000,2011,1980,1936,1952,1959,2016,1940,1957,1950,2009,1957,2014,2007,1931,1957,2014,1960,2016,2009,1967,1927,1954,1993,1949,2010,2016,1995,1950,1984,2003,1975,1948,1976,1931,1944,1954,2000,1940,2016,1979,1950,2020,1921,2019,1948,1985,1961,1957,2006,1959,1939,1966,2001,2016,1925,2021,1957,1984,1934,2020,1994,2020,2012,1940,2004,1926,1972,1998,2005,2018,2017,2020,2012,2003,2019,2007,2015,2008,2018,2020,1961,1952,2011,2010,1962,1994,1997,2001,1985,1996,2010,1995,2012,2013,2013,1955,2013,2016,2000,1998,1946,1982,2012,1920,2018,1930,1953,2021,1953,1995,1966,2014,2012,2014,1975,1962,1998,2014,2019,1994,1928,1966,2008],\"xaxis\":\"x\",\"xbingroup\":\"x\",\"y\":[9.3,9.0,8.8,8.8,8.9,8.8,8.7,8.8,8.9,9.2,8.6,8.4,8.7,8.6,8.4,8.5,8.2,8.3,8.6,8.6,8.6,8.9,8.2,8.5,8.5,8.7,8.6,8.2,9.0,8.4,8.5,8.3,8.5,8.7,8.4,8.5,8.1,8.1,8.4,8.5,8.5,8.1,8.3,8.3,8.1,8.5,8.2,8.3,8.7,8.3,8.4,8.1,8.4,8.1,8.3,8.4,8.4,8.1,8.1,8.1,8.3,8.1,8.2,8.1,8.4,8.2,8.3,8.1,8.5,8.3,8.2,8.3,8.3,8.5,8.1,8.5,8.2,8.1,8.1,9.0,8.3,8.1,8.6,8.8,8.2,8.3,8.6,8.1,8.1,8.3,8.1,8.6,8.1,8.1,8.1,8.6,8.1,8.2,8.1,8.5,8.4,8.3,8.2,8.1,8.2,8.2,8.2,8.5,8.4,8.1,8.2,8.3,8.2,8.1,8.4,8.1,8.5,8.1,8.1,8.1,8.1,8.4,8.4,8.2,8.3,8.6,8.1,8.1,8.1,8.2,8.1,8.3,8.3,8.1,8.1,8.4,8.4,8.4,8.2,8.1,8.2,8.1,8.1,8.2,8.3,8.6,8.1,8.5,8.3,8.2,8.2,8.3,8.3,8.1,8.1,8.3,8.1,8.1,8.2,8.5,8.3,8.1,8.5,8.2,8.3,8.2,8.1,8.3,8.1,8.5,8.3,8.1,8.4,8.4,8.1,8.4,8.2,8.4,8.1,8.4,8.5,8.2,8.1,8.3,8.4,8.1,8.1,8.3,8.2,8.1,8.1,8.3,8.1,8.1,8.2,8.1,8.1,8.1,8.3,8.1,8.3,8.3,8.1,8.1,8.1,8.1,8.1,8.2,8.2,8.3,8.2,8.2,8.2,8.2,8.4,8.1,8.1,8.1,8.1,8.1,8.7,8.2,8.7,8.2,8.1,8.1,8.3,8.1,9.1,8.2,8.1,8.2,8.1,8.1,8.1,8.2,8.2,8.2,8.8,8.1,8.1,8.1,8.2,8.2,8.1,8.4,8.4,8.2,8.3,8.2,8.2,8.1,8.1,8.3,8.1,8.3,8.2,8.5,8.1,8.2,8.2,8.1,8.1,8.2,8.2,8.2,8.1,8.1,8.1,8.1,8.1,8.2,8.1,8.1,8.4,8.2,8.1,8.1,8.1,8.1,8.1,8.2,8.1,8.1,8.1,8.3,8.1,8.1,8.1,8.1],\"yaxis\":\"y\",\"ybingroup\":\"y\",\"z\":[2467229,2421844,2172818,1942270,1910475,1907240,1761346,1732666,1711411,1705544,1617714,1579445,1547227,1518316,1428387,1399974,1361283,1334288,1333127,1293171,1277926,1267768,1266742,1246174,1241847,1206117,1204876,1197339,1184768,1170047,1114069,1105082,1082512,1071234,1069793,1068187,1067048,1046925,1043427,1034566,1029594,990138,989203,986953,984721,984648,976575,958770,954758,949157,943341,942797,941857,928199,927722,925836,917621,909913,909746,901637,901559,887002,881790,851463,824005,821229,812219,803440,797600,796340,786820,786414,779099,771464,766727,764540,762400,746152,742400,730308,725430,722521,722424,718500,717727,702042,694558,694271,688717,678989,665314,662581,658178,656426,654361,652737,643771,639055,638517,631155,630269,630232,606627,594840,555466,552109,545417,543270,541333,540104,517951,492827,488427,468276,467944,466552,465763,452889,450305,449605,442809,432725,428475,427455,422741,422657,408536,395536,393244,392170,391533,382560,382469,381735,380377,372998,368159,365253,358101,343733,342001,337884,336290,335959,329461,329185,324804,314637,312356,311280,309748,304462,303807,301612,287159,279662,278941,266872,254673,253041,250794,248188,245604,243607,240750,233939,232220,232217,230682,228899,228819,228722,225384,213371,211368,211265,201237,187321,187068,180911,176123,175568,172592,172293,171613,170673,170175,166894,166839,166095,165251,162371,160754,160315,160191,160093,159033,158458,155781,152458,150670,150120,148607,136857,131148,128191,126230,125952,124387,120238,119941,119736,119517,117324,116553,116552,111490,111473,110817,109429,106823,106545,102616,102235,99213,98880,98033,98005,90129,89821,89526,87104,86876,86817,83468,83157,82917,81180,79414,78863,77956,77543,77473,76810,76417,75699,74037,73791,73751,72943,72758,72573,71756,70379,69741,68197,67727,67480,66475,66132,64797,64449,63908,63623,63394,62280,61545,61016,60833,60401,60354,59776,59365,58256,57831,57676,56965,56856,55315,55214,53876,53683,52825,52409,52311,51848,51734,51468,50860,50322]}],                        {\"coloraxis\":{\"colorbar\":{\"title\":{\"text\":\"sum of number_of_votes\"}},\"colorscale\":[[0.0,\"#0d0887\"],[0.1111111111111111,\"#46039f\"],[0.2222222222222222,\"#7201a8\"],[0.3333333333333333,\"#9c179e\"],[0.4444444444444444,\"#bd3786\"],[0.5555555555555556,\"#d8576b\"],[0.6666666666666666,\"#ed7953\"],[0.7777777777777778,\"#fb9f3a\"],[0.8888888888888888,\"#fdca26\"],[1.0,\"#f0f921\"]]},\"legend\":{\"tracegroupgap\":0},\"margin\":{\"t\":60},\"template\":{\"data\":{\"bar\":[{\"error_x\":{\"color\":\"#2a3f5f\"},\"error_y\":{\"color\":\"#2a3f5f\"},\"marker\":{\"line\":{\"color\":\"#E5ECF6\",\"width\":0.5},\"pattern\":{\"fillmode\":\"overlay\",\"size\":10,\"solidity\":0.2}},\"type\":\"bar\"}],\"barpolar\":[{\"marker\":{\"line\":{\"color\":\"#E5ECF6\",\"width\":0.5},\"pattern\":{\"fillmode\":\"overlay\",\"size\":10,\"solidity\":0.2}},\"type\":\"barpolar\"}],\"carpet\":[{\"aaxis\":{\"endlinecolor\":\"#2a3f5f\",\"gridcolor\":\"white\",\"linecolor\":\"white\",\"minorgridcolor\":\"white\",\"startlinecolor\":\"#2a3f5f\"},\"baxis\":{\"endlinecolor\":\"#2a3f5f\",\"gridcolor\":\"white\",\"linecolor\":\"white\",\"minorgridcolor\":\"white\",\"startlinecolor\":\"#2a3f5f\"},\"type\":\"carpet\"}],\"choropleth\":[{\"colorbar\":{\"outlinewidth\":0,\"ticks\":\"\"},\"type\":\"choropleth\"}],\"contour\":[{\"colorbar\":{\"outlinewidth\":0,\"ticks\":\"\"},\"colorscale\":[[0.0,\"#0d0887\"],[0.1111111111111111,\"#46039f\"],[0.2222222222222222,\"#7201a8\"],[0.3333333333333333,\"#9c179e\"],[0.4444444444444444,\"#bd3786\"],[0.5555555555555556,\"#d8576b\"],[0.6666666666666666,\"#ed7953\"],[0.7777777777777778,\"#fb9f3a\"],[0.8888888888888888,\"#fdca26\"],[1.0,\"#f0f921\"]],\"type\":\"contour\"}],\"contourcarpet\":[{\"colorbar\":{\"outlinewidth\":0,\"ticks\":\"\"},\"type\":\"contourcarpet\"}],\"heatmap\":[{\"colorbar\":{\"outlinewidth\":0,\"ticks\":\"\"},\"colorscale\":[[0.0,\"#0d0887\"],[0.1111111111111111,\"#46039f\"],[0.2222222222222222,\"#7201a8\"],[0.3333333333333333,\"#9c179e\"],[0.4444444444444444,\"#bd3786\"],[0.5555555555555556,\"#d8576b\"],[0.6666666666666666,\"#ed7953\"],[0.7777777777777778,\"#fb9f3a\"],[0.8888888888888888,\"#fdca26\"],[1.0,\"#f0f921\"]],\"type\":\"heatmap\"}],\"heatmapgl\":[{\"colorbar\":{\"outlinewidth\":0,\"ticks\":\"\"},\"colorscale\":[[0.0,\"#0d0887\"],[0.1111111111111111,\"#46039f\"],[0.2222222222222222,\"#7201a8\"],[0.3333333333333333,\"#9c179e\"],[0.4444444444444444,\"#bd3786\"],[0.5555555555555556,\"#d8576b\"],[0.6666666666666666,\"#ed7953\"],[0.7777777777777778,\"#fb9f3a\"],[0.8888888888888888,\"#fdca26\"],[1.0,\"#f0f921\"]],\"type\":\"heatmapgl\"}],\"histogram\":[{\"marker\":{\"pattern\":{\"fillmode\":\"overlay\",\"size\":10,\"solidity\":0.2}},\"type\":\"histogram\"}],\"histogram2d\":[{\"colorbar\":{\"outlinewidth\":0,\"ticks\":\"\"},\"colorscale\":[[0.0,\"#0d0887\"],[0.1111111111111111,\"#46039f\"],[0.2222222222222222,\"#7201a8\"],[0.3333333333333333,\"#9c179e\"],[0.4444444444444444,\"#bd3786\"],[0.5555555555555556,\"#d8576b\"],[0.6666666666666666,\"#ed7953\"],[0.7777777777777778,\"#fb9f3a\"],[0.8888888888888888,\"#fdca26\"],[1.0,\"#f0f921\"]],\"type\":\"histogram2d\"}],\"histogram2dcontour\":[{\"colorbar\":{\"outlinewidth\":0,\"ticks\":\"\"},\"colorscale\":[[0.0,\"#0d0887\"],[0.1111111111111111,\"#46039f\"],[0.2222222222222222,\"#7201a8\"],[0.3333333333333333,\"#9c179e\"],[0.4444444444444444,\"#bd3786\"],[0.5555555555555556,\"#d8576b\"],[0.6666666666666666,\"#ed7953\"],[0.7777777777777778,\"#fb9f3a\"],[0.8888888888888888,\"#fdca26\"],[1.0,\"#f0f921\"]],\"type\":\"histogram2dcontour\"}],\"mesh3d\":[{\"colorbar\":{\"outlinewidth\":0,\"ticks\":\"\"},\"type\":\"mesh3d\"}],\"parcoords\":[{\"line\":{\"colorbar\":{\"outlinewidth\":0,\"ticks\":\"\"}},\"type\":\"parcoords\"}],\"pie\":[{\"automargin\":true,\"type\":\"pie\"}],\"scatter\":[{\"marker\":{\"colorbar\":{\"outlinewidth\":0,\"ticks\":\"\"}},\"type\":\"scatter\"}],\"scatter3d\":[{\"line\":{\"colorbar\":{\"outlinewidth\":0,\"ticks\":\"\"}},\"marker\":{\"colorbar\":{\"outlinewidth\":0,\"ticks\":\"\"}},\"type\":\"scatter3d\"}],\"scattercarpet\":[{\"marker\":{\"colorbar\":{\"outlinewidth\":0,\"ticks\":\"\"}},\"type\":\"scattercarpet\"}],\"scattergeo\":[{\"marker\":{\"colorbar\":{\"outlinewidth\":0,\"ticks\":\"\"}},\"type\":\"scattergeo\"}],\"scattergl\":[{\"marker\":{\"colorbar\":{\"outlinewidth\":0,\"ticks\":\"\"}},\"type\":\"scattergl\"}],\"scattermapbox\":[{\"marker\":{\"colorbar\":{\"outlinewidth\":0,\"ticks\":\"\"}},\"type\":\"scattermapbox\"}],\"scatterpolar\":[{\"marker\":{\"colorbar\":{\"outlinewidth\":0,\"ticks\":\"\"}},\"type\":\"scatterpolar\"}],\"scatterpolargl\":[{\"marker\":{\"colorbar\":{\"outlinewidth\":0,\"ticks\":\"\"}},\"type\":\"scatterpolargl\"}],\"scatterternary\":[{\"marker\":{\"colorbar\":{\"outlinewidth\":0,\"ticks\":\"\"}},\"type\":\"scatterternary\"}],\"surface\":[{\"colorbar\":{\"outlinewidth\":0,\"ticks\":\"\"},\"colorscale\":[[0.0,\"#0d0887\"],[0.1111111111111111,\"#46039f\"],[0.2222222222222222,\"#7201a8\"],[0.3333333333333333,\"#9c179e\"],[0.4444444444444444,\"#bd3786\"],[0.5555555555555556,\"#d8576b\"],[0.6666666666666666,\"#ed7953\"],[0.7777777777777778,\"#fb9f3a\"],[0.8888888888888888,\"#fdca26\"],[1.0,\"#f0f921\"]],\"type\":\"surface\"}],\"table\":[{\"cells\":{\"fill\":{\"color\":\"#EBF0F8\"},\"line\":{\"color\":\"white\"}},\"header\":{\"fill\":{\"color\":\"#C8D4E3\"},\"line\":{\"color\":\"white\"}},\"type\":\"table\"}]},\"layout\":{\"annotationdefaults\":{\"arrowcolor\":\"#2a3f5f\",\"arrowhead\":0,\"arrowwidth\":1},\"autotypenumbers\":\"strict\",\"coloraxis\":{\"colorbar\":{\"outlinewidth\":0,\"ticks\":\"\"}},\"colorscale\":{\"diverging\":[[0,\"#8e0152\"],[0.1,\"#c51b7d\"],[0.2,\"#de77ae\"],[0.3,\"#f1b6da\"],[0.4,\"#fde0ef\"],[0.5,\"#f7f7f7\"],[0.6,\"#e6f5d0\"],[0.7,\"#b8e186\"],[0.8,\"#7fbc41\"],[0.9,\"#4d9221\"],[1,\"#276419\"]],\"sequential\":[[0.0,\"#0d0887\"],[0.1111111111111111,\"#46039f\"],[0.2222222222222222,\"#7201a8\"],[0.3333333333333333,\"#9c179e\"],[0.4444444444444444,\"#bd3786\"],[0.5555555555555556,\"#d8576b\"],[0.6666666666666666,\"#ed7953\"],[0.7777777777777778,\"#fb9f3a\"],[0.8888888888888888,\"#fdca26\"],[1.0,\"#f0f921\"]],\"sequentialminus\":[[0.0,\"#0d0887\"],[0.1111111111111111,\"#46039f\"],[0.2222222222222222,\"#7201a8\"],[0.3333333333333333,\"#9c179e\"],[0.4444444444444444,\"#bd3786\"],[0.5555555555555556,\"#d8576b\"],[0.6666666666666666,\"#ed7953\"],[0.7777777777777778,\"#fb9f3a\"],[0.8888888888888888,\"#fdca26\"],[1.0,\"#f0f921\"]]},\"colorway\":[\"#636efa\",\"#EF553B\",\"#00cc96\",\"#ab63fa\",\"#FFA15A\",\"#19d3f3\",\"#FF6692\",\"#B6E880\",\"#FF97FF\",\"#FECB52\"],\"font\":{\"color\":\"#2a3f5f\"},\"geo\":{\"bgcolor\":\"white\",\"lakecolor\":\"white\",\"landcolor\":\"#E5ECF6\",\"showlakes\":true,\"showland\":true,\"subunitcolor\":\"white\"},\"hoverlabel\":{\"align\":\"left\"},\"hovermode\":\"closest\",\"mapbox\":{\"style\":\"light\"},\"paper_bgcolor\":\"white\",\"plot_bgcolor\":\"#E5ECF6\",\"polar\":{\"angularaxis\":{\"gridcolor\":\"white\",\"linecolor\":\"white\",\"ticks\":\"\"},\"bgcolor\":\"#E5ECF6\",\"radialaxis\":{\"gridcolor\":\"white\",\"linecolor\":\"white\",\"ticks\":\"\"}},\"scene\":{\"xaxis\":{\"backgroundcolor\":\"#E5ECF6\",\"gridcolor\":\"white\",\"gridwidth\":2,\"linecolor\":\"white\",\"showbackground\":true,\"ticks\":\"\",\"zerolinecolor\":\"white\"},\"yaxis\":{\"backgroundcolor\":\"#E5ECF6\",\"gridcolor\":\"white\",\"gridwidth\":2,\"linecolor\":\"white\",\"showbackground\":true,\"ticks\":\"\",\"zerolinecolor\":\"white\"},\"zaxis\":{\"backgroundcolor\":\"#E5ECF6\",\"gridcolor\":\"white\",\"gridwidth\":2,\"linecolor\":\"white\",\"showbackground\":true,\"ticks\":\"\",\"zerolinecolor\":\"white\"}},\"shapedefaults\":{\"line\":{\"color\":\"#2a3f5f\"}},\"ternary\":{\"aaxis\":{\"gridcolor\":\"white\",\"linecolor\":\"white\",\"ticks\":\"\"},\"baxis\":{\"gridcolor\":\"white\",\"linecolor\":\"white\",\"ticks\":\"\"},\"bgcolor\":\"#E5ECF6\",\"caxis\":{\"gridcolor\":\"white\",\"linecolor\":\"white\",\"ticks\":\"\"}},\"title\":{\"x\":0.05},\"xaxis\":{\"automargin\":true,\"gridcolor\":\"white\",\"linecolor\":\"white\",\"ticks\":\"\",\"title\":{\"standoff\":15},\"zerolinecolor\":\"white\",\"zerolinewidth\":2},\"yaxis\":{\"automargin\":true,\"gridcolor\":\"white\",\"linecolor\":\"white\",\"ticks\":\"\",\"title\":{\"standoff\":15},\"zerolinecolor\":\"white\",\"zerolinewidth\":2}}},\"xaxis\":{\"anchor\":\"y\",\"domain\":[0.0,1.0],\"title\":{\"text\":\"year\"}},\"yaxis\":{\"anchor\":\"x\",\"domain\":[0.0,1.0],\"title\":{\"text\":\"averageRating\"}}},                        {\"responsive\": true}                    ).then(function(){\n",
       "                            \n",
       "var gd = document.getElementById('68b218c3-4f5d-43a2-bb31-6f9224e9fca7');\n",
       "var x = new MutationObserver(function (mutations, observer) {{\n",
       "        var display = window.getComputedStyle(gd).display;\n",
       "        if (!display || display === 'none') {{\n",
       "            console.log([gd, 'removed!']);\n",
       "            Plotly.purge(gd);\n",
       "            observer.disconnect();\n",
       "        }}\n",
       "}});\n",
       "\n",
       "// Listen for the removal of the full notebook cells\n",
       "var notebookContainer = gd.closest('#notebook-container');\n",
       "if (notebookContainer) {{\n",
       "    x.observe(notebookContainer, {childList: true});\n",
       "}}\n",
       "\n",
       "// Listen for the clearing of the current output cell\n",
       "var outputEl = gd.closest('.output');\n",
       "if (outputEl) {{\n",
       "    x.observe(outputEl, {childList: true});\n",
       "}}\n",
       "\n",
       "                        })                };                });            </script>        </div>"
      ]
     },
     "metadata": {},
     "output_type": "display_data"
    }
   ],
   "source": [
    "fig = px.scatter(df,x='year',y='averageRating',size='number_of_votes',color='averageRating', log_x=True, size_max=60)\n",
    "fig.show()\n",
    "\n",
    "fig = px.density_heatmap(df, x=\"year\", y=\"averageRating\",z=\"number_of_votes\")\n",
    "fig.show()"
   ]
  },
  {
   "cell_type": "code",
   "execution_count": 23,
   "metadata": {
    "ExecuteTime": {
     "end_time": "2021-10-31T00:11:25.304456Z",
     "start_time": "2021-10-31T00:11:24.150624Z"
    }
   },
   "outputs": [
    {
     "data": {
      "application/vnd.plotly.v1+json": {
       "config": {
        "plotlyServerURL": "https://plot.ly"
       },
       "data": [
        {
         "hovertemplate": "year=1994<br>averageRating=%{marker.color}<br>number_of_votes=%{marker.size}<extra></extra>",
         "legendgroup": "",
         "marker": {
          "color": [
           9.3,
           8.9,
           8.8,
           8.5,
           8.5,
           8.1,
           8.1,
           8.1
          ],
          "coloraxis": "coloraxis",
          "size": [
           2467229,
           1910475,
           1907240,
           1082512,
           984648,
           98005,
           71756,
           51734
          ],
          "sizemode": "area",
          "sizeref": 6168.0725,
          "symbol": "circle"
         },
         "mode": "markers",
         "name": "",
         "orientation": "v",
         "showlegend": false,
         "type": "scatter",
         "x": [
          9.3,
          8.9,
          8.8,
          8.5,
          8.5,
          8.1,
          8.1,
          8.1
         ],
         "xaxis": "x",
         "y": [
          2467229,
          1910475,
          1907240,
          1082512,
          984648,
          98005,
          71756,
          51734
         ],
         "yaxis": "y"
        }
       ],
       "frames": [
        {
         "data": [
          {
           "hovertemplate": "year=1994<br>averageRating=%{marker.color}<br>number_of_votes=%{marker.size}<extra></extra>",
           "legendgroup": "",
           "marker": {
            "color": [
             9.3,
             8.9,
             8.8,
             8.5,
             8.5,
             8.1,
             8.1,
             8.1
            ],
            "coloraxis": "coloraxis",
            "size": [
             2467229,
             1910475,
             1907240,
             1082512,
             984648,
             98005,
             71756,
             51734
            ],
            "sizemode": "area",
            "sizeref": 6168.0725,
            "symbol": "circle"
           },
           "mode": "markers",
           "name": "",
           "orientation": "v",
           "showlegend": false,
           "type": "scatter",
           "x": [
            9.3,
            8.9,
            8.8,
            8.5,
            8.5,
            8.1,
            8.1,
            8.1
           ],
           "xaxis": "x",
           "y": [
            2467229,
            1910475,
            1907240,
            1082512,
            984648,
            98005,
            71756,
            51734
           ],
           "yaxis": "y"
          }
         ],
         "name": "1994"
        },
        {
         "data": [
          {
           "hovertemplate": "year=2008<br>averageRating=%{marker.color}<br>number_of_votes=%{marker.size}<extra></extra>",
           "legendgroup": "",
           "marker": {
            "color": [
             9,
             8.4,
             8.1,
             8.1,
             8.1
            ],
            "coloraxis": "coloraxis",
            "size": [
             2421844,
             1043427,
             742400,
             76417,
             50322
            ],
            "sizemode": "area",
            "sizeref": 6168.0725,
            "symbol": "circle"
           },
           "mode": "markers",
           "name": "",
           "orientation": "v",
           "showlegend": false,
           "type": "scatter",
           "x": [
            9,
            8.4,
            8.1,
            8.1,
            8.1
           ],
           "xaxis": "x",
           "y": [
            2421844,
            1043427,
            742400,
            76417,
            50322
           ],
           "yaxis": "y"
          }
         ],
         "name": "2008"
        },
        {
         "data": [
          {
           "hovertemplate": "year=2010<br>averageRating=%{marker.color}<br>number_of_votes=%{marker.size}<extra></extra>",
           "legendgroup": "",
           "marker": {
            "color": [
             8.8,
             8.2,
             8.2,
             8.1,
             8.3,
             8.2,
             8.5
            ],
            "coloraxis": "coloraxis",
            "size": [
             2172818,
             1197339,
             786820,
             694271,
             162371,
             72758,
             67480
            ],
            "sizemode": "area",
            "sizeref": 6168.0725,
            "symbol": "circle"
           },
           "mode": "markers",
           "name": "",
           "orientation": "v",
           "showlegend": false,
           "type": "scatter",
           "x": [
            8.8,
            8.2,
            8.2,
            8.1,
            8.3,
            8.2,
            8.5
           ],
           "xaxis": "x",
           "y": [
            2172818,
            1197339,
            786820,
            694271,
            162371,
            72758,
            67480
           ],
           "yaxis": "y"
          }
         ],
         "name": "2010"
        },
        {
         "data": [
          {
           "hovertemplate": "year=1999<br>averageRating=%{marker.color}<br>number_of_votes=%{marker.size}<extra></extra>",
           "legendgroup": "",
           "marker": {
            "color": [
             8.8,
             8.7,
             8.6,
             8.3,
             8.1
            ],
            "coloraxis": "coloraxis",
            "size": [
             1942270,
             1761346,
             1204876,
             1105082,
             942797
            ],
            "sizemode": "area",
            "sizeref": 6168.0725,
            "symbol": "circle"
           },
           "mode": "markers",
           "name": "",
           "orientation": "v",
           "showlegend": false,
           "type": "scatter",
           "x": [
            8.8,
            8.7,
            8.6,
            8.3,
            8.1
           ],
           "xaxis": "x",
           "y": [
            1942270,
            1761346,
            1204876,
            1105082,
            942797
           ],
           "yaxis": "y"
          }
         ],
         "name": "1999"
        },
        {
         "data": [
          {
           "hovertemplate": "year=2001<br>averageRating=%{marker.color}<br>number_of_votes=%{marker.size}<extra></extra>",
           "legendgroup": "",
           "marker": {
            "color": [
             8.8,
             8.2,
             8.1,
             8.3,
             8.6,
             8.1,
             8.1
            ],
            "coloraxis": "coloraxis",
            "size": [
             1732666,
             881790,
             851463,
             725430,
             694558,
             109429,
             69741
            ],
            "sizemode": "area",
            "sizeref": 6168.0725,
            "symbol": "circle"
           },
           "mode": "markers",
           "name": "",
           "orientation": "v",
           "showlegend": false,
           "type": "scatter",
           "x": [
            8.8,
            8.2,
            8.1,
            8.3,
            8.6,
            8.1,
            8.1
           ],
           "xaxis": "x",
           "y": [
            1732666,
            881790,
            851463,
            725430,
            694558,
            109429,
            69741
           ],
           "yaxis": "y"
          }
         ],
         "name": "2001"
        },
        {
         "data": [
          {
           "hovertemplate": "year=2003<br>averageRating=%{marker.color}<br>number_of_votes=%{marker.size}<extra></extra>",
           "legendgroup": "",
           "marker": {
            "color": [
             8.9,
             8.1,
             8.1,
             8.4,
             8.1,
             8.1
            ],
            "coloraxis": "coloraxis",
            "size": [
             1711411,
             1046925,
             984721,
             541333,
             159033,
             77956
            ],
            "sizemode": "area",
            "sizeref": 6168.0725,
            "symbol": "circle"
           },
           "mode": "markers",
           "name": "",
           "orientation": "v",
           "showlegend": false,
           "type": "scatter",
           "x": [
            8.9,
            8.1,
            8.1,
            8.4,
            8.1,
            8.1
           ],
           "xaxis": "x",
           "y": [
            1711411,
            1046925,
            984721,
            541333,
            159033,
            77956
           ],
           "yaxis": "y"
          }
         ],
         "name": "2003"
        },
        {
         "data": [
          {
           "hovertemplate": "year=1972<br>averageRating=%{marker.color}<br>number_of_votes=%{marker.size}<extra></extra>",
           "legendgroup": "",
           "marker": {
            "color": [
             9.2,
             8.1
            ],
            "coloraxis": "coloraxis",
            "size": [
             1705544,
             86817
            ],
            "sizemode": "area",
            "sizeref": 6168.0725,
            "symbol": "circle"
           },
           "mode": "markers",
           "name": "",
           "orientation": "v",
           "showlegend": false,
           "type": "scatter",
           "x": [
            9.2,
            8.1
           ],
           "xaxis": "x",
           "y": [
            1705544,
            86817
           ],
           "yaxis": "y"
          }
         ],
         "name": "1972"
        },
        {
         "data": [
          {
           "hovertemplate": "year=2014<br>averageRating=%{marker.color}<br>number_of_votes=%{marker.size}<extra></extra>",
           "legendgroup": "",
           "marker": {
            "color": [
             8.6,
             8.1,
             8.5,
             8.1,
             8.1,
             8.1,
             8.1,
             8.1,
             8.1
            ],
            "coloraxis": "coloraxis",
            "size": [
             1617714,
             909746,
             764540,
             746152,
             187068,
             172592,
             55315,
             53876,
             52311
            ],
            "sizemode": "area",
            "sizeref": 6168.0725,
            "symbol": "circle"
           },
           "mode": "markers",
           "name": "",
           "orientation": "v",
           "showlegend": false,
           "type": "scatter",
           "x": [
            8.6,
            8.1,
            8.5,
            8.1,
            8.1,
            8.1,
            8.1,
            8.1,
            8.1
           ],
           "xaxis": "x",
           "y": [
            1617714,
            909746,
            764540,
            746152,
            187068,
            172592,
            55315,
            53876,
            52311
           ],
           "yaxis": "y"
          }
         ],
         "name": "2014"
        },
        {
         "data": [
          {
           "hovertemplate": "year=2012<br>averageRating=%{marker.color}<br>number_of_votes=%{marker.size}<extra></extra>",
           "legendgroup": "",
           "marker": {
            "color": [
             8.4,
             8.4,
             8.3,
             8.2,
             8.1,
             8.2,
             8.1,
             8.1
            ],
            "coloraxis": "coloraxis",
            "size": [
             1579445,
             1428387,
             303807,
             89821,
             78863,
             66132,
             60401,
             55214
            ],
            "sizemode": "area",
            "sizeref": 6168.0725,
            "symbol": "circle"
           },
           "mode": "markers",
           "name": "",
           "orientation": "v",
           "showlegend": false,
           "type": "scatter",
           "x": [
            8.4,
            8.4,
            8.3,
            8.2,
            8.1,
            8.2,
            8.1,
            8.1
           ],
           "xaxis": "x",
           "y": [
            1579445,
            1428387,
            303807,
            89821,
            78863,
            66132,
            60401,
            55214
           ],
           "yaxis": "y"
          }
         ],
         "name": "2012"
        },
        {
         "data": [
          {
           "hovertemplate": "year=2002<br>averageRating=%{marker.color}<br>number_of_votes=%{marker.size}<extra></extra>",
           "legendgroup": "",
           "marker": {
            "color": [
             8.7,
             8.1,
             8.5,
             8.6
            ],
            "coloraxis": "coloraxis",
            "size": [
             1547227,
             887002,
             771464,
             722424
            ],
            "sizemode": "area",
            "sizeref": 6168.0725,
            "symbol": "circle"
           },
           "mode": "markers",
           "name": "",
           "orientation": "v",
           "showlegend": false,
           "type": "scatter",
           "x": [
            8.7,
            8.1,
            8.5,
            8.6
           ],
           "xaxis": "x",
           "y": [
            1547227,
            887002,
            771464,
            722424
           ],
           "yaxis": "y"
          }
         ],
         "name": "2002"
        },
        {
         "data": [
          {
           "hovertemplate": "year=1995<br>averageRating=%{marker.color}<br>number_of_votes=%{marker.size}<extra></extra>",
           "legendgroup": "",
           "marker": {
            "color": [
             8.6,
             8.5,
             8.3,
             8.3,
             8.2,
             8.2,
             8.1,
             8.1,
             8.1,
             8.1
            ],
            "coloraxis": "coloraxis",
            "size": [
             1518316,
             1029594,
             989203,
             927722,
             606627,
             488427,
             287159,
             160315,
             66475,
             56965
            ],
            "sizemode": "area",
            "sizeref": 6168.0725,
            "symbol": "circle"
           },
           "mode": "markers",
           "name": "",
           "orientation": "v",
           "showlegend": false,
           "type": "scatter",
           "x": [
            8.6,
            8.5,
            8.3,
            8.3,
            8.2,
            8.2,
            8.1,
            8.1,
            8.1,
            8.1
           ],
           "xaxis": "x",
           "y": [
            1518316,
            1029594,
            989203,
            927722,
            606627,
            488427,
            287159,
            160315,
            66475,
            56965
           ],
           "yaxis": "y"
          }
         ],
         "name": "1995"
        },
        {
         "data": [
          {
           "hovertemplate": "year=2000<br>averageRating=%{marker.color}<br>number_of_votes=%{marker.size}<extra></extra>",
           "legendgroup": "",
           "marker": {
            "color": [
             8.5,
             8.4,
             8.3,
             8.3,
             8.1,
             8.1,
             8.2
            ],
            "coloraxis": "coloraxis",
            "size": [
             1399974,
             1170047,
             812219,
             796340,
             232220,
             136857,
             62280
            ],
            "sizemode": "area",
            "sizeref": 6168.0725,
            "symbol": "circle"
           },
           "mode": "markers",
           "name": "",
           "orientation": "v",
           "showlegend": false,
           "type": "scatter",
           "x": [
            8.5,
            8.4,
            8.3,
            8.3,
            8.1,
            8.1,
            8.2
           ],
           "xaxis": "x",
           "y": [
            1399974,
            1170047,
            812219,
            796340,
            232220,
            136857,
            62280
           ],
           "yaxis": "y"
          }
         ],
         "name": "2000"
        },
        {
         "data": [
          {
           "hovertemplate": "year=2005<br>averageRating=%{marker.color}<br>number_of_votes=%{marker.size}<extra></extra>",
           "legendgroup": "",
           "marker": {
            "color": [
             8.2,
             8.1,
             8.2
            ],
            "coloraxis": "coloraxis",
            "size": [
             1361283,
             1067048,
             83157
            ],
            "sizemode": "area",
            "sizeref": 6168.0725,
            "symbol": "circle"
           },
           "mode": "markers",
           "name": "",
           "orientation": "v",
           "showlegend": false,
           "type": "scatter",
           "x": [
            8.2,
            8.1,
            8.2
           ],
           "xaxis": "x",
           "y": [
            1361283,
            1067048,
            83157
           ],
           "yaxis": "y"
          }
         ],
         "name": "2005"
        },
        {
         "data": [
          {
           "hovertemplate": "year=2009<br>averageRating=%{marker.color}<br>number_of_votes=%{marker.size}<extra></extra>",
           "legendgroup": "",
           "marker": {
            "color": [
             8.3,
             8.2,
             8.4,
             8.1,
             8.2,
             8.1
            ],
            "coloraxis": "coloraxis",
            "size": [
             1334288,
             976575,
             368159,
             266872,
             201237,
             170673
            ],
            "sizemode": "area",
            "sizeref": 6168.0725,
            "symbol": "circle"
           },
           "mode": "markers",
           "name": "",
           "orientation": "v",
           "showlegend": false,
           "type": "scatter",
           "x": [
            8.3,
            8.2,
            8.4,
            8.1,
            8.2,
            8.1
           ],
           "xaxis": "x",
           "y": [
            1334288,
            976575,
            368159,
            266872,
            201237,
            170673
           ],
           "yaxis": "y"
          }
         ],
         "name": "2009"
        },
        {
         "data": [
          {
           "hovertemplate": "year=1991<br>averageRating=%{marker.color}<br>number_of_votes=%{marker.size}<extra></extra>",
           "legendgroup": "",
           "marker": {
            "color": [
             8.6,
             8.5
            ],
            "coloraxis": "coloraxis",
            "size": [
             1333127,
             1034566
            ],
            "sizemode": "area",
            "sizeref": 6168.0725,
            "symbol": "circle"
           },
           "mode": "markers",
           "name": "",
           "orientation": "v",
           "showlegend": false,
           "type": "scatter",
           "x": [
            8.6,
            8.5
           ],
           "xaxis": "x",
           "y": [
            1333127,
            1034566
           ],
           "yaxis": "y"
          }
         ],
         "name": "1991"
        },
        {
         "data": [
          {
           "hovertemplate": "year=1998<br>averageRating=%{marker.color}<br>number_of_votes=%{marker.size}<extra></extra>",
           "legendgroup": "",
           "marker": {
            "color": [
             8.6,
             8.5,
             8.1,
             8.1,
             8.2,
             8.1,
             8.1,
             8.1
            ],
            "coloraxis": "coloraxis",
            "size": [
             1293171,
             1068187,
             990138,
             766727,
             555466,
             83468,
             61545,
             52409
            ],
            "sizemode": "area",
            "sizeref": 6168.0725,
            "symbol": "circle"
           },
           "mode": "markers",
           "name": "",
           "orientation": "v",
           "showlegend": false,
           "type": "scatter",
           "x": [
            8.6,
            8.5,
            8.1,
            8.1,
            8.2,
            8.1,
            8.1,
            8.1
           ],
           "xaxis": "x",
           "y": [
            1293171,
            1068187,
            990138,
            766727,
            555466,
            83468,
            61545,
            52409
           ],
           "yaxis": "y"
          }
         ],
         "name": "1998"
        },
        {
         "data": [
          {
           "hovertemplate": "year=1977<br>averageRating=%{marker.color}<br>number_of_votes=%{marker.size}<extra></extra>",
           "legendgroup": "",
           "marker": {
            "color": [
             8.6
            ],
            "coloraxis": "coloraxis",
            "size": [
             1277926
            ],
            "sizemode": "area",
            "sizeref": 6168.0725,
            "symbol": "circle"
           },
           "mode": "markers",
           "name": "",
           "orientation": "v",
           "showlegend": false,
           "type": "scatter",
           "x": [
            8.6
           ],
           "xaxis": "x",
           "y": [
            1277926
           ],
           "yaxis": "y"
          }
         ],
         "name": "1977"
        },
        {
         "data": [
          {
           "hovertemplate": "year=1993<br>averageRating=%{marker.color}<br>number_of_votes=%{marker.size}<extra></extra>",
           "legendgroup": "",
           "marker": {
            "color": [
             8.9,
             8.1,
             8.1
            ],
            "coloraxis": "coloraxis",
            "size": [
             1267768,
             909913,
             166095
            ],
            "sizemode": "area",
            "sizeref": 6168.0725,
            "symbol": "circle"
           },
           "mode": "markers",
           "name": "",
           "orientation": "v",
           "showlegend": false,
           "type": "scatter",
           "x": [
            8.9,
            8.1,
            8.1
           ],
           "xaxis": "x",
           "y": [
            1267768,
            909913,
            166095
           ],
           "yaxis": "y"
          }
         ],
         "name": "1993"
        },
        {
         "data": [
          {
           "hovertemplate": "year=2013<br>averageRating=%{marker.color}<br>number_of_votes=%{marker.size}<extra></extra>",
           "legendgroup": "",
           "marker": {
            "color": [
             8.2,
             8.1,
             8.1,
             8.1,
             8.2,
             8.1,
             8.2
            ],
            "coloraxis": "coloraxis",
            "size": [
             1266742,
             665314,
             638517,
             452889,
             64797,
             64449,
             63623
            ],
            "sizemode": "area",
            "sizeref": 6168.0725,
            "symbol": "circle"
           },
           "mode": "markers",
           "name": "",
           "orientation": "v",
           "showlegend": false,
           "type": "scatter",
           "x": [
            8.2,
            8.1,
            8.1,
            8.1,
            8.2,
            8.1,
            8.2
           ],
           "xaxis": "x",
           "y": [
            1266742,
            665314,
            638517,
            452889,
            64797,
            64449,
            63623
           ],
           "yaxis": "y"
          }
         ],
         "name": "2013"
        },
        {
         "data": [
          {
           "hovertemplate": "year=2006<br>averageRating=%{marker.color}<br>number_of_votes=%{marker.size}<extra></extra>",
           "legendgroup": "",
           "marker": {
            "color": [
             8.5,
             8.5,
             8.2,
             8.4,
             8.1
            ],
            "coloraxis": "coloraxis",
            "size": [
             1246174,
             1241847,
             639055,
             372998,
             116552
            ],
            "sizemode": "area",
            "sizeref": 6168.0725,
            "symbol": "circle"
           },
           "mode": "markers",
           "name": "",
           "orientation": "v",
           "showlegend": false,
           "type": "scatter",
           "x": [
            8.5,
            8.5,
            8.2,
            8.4,
            8.1
           ],
           "xaxis": "x",
           "y": [
            1246174,
            1241847,
            639055,
            372998,
            116552
           ],
           "yaxis": "y"
          }
         ],
         "name": "2006"
        },
        {
         "data": [
          {
           "hovertemplate": "year=1980<br>averageRating=%{marker.color}<br>number_of_votes=%{marker.size}<extra></extra>",
           "legendgroup": "",
           "marker": {
            "color": [
             8.7,
             8.4,
             8.2,
             8.1
            ],
            "coloraxis": "coloraxis",
            "size": [
             1206117,
             943341,
             335959,
             230682
            ],
            "sizemode": "area",
            "sizeref": 6168.0725,
            "symbol": "circle"
           },
           "mode": "markers",
           "name": "",
           "orientation": "v",
           "showlegend": false,
           "type": "scatter",
           "x": [
            8.7,
            8.4,
            8.2,
            8.1
           ],
           "xaxis": "x",
           "y": [
            1206117,
            943341,
            335959,
            230682
           ],
           "yaxis": "y"
          }
         ],
         "name": "1980"
        },
        {
         "data": [
          {
           "hovertemplate": "year=1974<br>averageRating=%{marker.color}<br>number_of_votes=%{marker.size}<extra></extra>",
           "legendgroup": "",
           "marker": {
            "color": [
             9,
             8.2
            ],
            "coloraxis": "coloraxis",
            "size": [
             1184768,
             309748
            ],
            "sizemode": "area",
            "sizeref": 6168.0725,
            "symbol": "circle"
           },
           "mode": "markers",
           "name": "",
           "orientation": "v",
           "showlegend": false,
           "type": "scatter",
           "x": [
            9,
            8.2
           ],
           "xaxis": "x",
           "y": [
            1184768,
            309748
           ],
           "yaxis": "y"
          }
         ],
         "name": "1974"
        },
        {
         "data": [
          {
           "hovertemplate": "year=1985<br>averageRating=%{marker.color}<br>number_of_votes=%{marker.size}<extra></extra>",
           "legendgroup": "",
           "marker": {
            "color": [
             8.5,
             8.2,
             8.3
            ],
            "coloraxis": "coloraxis",
            "size": [
             1114069,
             119517,
             68197
            ],
            "sizemode": "area",
            "sizeref": 6168.0725,
            "symbol": "circle"
           },
           "mode": "markers",
           "name": "",
           "orientation": "v",
           "showlegend": false,
           "type": "scatter",
           "x": [
            8.5,
            8.2,
            8.3
           ],
           "xaxis": "x",
           "y": [
            1114069,
            119517,
            68197
           ],
           "yaxis": "y"
          }
         ],
         "name": "1985"
        },
        {
         "data": [
          {
           "hovertemplate": "year=1990<br>averageRating=%{marker.color}<br>number_of_votes=%{marker.size}<extra></extra>",
           "legendgroup": "",
           "marker": {
            "color": [
             8.7
            ],
            "coloraxis": "coloraxis",
            "size": [
             1071234
            ],
            "sizemode": "area",
            "sizeref": 6168.0725,
            "symbol": "circle"
           },
           "mode": "markers",
           "name": "",
           "orientation": "v",
           "showlegend": false,
           "type": "scatter",
           "x": [
            8.7
           ],
           "xaxis": "x",
           "y": [
            1071234
           ],
           "yaxis": "y"
          }
         ],
         "name": "1990"
        },
        {
         "data": [
          {
           "hovertemplate": "year=2019<br>averageRating=%{marker.color}<br>number_of_votes=%{marker.size}<extra></extra>",
           "legendgroup": "",
           "marker": {
            "color": [
             8.4,
             8.4,
             8.6,
             8.3,
             8.1,
             8.2,
             8.1,
             8.3
            ],
            "coloraxis": "coloraxis",
            "size": [
             1069793,
             941857,
             662581,
             492827,
             336290,
             119941,
             77543,
             51848
            ],
            "sizemode": "area",
            "sizeref": 6168.0725,
            "symbol": "circle"
           },
           "mode": "markers",
           "name": "",
           "orientation": "v",
           "showlegend": false,
           "type": "scatter",
           "x": [
            8.4,
            8.4,
            8.6,
            8.3,
            8.1,
            8.2,
            8.1,
            8.3
           ],
           "xaxis": "x",
           "y": [
            1069793,
            941857,
            662581,
            492827,
            336290,
            119941,
            77543,
            51848
           ],
           "yaxis": "y"
          }
         ],
         "name": "2019"
        },
        {
         "data": [
          {
           "hovertemplate": "year=1983<br>averageRating=%{marker.color}<br>number_of_votes=%{marker.size}<extra></extra>",
           "legendgroup": "",
           "marker": {
            "color": [
             8.3,
             8.3
            ],
            "coloraxis": "coloraxis",
            "size": [
             986953,
             779099
            ],
            "sizemode": "area",
            "sizeref": 6168.0725,
            "symbol": "circle"
           },
           "mode": "markers",
           "name": "",
           "orientation": "v",
           "showlegend": false,
           "type": "scatter",
           "x": [
            8.3,
            8.3
           ],
           "xaxis": "x",
           "y": [
            986953,
            779099
           ],
           "yaxis": "y"
          }
         ],
         "name": "1983"
        },
        {
         "data": [
          {
           "hovertemplate": "year=1992<br>averageRating=%{marker.color}<br>number_of_votes=%{marker.size}<extra></extra>",
           "legendgroup": "",
           "marker": {
            "color": [
             8.3,
             8.2
            ],
            "coloraxis": "coloraxis",
            "size": [
             958770,
             392170
            ],
            "sizemode": "area",
            "sizeref": 6168.0725,
            "symbol": "circle"
           },
           "mode": "markers",
           "name": "",
           "orientation": "v",
           "showlegend": false,
           "type": "scatter",
           "x": [
            8.3,
            8.2
           ],
           "xaxis": "x",
           "y": [
            958770,
            392170
           ],
           "yaxis": "y"
          }
         ],
         "name": "1992"
        },
        {
         "data": [
          {
           "hovertemplate": "year=1975<br>averageRating=%{marker.color}<br>number_of_votes=%{marker.size}<extra></extra>",
           "legendgroup": "",
           "marker": {
            "color": [
             8.7,
             8.2,
             8.1,
             8.2
            ],
            "coloraxis": "coloraxis",
            "size": [
             954758,
             517951,
             158458,
             53683
            ],
            "sizemode": "area",
            "sizeref": 6168.0725,
            "symbol": "circle"
           },
           "mode": "markers",
           "name": "",
           "orientation": "v",
           "showlegend": false,
           "type": "scatter",
           "x": [
            8.7,
            8.2,
            8.1,
            8.2
           ],
           "xaxis": "x",
           "y": [
            954758,
            517951,
            158458,
            53683
           ],
           "yaxis": "y"
          }
         ],
         "name": "1975"
        },
        {
         "data": [
          {
           "hovertemplate": "year=2004<br>averageRating=%{marker.color}<br>number_of_votes=%{marker.size}<extra></extra>",
           "legendgroup": "",
           "marker": {
            "color": [
             8.3,
             8.1,
             8.2,
             8.1,
             8.2,
             8.1,
             8.2
            ],
            "coloraxis": "coloraxis",
            "size": [
             949157,
             658178,
             358101,
             343733,
             342001,
             248188,
             87104
            ],
            "sizemode": "area",
            "sizeref": 6168.0725,
            "symbol": "circle"
           },
           "mode": "markers",
           "name": "",
           "orientation": "v",
           "showlegend": false,
           "type": "scatter",
           "x": [
            8.3,
            8.1,
            8.2,
            8.1,
            8.2,
            8.1,
            8.2
           ],
           "xaxis": "x",
           "y": [
            949157,
            658178,
            358101,
            343733,
            342001,
            248188,
            87104
           ],
           "yaxis": "y"
          }
         ],
         "name": "2004"
        },
        {
         "data": [
          {
           "hovertemplate": "year=2015<br>averageRating=%{marker.color}<br>number_of_votes=%{marker.size}<extra></extra>",
           "legendgroup": "",
           "marker": {
            "color": [
             8.1,
             8.1,
             8.1,
             8.1,
             8.2
            ],
            "coloraxis": "coloraxis",
            "size": [
             928199,
             654361,
             442809,
             393244,
             76810
            ],
            "sizemode": "area",
            "sizeref": 6168.0725,
            "symbol": "circle"
           },
           "mode": "markers",
           "name": "",
           "orientation": "v",
           "showlegend": false,
           "type": "scatter",
           "x": [
            8.1,
            8.1,
            8.1,
            8.1,
            8.2
           ],
           "xaxis": "x",
           "y": [
            928199,
            654361,
            442809,
            393244,
            76810
           ],
           "yaxis": "y"
          }
         ],
         "name": "2015"
        },
        {
         "data": [
          {
           "hovertemplate": "year=2018<br>averageRating=%{marker.color}<br>number_of_votes=%{marker.size}<extra></extra>",
           "legendgroup": "",
           "marker": {
            "color": [
             8.4,
             8.4,
             8.2,
             8.2,
             8.4,
             8.2
            ],
            "coloraxis": "coloraxis",
            "size": [
             925836,
             428475,
             427455,
             82917,
             75699,
             59776
            ],
            "sizemode": "area",
            "sizeref": 6168.0725,
            "symbol": "circle"
           },
           "mode": "markers",
           "name": "",
           "orientation": "v",
           "showlegend": false,
           "type": "scatter",
           "x": [
            8.4,
            8.4,
            8.2,
            8.2,
            8.4,
            8.2
           ],
           "xaxis": "x",
           "y": [
            925836,
            428475,
            427455,
            82917,
            75699,
            59776
           ],
           "yaxis": "y"
          }
         ],
         "name": "2018"
        },
        {
         "data": [
          {
           "hovertemplate": "year=1981<br>averageRating=%{marker.color}<br>number_of_votes=%{marker.size}<extra></extra>",
           "legendgroup": "",
           "marker": {
            "color": [
             8.4,
             8.3
            ],
            "coloraxis": "coloraxis",
            "size": [
             917621,
             240750
            ],
            "sizemode": "area",
            "sizeref": 6168.0725,
            "symbol": "circle"
           },
           "mode": "markers",
           "name": "",
           "orientation": "v",
           "showlegend": false,
           "type": "scatter",
           "x": [
            8.4,
            8.3
           ],
           "xaxis": "x",
           "y": [
            917621,
            240750
           ],
           "yaxis": "y"
          }
         ],
         "name": "1981"
        },
        {
         "data": [
          {
           "hovertemplate": "year=2007<br>averageRating=%{marker.color}<br>number_of_votes=%{marker.size}<extra></extra>",
           "legendgroup": "",
           "marker": {
            "color": [
             8.1,
             8.1,
             8.2,
             8.4,
             8.2
            ],
            "coloraxis": "coloraxis",
            "size": [
             901637,
             594840,
             545417,
             180911,
             77473
            ],
            "sizemode": "area",
            "sizeref": 6168.0725,
            "symbol": "circle"
           },
           "mode": "markers",
           "name": "",
           "orientation": "v",
           "showlegend": false,
           "type": "scatter",
           "x": [
            8.1,
            8.1,
            8.2,
            8.4,
            8.2
           ],
           "xaxis": "x",
           "y": [
            901637,
            594840,
            545417,
            180911,
            77473
           ],
           "yaxis": "y"
          }
         ],
         "name": "2007"
        },
        {
         "data": [
          {
           "hovertemplate": "year=1997<br>averageRating=%{marker.color}<br>number_of_votes=%{marker.size}<extra></extra>",
           "legendgroup": "",
           "marker": {
            "color": [
             8.3,
             8.6,
             8.2,
             8.4,
             8.3
            ],
            "coloraxis": "coloraxis",
            "size": [
             901559,
             652737,
             552109,
             365253,
             70379
            ],
            "sizemode": "area",
            "sizeref": 6168.0725,
            "symbol": "circle"
           },
           "mode": "markers",
           "name": "",
           "orientation": "v",
           "showlegend": false,
           "type": "scatter",
           "x": [
            8.3,
            8.6,
            8.2,
            8.4,
            8.3
           ],
           "xaxis": "x",
           "y": [
            901559,
            652737,
            552109,
            365253,
            70379
           ],
           "yaxis": "y"
          }
         ],
         "name": "1997"
        },
        {
         "data": [
          {
           "hovertemplate": "year=1979<br>averageRating=%{marker.color}<br>number_of_votes=%{marker.size}<extra></extra>",
           "legendgroup": "",
           "marker": {
            "color": [
             8.4,
             8.4,
             8.1,
             8.1
            ],
            "coloraxis": "coloraxis",
            "size": [
             824005,
             630269,
             381735,
             126230
            ],
            "sizemode": "area",
            "sizeref": 6168.0725,
            "symbol": "circle"
           },
           "mode": "markers",
           "name": "",
           "orientation": "v",
           "showlegend": false,
           "type": "scatter",
           "x": [
            8.4,
            8.4,
            8.1,
            8.1
           ],
           "xaxis": "x",
           "y": [
            824005,
            630269,
            381735,
            126230
           ],
           "yaxis": "y"
          }
         ],
         "name": "1979"
        },
        {
         "data": [
          {
           "hovertemplate": "year=1988<br>averageRating=%{marker.color}<br>number_of_votes=%{marker.size}<extra></extra>",
           "legendgroup": "",
           "marker": {
            "color": [
             8.2,
             8.2,
             8.5,
             8.5
            ],
            "coloraxis": "coloraxis",
            "size": [
             821229,
             311280,
             253041,
             245604
            ],
            "sizemode": "area",
            "sizeref": 6168.0725,
            "symbol": "circle"
           },
           "mode": "markers",
           "name": "",
           "orientation": "v",
           "showlegend": false,
           "type": "scatter",
           "x": [
            8.2,
            8.2,
            8.5,
            8.5
           ],
           "xaxis": "x",
           "y": [
            821229,
            311280,
            253041,
            245604
           ],
           "yaxis": "y"
          }
         ],
         "name": "1988"
        },
        {
         "data": [
          {
           "hovertemplate": "year=2011<br>averageRating=%{marker.color}<br>number_of_votes=%{marker.size}<extra></extra>",
           "legendgroup": "",
           "marker": {
            "color": [
             8.1,
             8.5,
             8.1,
             8.3,
             8.2
            ],
            "coloraxis": "coloraxis",
            "size": [
             803440,
             797600,
             450305,
             232217,
             72943
            ],
            "sizemode": "area",
            "sizeref": 6168.0725,
            "symbol": "circle"
           },
           "mode": "markers",
           "name": "",
           "orientation": "v",
           "showlegend": false,
           "type": "scatter",
           "x": [
            8.1,
            8.5,
            8.1,
            8.3,
            8.2
           ],
           "xaxis": "x",
           "y": [
            803440,
            797600,
            450305,
            232217,
            72943
           ],
           "yaxis": "y"
          }
         ],
         "name": "2011"
        },
        {
         "data": [
          {
           "hovertemplate": "year=1971<br>averageRating=%{marker.color}<br>number_of_votes=%{marker.size}<extra></extra>",
           "legendgroup": "",
           "marker": {
            "color": [
             8.3
            ],
            "coloraxis": "coloraxis",
            "size": [
             786414
            ],
            "sizemode": "area",
            "sizeref": 6168.0725,
            "symbol": "circle"
           },
           "mode": "markers",
           "name": "",
           "orientation": "v",
           "showlegend": false,
           "type": "scatter",
           "x": [
            8.3
           ],
           "xaxis": "x",
           "y": [
            786414
           ],
           "yaxis": "y"
          }
         ],
         "name": "1971"
        },
        {
         "data": [
          {
           "hovertemplate": "year=1976<br>averageRating=%{marker.color}<br>number_of_votes=%{marker.size}<extra></extra>",
           "legendgroup": "",
           "marker": {
            "color": [
             8.2,
             8.1,
             8.1
            ],
            "coloraxis": "coloraxis",
            "size": [
             762400,
             540104,
             152458
            ],
            "sizemode": "area",
            "sizeref": 6168.0725,
            "symbol": "circle"
           },
           "mode": "markers",
           "name": "",
           "orientation": "v",
           "showlegend": false,
           "type": "scatter",
           "x": [
            8.2,
            8.1,
            8.1
           ],
           "xaxis": "x",
           "y": [
            762400,
            540104,
            152458
           ],
           "yaxis": "y"
          }
         ],
         "name": "1976"
        },
        {
         "data": [
          {
           "hovertemplate": "year=1957<br>averageRating=%{marker.color}<br>number_of_votes=%{marker.size}<extra></extra>",
           "legendgroup": "",
           "marker": {
            "color": [
             9,
             8.1,
             8.4,
             8.2,
             8.4,
             8.2
            ],
            "coloraxis": "coloraxis",
            "size": [
             730308,
             211368,
             187321,
             175568,
             116553,
             102235
            ],
            "sizemode": "area",
            "sizeref": 6168.0725,
            "symbol": "circle"
           },
           "mode": "markers",
           "name": "",
           "orientation": "v",
           "showlegend": false,
           "type": "scatter",
           "x": [
            9,
            8.1,
            8.4,
            8.2,
            8.4,
            8.2
           ],
           "xaxis": "x",
           "y": [
            730308,
            211368,
            187321,
            175568,
            116553,
            102235
           ],
           "yaxis": "y"
          }
         ],
         "name": "1957"
        },
        {
         "data": [
          {
           "hovertemplate": "year=1982<br>averageRating=%{marker.color}<br>number_of_votes=%{marker.size}<extra></extra>",
           "legendgroup": "",
           "marker": {
            "color": [
             8.1,
             8.1,
             8.1
            ],
            "coloraxis": "coloraxis",
            "size": [
             722521,
             391533,
             60833
            ],
            "sizemode": "area",
            "sizeref": 6168.0725,
            "symbol": "circle"
           },
           "mode": "markers",
           "name": "",
           "orientation": "v",
           "showlegend": false,
           "type": "scatter",
           "x": [
            8.1,
            8.1,
            8.1
           ],
           "xaxis": "x",
           "y": [
            722521,
            391533,
            60833
           ],
           "yaxis": "y"
          }
         ],
         "name": "1982"
        },
        {
         "data": [
          {
           "hovertemplate": "year=1966<br>averageRating=%{marker.color}<br>number_of_votes=%{marker.size}<extra></extra>",
           "legendgroup": "",
           "marker": {
            "color": [
             8.8,
             8.1,
             8.1,
             8.1
            ],
            "coloraxis": "coloraxis",
            "size": [
             718500,
             110817,
             56856,
             50860
            ],
            "sizemode": "area",
            "sizeref": 6168.0725,
            "symbol": "circle"
           },
           "mode": "markers",
           "name": "",
           "orientation": "v",
           "showlegend": false,
           "type": "scatter",
           "x": [
            8.8,
            8.1,
            8.1,
            8.1
           ],
           "xaxis": "x",
           "y": [
            718500,
            110817,
            56856,
            50860
           ],
           "yaxis": "y"
          }
         ],
         "name": "1966"
        },
        {
         "data": [
          {
           "hovertemplate": "year=1989<br>averageRating=%{marker.color}<br>number_of_votes=%{marker.size}<extra></extra>",
           "legendgroup": "",
           "marker": {
            "color": [
             8.2,
             8.1
            ],
            "coloraxis": "coloraxis",
            "size": [
             717727,
             449605
            ],
            "sizemode": "area",
            "sizeref": 6168.0725,
            "symbol": "circle"
           },
           "mode": "markers",
           "name": "",
           "orientation": "v",
           "showlegend": false,
           "type": "scatter",
           "x": [
            8.2,
            8.1
           ],
           "xaxis": "x",
           "y": [
            717727,
            449605
           ],
           "yaxis": "y"
          }
         ],
         "name": "1989"
        },
        {
         "data": [
          {
           "hovertemplate": "year=1987<br>averageRating=%{marker.color}<br>number_of_votes=%{marker.size}<extra></extra>",
           "legendgroup": "",
           "marker": {
            "color": [
             8.3,
             8.1
            ],
            "coloraxis": "coloraxis",
            "size": [
             702042,
             408536
            ],
            "sizemode": "area",
            "sizeref": 6168.0725,
            "symbol": "circle"
           },
           "mode": "markers",
           "name": "",
           "orientation": "v",
           "showlegend": false,
           "type": "scatter",
           "x": [
            8.3,
            8.1
           ],
           "xaxis": "x",
           "y": [
            702042,
            408536
           ],
           "yaxis": "y"
          }
         ],
         "name": "1987"
        },
        {
         "data": [
          {
           "hovertemplate": "year=2017<br>averageRating=%{marker.color}<br>number_of_votes=%{marker.size}<extra></extra>",
           "legendgroup": "",
           "marker": {
            "color": [
             8.1,
             8.1,
             8.4,
             8.2
            ],
            "coloraxis": "coloraxis",
            "size": [
             688717,
             466552,
             432725,
             81180
            ],
            "sizemode": "area",
            "sizeref": 6168.0725,
            "symbol": "circle"
           },
           "mode": "markers",
           "name": "",
           "orientation": "v",
           "showlegend": false,
           "type": "scatter",
           "x": [
            8.1,
            8.1,
            8.4,
            8.2
           ],
           "xaxis": "x",
           "y": [
            688717,
            466552,
            432725,
            81180
           ],
           "yaxis": "y"
          }
         ],
         "name": "2017"
        },
        {
         "data": [
          {
           "hovertemplate": "year=1986<br>averageRating=%{marker.color}<br>number_of_votes=%{marker.size}<extra></extra>",
           "legendgroup": "",
           "marker": {
            "color": [
             8.3,
             8.1,
             8.1
            ],
            "coloraxis": "coloraxis",
            "size": [
             678989,
             395536,
             380377
            ],
            "sizemode": "area",
            "sizeref": 6168.0725,
            "symbol": "circle"
           },
           "mode": "markers",
           "name": "",
           "orientation": "v",
           "showlegend": false,
           "type": "scatter",
           "x": [
            8.3,
            8.1,
            8.1
           ],
           "xaxis": "x",
           "y": [
            678989,
            395536,
            380377
           ],
           "yaxis": "y"
          }
         ],
         "name": "1986"
        },
        {
         "data": [
          {
           "hovertemplate": "year=1996<br>averageRating=%{marker.color}<br>number_of_votes=%{marker.size}<extra></extra>",
           "legendgroup": "",
           "marker": {
            "color": [
             8.1,
             8.1,
             8.2
            ],
            "coloraxis": "coloraxis",
            "size": [
             656426,
             643771,
             67727
            ],
            "sizemode": "area",
            "sizeref": 6168.0725,
            "symbol": "circle"
           },
           "mode": "markers",
           "name": "",
           "orientation": "v",
           "showlegend": false,
           "type": "scatter",
           "x": [
            8.1,
            8.1,
            8.2
           ],
           "xaxis": "x",
           "y": [
            656426,
            643771,
            67727
           ],
           "yaxis": "y"
          }
         ],
         "name": "1996"
        },
        {
         "data": [
          {
           "hovertemplate": "year=1960<br>averageRating=%{marker.color}<br>number_of_votes=%{marker.size}<extra></extra>",
           "legendgroup": "",
           "marker": {
            "color": [
             8.5,
             8.3
            ],
            "coloraxis": "coloraxis",
            "size": [
             631155,
             172293
            ],
            "sizemode": "area",
            "sizeref": 6168.0725,
            "symbol": "circle"
           },
           "mode": "markers",
           "name": "",
           "orientation": "v",
           "showlegend": false,
           "type": "scatter",
           "x": [
            8.5,
            8.3
           ],
           "xaxis": "x",
           "y": [
            631155,
            172293
           ],
           "yaxis": "y"
          }
         ],
         "name": "1960"
        },
        {
         "data": [
          {
           "hovertemplate": "year=1968<br>averageRating=%{marker.color}<br>number_of_votes=%{marker.size}<extra></extra>",
           "legendgroup": "",
           "marker": {
            "color": [
             8.3,
             8.5
            ],
            "coloraxis": "coloraxis",
            "size": [
             630232,
             314637
            ],
            "sizemode": "area",
            "sizeref": 6168.0725,
            "symbol": "circle"
           },
           "mode": "markers",
           "name": "",
           "orientation": "v",
           "showlegend": false,
           "type": "scatter",
           "x": [
            8.3,
            8.5
           ],
           "xaxis": "x",
           "y": [
            630232,
            314637
           ],
           "yaxis": "y"
          }
         ],
         "name": "1968"
        },
        {
         "data": [
          {
           "hovertemplate": "year=1942<br>averageRating=%{marker.color}<br>number_of_votes=%{marker.size}<extra></extra>",
           "legendgroup": "",
           "marker": {
            "color": [
             8.5
            ],
            "coloraxis": "coloraxis",
            "size": [
             543270
            ],
            "sizemode": "area",
            "sizeref": 6168.0725,
            "symbol": "circle"
           },
           "mode": "markers",
           "name": "",
           "orientation": "v",
           "showlegend": false,
           "type": "scatter",
           "x": [
            8.5
           ],
           "xaxis": "x",
           "y": [
            543270
           ],
           "yaxis": "y"
          }
         ],
         "name": "1942"
        },
        {
         "data": [
          {
           "hovertemplate": "year=2016<br>averageRating=%{marker.color}<br>number_of_votes=%{marker.size}<extra></extra>",
           "legendgroup": "",
           "marker": {
            "color": [
             8.1,
             8.4,
             8.4,
             8.1,
             8.1,
             8.7,
             8.2
            ],
            "coloraxis": "coloraxis",
            "size": [
             468276,
             225384,
             171613,
             160754,
             128191,
             106823,
             63394
            ],
            "sizemode": "area",
            "sizeref": 6168.0725,
            "symbol": "circle"
           },
           "mode": "markers",
           "name": "",
           "orientation": "v",
           "showlegend": false,
           "type": "scatter",
           "x": [
            8.1,
            8.4,
            8.4,
            8.1,
            8.1,
            8.7,
            8.2
           ],
           "xaxis": "x",
           "y": [
            468276,
            225384,
            171613,
            160754,
            128191,
            106823,
            63394
           ],
           "yaxis": "y"
          }
         ],
         "name": "2016"
        },
        {
         "data": [
          {
           "hovertemplate": "year=1964<br>averageRating=%{marker.color}<br>number_of_votes=%{marker.size}<extra></extra>",
           "legendgroup": "",
           "marker": {
            "color": [
             8.4
            ],
            "coloraxis": "coloraxis",
            "size": [
             467944
            ],
            "sizemode": "area",
            "sizeref": 6168.0725,
            "symbol": "circle"
           },
           "mode": "markers",
           "name": "",
           "orientation": "v",
           "showlegend": false,
           "type": "scatter",
           "x": [
            8.4
           ],
           "xaxis": "x",
           "y": [
            467944
           ],
           "yaxis": "y"
          }
         ],
         "name": "1964"
        },
        {
         "data": [
          {
           "hovertemplate": "year=1954<br>averageRating=%{marker.color}<br>number_of_votes=%{marker.size}<extra></extra>",
           "legendgroup": "",
           "marker": {
            "color": [
             8.5,
             8.6,
             8.2,
             8.1
            ],
            "coloraxis": "coloraxis",
            "size": [
             465763,
             329185,
             166839,
             148607
            ],
            "sizemode": "area",
            "sizeref": 6168.0725,
            "symbol": "circle"
           },
           "mode": "markers",
           "name": "",
           "orientation": "v",
           "showlegend": false,
           "type": "scatter",
           "x": [
            8.5,
            8.6,
            8.2,
            8.1
           ],
           "xaxis": "x",
           "y": [
            465763,
            329185,
            166839,
            148607
           ],
           "yaxis": "y"
          }
         ],
         "name": "1954"
        },
        {
         "data": [
          {
           "hovertemplate": "year=1941<br>averageRating=%{marker.color}<br>number_of_votes=%{marker.size}<extra></extra>",
           "legendgroup": "",
           "marker": {
            "color": [
             8.3
            ],
            "coloraxis": "coloraxis",
            "size": [
             422741
            ],
            "sizemode": "area",
            "sizeref": 6168.0725,
            "symbol": "circle"
           },
           "mode": "markers",
           "name": "",
           "orientation": "v",
           "showlegend": false,
           "type": "scatter",
           "x": [
            8.3
           ],
           "xaxis": "x",
           "y": [
            422741
           ],
           "yaxis": "y"
          }
         ],
         "name": "1941"
        },
        {
         "data": [
          {
           "hovertemplate": "year=1946<br>averageRating=%{marker.color}<br>number_of_votes=%{marker.size}<extra></extra>",
           "legendgroup": "",
           "marker": {
            "color": [
             8.6,
             8.1
            ],
            "coloraxis": "coloraxis",
            "size": [
             422657,
             61016
            ],
            "sizemode": "area",
            "sizeref": 6168.0725,
            "symbol": "circle"
           },
           "mode": "markers",
           "name": "",
           "orientation": "v",
           "showlegend": false,
           "type": "scatter",
           "x": [
            8.6,
            8.1
           ],
           "xaxis": "x",
           "y": [
            422657,
            61016
           ],
           "yaxis": "y"
          }
         ],
         "name": "1946"
        },
        {
         "data": [
          {
           "hovertemplate": "year=1984<br>averageRating=%{marker.color}<br>number_of_votes=%{marker.size}<extra></extra>",
           "legendgroup": "",
           "marker": {
            "color": [
             8.3,
             8.3,
             8.1,
             8.1
            ],
            "coloraxis": "coloraxis",
            "size": [
             382560,
             329461,
             160093,
             99213
            ],
            "sizemode": "area",
            "sizeref": 6168.0725,
            "symbol": "circle"
           },
           "mode": "markers",
           "name": "",
           "orientation": "v",
           "showlegend": false,
           "type": "scatter",
           "x": [
            8.3,
            8.3,
            8.1,
            8.1
           ],
           "xaxis": "x",
           "y": [
            382560,
            329461,
            160093,
            99213
           ],
           "yaxis": "y"
          }
         ],
         "name": "1984"
        },
        {
         "data": [
          {
           "hovertemplate": "year=1958<br>averageRating=%{marker.color}<br>number_of_votes=%{marker.size}<extra></extra>",
           "legendgroup": "",
           "marker": {
            "color": [
             8.3
            ],
            "coloraxis": "coloraxis",
            "size": [
             382469
            ],
            "sizemode": "area",
            "sizeref": 6168.0725,
            "symbol": "circle"
           },
           "mode": "markers",
           "name": "",
           "orientation": "v",
           "showlegend": false,
           "type": "scatter",
           "x": [
            8.3
           ],
           "xaxis": "x",
           "y": [
            382469
           ],
           "yaxis": "y"
          }
         ],
         "name": "1958"
        },
        {
         "data": [
          {
           "hovertemplate": "year=2021<br>averageRating=%{marker.color}<br>number_of_votes=%{marker.size}<extra></extra>",
           "legendgroup": "",
           "marker": {
            "color": [
             8.1,
             8.7,
             8.4
            ],
            "coloraxis": "coloraxis",
            "size": [
             337884,
             102616,
             57831
            ],
            "sizemode": "area",
            "sizeref": 6168.0725,
            "symbol": "circle"
           },
           "mode": "markers",
           "name": "",
           "orientation": "v",
           "showlegend": false,
           "type": "scatter",
           "x": [
            8.1,
            8.7,
            8.4
           ],
           "xaxis": "x",
           "y": [
            337884,
            102616,
            57831
           ],
           "yaxis": "y"
          }
         ],
         "name": "2021"
        },
        {
         "data": [
          {
           "hovertemplate": "year=1978<br>averageRating=%{marker.color}<br>number_of_votes=%{marker.size}<extra></extra>",
           "legendgroup": "",
           "marker": {
            "color": [
             8.1
            ],
            "coloraxis": "coloraxis",
            "size": [
             324804
            ],
            "sizemode": "area",
            "sizeref": 6168.0725,
            "symbol": "circle"
           },
           "mode": "markers",
           "name": "",
           "orientation": "v",
           "showlegend": false,
           "type": "scatter",
           "x": [
            8.1
           ],
           "xaxis": "x",
           "y": [
            324804
           ],
           "yaxis": "y"
          }
         ],
         "name": "1978"
        },
        {
         "data": [
          {
           "hovertemplate": "year=1959<br>averageRating=%{marker.color}<br>number_of_votes=%{marker.size}<extra></extra>",
           "legendgroup": "",
           "marker": {
            "color": [
             8.3,
             8.2,
             8.1,
             8.1
            ],
            "coloraxis": "coloraxis",
            "size": [
             312356,
             254673,
             228722,
             111490
            ],
            "sizemode": "area",
            "sizeref": 6168.0725,
            "symbol": "circle"
           },
           "mode": "markers",
           "name": "",
           "orientation": "v",
           "showlegend": false,
           "type": "scatter",
           "x": [
            8.3,
            8.2,
            8.1,
            8.1
           ],
           "xaxis": "x",
           "y": [
            312356,
            254673,
            228722,
            111490
           ],
           "yaxis": "y"
          }
         ],
         "name": "1959"
        },
        {
         "data": [
          {
           "hovertemplate": "year=1962<br>averageRating=%{marker.color}<br>number_of_votes=%{marker.size}<extra></extra>",
           "legendgroup": "",
           "marker": {
            "color": [
             8.3,
             8.3,
             8.1,
             8.1
            ],
            "coloraxis": "coloraxis",
            "size": [
             304462,
             279662,
             72573,
             52825
            ],
            "sizemode": "area",
            "sizeref": 6168.0725,
            "symbol": "circle"
           },
           "mode": "markers",
           "name": "",
           "orientation": "v",
           "showlegend": false,
           "type": "scatter",
           "x": [
            8.3,
            8.3,
            8.1,
            8.1
           ],
           "xaxis": "x",
           "y": [
            304462,
            279662,
            72573,
            52825
           ],
           "yaxis": "y"
          }
         ],
         "name": "1962"
        },
        {
         "data": [
          {
           "hovertemplate": "year=1939<br>averageRating=%{marker.color}<br>number_of_votes=%{marker.size}<extra></extra>",
           "legendgroup": "",
           "marker": {
            "color": [
             8.1,
             8.1
            ],
            "coloraxis": "coloraxis",
            "size": [
             301612,
             111473
            ],
            "sizemode": "area",
            "sizeref": 6168.0725,
            "symbol": "circle"
           },
           "mode": "markers",
           "name": "",
           "orientation": "v",
           "showlegend": false,
           "type": "scatter",
           "x": [
            8.1,
            8.1
           ],
           "xaxis": "x",
           "y": [
            301612,
            111473
           ],
           "yaxis": "y"
          }
         ],
         "name": "1939"
        },
        {
         "data": [
          {
           "hovertemplate": "year=2020<br>averageRating=%{marker.color}<br>number_of_votes=%{marker.size}<extra></extra>",
           "legendgroup": "",
           "marker": {
            "color": [
             8.1,
             8.2,
             8.3,
             9.1,
             8.8,
             8.4
            ],
            "coloraxis": "coloraxis",
            "size": [
             278941,
             124387,
             98033,
             90129,
             79414,
             74037
            ],
            "sizemode": "area",
            "sizeref": 6168.0725,
            "symbol": "circle"
           },
           "mode": "markers",
           "name": "",
           "orientation": "v",
           "showlegend": false,
           "type": "scatter",
           "x": [
            8.1,
            8.2,
            8.3,
            9.1,
            8.8,
            8.4
           ],
           "xaxis": "x",
           "y": [
            278941,
            124387,
            98033,
            90129,
            79414,
            74037
           ],
           "yaxis": "y"
          }
         ],
         "name": "2020"
        },
        {
         "data": [
          {
           "hovertemplate": "year=1973<br>averageRating=%{marker.color}<br>number_of_votes=%{marker.size}<extra></extra>",
           "legendgroup": "",
           "marker": {
            "color": [
             8.3
            ],
            "coloraxis": "coloraxis",
            "size": [
             250794
            ],
            "sizemode": "area",
            "sizeref": 6168.0725,
            "symbol": "circle"
           },
           "mode": "markers",
           "name": "",
           "orientation": "v",
           "showlegend": false,
           "type": "scatter",
           "x": [
            8.3
           ],
           "xaxis": "x",
           "y": [
            250794
           ],
           "yaxis": "y"
          }
         ],
         "name": "1973"
        },
        {
         "data": [
          {
           "hovertemplate": "year=1965<br>averageRating=%{marker.color}<br>number_of_votes=%{marker.size}<extra></extra>",
           "legendgroup": "",
           "marker": {
            "color": [
             8.2
            ],
            "coloraxis": "coloraxis",
            "size": [
             243607
            ],
            "sizemode": "area",
            "sizeref": 6168.0725,
            "symbol": "circle"
           },
           "mode": "markers",
           "name": "",
           "orientation": "v",
           "showlegend": false,
           "type": "scatter",
           "x": [
            8.2
           ],
           "xaxis": "x",
           "y": [
            243607
           ],
           "yaxis": "y"
          }
         ],
         "name": "1965"
        },
        {
         "data": [
          {
           "hovertemplate": "year=1963<br>averageRating=%{marker.color}<br>number_of_votes=%{marker.size}<extra></extra>",
           "legendgroup": "",
           "marker": {
            "color": [
             8.2
            ],
            "coloraxis": "coloraxis",
            "size": [
             233939
            ],
            "sizemode": "area",
            "sizeref": 6168.0725,
            "symbol": "circle"
           },
           "mode": "markers",
           "name": "",
           "orientation": "v",
           "showlegend": false,
           "type": "scatter",
           "x": [
            8.2
           ],
           "xaxis": "x",
           "y": [
            233939
           ],
           "yaxis": "y"
          }
         ],
         "name": "1963"
        },
        {
         "data": [
          {
           "hovertemplate": "year=1936<br>averageRating=%{marker.color}<br>number_of_votes=%{marker.size}<extra></extra>",
           "legendgroup": "",
           "marker": {
            "color": [
             8.5
            ],
            "coloraxis": "coloraxis",
            "size": [
             228899
            ],
            "sizemode": "area",
            "sizeref": 6168.0725,
            "symbol": "circle"
           },
           "mode": "markers",
           "name": "",
           "orientation": "v",
           "showlegend": false,
           "type": "scatter",
           "x": [
            8.5
           ],
           "xaxis": "x",
           "y": [
            228899
           ],
           "yaxis": "y"
          }
         ],
         "name": "1936"
        },
        {
         "data": [
          {
           "hovertemplate": "year=1952<br>averageRating=%{marker.color}<br>number_of_votes=%{marker.size}<extra></extra>",
           "legendgroup": "",
           "marker": {
            "color": [
             8.3,
             8.3
            ],
            "coloraxis": "coloraxis",
            "size": [
             228819,
             73751
            ],
            "sizemode": "area",
            "sizeref": 6168.0725,
            "symbol": "circle"
           },
           "mode": "markers",
           "name": "",
           "orientation": "v",
           "showlegend": false,
           "type": "scatter",
           "x": [
            8.3,
            8.3
           ],
           "xaxis": "x",
           "y": [
            228819,
            73751
           ],
           "yaxis": "y"
          }
         ],
         "name": "1952"
        },
        {
         "data": [
          {
           "hovertemplate": "year=1940<br>averageRating=%{marker.color}<br>number_of_votes=%{marker.size}<extra></extra>",
           "legendgroup": "",
           "marker": {
            "color": [
             8.4,
             8.1,
             8.1
            ],
            "coloraxis": "coloraxis",
            "size": [
             213371,
             131148,
             89526
            ],
            "sizemode": "area",
            "sizeref": 6168.0725,
            "symbol": "circle"
           },
           "mode": "markers",
           "name": "",
           "orientation": "v",
           "showlegend": false,
           "type": "scatter",
           "x": [
            8.4,
            8.1,
            8.1
           ],
           "xaxis": "x",
           "y": [
            213371,
            131148,
            89526
           ],
           "yaxis": "y"
          }
         ],
         "name": "1940"
        },
        {
         "data": [
          {
           "hovertemplate": "year=1950<br>averageRating=%{marker.color}<br>number_of_votes=%{marker.size}<extra></extra>",
           "legendgroup": "",
           "marker": {
            "color": [
             8.4,
             8.2,
             8.2
            ],
            "coloraxis": "coloraxis",
            "size": [
             211265,
             160191,
             125952
            ],
            "sizemode": "area",
            "sizeref": 6168.0725,
            "symbol": "circle"
           },
           "mode": "markers",
           "name": "",
           "orientation": "v",
           "showlegend": false,
           "type": "scatter",
           "x": [
            8.4,
            8.2,
            8.2
           ],
           "xaxis": "x",
           "y": [
            211265,
            160191,
            125952
           ],
           "yaxis": "y"
          }
         ],
         "name": "1950"
        },
        {
         "data": [
          {
           "hovertemplate": "year=1931<br>averageRating=%{marker.color}<br>number_of_votes=%{marker.size}<extra></extra>",
           "legendgroup": "",
           "marker": {
            "color": [
             8.5,
             8.3
            ],
            "coloraxis": "coloraxis",
            "size": [
             176123,
             150670
            ],
            "sizemode": "area",
            "sizeref": 6168.0725,
            "symbol": "circle"
           },
           "mode": "markers",
           "name": "",
           "orientation": "v",
           "showlegend": false,
           "type": "scatter",
           "x": [
            8.5,
            8.3
           ],
           "xaxis": "x",
           "y": [
            176123,
            150670
           ],
           "yaxis": "y"
          }
         ],
         "name": "1931"
        },
        {
         "data": [
          {
           "hovertemplate": "year=1967<br>averageRating=%{marker.color}<br>number_of_votes=%{marker.size}<extra></extra>",
           "legendgroup": "",
           "marker": {
            "color": [
             8.1
            ],
            "coloraxis": "coloraxis",
            "size": [
             170175
            ],
            "sizemode": "area",
            "sizeref": 6168.0725,
            "symbol": "circle"
           },
           "mode": "markers",
           "name": "",
           "orientation": "v",
           "showlegend": false,
           "type": "scatter",
           "x": [
            8.1
           ],
           "xaxis": "x",
           "y": [
            170175
           ],
           "yaxis": "y"
          }
         ],
         "name": "1967"
        },
        {
         "data": [
          {
           "hovertemplate": "year=1927<br>averageRating=%{marker.color}<br>number_of_votes=%{marker.size}<extra></extra>",
           "legendgroup": "",
           "marker": {
            "color": [
             8.3
            ],
            "coloraxis": "coloraxis",
            "size": [
             166894
            ],
            "sizemode": "area",
            "sizeref": 6168.0725,
            "symbol": "circle"
           },
           "mode": "markers",
           "name": "",
           "orientation": "v",
           "showlegend": false,
           "type": "scatter",
           "x": [
            8.3
           ],
           "xaxis": "x",
           "y": [
            166894
           ],
           "yaxis": "y"
          }
         ],
         "name": "1927"
        },
        {
         "data": [
          {
           "hovertemplate": "year=1949<br>averageRating=%{marker.color}<br>number_of_votes=%{marker.size}<extra></extra>",
           "legendgroup": "",
           "marker": {
            "color": [
             8.1
            ],
            "coloraxis": "coloraxis",
            "size": [
             165251
            ],
            "sizemode": "area",
            "sizeref": 6168.0725,
            "symbol": "circle"
           },
           "mode": "markers",
           "name": "",
           "orientation": "v",
           "showlegend": false,
           "type": "scatter",
           "x": [
            8.1
           ],
           "xaxis": "x",
           "y": [
            165251
           ],
           "yaxis": "y"
          }
         ],
         "name": "1949"
        },
        {
         "data": [
          {
           "hovertemplate": "year=1948<br>averageRating=%{marker.color}<br>number_of_votes=%{marker.size}<extra></extra>",
           "legendgroup": "",
           "marker": {
            "color": [
             8.3,
             8.2
            ],
            "coloraxis": "coloraxis",
            "size": [
             155781,
             119736
            ],
            "sizemode": "area",
            "sizeref": 6168.0725,
            "symbol": "circle"
           },
           "mode": "markers",
           "name": "",
           "orientation": "v",
           "showlegend": false,
           "type": "scatter",
           "x": [
            8.3,
            8.2
           ],
           "xaxis": "x",
           "y": [
            155781,
            119736
           ],
           "yaxis": "y"
          }
         ],
         "name": "1948"
        },
        {
         "data": [
          {
           "hovertemplate": "year=1944<br>averageRating=%{marker.color}<br>number_of_votes=%{marker.size}<extra></extra>",
           "legendgroup": "",
           "marker": {
            "color": [
             8.3
            ],
            "coloraxis": "coloraxis",
            "size": [
             150120
            ],
            "sizemode": "area",
            "sizeref": 6168.0725,
            "symbol": "circle"
           },
           "mode": "markers",
           "name": "",
           "orientation": "v",
           "showlegend": false,
           "type": "scatter",
           "x": [
            8.3
           ],
           "xaxis": "x",
           "y": [
            150120
           ],
           "yaxis": "y"
          }
         ],
         "name": "1944"
        },
        {
         "data": [
          {
           "hovertemplate": "year=1921<br>averageRating=%{marker.color}<br>number_of_votes=%{marker.size}<extra></extra>",
           "legendgroup": "",
           "marker": {
            "color": [
             8.3
            ],
            "coloraxis": "coloraxis",
            "size": [
             120238
            ],
            "sizemode": "area",
            "sizeref": 6168.0725,
            "symbol": "circle"
           },
           "mode": "markers",
           "name": "",
           "orientation": "v",
           "showlegend": false,
           "type": "scatter",
           "x": [
            8.3
           ],
           "xaxis": "x",
           "y": [
            120238
           ],
           "yaxis": "y"
          }
         ],
         "name": "1921"
        },
        {
         "data": [
          {
           "hovertemplate": "year=1961<br>averageRating=%{marker.color}<br>number_of_votes=%{marker.size}<extra></extra>",
           "legendgroup": "",
           "marker": {
            "color": [
             8.2,
             8.2
            ],
            "coloraxis": "coloraxis",
            "size": [
             117324,
             73791
            ],
            "sizemode": "area",
            "sizeref": 6168.0725,
            "symbol": "circle"
           },
           "mode": "markers",
           "name": "",
           "orientation": "v",
           "showlegend": false,
           "type": "scatter",
           "x": [
            8.2,
            8.2
           ],
           "xaxis": "x",
           "y": [
            117324,
            73791
           ],
           "yaxis": "y"
          }
         ],
         "name": "1961"
        },
        {
         "data": [
          {
           "hovertemplate": "year=1925<br>averageRating=%{marker.color}<br>number_of_votes=%{marker.size}<extra></extra>",
           "legendgroup": "",
           "marker": {
            "color": [
             8.2
            ],
            "coloraxis": "coloraxis",
            "size": [
             106545
            ],
            "sizemode": "area",
            "sizeref": 6168.0725,
            "symbol": "circle"
           },
           "mode": "markers",
           "name": "",
           "orientation": "v",
           "showlegend": false,
           "type": "scatter",
           "x": [
            8.2
           ],
           "xaxis": "x",
           "y": [
            106545
           ],
           "yaxis": "y"
          }
         ],
         "name": "1925"
        },
        {
         "data": [
          {
           "hovertemplate": "year=1934<br>averageRating=%{marker.color}<br>number_of_votes=%{marker.size}<extra></extra>",
           "legendgroup": "",
           "marker": {
            "color": [
             8.1
            ],
            "coloraxis": "coloraxis",
            "size": [
             98880
            ],
            "sizemode": "area",
            "sizeref": 6168.0725,
            "symbol": "circle"
           },
           "mode": "markers",
           "name": "",
           "orientation": "v",
           "showlegend": false,
           "type": "scatter",
           "x": [
            8.1
           ],
           "xaxis": "x",
           "y": [
            98880
           ],
           "yaxis": "y"
          }
         ],
         "name": "1934"
        },
        {
         "data": [
          {
           "hovertemplate": "year=1926<br>averageRating=%{marker.color}<br>number_of_votes=%{marker.size}<extra></extra>",
           "legendgroup": "",
           "marker": {
            "color": [
             8.1
            ],
            "coloraxis": "coloraxis",
            "size": [
             86876
            ],
            "sizemode": "area",
            "sizeref": 6168.0725,
            "symbol": "circle"
           },
           "mode": "markers",
           "name": "",
           "orientation": "v",
           "showlegend": false,
           "type": "scatter",
           "x": [
            8.1
           ],
           "xaxis": "x",
           "y": [
            86876
           ],
           "yaxis": "y"
          }
         ],
         "name": "1926"
        },
        {
         "data": [
          {
           "hovertemplate": "year=1955<br>averageRating=%{marker.color}<br>number_of_votes=%{marker.size}<extra></extra>",
           "legendgroup": "",
           "marker": {
            "color": [
             8.1
            ],
            "coloraxis": "coloraxis",
            "size": [
             63908
            ],
            "sizemode": "area",
            "sizeref": 6168.0725,
            "symbol": "circle"
           },
           "mode": "markers",
           "name": "",
           "orientation": "v",
           "showlegend": false,
           "type": "scatter",
           "x": [
            8.1
           ],
           "xaxis": "x",
           "y": [
            63908
           ],
           "yaxis": "y"
          }
         ],
         "name": "1955"
        },
        {
         "data": [
          {
           "hovertemplate": "year=1920<br>averageRating=%{marker.color}<br>number_of_votes=%{marker.size}<extra></extra>",
           "legendgroup": "",
           "marker": {
            "color": [
             8.1
            ],
            "coloraxis": "coloraxis",
            "size": [
             60354
            ],
            "sizemode": "area",
            "sizeref": 6168.0725,
            "symbol": "circle"
           },
           "mode": "markers",
           "name": "",
           "orientation": "v",
           "showlegend": false,
           "type": "scatter",
           "x": [
            8.1
           ],
           "xaxis": "x",
           "y": [
            60354
           ],
           "yaxis": "y"
          }
         ],
         "name": "1920"
        },
        {
         "data": [
          {
           "hovertemplate": "year=1930<br>averageRating=%{marker.color}<br>number_of_votes=%{marker.size}<extra></extra>",
           "legendgroup": "",
           "marker": {
            "color": [
             8.1
            ],
            "coloraxis": "coloraxis",
            "size": [
             59365
            ],
            "sizemode": "area",
            "sizeref": 6168.0725,
            "symbol": "circle"
           },
           "mode": "markers",
           "name": "",
           "orientation": "v",
           "showlegend": false,
           "type": "scatter",
           "x": [
            8.1
           ],
           "xaxis": "x",
           "y": [
            59365
           ],
           "yaxis": "y"
          }
         ],
         "name": "1930"
        },
        {
         "data": [
          {
           "hovertemplate": "year=1953<br>averageRating=%{marker.color}<br>number_of_votes=%{marker.size}<extra></extra>",
           "legendgroup": "",
           "marker": {
            "color": [
             8.1,
             8.2
            ],
            "coloraxis": "coloraxis",
            "size": [
             58256,
             57676
            ],
            "sizemode": "area",
            "sizeref": 6168.0725,
            "symbol": "circle"
           },
           "mode": "markers",
           "name": "",
           "orientation": "v",
           "showlegend": false,
           "type": "scatter",
           "x": [
            8.1,
            8.2
           ],
           "xaxis": "x",
           "y": [
            58256,
            57676
           ],
           "yaxis": "y"
          }
         ],
         "name": "1953"
        },
        {
         "data": [
          {
           "hovertemplate": "year=1928<br>averageRating=%{marker.color}<br>number_of_votes=%{marker.size}<extra></extra>",
           "legendgroup": "",
           "marker": {
            "color": [
             8.1
            ],
            "coloraxis": "coloraxis",
            "size": [
             51468
            ],
            "sizemode": "area",
            "sizeref": 6168.0725,
            "symbol": "circle"
           },
           "mode": "markers",
           "name": "",
           "orientation": "v",
           "showlegend": false,
           "type": "scatter",
           "x": [
            8.1
           ],
           "xaxis": "x",
           "y": [
            51468
           ],
           "yaxis": "y"
          }
         ],
         "name": "1928"
        }
       ],
       "layout": {
        "coloraxis": {
         "colorbar": {
          "title": {
           "text": "averageRating"
          }
         },
         "colorscale": [
          [
           0,
           "#0d0887"
          ],
          [
           0.1111111111111111,
           "#46039f"
          ],
          [
           0.2222222222222222,
           "#7201a8"
          ],
          [
           0.3333333333333333,
           "#9c179e"
          ],
          [
           0.4444444444444444,
           "#bd3786"
          ],
          [
           0.5555555555555556,
           "#d8576b"
          ],
          [
           0.6666666666666666,
           "#ed7953"
          ],
          [
           0.7777777777777778,
           "#fb9f3a"
          ],
          [
           0.8888888888888888,
           "#fdca26"
          ],
          [
           1,
           "#f0f921"
          ]
         ]
        },
        "legend": {
         "itemsizing": "constant",
         "tracegroupgap": 0
        },
        "margin": {
         "t": 60
        },
        "sliders": [
         {
          "active": 0,
          "currentvalue": {
           "prefix": "year="
          },
          "len": 0.9,
          "pad": {
           "b": 10,
           "t": 60
          },
          "steps": [
           {
            "args": [
             [
              "1994"
             ],
             {
              "frame": {
               "duration": 0,
               "redraw": false
              },
              "fromcurrent": true,
              "mode": "immediate",
              "transition": {
               "duration": 0,
               "easing": "linear"
              }
             }
            ],
            "label": "1994",
            "method": "animate"
           },
           {
            "args": [
             [
              "2008"
             ],
             {
              "frame": {
               "duration": 0,
               "redraw": false
              },
              "fromcurrent": true,
              "mode": "immediate",
              "transition": {
               "duration": 0,
               "easing": "linear"
              }
             }
            ],
            "label": "2008",
            "method": "animate"
           },
           {
            "args": [
             [
              "2010"
             ],
             {
              "frame": {
               "duration": 0,
               "redraw": false
              },
              "fromcurrent": true,
              "mode": "immediate",
              "transition": {
               "duration": 0,
               "easing": "linear"
              }
             }
            ],
            "label": "2010",
            "method": "animate"
           },
           {
            "args": [
             [
              "1999"
             ],
             {
              "frame": {
               "duration": 0,
               "redraw": false
              },
              "fromcurrent": true,
              "mode": "immediate",
              "transition": {
               "duration": 0,
               "easing": "linear"
              }
             }
            ],
            "label": "1999",
            "method": "animate"
           },
           {
            "args": [
             [
              "2001"
             ],
             {
              "frame": {
               "duration": 0,
               "redraw": false
              },
              "fromcurrent": true,
              "mode": "immediate",
              "transition": {
               "duration": 0,
               "easing": "linear"
              }
             }
            ],
            "label": "2001",
            "method": "animate"
           },
           {
            "args": [
             [
              "2003"
             ],
             {
              "frame": {
               "duration": 0,
               "redraw": false
              },
              "fromcurrent": true,
              "mode": "immediate",
              "transition": {
               "duration": 0,
               "easing": "linear"
              }
             }
            ],
            "label": "2003",
            "method": "animate"
           },
           {
            "args": [
             [
              "1972"
             ],
             {
              "frame": {
               "duration": 0,
               "redraw": false
              },
              "fromcurrent": true,
              "mode": "immediate",
              "transition": {
               "duration": 0,
               "easing": "linear"
              }
             }
            ],
            "label": "1972",
            "method": "animate"
           },
           {
            "args": [
             [
              "2014"
             ],
             {
              "frame": {
               "duration": 0,
               "redraw": false
              },
              "fromcurrent": true,
              "mode": "immediate",
              "transition": {
               "duration": 0,
               "easing": "linear"
              }
             }
            ],
            "label": "2014",
            "method": "animate"
           },
           {
            "args": [
             [
              "2012"
             ],
             {
              "frame": {
               "duration": 0,
               "redraw": false
              },
              "fromcurrent": true,
              "mode": "immediate",
              "transition": {
               "duration": 0,
               "easing": "linear"
              }
             }
            ],
            "label": "2012",
            "method": "animate"
           },
           {
            "args": [
             [
              "2002"
             ],
             {
              "frame": {
               "duration": 0,
               "redraw": false
              },
              "fromcurrent": true,
              "mode": "immediate",
              "transition": {
               "duration": 0,
               "easing": "linear"
              }
             }
            ],
            "label": "2002",
            "method": "animate"
           },
           {
            "args": [
             [
              "1995"
             ],
             {
              "frame": {
               "duration": 0,
               "redraw": false
              },
              "fromcurrent": true,
              "mode": "immediate",
              "transition": {
               "duration": 0,
               "easing": "linear"
              }
             }
            ],
            "label": "1995",
            "method": "animate"
           },
           {
            "args": [
             [
              "2000"
             ],
             {
              "frame": {
               "duration": 0,
               "redraw": false
              },
              "fromcurrent": true,
              "mode": "immediate",
              "transition": {
               "duration": 0,
               "easing": "linear"
              }
             }
            ],
            "label": "2000",
            "method": "animate"
           },
           {
            "args": [
             [
              "2005"
             ],
             {
              "frame": {
               "duration": 0,
               "redraw": false
              },
              "fromcurrent": true,
              "mode": "immediate",
              "transition": {
               "duration": 0,
               "easing": "linear"
              }
             }
            ],
            "label": "2005",
            "method": "animate"
           },
           {
            "args": [
             [
              "2009"
             ],
             {
              "frame": {
               "duration": 0,
               "redraw": false
              },
              "fromcurrent": true,
              "mode": "immediate",
              "transition": {
               "duration": 0,
               "easing": "linear"
              }
             }
            ],
            "label": "2009",
            "method": "animate"
           },
           {
            "args": [
             [
              "1991"
             ],
             {
              "frame": {
               "duration": 0,
               "redraw": false
              },
              "fromcurrent": true,
              "mode": "immediate",
              "transition": {
               "duration": 0,
               "easing": "linear"
              }
             }
            ],
            "label": "1991",
            "method": "animate"
           },
           {
            "args": [
             [
              "1998"
             ],
             {
              "frame": {
               "duration": 0,
               "redraw": false
              },
              "fromcurrent": true,
              "mode": "immediate",
              "transition": {
               "duration": 0,
               "easing": "linear"
              }
             }
            ],
            "label": "1998",
            "method": "animate"
           },
           {
            "args": [
             [
              "1977"
             ],
             {
              "frame": {
               "duration": 0,
               "redraw": false
              },
              "fromcurrent": true,
              "mode": "immediate",
              "transition": {
               "duration": 0,
               "easing": "linear"
              }
             }
            ],
            "label": "1977",
            "method": "animate"
           },
           {
            "args": [
             [
              "1993"
             ],
             {
              "frame": {
               "duration": 0,
               "redraw": false
              },
              "fromcurrent": true,
              "mode": "immediate",
              "transition": {
               "duration": 0,
               "easing": "linear"
              }
             }
            ],
            "label": "1993",
            "method": "animate"
           },
           {
            "args": [
             [
              "2013"
             ],
             {
              "frame": {
               "duration": 0,
               "redraw": false
              },
              "fromcurrent": true,
              "mode": "immediate",
              "transition": {
               "duration": 0,
               "easing": "linear"
              }
             }
            ],
            "label": "2013",
            "method": "animate"
           },
           {
            "args": [
             [
              "2006"
             ],
             {
              "frame": {
               "duration": 0,
               "redraw": false
              },
              "fromcurrent": true,
              "mode": "immediate",
              "transition": {
               "duration": 0,
               "easing": "linear"
              }
             }
            ],
            "label": "2006",
            "method": "animate"
           },
           {
            "args": [
             [
              "1980"
             ],
             {
              "frame": {
               "duration": 0,
               "redraw": false
              },
              "fromcurrent": true,
              "mode": "immediate",
              "transition": {
               "duration": 0,
               "easing": "linear"
              }
             }
            ],
            "label": "1980",
            "method": "animate"
           },
           {
            "args": [
             [
              "1974"
             ],
             {
              "frame": {
               "duration": 0,
               "redraw": false
              },
              "fromcurrent": true,
              "mode": "immediate",
              "transition": {
               "duration": 0,
               "easing": "linear"
              }
             }
            ],
            "label": "1974",
            "method": "animate"
           },
           {
            "args": [
             [
              "1985"
             ],
             {
              "frame": {
               "duration": 0,
               "redraw": false
              },
              "fromcurrent": true,
              "mode": "immediate",
              "transition": {
               "duration": 0,
               "easing": "linear"
              }
             }
            ],
            "label": "1985",
            "method": "animate"
           },
           {
            "args": [
             [
              "1990"
             ],
             {
              "frame": {
               "duration": 0,
               "redraw": false
              },
              "fromcurrent": true,
              "mode": "immediate",
              "transition": {
               "duration": 0,
               "easing": "linear"
              }
             }
            ],
            "label": "1990",
            "method": "animate"
           },
           {
            "args": [
             [
              "2019"
             ],
             {
              "frame": {
               "duration": 0,
               "redraw": false
              },
              "fromcurrent": true,
              "mode": "immediate",
              "transition": {
               "duration": 0,
               "easing": "linear"
              }
             }
            ],
            "label": "2019",
            "method": "animate"
           },
           {
            "args": [
             [
              "1983"
             ],
             {
              "frame": {
               "duration": 0,
               "redraw": false
              },
              "fromcurrent": true,
              "mode": "immediate",
              "transition": {
               "duration": 0,
               "easing": "linear"
              }
             }
            ],
            "label": "1983",
            "method": "animate"
           },
           {
            "args": [
             [
              "1992"
             ],
             {
              "frame": {
               "duration": 0,
               "redraw": false
              },
              "fromcurrent": true,
              "mode": "immediate",
              "transition": {
               "duration": 0,
               "easing": "linear"
              }
             }
            ],
            "label": "1992",
            "method": "animate"
           },
           {
            "args": [
             [
              "1975"
             ],
             {
              "frame": {
               "duration": 0,
               "redraw": false
              },
              "fromcurrent": true,
              "mode": "immediate",
              "transition": {
               "duration": 0,
               "easing": "linear"
              }
             }
            ],
            "label": "1975",
            "method": "animate"
           },
           {
            "args": [
             [
              "2004"
             ],
             {
              "frame": {
               "duration": 0,
               "redraw": false
              },
              "fromcurrent": true,
              "mode": "immediate",
              "transition": {
               "duration": 0,
               "easing": "linear"
              }
             }
            ],
            "label": "2004",
            "method": "animate"
           },
           {
            "args": [
             [
              "2015"
             ],
             {
              "frame": {
               "duration": 0,
               "redraw": false
              },
              "fromcurrent": true,
              "mode": "immediate",
              "transition": {
               "duration": 0,
               "easing": "linear"
              }
             }
            ],
            "label": "2015",
            "method": "animate"
           },
           {
            "args": [
             [
              "2018"
             ],
             {
              "frame": {
               "duration": 0,
               "redraw": false
              },
              "fromcurrent": true,
              "mode": "immediate",
              "transition": {
               "duration": 0,
               "easing": "linear"
              }
             }
            ],
            "label": "2018",
            "method": "animate"
           },
           {
            "args": [
             [
              "1981"
             ],
             {
              "frame": {
               "duration": 0,
               "redraw": false
              },
              "fromcurrent": true,
              "mode": "immediate",
              "transition": {
               "duration": 0,
               "easing": "linear"
              }
             }
            ],
            "label": "1981",
            "method": "animate"
           },
           {
            "args": [
             [
              "2007"
             ],
             {
              "frame": {
               "duration": 0,
               "redraw": false
              },
              "fromcurrent": true,
              "mode": "immediate",
              "transition": {
               "duration": 0,
               "easing": "linear"
              }
             }
            ],
            "label": "2007",
            "method": "animate"
           },
           {
            "args": [
             [
              "1997"
             ],
             {
              "frame": {
               "duration": 0,
               "redraw": false
              },
              "fromcurrent": true,
              "mode": "immediate",
              "transition": {
               "duration": 0,
               "easing": "linear"
              }
             }
            ],
            "label": "1997",
            "method": "animate"
           },
           {
            "args": [
             [
              "1979"
             ],
             {
              "frame": {
               "duration": 0,
               "redraw": false
              },
              "fromcurrent": true,
              "mode": "immediate",
              "transition": {
               "duration": 0,
               "easing": "linear"
              }
             }
            ],
            "label": "1979",
            "method": "animate"
           },
           {
            "args": [
             [
              "1988"
             ],
             {
              "frame": {
               "duration": 0,
               "redraw": false
              },
              "fromcurrent": true,
              "mode": "immediate",
              "transition": {
               "duration": 0,
               "easing": "linear"
              }
             }
            ],
            "label": "1988",
            "method": "animate"
           },
           {
            "args": [
             [
              "2011"
             ],
             {
              "frame": {
               "duration": 0,
               "redraw": false
              },
              "fromcurrent": true,
              "mode": "immediate",
              "transition": {
               "duration": 0,
               "easing": "linear"
              }
             }
            ],
            "label": "2011",
            "method": "animate"
           },
           {
            "args": [
             [
              "1971"
             ],
             {
              "frame": {
               "duration": 0,
               "redraw": false
              },
              "fromcurrent": true,
              "mode": "immediate",
              "transition": {
               "duration": 0,
               "easing": "linear"
              }
             }
            ],
            "label": "1971",
            "method": "animate"
           },
           {
            "args": [
             [
              "1976"
             ],
             {
              "frame": {
               "duration": 0,
               "redraw": false
              },
              "fromcurrent": true,
              "mode": "immediate",
              "transition": {
               "duration": 0,
               "easing": "linear"
              }
             }
            ],
            "label": "1976",
            "method": "animate"
           },
           {
            "args": [
             [
              "1957"
             ],
             {
              "frame": {
               "duration": 0,
               "redraw": false
              },
              "fromcurrent": true,
              "mode": "immediate",
              "transition": {
               "duration": 0,
               "easing": "linear"
              }
             }
            ],
            "label": "1957",
            "method": "animate"
           },
           {
            "args": [
             [
              "1982"
             ],
             {
              "frame": {
               "duration": 0,
               "redraw": false
              },
              "fromcurrent": true,
              "mode": "immediate",
              "transition": {
               "duration": 0,
               "easing": "linear"
              }
             }
            ],
            "label": "1982",
            "method": "animate"
           },
           {
            "args": [
             [
              "1966"
             ],
             {
              "frame": {
               "duration": 0,
               "redraw": false
              },
              "fromcurrent": true,
              "mode": "immediate",
              "transition": {
               "duration": 0,
               "easing": "linear"
              }
             }
            ],
            "label": "1966",
            "method": "animate"
           },
           {
            "args": [
             [
              "1989"
             ],
             {
              "frame": {
               "duration": 0,
               "redraw": false
              },
              "fromcurrent": true,
              "mode": "immediate",
              "transition": {
               "duration": 0,
               "easing": "linear"
              }
             }
            ],
            "label": "1989",
            "method": "animate"
           },
           {
            "args": [
             [
              "1987"
             ],
             {
              "frame": {
               "duration": 0,
               "redraw": false
              },
              "fromcurrent": true,
              "mode": "immediate",
              "transition": {
               "duration": 0,
               "easing": "linear"
              }
             }
            ],
            "label": "1987",
            "method": "animate"
           },
           {
            "args": [
             [
              "2017"
             ],
             {
              "frame": {
               "duration": 0,
               "redraw": false
              },
              "fromcurrent": true,
              "mode": "immediate",
              "transition": {
               "duration": 0,
               "easing": "linear"
              }
             }
            ],
            "label": "2017",
            "method": "animate"
           },
           {
            "args": [
             [
              "1986"
             ],
             {
              "frame": {
               "duration": 0,
               "redraw": false
              },
              "fromcurrent": true,
              "mode": "immediate",
              "transition": {
               "duration": 0,
               "easing": "linear"
              }
             }
            ],
            "label": "1986",
            "method": "animate"
           },
           {
            "args": [
             [
              "1996"
             ],
             {
              "frame": {
               "duration": 0,
               "redraw": false
              },
              "fromcurrent": true,
              "mode": "immediate",
              "transition": {
               "duration": 0,
               "easing": "linear"
              }
             }
            ],
            "label": "1996",
            "method": "animate"
           },
           {
            "args": [
             [
              "1960"
             ],
             {
              "frame": {
               "duration": 0,
               "redraw": false
              },
              "fromcurrent": true,
              "mode": "immediate",
              "transition": {
               "duration": 0,
               "easing": "linear"
              }
             }
            ],
            "label": "1960",
            "method": "animate"
           },
           {
            "args": [
             [
              "1968"
             ],
             {
              "frame": {
               "duration": 0,
               "redraw": false
              },
              "fromcurrent": true,
              "mode": "immediate",
              "transition": {
               "duration": 0,
               "easing": "linear"
              }
             }
            ],
            "label": "1968",
            "method": "animate"
           },
           {
            "args": [
             [
              "1942"
             ],
             {
              "frame": {
               "duration": 0,
               "redraw": false
              },
              "fromcurrent": true,
              "mode": "immediate",
              "transition": {
               "duration": 0,
               "easing": "linear"
              }
             }
            ],
            "label": "1942",
            "method": "animate"
           },
           {
            "args": [
             [
              "2016"
             ],
             {
              "frame": {
               "duration": 0,
               "redraw": false
              },
              "fromcurrent": true,
              "mode": "immediate",
              "transition": {
               "duration": 0,
               "easing": "linear"
              }
             }
            ],
            "label": "2016",
            "method": "animate"
           },
           {
            "args": [
             [
              "1964"
             ],
             {
              "frame": {
               "duration": 0,
               "redraw": false
              },
              "fromcurrent": true,
              "mode": "immediate",
              "transition": {
               "duration": 0,
               "easing": "linear"
              }
             }
            ],
            "label": "1964",
            "method": "animate"
           },
           {
            "args": [
             [
              "1954"
             ],
             {
              "frame": {
               "duration": 0,
               "redraw": false
              },
              "fromcurrent": true,
              "mode": "immediate",
              "transition": {
               "duration": 0,
               "easing": "linear"
              }
             }
            ],
            "label": "1954",
            "method": "animate"
           },
           {
            "args": [
             [
              "1941"
             ],
             {
              "frame": {
               "duration": 0,
               "redraw": false
              },
              "fromcurrent": true,
              "mode": "immediate",
              "transition": {
               "duration": 0,
               "easing": "linear"
              }
             }
            ],
            "label": "1941",
            "method": "animate"
           },
           {
            "args": [
             [
              "1946"
             ],
             {
              "frame": {
               "duration": 0,
               "redraw": false
              },
              "fromcurrent": true,
              "mode": "immediate",
              "transition": {
               "duration": 0,
               "easing": "linear"
              }
             }
            ],
            "label": "1946",
            "method": "animate"
           },
           {
            "args": [
             [
              "1984"
             ],
             {
              "frame": {
               "duration": 0,
               "redraw": false
              },
              "fromcurrent": true,
              "mode": "immediate",
              "transition": {
               "duration": 0,
               "easing": "linear"
              }
             }
            ],
            "label": "1984",
            "method": "animate"
           },
           {
            "args": [
             [
              "1958"
             ],
             {
              "frame": {
               "duration": 0,
               "redraw": false
              },
              "fromcurrent": true,
              "mode": "immediate",
              "transition": {
               "duration": 0,
               "easing": "linear"
              }
             }
            ],
            "label": "1958",
            "method": "animate"
           },
           {
            "args": [
             [
              "2021"
             ],
             {
              "frame": {
               "duration": 0,
               "redraw": false
              },
              "fromcurrent": true,
              "mode": "immediate",
              "transition": {
               "duration": 0,
               "easing": "linear"
              }
             }
            ],
            "label": "2021",
            "method": "animate"
           },
           {
            "args": [
             [
              "1978"
             ],
             {
              "frame": {
               "duration": 0,
               "redraw": false
              },
              "fromcurrent": true,
              "mode": "immediate",
              "transition": {
               "duration": 0,
               "easing": "linear"
              }
             }
            ],
            "label": "1978",
            "method": "animate"
           },
           {
            "args": [
             [
              "1959"
             ],
             {
              "frame": {
               "duration": 0,
               "redraw": false
              },
              "fromcurrent": true,
              "mode": "immediate",
              "transition": {
               "duration": 0,
               "easing": "linear"
              }
             }
            ],
            "label": "1959",
            "method": "animate"
           },
           {
            "args": [
             [
              "1962"
             ],
             {
              "frame": {
               "duration": 0,
               "redraw": false
              },
              "fromcurrent": true,
              "mode": "immediate",
              "transition": {
               "duration": 0,
               "easing": "linear"
              }
             }
            ],
            "label": "1962",
            "method": "animate"
           },
           {
            "args": [
             [
              "1939"
             ],
             {
              "frame": {
               "duration": 0,
               "redraw": false
              },
              "fromcurrent": true,
              "mode": "immediate",
              "transition": {
               "duration": 0,
               "easing": "linear"
              }
             }
            ],
            "label": "1939",
            "method": "animate"
           },
           {
            "args": [
             [
              "2020"
             ],
             {
              "frame": {
               "duration": 0,
               "redraw": false
              },
              "fromcurrent": true,
              "mode": "immediate",
              "transition": {
               "duration": 0,
               "easing": "linear"
              }
             }
            ],
            "label": "2020",
            "method": "animate"
           },
           {
            "args": [
             [
              "1973"
             ],
             {
              "frame": {
               "duration": 0,
               "redraw": false
              },
              "fromcurrent": true,
              "mode": "immediate",
              "transition": {
               "duration": 0,
               "easing": "linear"
              }
             }
            ],
            "label": "1973",
            "method": "animate"
           },
           {
            "args": [
             [
              "1965"
             ],
             {
              "frame": {
               "duration": 0,
               "redraw": false
              },
              "fromcurrent": true,
              "mode": "immediate",
              "transition": {
               "duration": 0,
               "easing": "linear"
              }
             }
            ],
            "label": "1965",
            "method": "animate"
           },
           {
            "args": [
             [
              "1963"
             ],
             {
              "frame": {
               "duration": 0,
               "redraw": false
              },
              "fromcurrent": true,
              "mode": "immediate",
              "transition": {
               "duration": 0,
               "easing": "linear"
              }
             }
            ],
            "label": "1963",
            "method": "animate"
           },
           {
            "args": [
             [
              "1936"
             ],
             {
              "frame": {
               "duration": 0,
               "redraw": false
              },
              "fromcurrent": true,
              "mode": "immediate",
              "transition": {
               "duration": 0,
               "easing": "linear"
              }
             }
            ],
            "label": "1936",
            "method": "animate"
           },
           {
            "args": [
             [
              "1952"
             ],
             {
              "frame": {
               "duration": 0,
               "redraw": false
              },
              "fromcurrent": true,
              "mode": "immediate",
              "transition": {
               "duration": 0,
               "easing": "linear"
              }
             }
            ],
            "label": "1952",
            "method": "animate"
           },
           {
            "args": [
             [
              "1940"
             ],
             {
              "frame": {
               "duration": 0,
               "redraw": false
              },
              "fromcurrent": true,
              "mode": "immediate",
              "transition": {
               "duration": 0,
               "easing": "linear"
              }
             }
            ],
            "label": "1940",
            "method": "animate"
           },
           {
            "args": [
             [
              "1950"
             ],
             {
              "frame": {
               "duration": 0,
               "redraw": false
              },
              "fromcurrent": true,
              "mode": "immediate",
              "transition": {
               "duration": 0,
               "easing": "linear"
              }
             }
            ],
            "label": "1950",
            "method": "animate"
           },
           {
            "args": [
             [
              "1931"
             ],
             {
              "frame": {
               "duration": 0,
               "redraw": false
              },
              "fromcurrent": true,
              "mode": "immediate",
              "transition": {
               "duration": 0,
               "easing": "linear"
              }
             }
            ],
            "label": "1931",
            "method": "animate"
           },
           {
            "args": [
             [
              "1967"
             ],
             {
              "frame": {
               "duration": 0,
               "redraw": false
              },
              "fromcurrent": true,
              "mode": "immediate",
              "transition": {
               "duration": 0,
               "easing": "linear"
              }
             }
            ],
            "label": "1967",
            "method": "animate"
           },
           {
            "args": [
             [
              "1927"
             ],
             {
              "frame": {
               "duration": 0,
               "redraw": false
              },
              "fromcurrent": true,
              "mode": "immediate",
              "transition": {
               "duration": 0,
               "easing": "linear"
              }
             }
            ],
            "label": "1927",
            "method": "animate"
           },
           {
            "args": [
             [
              "1949"
             ],
             {
              "frame": {
               "duration": 0,
               "redraw": false
              },
              "fromcurrent": true,
              "mode": "immediate",
              "transition": {
               "duration": 0,
               "easing": "linear"
              }
             }
            ],
            "label": "1949",
            "method": "animate"
           },
           {
            "args": [
             [
              "1948"
             ],
             {
              "frame": {
               "duration": 0,
               "redraw": false
              },
              "fromcurrent": true,
              "mode": "immediate",
              "transition": {
               "duration": 0,
               "easing": "linear"
              }
             }
            ],
            "label": "1948",
            "method": "animate"
           },
           {
            "args": [
             [
              "1944"
             ],
             {
              "frame": {
               "duration": 0,
               "redraw": false
              },
              "fromcurrent": true,
              "mode": "immediate",
              "transition": {
               "duration": 0,
               "easing": "linear"
              }
             }
            ],
            "label": "1944",
            "method": "animate"
           },
           {
            "args": [
             [
              "1921"
             ],
             {
              "frame": {
               "duration": 0,
               "redraw": false
              },
              "fromcurrent": true,
              "mode": "immediate",
              "transition": {
               "duration": 0,
               "easing": "linear"
              }
             }
            ],
            "label": "1921",
            "method": "animate"
           },
           {
            "args": [
             [
              "1961"
             ],
             {
              "frame": {
               "duration": 0,
               "redraw": false
              },
              "fromcurrent": true,
              "mode": "immediate",
              "transition": {
               "duration": 0,
               "easing": "linear"
              }
             }
            ],
            "label": "1961",
            "method": "animate"
           },
           {
            "args": [
             [
              "1925"
             ],
             {
              "frame": {
               "duration": 0,
               "redraw": false
              },
              "fromcurrent": true,
              "mode": "immediate",
              "transition": {
               "duration": 0,
               "easing": "linear"
              }
             }
            ],
            "label": "1925",
            "method": "animate"
           },
           {
            "args": [
             [
              "1934"
             ],
             {
              "frame": {
               "duration": 0,
               "redraw": false
              },
              "fromcurrent": true,
              "mode": "immediate",
              "transition": {
               "duration": 0,
               "easing": "linear"
              }
             }
            ],
            "label": "1934",
            "method": "animate"
           },
           {
            "args": [
             [
              "1926"
             ],
             {
              "frame": {
               "duration": 0,
               "redraw": false
              },
              "fromcurrent": true,
              "mode": "immediate",
              "transition": {
               "duration": 0,
               "easing": "linear"
              }
             }
            ],
            "label": "1926",
            "method": "animate"
           },
           {
            "args": [
             [
              "1955"
             ],
             {
              "frame": {
               "duration": 0,
               "redraw": false
              },
              "fromcurrent": true,
              "mode": "immediate",
              "transition": {
               "duration": 0,
               "easing": "linear"
              }
             }
            ],
            "label": "1955",
            "method": "animate"
           },
           {
            "args": [
             [
              "1920"
             ],
             {
              "frame": {
               "duration": 0,
               "redraw": false
              },
              "fromcurrent": true,
              "mode": "immediate",
              "transition": {
               "duration": 0,
               "easing": "linear"
              }
             }
            ],
            "label": "1920",
            "method": "animate"
           },
           {
            "args": [
             [
              "1930"
             ],
             {
              "frame": {
               "duration": 0,
               "redraw": false
              },
              "fromcurrent": true,
              "mode": "immediate",
              "transition": {
               "duration": 0,
               "easing": "linear"
              }
             }
            ],
            "label": "1930",
            "method": "animate"
           },
           {
            "args": [
             [
              "1953"
             ],
             {
              "frame": {
               "duration": 0,
               "redraw": false
              },
              "fromcurrent": true,
              "mode": "immediate",
              "transition": {
               "duration": 0,
               "easing": "linear"
              }
             }
            ],
            "label": "1953",
            "method": "animate"
           },
           {
            "args": [
             [
              "1928"
             ],
             {
              "frame": {
               "duration": 0,
               "redraw": false
              },
              "fromcurrent": true,
              "mode": "immediate",
              "transition": {
               "duration": 0,
               "easing": "linear"
              }
             }
            ],
            "label": "1928",
            "method": "animate"
           }
          ],
          "x": 0.1,
          "xanchor": "left",
          "y": 0,
          "yanchor": "top"
         }
        ],
        "template": {
         "data": {
          "bar": [
           {
            "error_x": {
             "color": "#2a3f5f"
            },
            "error_y": {
             "color": "#2a3f5f"
            },
            "marker": {
             "line": {
              "color": "#E5ECF6",
              "width": 0.5
             },
             "pattern": {
              "fillmode": "overlay",
              "size": 10,
              "solidity": 0.2
             }
            },
            "type": "bar"
           }
          ],
          "barpolar": [
           {
            "marker": {
             "line": {
              "color": "#E5ECF6",
              "width": 0.5
             },
             "pattern": {
              "fillmode": "overlay",
              "size": 10,
              "solidity": 0.2
             }
            },
            "type": "barpolar"
           }
          ],
          "carpet": [
           {
            "aaxis": {
             "endlinecolor": "#2a3f5f",
             "gridcolor": "white",
             "linecolor": "white",
             "minorgridcolor": "white",
             "startlinecolor": "#2a3f5f"
            },
            "baxis": {
             "endlinecolor": "#2a3f5f",
             "gridcolor": "white",
             "linecolor": "white",
             "minorgridcolor": "white",
             "startlinecolor": "#2a3f5f"
            },
            "type": "carpet"
           }
          ],
          "choropleth": [
           {
            "colorbar": {
             "outlinewidth": 0,
             "ticks": ""
            },
            "type": "choropleth"
           }
          ],
          "contour": [
           {
            "colorbar": {
             "outlinewidth": 0,
             "ticks": ""
            },
            "colorscale": [
             [
              0,
              "#0d0887"
             ],
             [
              0.1111111111111111,
              "#46039f"
             ],
             [
              0.2222222222222222,
              "#7201a8"
             ],
             [
              0.3333333333333333,
              "#9c179e"
             ],
             [
              0.4444444444444444,
              "#bd3786"
             ],
             [
              0.5555555555555556,
              "#d8576b"
             ],
             [
              0.6666666666666666,
              "#ed7953"
             ],
             [
              0.7777777777777778,
              "#fb9f3a"
             ],
             [
              0.8888888888888888,
              "#fdca26"
             ],
             [
              1,
              "#f0f921"
             ]
            ],
            "type": "contour"
           }
          ],
          "contourcarpet": [
           {
            "colorbar": {
             "outlinewidth": 0,
             "ticks": ""
            },
            "type": "contourcarpet"
           }
          ],
          "heatmap": [
           {
            "colorbar": {
             "outlinewidth": 0,
             "ticks": ""
            },
            "colorscale": [
             [
              0,
              "#0d0887"
             ],
             [
              0.1111111111111111,
              "#46039f"
             ],
             [
              0.2222222222222222,
              "#7201a8"
             ],
             [
              0.3333333333333333,
              "#9c179e"
             ],
             [
              0.4444444444444444,
              "#bd3786"
             ],
             [
              0.5555555555555556,
              "#d8576b"
             ],
             [
              0.6666666666666666,
              "#ed7953"
             ],
             [
              0.7777777777777778,
              "#fb9f3a"
             ],
             [
              0.8888888888888888,
              "#fdca26"
             ],
             [
              1,
              "#f0f921"
             ]
            ],
            "type": "heatmap"
           }
          ],
          "heatmapgl": [
           {
            "colorbar": {
             "outlinewidth": 0,
             "ticks": ""
            },
            "colorscale": [
             [
              0,
              "#0d0887"
             ],
             [
              0.1111111111111111,
              "#46039f"
             ],
             [
              0.2222222222222222,
              "#7201a8"
             ],
             [
              0.3333333333333333,
              "#9c179e"
             ],
             [
              0.4444444444444444,
              "#bd3786"
             ],
             [
              0.5555555555555556,
              "#d8576b"
             ],
             [
              0.6666666666666666,
              "#ed7953"
             ],
             [
              0.7777777777777778,
              "#fb9f3a"
             ],
             [
              0.8888888888888888,
              "#fdca26"
             ],
             [
              1,
              "#f0f921"
             ]
            ],
            "type": "heatmapgl"
           }
          ],
          "histogram": [
           {
            "marker": {
             "pattern": {
              "fillmode": "overlay",
              "size": 10,
              "solidity": 0.2
             }
            },
            "type": "histogram"
           }
          ],
          "histogram2d": [
           {
            "colorbar": {
             "outlinewidth": 0,
             "ticks": ""
            },
            "colorscale": [
             [
              0,
              "#0d0887"
             ],
             [
              0.1111111111111111,
              "#46039f"
             ],
             [
              0.2222222222222222,
              "#7201a8"
             ],
             [
              0.3333333333333333,
              "#9c179e"
             ],
             [
              0.4444444444444444,
              "#bd3786"
             ],
             [
              0.5555555555555556,
              "#d8576b"
             ],
             [
              0.6666666666666666,
              "#ed7953"
             ],
             [
              0.7777777777777778,
              "#fb9f3a"
             ],
             [
              0.8888888888888888,
              "#fdca26"
             ],
             [
              1,
              "#f0f921"
             ]
            ],
            "type": "histogram2d"
           }
          ],
          "histogram2dcontour": [
           {
            "colorbar": {
             "outlinewidth": 0,
             "ticks": ""
            },
            "colorscale": [
             [
              0,
              "#0d0887"
             ],
             [
              0.1111111111111111,
              "#46039f"
             ],
             [
              0.2222222222222222,
              "#7201a8"
             ],
             [
              0.3333333333333333,
              "#9c179e"
             ],
             [
              0.4444444444444444,
              "#bd3786"
             ],
             [
              0.5555555555555556,
              "#d8576b"
             ],
             [
              0.6666666666666666,
              "#ed7953"
             ],
             [
              0.7777777777777778,
              "#fb9f3a"
             ],
             [
              0.8888888888888888,
              "#fdca26"
             ],
             [
              1,
              "#f0f921"
             ]
            ],
            "type": "histogram2dcontour"
           }
          ],
          "mesh3d": [
           {
            "colorbar": {
             "outlinewidth": 0,
             "ticks": ""
            },
            "type": "mesh3d"
           }
          ],
          "parcoords": [
           {
            "line": {
             "colorbar": {
              "outlinewidth": 0,
              "ticks": ""
             }
            },
            "type": "parcoords"
           }
          ],
          "pie": [
           {
            "automargin": true,
            "type": "pie"
           }
          ],
          "scatter": [
           {
            "marker": {
             "colorbar": {
              "outlinewidth": 0,
              "ticks": ""
             }
            },
            "type": "scatter"
           }
          ],
          "scatter3d": [
           {
            "line": {
             "colorbar": {
              "outlinewidth": 0,
              "ticks": ""
             }
            },
            "marker": {
             "colorbar": {
              "outlinewidth": 0,
              "ticks": ""
             }
            },
            "type": "scatter3d"
           }
          ],
          "scattercarpet": [
           {
            "marker": {
             "colorbar": {
              "outlinewidth": 0,
              "ticks": ""
             }
            },
            "type": "scattercarpet"
           }
          ],
          "scattergeo": [
           {
            "marker": {
             "colorbar": {
              "outlinewidth": 0,
              "ticks": ""
             }
            },
            "type": "scattergeo"
           }
          ],
          "scattergl": [
           {
            "marker": {
             "colorbar": {
              "outlinewidth": 0,
              "ticks": ""
             }
            },
            "type": "scattergl"
           }
          ],
          "scattermapbox": [
           {
            "marker": {
             "colorbar": {
              "outlinewidth": 0,
              "ticks": ""
             }
            },
            "type": "scattermapbox"
           }
          ],
          "scatterpolar": [
           {
            "marker": {
             "colorbar": {
              "outlinewidth": 0,
              "ticks": ""
             }
            },
            "type": "scatterpolar"
           }
          ],
          "scatterpolargl": [
           {
            "marker": {
             "colorbar": {
              "outlinewidth": 0,
              "ticks": ""
             }
            },
            "type": "scatterpolargl"
           }
          ],
          "scatterternary": [
           {
            "marker": {
             "colorbar": {
              "outlinewidth": 0,
              "ticks": ""
             }
            },
            "type": "scatterternary"
           }
          ],
          "surface": [
           {
            "colorbar": {
             "outlinewidth": 0,
             "ticks": ""
            },
            "colorscale": [
             [
              0,
              "#0d0887"
             ],
             [
              0.1111111111111111,
              "#46039f"
             ],
             [
              0.2222222222222222,
              "#7201a8"
             ],
             [
              0.3333333333333333,
              "#9c179e"
             ],
             [
              0.4444444444444444,
              "#bd3786"
             ],
             [
              0.5555555555555556,
              "#d8576b"
             ],
             [
              0.6666666666666666,
              "#ed7953"
             ],
             [
              0.7777777777777778,
              "#fb9f3a"
             ],
             [
              0.8888888888888888,
              "#fdca26"
             ],
             [
              1,
              "#f0f921"
             ]
            ],
            "type": "surface"
           }
          ],
          "table": [
           {
            "cells": {
             "fill": {
              "color": "#EBF0F8"
             },
             "line": {
              "color": "white"
             }
            },
            "header": {
             "fill": {
              "color": "#C8D4E3"
             },
             "line": {
              "color": "white"
             }
            },
            "type": "table"
           }
          ]
         },
         "layout": {
          "annotationdefaults": {
           "arrowcolor": "#2a3f5f",
           "arrowhead": 0,
           "arrowwidth": 1
          },
          "autotypenumbers": "strict",
          "coloraxis": {
           "colorbar": {
            "outlinewidth": 0,
            "ticks": ""
           }
          },
          "colorscale": {
           "diverging": [
            [
             0,
             "#8e0152"
            ],
            [
             0.1,
             "#c51b7d"
            ],
            [
             0.2,
             "#de77ae"
            ],
            [
             0.3,
             "#f1b6da"
            ],
            [
             0.4,
             "#fde0ef"
            ],
            [
             0.5,
             "#f7f7f7"
            ],
            [
             0.6,
             "#e6f5d0"
            ],
            [
             0.7,
             "#b8e186"
            ],
            [
             0.8,
             "#7fbc41"
            ],
            [
             0.9,
             "#4d9221"
            ],
            [
             1,
             "#276419"
            ]
           ],
           "sequential": [
            [
             0,
             "#0d0887"
            ],
            [
             0.1111111111111111,
             "#46039f"
            ],
            [
             0.2222222222222222,
             "#7201a8"
            ],
            [
             0.3333333333333333,
             "#9c179e"
            ],
            [
             0.4444444444444444,
             "#bd3786"
            ],
            [
             0.5555555555555556,
             "#d8576b"
            ],
            [
             0.6666666666666666,
             "#ed7953"
            ],
            [
             0.7777777777777778,
             "#fb9f3a"
            ],
            [
             0.8888888888888888,
             "#fdca26"
            ],
            [
             1,
             "#f0f921"
            ]
           ],
           "sequentialminus": [
            [
             0,
             "#0d0887"
            ],
            [
             0.1111111111111111,
             "#46039f"
            ],
            [
             0.2222222222222222,
             "#7201a8"
            ],
            [
             0.3333333333333333,
             "#9c179e"
            ],
            [
             0.4444444444444444,
             "#bd3786"
            ],
            [
             0.5555555555555556,
             "#d8576b"
            ],
            [
             0.6666666666666666,
             "#ed7953"
            ],
            [
             0.7777777777777778,
             "#fb9f3a"
            ],
            [
             0.8888888888888888,
             "#fdca26"
            ],
            [
             1,
             "#f0f921"
            ]
           ]
          },
          "colorway": [
           "#636efa",
           "#EF553B",
           "#00cc96",
           "#ab63fa",
           "#FFA15A",
           "#19d3f3",
           "#FF6692",
           "#B6E880",
           "#FF97FF",
           "#FECB52"
          ],
          "font": {
           "color": "#2a3f5f"
          },
          "geo": {
           "bgcolor": "white",
           "lakecolor": "white",
           "landcolor": "#E5ECF6",
           "showlakes": true,
           "showland": true,
           "subunitcolor": "white"
          },
          "hoverlabel": {
           "align": "left"
          },
          "hovermode": "closest",
          "mapbox": {
           "style": "light"
          },
          "paper_bgcolor": "white",
          "plot_bgcolor": "#E5ECF6",
          "polar": {
           "angularaxis": {
            "gridcolor": "white",
            "linecolor": "white",
            "ticks": ""
           },
           "bgcolor": "#E5ECF6",
           "radialaxis": {
            "gridcolor": "white",
            "linecolor": "white",
            "ticks": ""
           }
          },
          "scene": {
           "xaxis": {
            "backgroundcolor": "#E5ECF6",
            "gridcolor": "white",
            "gridwidth": 2,
            "linecolor": "white",
            "showbackground": true,
            "ticks": "",
            "zerolinecolor": "white"
           },
           "yaxis": {
            "backgroundcolor": "#E5ECF6",
            "gridcolor": "white",
            "gridwidth": 2,
            "linecolor": "white",
            "showbackground": true,
            "ticks": "",
            "zerolinecolor": "white"
           },
           "zaxis": {
            "backgroundcolor": "#E5ECF6",
            "gridcolor": "white",
            "gridwidth": 2,
            "linecolor": "white",
            "showbackground": true,
            "ticks": "",
            "zerolinecolor": "white"
           }
          },
          "shapedefaults": {
           "line": {
            "color": "#2a3f5f"
           }
          },
          "ternary": {
           "aaxis": {
            "gridcolor": "white",
            "linecolor": "white",
            "ticks": ""
           },
           "baxis": {
            "gridcolor": "white",
            "linecolor": "white",
            "ticks": ""
           },
           "bgcolor": "#E5ECF6",
           "caxis": {
            "gridcolor": "white",
            "linecolor": "white",
            "ticks": ""
           }
          },
          "title": {
           "x": 0.05
          },
          "xaxis": {
           "automargin": true,
           "gridcolor": "white",
           "linecolor": "white",
           "ticks": "",
           "title": {
            "standoff": 15
           },
           "zerolinecolor": "white",
           "zerolinewidth": 2
          },
          "yaxis": {
           "automargin": true,
           "gridcolor": "white",
           "linecolor": "white",
           "ticks": "",
           "title": {
            "standoff": 15
           },
           "zerolinecolor": "white",
           "zerolinewidth": 2
          }
         }
        },
        "updatemenus": [
         {
          "buttons": [
           {
            "args": [
             null,
             {
              "frame": {
               "duration": 500,
               "redraw": false
              },
              "fromcurrent": true,
              "mode": "immediate",
              "transition": {
               "duration": 500,
               "easing": "linear"
              }
             }
            ],
            "label": "&#9654;",
            "method": "animate"
           },
           {
            "args": [
             [
              null
             ],
             {
              "frame": {
               "duration": 0,
               "redraw": false
              },
              "fromcurrent": true,
              "mode": "immediate",
              "transition": {
               "duration": 0,
               "easing": "linear"
              }
             }
            ],
            "label": "&#9724;",
            "method": "animate"
           }
          ],
          "direction": "left",
          "pad": {
           "r": 10,
           "t": 70
          },
          "showactive": false,
          "type": "buttons",
          "x": 0.1,
          "xanchor": "right",
          "y": 0,
          "yanchor": "top"
         }
        ],
        "xaxis": {
         "anchor": "y",
         "domain": [
          0,
          1
         ],
         "title": {
          "text": "averageRating"
         }
        },
        "yaxis": {
         "anchor": "x",
         "domain": [
          0,
          1
         ],
         "title": {
          "text": "number_of_votes"
         }
        }
       }
      },
      "text/html": [
       "<div>                            <div id=\"73e02785-38d6-4619-83ce-3091ca00bc0f\" class=\"plotly-graph-div\" style=\"height:525px; width:100%;\"></div>            <script type=\"text/javascript\">                require([\"plotly\"], function(Plotly) {                    window.PLOTLYENV=window.PLOTLYENV || {};                                    if (document.getElementById(\"73e02785-38d6-4619-83ce-3091ca00bc0f\")) {                    Plotly.newPlot(                        \"73e02785-38d6-4619-83ce-3091ca00bc0f\",                        [{\"hovertemplate\":\"year=1994<br>averageRating=%{marker.color}<br>number_of_votes=%{marker.size}<extra></extra>\",\"legendgroup\":\"\",\"marker\":{\"color\":[9.3,8.9,8.8,8.5,8.5,8.1,8.1,8.1],\"coloraxis\":\"coloraxis\",\"size\":[2467229,1910475,1907240,1082512,984648,98005,71756,51734],\"sizemode\":\"area\",\"sizeref\":6168.0725,\"symbol\":\"circle\"},\"mode\":\"markers\",\"name\":\"\",\"orientation\":\"v\",\"showlegend\":false,\"type\":\"scatter\",\"x\":[9.3,8.9,8.8,8.5,8.5,8.1,8.1,8.1],\"xaxis\":\"x\",\"y\":[2467229,1910475,1907240,1082512,984648,98005,71756,51734],\"yaxis\":\"y\"}],                        {\"coloraxis\":{\"colorbar\":{\"title\":{\"text\":\"averageRating\"}},\"colorscale\":[[0.0,\"#0d0887\"],[0.1111111111111111,\"#46039f\"],[0.2222222222222222,\"#7201a8\"],[0.3333333333333333,\"#9c179e\"],[0.4444444444444444,\"#bd3786\"],[0.5555555555555556,\"#d8576b\"],[0.6666666666666666,\"#ed7953\"],[0.7777777777777778,\"#fb9f3a\"],[0.8888888888888888,\"#fdca26\"],[1.0,\"#f0f921\"]]},\"legend\":{\"itemsizing\":\"constant\",\"tracegroupgap\":0},\"margin\":{\"t\":60},\"sliders\":[{\"active\":0,\"currentvalue\":{\"prefix\":\"year=\"},\"len\":0.9,\"pad\":{\"b\":10,\"t\":60},\"steps\":[{\"args\":[[\"1994\"],{\"frame\":{\"duration\":0,\"redraw\":false},\"fromcurrent\":true,\"mode\":\"immediate\",\"transition\":{\"duration\":0,\"easing\":\"linear\"}}],\"label\":\"1994\",\"method\":\"animate\"},{\"args\":[[\"2008\"],{\"frame\":{\"duration\":0,\"redraw\":false},\"fromcurrent\":true,\"mode\":\"immediate\",\"transition\":{\"duration\":0,\"easing\":\"linear\"}}],\"label\":\"2008\",\"method\":\"animate\"},{\"args\":[[\"2010\"],{\"frame\":{\"duration\":0,\"redraw\":false},\"fromcurrent\":true,\"mode\":\"immediate\",\"transition\":{\"duration\":0,\"easing\":\"linear\"}}],\"label\":\"2010\",\"method\":\"animate\"},{\"args\":[[\"1999\"],{\"frame\":{\"duration\":0,\"redraw\":false},\"fromcurrent\":true,\"mode\":\"immediate\",\"transition\":{\"duration\":0,\"easing\":\"linear\"}}],\"label\":\"1999\",\"method\":\"animate\"},{\"args\":[[\"2001\"],{\"frame\":{\"duration\":0,\"redraw\":false},\"fromcurrent\":true,\"mode\":\"immediate\",\"transition\":{\"duration\":0,\"easing\":\"linear\"}}],\"label\":\"2001\",\"method\":\"animate\"},{\"args\":[[\"2003\"],{\"frame\":{\"duration\":0,\"redraw\":false},\"fromcurrent\":true,\"mode\":\"immediate\",\"transition\":{\"duration\":0,\"easing\":\"linear\"}}],\"label\":\"2003\",\"method\":\"animate\"},{\"args\":[[\"1972\"],{\"frame\":{\"duration\":0,\"redraw\":false},\"fromcurrent\":true,\"mode\":\"immediate\",\"transition\":{\"duration\":0,\"easing\":\"linear\"}}],\"label\":\"1972\",\"method\":\"animate\"},{\"args\":[[\"2014\"],{\"frame\":{\"duration\":0,\"redraw\":false},\"fromcurrent\":true,\"mode\":\"immediate\",\"transition\":{\"duration\":0,\"easing\":\"linear\"}}],\"label\":\"2014\",\"method\":\"animate\"},{\"args\":[[\"2012\"],{\"frame\":{\"duration\":0,\"redraw\":false},\"fromcurrent\":true,\"mode\":\"immediate\",\"transition\":{\"duration\":0,\"easing\":\"linear\"}}],\"label\":\"2012\",\"method\":\"animate\"},{\"args\":[[\"2002\"],{\"frame\":{\"duration\":0,\"redraw\":false},\"fromcurrent\":true,\"mode\":\"immediate\",\"transition\":{\"duration\":0,\"easing\":\"linear\"}}],\"label\":\"2002\",\"method\":\"animate\"},{\"args\":[[\"1995\"],{\"frame\":{\"duration\":0,\"redraw\":false},\"fromcurrent\":true,\"mode\":\"immediate\",\"transition\":{\"duration\":0,\"easing\":\"linear\"}}],\"label\":\"1995\",\"method\":\"animate\"},{\"args\":[[\"2000\"],{\"frame\":{\"duration\":0,\"redraw\":false},\"fromcurrent\":true,\"mode\":\"immediate\",\"transition\":{\"duration\":0,\"easing\":\"linear\"}}],\"label\":\"2000\",\"method\":\"animate\"},{\"args\":[[\"2005\"],{\"frame\":{\"duration\":0,\"redraw\":false},\"fromcurrent\":true,\"mode\":\"immediate\",\"transition\":{\"duration\":0,\"easing\":\"linear\"}}],\"label\":\"2005\",\"method\":\"animate\"},{\"args\":[[\"2009\"],{\"frame\":{\"duration\":0,\"redraw\":false},\"fromcurrent\":true,\"mode\":\"immediate\",\"transition\":{\"duration\":0,\"easing\":\"linear\"}}],\"label\":\"2009\",\"method\":\"animate\"},{\"args\":[[\"1991\"],{\"frame\":{\"duration\":0,\"redraw\":false},\"fromcurrent\":true,\"mode\":\"immediate\",\"transition\":{\"duration\":0,\"easing\":\"linear\"}}],\"label\":\"1991\",\"method\":\"animate\"},{\"args\":[[\"1998\"],{\"frame\":{\"duration\":0,\"redraw\":false},\"fromcurrent\":true,\"mode\":\"immediate\",\"transition\":{\"duration\":0,\"easing\":\"linear\"}}],\"label\":\"1998\",\"method\":\"animate\"},{\"args\":[[\"1977\"],{\"frame\":{\"duration\":0,\"redraw\":false},\"fromcurrent\":true,\"mode\":\"immediate\",\"transition\":{\"duration\":0,\"easing\":\"linear\"}}],\"label\":\"1977\",\"method\":\"animate\"},{\"args\":[[\"1993\"],{\"frame\":{\"duration\":0,\"redraw\":false},\"fromcurrent\":true,\"mode\":\"immediate\",\"transition\":{\"duration\":0,\"easing\":\"linear\"}}],\"label\":\"1993\",\"method\":\"animate\"},{\"args\":[[\"2013\"],{\"frame\":{\"duration\":0,\"redraw\":false},\"fromcurrent\":true,\"mode\":\"immediate\",\"transition\":{\"duration\":0,\"easing\":\"linear\"}}],\"label\":\"2013\",\"method\":\"animate\"},{\"args\":[[\"2006\"],{\"frame\":{\"duration\":0,\"redraw\":false},\"fromcurrent\":true,\"mode\":\"immediate\",\"transition\":{\"duration\":0,\"easing\":\"linear\"}}],\"label\":\"2006\",\"method\":\"animate\"},{\"args\":[[\"1980\"],{\"frame\":{\"duration\":0,\"redraw\":false},\"fromcurrent\":true,\"mode\":\"immediate\",\"transition\":{\"duration\":0,\"easing\":\"linear\"}}],\"label\":\"1980\",\"method\":\"animate\"},{\"args\":[[\"1974\"],{\"frame\":{\"duration\":0,\"redraw\":false},\"fromcurrent\":true,\"mode\":\"immediate\",\"transition\":{\"duration\":0,\"easing\":\"linear\"}}],\"label\":\"1974\",\"method\":\"animate\"},{\"args\":[[\"1985\"],{\"frame\":{\"duration\":0,\"redraw\":false},\"fromcurrent\":true,\"mode\":\"immediate\",\"transition\":{\"duration\":0,\"easing\":\"linear\"}}],\"label\":\"1985\",\"method\":\"animate\"},{\"args\":[[\"1990\"],{\"frame\":{\"duration\":0,\"redraw\":false},\"fromcurrent\":true,\"mode\":\"immediate\",\"transition\":{\"duration\":0,\"easing\":\"linear\"}}],\"label\":\"1990\",\"method\":\"animate\"},{\"args\":[[\"2019\"],{\"frame\":{\"duration\":0,\"redraw\":false},\"fromcurrent\":true,\"mode\":\"immediate\",\"transition\":{\"duration\":0,\"easing\":\"linear\"}}],\"label\":\"2019\",\"method\":\"animate\"},{\"args\":[[\"1983\"],{\"frame\":{\"duration\":0,\"redraw\":false},\"fromcurrent\":true,\"mode\":\"immediate\",\"transition\":{\"duration\":0,\"easing\":\"linear\"}}],\"label\":\"1983\",\"method\":\"animate\"},{\"args\":[[\"1992\"],{\"frame\":{\"duration\":0,\"redraw\":false},\"fromcurrent\":true,\"mode\":\"immediate\",\"transition\":{\"duration\":0,\"easing\":\"linear\"}}],\"label\":\"1992\",\"method\":\"animate\"},{\"args\":[[\"1975\"],{\"frame\":{\"duration\":0,\"redraw\":false},\"fromcurrent\":true,\"mode\":\"immediate\",\"transition\":{\"duration\":0,\"easing\":\"linear\"}}],\"label\":\"1975\",\"method\":\"animate\"},{\"args\":[[\"2004\"],{\"frame\":{\"duration\":0,\"redraw\":false},\"fromcurrent\":true,\"mode\":\"immediate\",\"transition\":{\"duration\":0,\"easing\":\"linear\"}}],\"label\":\"2004\",\"method\":\"animate\"},{\"args\":[[\"2015\"],{\"frame\":{\"duration\":0,\"redraw\":false},\"fromcurrent\":true,\"mode\":\"immediate\",\"transition\":{\"duration\":0,\"easing\":\"linear\"}}],\"label\":\"2015\",\"method\":\"animate\"},{\"args\":[[\"2018\"],{\"frame\":{\"duration\":0,\"redraw\":false},\"fromcurrent\":true,\"mode\":\"immediate\",\"transition\":{\"duration\":0,\"easing\":\"linear\"}}],\"label\":\"2018\",\"method\":\"animate\"},{\"args\":[[\"1981\"],{\"frame\":{\"duration\":0,\"redraw\":false},\"fromcurrent\":true,\"mode\":\"immediate\",\"transition\":{\"duration\":0,\"easing\":\"linear\"}}],\"label\":\"1981\",\"method\":\"animate\"},{\"args\":[[\"2007\"],{\"frame\":{\"duration\":0,\"redraw\":false},\"fromcurrent\":true,\"mode\":\"immediate\",\"transition\":{\"duration\":0,\"easing\":\"linear\"}}],\"label\":\"2007\",\"method\":\"animate\"},{\"args\":[[\"1997\"],{\"frame\":{\"duration\":0,\"redraw\":false},\"fromcurrent\":true,\"mode\":\"immediate\",\"transition\":{\"duration\":0,\"easing\":\"linear\"}}],\"label\":\"1997\",\"method\":\"animate\"},{\"args\":[[\"1979\"],{\"frame\":{\"duration\":0,\"redraw\":false},\"fromcurrent\":true,\"mode\":\"immediate\",\"transition\":{\"duration\":0,\"easing\":\"linear\"}}],\"label\":\"1979\",\"method\":\"animate\"},{\"args\":[[\"1988\"],{\"frame\":{\"duration\":0,\"redraw\":false},\"fromcurrent\":true,\"mode\":\"immediate\",\"transition\":{\"duration\":0,\"easing\":\"linear\"}}],\"label\":\"1988\",\"method\":\"animate\"},{\"args\":[[\"2011\"],{\"frame\":{\"duration\":0,\"redraw\":false},\"fromcurrent\":true,\"mode\":\"immediate\",\"transition\":{\"duration\":0,\"easing\":\"linear\"}}],\"label\":\"2011\",\"method\":\"animate\"},{\"args\":[[\"1971\"],{\"frame\":{\"duration\":0,\"redraw\":false},\"fromcurrent\":true,\"mode\":\"immediate\",\"transition\":{\"duration\":0,\"easing\":\"linear\"}}],\"label\":\"1971\",\"method\":\"animate\"},{\"args\":[[\"1976\"],{\"frame\":{\"duration\":0,\"redraw\":false},\"fromcurrent\":true,\"mode\":\"immediate\",\"transition\":{\"duration\":0,\"easing\":\"linear\"}}],\"label\":\"1976\",\"method\":\"animate\"},{\"args\":[[\"1957\"],{\"frame\":{\"duration\":0,\"redraw\":false},\"fromcurrent\":true,\"mode\":\"immediate\",\"transition\":{\"duration\":0,\"easing\":\"linear\"}}],\"label\":\"1957\",\"method\":\"animate\"},{\"args\":[[\"1982\"],{\"frame\":{\"duration\":0,\"redraw\":false},\"fromcurrent\":true,\"mode\":\"immediate\",\"transition\":{\"duration\":0,\"easing\":\"linear\"}}],\"label\":\"1982\",\"method\":\"animate\"},{\"args\":[[\"1966\"],{\"frame\":{\"duration\":0,\"redraw\":false},\"fromcurrent\":true,\"mode\":\"immediate\",\"transition\":{\"duration\":0,\"easing\":\"linear\"}}],\"label\":\"1966\",\"method\":\"animate\"},{\"args\":[[\"1989\"],{\"frame\":{\"duration\":0,\"redraw\":false},\"fromcurrent\":true,\"mode\":\"immediate\",\"transition\":{\"duration\":0,\"easing\":\"linear\"}}],\"label\":\"1989\",\"method\":\"animate\"},{\"args\":[[\"1987\"],{\"frame\":{\"duration\":0,\"redraw\":false},\"fromcurrent\":true,\"mode\":\"immediate\",\"transition\":{\"duration\":0,\"easing\":\"linear\"}}],\"label\":\"1987\",\"method\":\"animate\"},{\"args\":[[\"2017\"],{\"frame\":{\"duration\":0,\"redraw\":false},\"fromcurrent\":true,\"mode\":\"immediate\",\"transition\":{\"duration\":0,\"easing\":\"linear\"}}],\"label\":\"2017\",\"method\":\"animate\"},{\"args\":[[\"1986\"],{\"frame\":{\"duration\":0,\"redraw\":false},\"fromcurrent\":true,\"mode\":\"immediate\",\"transition\":{\"duration\":0,\"easing\":\"linear\"}}],\"label\":\"1986\",\"method\":\"animate\"},{\"args\":[[\"1996\"],{\"frame\":{\"duration\":0,\"redraw\":false},\"fromcurrent\":true,\"mode\":\"immediate\",\"transition\":{\"duration\":0,\"easing\":\"linear\"}}],\"label\":\"1996\",\"method\":\"animate\"},{\"args\":[[\"1960\"],{\"frame\":{\"duration\":0,\"redraw\":false},\"fromcurrent\":true,\"mode\":\"immediate\",\"transition\":{\"duration\":0,\"easing\":\"linear\"}}],\"label\":\"1960\",\"method\":\"animate\"},{\"args\":[[\"1968\"],{\"frame\":{\"duration\":0,\"redraw\":false},\"fromcurrent\":true,\"mode\":\"immediate\",\"transition\":{\"duration\":0,\"easing\":\"linear\"}}],\"label\":\"1968\",\"method\":\"animate\"},{\"args\":[[\"1942\"],{\"frame\":{\"duration\":0,\"redraw\":false},\"fromcurrent\":true,\"mode\":\"immediate\",\"transition\":{\"duration\":0,\"easing\":\"linear\"}}],\"label\":\"1942\",\"method\":\"animate\"},{\"args\":[[\"2016\"],{\"frame\":{\"duration\":0,\"redraw\":false},\"fromcurrent\":true,\"mode\":\"immediate\",\"transition\":{\"duration\":0,\"easing\":\"linear\"}}],\"label\":\"2016\",\"method\":\"animate\"},{\"args\":[[\"1964\"],{\"frame\":{\"duration\":0,\"redraw\":false},\"fromcurrent\":true,\"mode\":\"immediate\",\"transition\":{\"duration\":0,\"easing\":\"linear\"}}],\"label\":\"1964\",\"method\":\"animate\"},{\"args\":[[\"1954\"],{\"frame\":{\"duration\":0,\"redraw\":false},\"fromcurrent\":true,\"mode\":\"immediate\",\"transition\":{\"duration\":0,\"easing\":\"linear\"}}],\"label\":\"1954\",\"method\":\"animate\"},{\"args\":[[\"1941\"],{\"frame\":{\"duration\":0,\"redraw\":false},\"fromcurrent\":true,\"mode\":\"immediate\",\"transition\":{\"duration\":0,\"easing\":\"linear\"}}],\"label\":\"1941\",\"method\":\"animate\"},{\"args\":[[\"1946\"],{\"frame\":{\"duration\":0,\"redraw\":false},\"fromcurrent\":true,\"mode\":\"immediate\",\"transition\":{\"duration\":0,\"easing\":\"linear\"}}],\"label\":\"1946\",\"method\":\"animate\"},{\"args\":[[\"1984\"],{\"frame\":{\"duration\":0,\"redraw\":false},\"fromcurrent\":true,\"mode\":\"immediate\",\"transition\":{\"duration\":0,\"easing\":\"linear\"}}],\"label\":\"1984\",\"method\":\"animate\"},{\"args\":[[\"1958\"],{\"frame\":{\"duration\":0,\"redraw\":false},\"fromcurrent\":true,\"mode\":\"immediate\",\"transition\":{\"duration\":0,\"easing\":\"linear\"}}],\"label\":\"1958\",\"method\":\"animate\"},{\"args\":[[\"2021\"],{\"frame\":{\"duration\":0,\"redraw\":false},\"fromcurrent\":true,\"mode\":\"immediate\",\"transition\":{\"duration\":0,\"easing\":\"linear\"}}],\"label\":\"2021\",\"method\":\"animate\"},{\"args\":[[\"1978\"],{\"frame\":{\"duration\":0,\"redraw\":false},\"fromcurrent\":true,\"mode\":\"immediate\",\"transition\":{\"duration\":0,\"easing\":\"linear\"}}],\"label\":\"1978\",\"method\":\"animate\"},{\"args\":[[\"1959\"],{\"frame\":{\"duration\":0,\"redraw\":false},\"fromcurrent\":true,\"mode\":\"immediate\",\"transition\":{\"duration\":0,\"easing\":\"linear\"}}],\"label\":\"1959\",\"method\":\"animate\"},{\"args\":[[\"1962\"],{\"frame\":{\"duration\":0,\"redraw\":false},\"fromcurrent\":true,\"mode\":\"immediate\",\"transition\":{\"duration\":0,\"easing\":\"linear\"}}],\"label\":\"1962\",\"method\":\"animate\"},{\"args\":[[\"1939\"],{\"frame\":{\"duration\":0,\"redraw\":false},\"fromcurrent\":true,\"mode\":\"immediate\",\"transition\":{\"duration\":0,\"easing\":\"linear\"}}],\"label\":\"1939\",\"method\":\"animate\"},{\"args\":[[\"2020\"],{\"frame\":{\"duration\":0,\"redraw\":false},\"fromcurrent\":true,\"mode\":\"immediate\",\"transition\":{\"duration\":0,\"easing\":\"linear\"}}],\"label\":\"2020\",\"method\":\"animate\"},{\"args\":[[\"1973\"],{\"frame\":{\"duration\":0,\"redraw\":false},\"fromcurrent\":true,\"mode\":\"immediate\",\"transition\":{\"duration\":0,\"easing\":\"linear\"}}],\"label\":\"1973\",\"method\":\"animate\"},{\"args\":[[\"1965\"],{\"frame\":{\"duration\":0,\"redraw\":false},\"fromcurrent\":true,\"mode\":\"immediate\",\"transition\":{\"duration\":0,\"easing\":\"linear\"}}],\"label\":\"1965\",\"method\":\"animate\"},{\"args\":[[\"1963\"],{\"frame\":{\"duration\":0,\"redraw\":false},\"fromcurrent\":true,\"mode\":\"immediate\",\"transition\":{\"duration\":0,\"easing\":\"linear\"}}],\"label\":\"1963\",\"method\":\"animate\"},{\"args\":[[\"1936\"],{\"frame\":{\"duration\":0,\"redraw\":false},\"fromcurrent\":true,\"mode\":\"immediate\",\"transition\":{\"duration\":0,\"easing\":\"linear\"}}],\"label\":\"1936\",\"method\":\"animate\"},{\"args\":[[\"1952\"],{\"frame\":{\"duration\":0,\"redraw\":false},\"fromcurrent\":true,\"mode\":\"immediate\",\"transition\":{\"duration\":0,\"easing\":\"linear\"}}],\"label\":\"1952\",\"method\":\"animate\"},{\"args\":[[\"1940\"],{\"frame\":{\"duration\":0,\"redraw\":false},\"fromcurrent\":true,\"mode\":\"immediate\",\"transition\":{\"duration\":0,\"easing\":\"linear\"}}],\"label\":\"1940\",\"method\":\"animate\"},{\"args\":[[\"1950\"],{\"frame\":{\"duration\":0,\"redraw\":false},\"fromcurrent\":true,\"mode\":\"immediate\",\"transition\":{\"duration\":0,\"easing\":\"linear\"}}],\"label\":\"1950\",\"method\":\"animate\"},{\"args\":[[\"1931\"],{\"frame\":{\"duration\":0,\"redraw\":false},\"fromcurrent\":true,\"mode\":\"immediate\",\"transition\":{\"duration\":0,\"easing\":\"linear\"}}],\"label\":\"1931\",\"method\":\"animate\"},{\"args\":[[\"1967\"],{\"frame\":{\"duration\":0,\"redraw\":false},\"fromcurrent\":true,\"mode\":\"immediate\",\"transition\":{\"duration\":0,\"easing\":\"linear\"}}],\"label\":\"1967\",\"method\":\"animate\"},{\"args\":[[\"1927\"],{\"frame\":{\"duration\":0,\"redraw\":false},\"fromcurrent\":true,\"mode\":\"immediate\",\"transition\":{\"duration\":0,\"easing\":\"linear\"}}],\"label\":\"1927\",\"method\":\"animate\"},{\"args\":[[\"1949\"],{\"frame\":{\"duration\":0,\"redraw\":false},\"fromcurrent\":true,\"mode\":\"immediate\",\"transition\":{\"duration\":0,\"easing\":\"linear\"}}],\"label\":\"1949\",\"method\":\"animate\"},{\"args\":[[\"1948\"],{\"frame\":{\"duration\":0,\"redraw\":false},\"fromcurrent\":true,\"mode\":\"immediate\",\"transition\":{\"duration\":0,\"easing\":\"linear\"}}],\"label\":\"1948\",\"method\":\"animate\"},{\"args\":[[\"1944\"],{\"frame\":{\"duration\":0,\"redraw\":false},\"fromcurrent\":true,\"mode\":\"immediate\",\"transition\":{\"duration\":0,\"easing\":\"linear\"}}],\"label\":\"1944\",\"method\":\"animate\"},{\"args\":[[\"1921\"],{\"frame\":{\"duration\":0,\"redraw\":false},\"fromcurrent\":true,\"mode\":\"immediate\",\"transition\":{\"duration\":0,\"easing\":\"linear\"}}],\"label\":\"1921\",\"method\":\"animate\"},{\"args\":[[\"1961\"],{\"frame\":{\"duration\":0,\"redraw\":false},\"fromcurrent\":true,\"mode\":\"immediate\",\"transition\":{\"duration\":0,\"easing\":\"linear\"}}],\"label\":\"1961\",\"method\":\"animate\"},{\"args\":[[\"1925\"],{\"frame\":{\"duration\":0,\"redraw\":false},\"fromcurrent\":true,\"mode\":\"immediate\",\"transition\":{\"duration\":0,\"easing\":\"linear\"}}],\"label\":\"1925\",\"method\":\"animate\"},{\"args\":[[\"1934\"],{\"frame\":{\"duration\":0,\"redraw\":false},\"fromcurrent\":true,\"mode\":\"immediate\",\"transition\":{\"duration\":0,\"easing\":\"linear\"}}],\"label\":\"1934\",\"method\":\"animate\"},{\"args\":[[\"1926\"],{\"frame\":{\"duration\":0,\"redraw\":false},\"fromcurrent\":true,\"mode\":\"immediate\",\"transition\":{\"duration\":0,\"easing\":\"linear\"}}],\"label\":\"1926\",\"method\":\"animate\"},{\"args\":[[\"1955\"],{\"frame\":{\"duration\":0,\"redraw\":false},\"fromcurrent\":true,\"mode\":\"immediate\",\"transition\":{\"duration\":0,\"easing\":\"linear\"}}],\"label\":\"1955\",\"method\":\"animate\"},{\"args\":[[\"1920\"],{\"frame\":{\"duration\":0,\"redraw\":false},\"fromcurrent\":true,\"mode\":\"immediate\",\"transition\":{\"duration\":0,\"easing\":\"linear\"}}],\"label\":\"1920\",\"method\":\"animate\"},{\"args\":[[\"1930\"],{\"frame\":{\"duration\":0,\"redraw\":false},\"fromcurrent\":true,\"mode\":\"immediate\",\"transition\":{\"duration\":0,\"easing\":\"linear\"}}],\"label\":\"1930\",\"method\":\"animate\"},{\"args\":[[\"1953\"],{\"frame\":{\"duration\":0,\"redraw\":false},\"fromcurrent\":true,\"mode\":\"immediate\",\"transition\":{\"duration\":0,\"easing\":\"linear\"}}],\"label\":\"1953\",\"method\":\"animate\"},{\"args\":[[\"1928\"],{\"frame\":{\"duration\":0,\"redraw\":false},\"fromcurrent\":true,\"mode\":\"immediate\",\"transition\":{\"duration\":0,\"easing\":\"linear\"}}],\"label\":\"1928\",\"method\":\"animate\"}],\"x\":0.1,\"xanchor\":\"left\",\"y\":0,\"yanchor\":\"top\"}],\"template\":{\"data\":{\"bar\":[{\"error_x\":{\"color\":\"#2a3f5f\"},\"error_y\":{\"color\":\"#2a3f5f\"},\"marker\":{\"line\":{\"color\":\"#E5ECF6\",\"width\":0.5},\"pattern\":{\"fillmode\":\"overlay\",\"size\":10,\"solidity\":0.2}},\"type\":\"bar\"}],\"barpolar\":[{\"marker\":{\"line\":{\"color\":\"#E5ECF6\",\"width\":0.5},\"pattern\":{\"fillmode\":\"overlay\",\"size\":10,\"solidity\":0.2}},\"type\":\"barpolar\"}],\"carpet\":[{\"aaxis\":{\"endlinecolor\":\"#2a3f5f\",\"gridcolor\":\"white\",\"linecolor\":\"white\",\"minorgridcolor\":\"white\",\"startlinecolor\":\"#2a3f5f\"},\"baxis\":{\"endlinecolor\":\"#2a3f5f\",\"gridcolor\":\"white\",\"linecolor\":\"white\",\"minorgridcolor\":\"white\",\"startlinecolor\":\"#2a3f5f\"},\"type\":\"carpet\"}],\"choropleth\":[{\"colorbar\":{\"outlinewidth\":0,\"ticks\":\"\"},\"type\":\"choropleth\"}],\"contour\":[{\"colorbar\":{\"outlinewidth\":0,\"ticks\":\"\"},\"colorscale\":[[0.0,\"#0d0887\"],[0.1111111111111111,\"#46039f\"],[0.2222222222222222,\"#7201a8\"],[0.3333333333333333,\"#9c179e\"],[0.4444444444444444,\"#bd3786\"],[0.5555555555555556,\"#d8576b\"],[0.6666666666666666,\"#ed7953\"],[0.7777777777777778,\"#fb9f3a\"],[0.8888888888888888,\"#fdca26\"],[1.0,\"#f0f921\"]],\"type\":\"contour\"}],\"contourcarpet\":[{\"colorbar\":{\"outlinewidth\":0,\"ticks\":\"\"},\"type\":\"contourcarpet\"}],\"heatmap\":[{\"colorbar\":{\"outlinewidth\":0,\"ticks\":\"\"},\"colorscale\":[[0.0,\"#0d0887\"],[0.1111111111111111,\"#46039f\"],[0.2222222222222222,\"#7201a8\"],[0.3333333333333333,\"#9c179e\"],[0.4444444444444444,\"#bd3786\"],[0.5555555555555556,\"#d8576b\"],[0.6666666666666666,\"#ed7953\"],[0.7777777777777778,\"#fb9f3a\"],[0.8888888888888888,\"#fdca26\"],[1.0,\"#f0f921\"]],\"type\":\"heatmap\"}],\"heatmapgl\":[{\"colorbar\":{\"outlinewidth\":0,\"ticks\":\"\"},\"colorscale\":[[0.0,\"#0d0887\"],[0.1111111111111111,\"#46039f\"],[0.2222222222222222,\"#7201a8\"],[0.3333333333333333,\"#9c179e\"],[0.4444444444444444,\"#bd3786\"],[0.5555555555555556,\"#d8576b\"],[0.6666666666666666,\"#ed7953\"],[0.7777777777777778,\"#fb9f3a\"],[0.8888888888888888,\"#fdca26\"],[1.0,\"#f0f921\"]],\"type\":\"heatmapgl\"}],\"histogram\":[{\"marker\":{\"pattern\":{\"fillmode\":\"overlay\",\"size\":10,\"solidity\":0.2}},\"type\":\"histogram\"}],\"histogram2d\":[{\"colorbar\":{\"outlinewidth\":0,\"ticks\":\"\"},\"colorscale\":[[0.0,\"#0d0887\"],[0.1111111111111111,\"#46039f\"],[0.2222222222222222,\"#7201a8\"],[0.3333333333333333,\"#9c179e\"],[0.4444444444444444,\"#bd3786\"],[0.5555555555555556,\"#d8576b\"],[0.6666666666666666,\"#ed7953\"],[0.7777777777777778,\"#fb9f3a\"],[0.8888888888888888,\"#fdca26\"],[1.0,\"#f0f921\"]],\"type\":\"histogram2d\"}],\"histogram2dcontour\":[{\"colorbar\":{\"outlinewidth\":0,\"ticks\":\"\"},\"colorscale\":[[0.0,\"#0d0887\"],[0.1111111111111111,\"#46039f\"],[0.2222222222222222,\"#7201a8\"],[0.3333333333333333,\"#9c179e\"],[0.4444444444444444,\"#bd3786\"],[0.5555555555555556,\"#d8576b\"],[0.6666666666666666,\"#ed7953\"],[0.7777777777777778,\"#fb9f3a\"],[0.8888888888888888,\"#fdca26\"],[1.0,\"#f0f921\"]],\"type\":\"histogram2dcontour\"}],\"mesh3d\":[{\"colorbar\":{\"outlinewidth\":0,\"ticks\":\"\"},\"type\":\"mesh3d\"}],\"parcoords\":[{\"line\":{\"colorbar\":{\"outlinewidth\":0,\"ticks\":\"\"}},\"type\":\"parcoords\"}],\"pie\":[{\"automargin\":true,\"type\":\"pie\"}],\"scatter\":[{\"marker\":{\"colorbar\":{\"outlinewidth\":0,\"ticks\":\"\"}},\"type\":\"scatter\"}],\"scatter3d\":[{\"line\":{\"colorbar\":{\"outlinewidth\":0,\"ticks\":\"\"}},\"marker\":{\"colorbar\":{\"outlinewidth\":0,\"ticks\":\"\"}},\"type\":\"scatter3d\"}],\"scattercarpet\":[{\"marker\":{\"colorbar\":{\"outlinewidth\":0,\"ticks\":\"\"}},\"type\":\"scattercarpet\"}],\"scattergeo\":[{\"marker\":{\"colorbar\":{\"outlinewidth\":0,\"ticks\":\"\"}},\"type\":\"scattergeo\"}],\"scattergl\":[{\"marker\":{\"colorbar\":{\"outlinewidth\":0,\"ticks\":\"\"}},\"type\":\"scattergl\"}],\"scattermapbox\":[{\"marker\":{\"colorbar\":{\"outlinewidth\":0,\"ticks\":\"\"}},\"type\":\"scattermapbox\"}],\"scatterpolar\":[{\"marker\":{\"colorbar\":{\"outlinewidth\":0,\"ticks\":\"\"}},\"type\":\"scatterpolar\"}],\"scatterpolargl\":[{\"marker\":{\"colorbar\":{\"outlinewidth\":0,\"ticks\":\"\"}},\"type\":\"scatterpolargl\"}],\"scatterternary\":[{\"marker\":{\"colorbar\":{\"outlinewidth\":0,\"ticks\":\"\"}},\"type\":\"scatterternary\"}],\"surface\":[{\"colorbar\":{\"outlinewidth\":0,\"ticks\":\"\"},\"colorscale\":[[0.0,\"#0d0887\"],[0.1111111111111111,\"#46039f\"],[0.2222222222222222,\"#7201a8\"],[0.3333333333333333,\"#9c179e\"],[0.4444444444444444,\"#bd3786\"],[0.5555555555555556,\"#d8576b\"],[0.6666666666666666,\"#ed7953\"],[0.7777777777777778,\"#fb9f3a\"],[0.8888888888888888,\"#fdca26\"],[1.0,\"#f0f921\"]],\"type\":\"surface\"}],\"table\":[{\"cells\":{\"fill\":{\"color\":\"#EBF0F8\"},\"line\":{\"color\":\"white\"}},\"header\":{\"fill\":{\"color\":\"#C8D4E3\"},\"line\":{\"color\":\"white\"}},\"type\":\"table\"}]},\"layout\":{\"annotationdefaults\":{\"arrowcolor\":\"#2a3f5f\",\"arrowhead\":0,\"arrowwidth\":1},\"autotypenumbers\":\"strict\",\"coloraxis\":{\"colorbar\":{\"outlinewidth\":0,\"ticks\":\"\"}},\"colorscale\":{\"diverging\":[[0,\"#8e0152\"],[0.1,\"#c51b7d\"],[0.2,\"#de77ae\"],[0.3,\"#f1b6da\"],[0.4,\"#fde0ef\"],[0.5,\"#f7f7f7\"],[0.6,\"#e6f5d0\"],[0.7,\"#b8e186\"],[0.8,\"#7fbc41\"],[0.9,\"#4d9221\"],[1,\"#276419\"]],\"sequential\":[[0.0,\"#0d0887\"],[0.1111111111111111,\"#46039f\"],[0.2222222222222222,\"#7201a8\"],[0.3333333333333333,\"#9c179e\"],[0.4444444444444444,\"#bd3786\"],[0.5555555555555556,\"#d8576b\"],[0.6666666666666666,\"#ed7953\"],[0.7777777777777778,\"#fb9f3a\"],[0.8888888888888888,\"#fdca26\"],[1.0,\"#f0f921\"]],\"sequentialminus\":[[0.0,\"#0d0887\"],[0.1111111111111111,\"#46039f\"],[0.2222222222222222,\"#7201a8\"],[0.3333333333333333,\"#9c179e\"],[0.4444444444444444,\"#bd3786\"],[0.5555555555555556,\"#d8576b\"],[0.6666666666666666,\"#ed7953\"],[0.7777777777777778,\"#fb9f3a\"],[0.8888888888888888,\"#fdca26\"],[1.0,\"#f0f921\"]]},\"colorway\":[\"#636efa\",\"#EF553B\",\"#00cc96\",\"#ab63fa\",\"#FFA15A\",\"#19d3f3\",\"#FF6692\",\"#B6E880\",\"#FF97FF\",\"#FECB52\"],\"font\":{\"color\":\"#2a3f5f\"},\"geo\":{\"bgcolor\":\"white\",\"lakecolor\":\"white\",\"landcolor\":\"#E5ECF6\",\"showlakes\":true,\"showland\":true,\"subunitcolor\":\"white\"},\"hoverlabel\":{\"align\":\"left\"},\"hovermode\":\"closest\",\"mapbox\":{\"style\":\"light\"},\"paper_bgcolor\":\"white\",\"plot_bgcolor\":\"#E5ECF6\",\"polar\":{\"angularaxis\":{\"gridcolor\":\"white\",\"linecolor\":\"white\",\"ticks\":\"\"},\"bgcolor\":\"#E5ECF6\",\"radialaxis\":{\"gridcolor\":\"white\",\"linecolor\":\"white\",\"ticks\":\"\"}},\"scene\":{\"xaxis\":{\"backgroundcolor\":\"#E5ECF6\",\"gridcolor\":\"white\",\"gridwidth\":2,\"linecolor\":\"white\",\"showbackground\":true,\"ticks\":\"\",\"zerolinecolor\":\"white\"},\"yaxis\":{\"backgroundcolor\":\"#E5ECF6\",\"gridcolor\":\"white\",\"gridwidth\":2,\"linecolor\":\"white\",\"showbackground\":true,\"ticks\":\"\",\"zerolinecolor\":\"white\"},\"zaxis\":{\"backgroundcolor\":\"#E5ECF6\",\"gridcolor\":\"white\",\"gridwidth\":2,\"linecolor\":\"white\",\"showbackground\":true,\"ticks\":\"\",\"zerolinecolor\":\"white\"}},\"shapedefaults\":{\"line\":{\"color\":\"#2a3f5f\"}},\"ternary\":{\"aaxis\":{\"gridcolor\":\"white\",\"linecolor\":\"white\",\"ticks\":\"\"},\"baxis\":{\"gridcolor\":\"white\",\"linecolor\":\"white\",\"ticks\":\"\"},\"bgcolor\":\"#E5ECF6\",\"caxis\":{\"gridcolor\":\"white\",\"linecolor\":\"white\",\"ticks\":\"\"}},\"title\":{\"x\":0.05},\"xaxis\":{\"automargin\":true,\"gridcolor\":\"white\",\"linecolor\":\"white\",\"ticks\":\"\",\"title\":{\"standoff\":15},\"zerolinecolor\":\"white\",\"zerolinewidth\":2},\"yaxis\":{\"automargin\":true,\"gridcolor\":\"white\",\"linecolor\":\"white\",\"ticks\":\"\",\"title\":{\"standoff\":15},\"zerolinecolor\":\"white\",\"zerolinewidth\":2}}},\"updatemenus\":[{\"buttons\":[{\"args\":[null,{\"frame\":{\"duration\":500,\"redraw\":false},\"fromcurrent\":true,\"mode\":\"immediate\",\"transition\":{\"duration\":500,\"easing\":\"linear\"}}],\"label\":\"&#9654;\",\"method\":\"animate\"},{\"args\":[[null],{\"frame\":{\"duration\":0,\"redraw\":false},\"fromcurrent\":true,\"mode\":\"immediate\",\"transition\":{\"duration\":0,\"easing\":\"linear\"}}],\"label\":\"&#9724;\",\"method\":\"animate\"}],\"direction\":\"left\",\"pad\":{\"r\":10,\"t\":70},\"showactive\":false,\"type\":\"buttons\",\"x\":0.1,\"xanchor\":\"right\",\"y\":0,\"yanchor\":\"top\"}],\"xaxis\":{\"anchor\":\"y\",\"domain\":[0.0,1.0],\"title\":{\"text\":\"averageRating\"}},\"yaxis\":{\"anchor\":\"x\",\"domain\":[0.0,1.0],\"title\":{\"text\":\"number_of_votes\"}}},                        {\"responsive\": true}                    ).then(function(){\n",
       "                            Plotly.addFrames('73e02785-38d6-4619-83ce-3091ca00bc0f', [{\"data\":[{\"hovertemplate\":\"year=1994<br>averageRating=%{marker.color}<br>number_of_votes=%{marker.size}<extra></extra>\",\"legendgroup\":\"\",\"marker\":{\"color\":[9.3,8.9,8.8,8.5,8.5,8.1,8.1,8.1],\"coloraxis\":\"coloraxis\",\"size\":[2467229,1910475,1907240,1082512,984648,98005,71756,51734],\"sizemode\":\"area\",\"sizeref\":6168.0725,\"symbol\":\"circle\"},\"mode\":\"markers\",\"name\":\"\",\"orientation\":\"v\",\"showlegend\":false,\"type\":\"scatter\",\"x\":[9.3,8.9,8.8,8.5,8.5,8.1,8.1,8.1],\"xaxis\":\"x\",\"y\":[2467229,1910475,1907240,1082512,984648,98005,71756,51734],\"yaxis\":\"y\"}],\"name\":\"1994\"},{\"data\":[{\"hovertemplate\":\"year=2008<br>averageRating=%{marker.color}<br>number_of_votes=%{marker.size}<extra></extra>\",\"legendgroup\":\"\",\"marker\":{\"color\":[9.0,8.4,8.1,8.1,8.1],\"coloraxis\":\"coloraxis\",\"size\":[2421844,1043427,742400,76417,50322],\"sizemode\":\"area\",\"sizeref\":6168.0725,\"symbol\":\"circle\"},\"mode\":\"markers\",\"name\":\"\",\"orientation\":\"v\",\"showlegend\":false,\"type\":\"scatter\",\"x\":[9.0,8.4,8.1,8.1,8.1],\"xaxis\":\"x\",\"y\":[2421844,1043427,742400,76417,50322],\"yaxis\":\"y\"}],\"name\":\"2008\"},{\"data\":[{\"hovertemplate\":\"year=2010<br>averageRating=%{marker.color}<br>number_of_votes=%{marker.size}<extra></extra>\",\"legendgroup\":\"\",\"marker\":{\"color\":[8.8,8.2,8.2,8.1,8.3,8.2,8.5],\"coloraxis\":\"coloraxis\",\"size\":[2172818,1197339,786820,694271,162371,72758,67480],\"sizemode\":\"area\",\"sizeref\":6168.0725,\"symbol\":\"circle\"},\"mode\":\"markers\",\"name\":\"\",\"orientation\":\"v\",\"showlegend\":false,\"type\":\"scatter\",\"x\":[8.8,8.2,8.2,8.1,8.3,8.2,8.5],\"xaxis\":\"x\",\"y\":[2172818,1197339,786820,694271,162371,72758,67480],\"yaxis\":\"y\"}],\"name\":\"2010\"},{\"data\":[{\"hovertemplate\":\"year=1999<br>averageRating=%{marker.color}<br>number_of_votes=%{marker.size}<extra></extra>\",\"legendgroup\":\"\",\"marker\":{\"color\":[8.8,8.7,8.6,8.3,8.1],\"coloraxis\":\"coloraxis\",\"size\":[1942270,1761346,1204876,1105082,942797],\"sizemode\":\"area\",\"sizeref\":6168.0725,\"symbol\":\"circle\"},\"mode\":\"markers\",\"name\":\"\",\"orientation\":\"v\",\"showlegend\":false,\"type\":\"scatter\",\"x\":[8.8,8.7,8.6,8.3,8.1],\"xaxis\":\"x\",\"y\":[1942270,1761346,1204876,1105082,942797],\"yaxis\":\"y\"}],\"name\":\"1999\"},{\"data\":[{\"hovertemplate\":\"year=2001<br>averageRating=%{marker.color}<br>number_of_votes=%{marker.size}<extra></extra>\",\"legendgroup\":\"\",\"marker\":{\"color\":[8.8,8.2,8.1,8.3,8.6,8.1,8.1],\"coloraxis\":\"coloraxis\",\"size\":[1732666,881790,851463,725430,694558,109429,69741],\"sizemode\":\"area\",\"sizeref\":6168.0725,\"symbol\":\"circle\"},\"mode\":\"markers\",\"name\":\"\",\"orientation\":\"v\",\"showlegend\":false,\"type\":\"scatter\",\"x\":[8.8,8.2,8.1,8.3,8.6,8.1,8.1],\"xaxis\":\"x\",\"y\":[1732666,881790,851463,725430,694558,109429,69741],\"yaxis\":\"y\"}],\"name\":\"2001\"},{\"data\":[{\"hovertemplate\":\"year=2003<br>averageRating=%{marker.color}<br>number_of_votes=%{marker.size}<extra></extra>\",\"legendgroup\":\"\",\"marker\":{\"color\":[8.9,8.1,8.1,8.4,8.1,8.1],\"coloraxis\":\"coloraxis\",\"size\":[1711411,1046925,984721,541333,159033,77956],\"sizemode\":\"area\",\"sizeref\":6168.0725,\"symbol\":\"circle\"},\"mode\":\"markers\",\"name\":\"\",\"orientation\":\"v\",\"showlegend\":false,\"type\":\"scatter\",\"x\":[8.9,8.1,8.1,8.4,8.1,8.1],\"xaxis\":\"x\",\"y\":[1711411,1046925,984721,541333,159033,77956],\"yaxis\":\"y\"}],\"name\":\"2003\"},{\"data\":[{\"hovertemplate\":\"year=1972<br>averageRating=%{marker.color}<br>number_of_votes=%{marker.size}<extra></extra>\",\"legendgroup\":\"\",\"marker\":{\"color\":[9.2,8.1],\"coloraxis\":\"coloraxis\",\"size\":[1705544,86817],\"sizemode\":\"area\",\"sizeref\":6168.0725,\"symbol\":\"circle\"},\"mode\":\"markers\",\"name\":\"\",\"orientation\":\"v\",\"showlegend\":false,\"type\":\"scatter\",\"x\":[9.2,8.1],\"xaxis\":\"x\",\"y\":[1705544,86817],\"yaxis\":\"y\"}],\"name\":\"1972\"},{\"data\":[{\"hovertemplate\":\"year=2014<br>averageRating=%{marker.color}<br>number_of_votes=%{marker.size}<extra></extra>\",\"legendgroup\":\"\",\"marker\":{\"color\":[8.6,8.1,8.5,8.1,8.1,8.1,8.1,8.1,8.1],\"coloraxis\":\"coloraxis\",\"size\":[1617714,909746,764540,746152,187068,172592,55315,53876,52311],\"sizemode\":\"area\",\"sizeref\":6168.0725,\"symbol\":\"circle\"},\"mode\":\"markers\",\"name\":\"\",\"orientation\":\"v\",\"showlegend\":false,\"type\":\"scatter\",\"x\":[8.6,8.1,8.5,8.1,8.1,8.1,8.1,8.1,8.1],\"xaxis\":\"x\",\"y\":[1617714,909746,764540,746152,187068,172592,55315,53876,52311],\"yaxis\":\"y\"}],\"name\":\"2014\"},{\"data\":[{\"hovertemplate\":\"year=2012<br>averageRating=%{marker.color}<br>number_of_votes=%{marker.size}<extra></extra>\",\"legendgroup\":\"\",\"marker\":{\"color\":[8.4,8.4,8.3,8.2,8.1,8.2,8.1,8.1],\"coloraxis\":\"coloraxis\",\"size\":[1579445,1428387,303807,89821,78863,66132,60401,55214],\"sizemode\":\"area\",\"sizeref\":6168.0725,\"symbol\":\"circle\"},\"mode\":\"markers\",\"name\":\"\",\"orientation\":\"v\",\"showlegend\":false,\"type\":\"scatter\",\"x\":[8.4,8.4,8.3,8.2,8.1,8.2,8.1,8.1],\"xaxis\":\"x\",\"y\":[1579445,1428387,303807,89821,78863,66132,60401,55214],\"yaxis\":\"y\"}],\"name\":\"2012\"},{\"data\":[{\"hovertemplate\":\"year=2002<br>averageRating=%{marker.color}<br>number_of_votes=%{marker.size}<extra></extra>\",\"legendgroup\":\"\",\"marker\":{\"color\":[8.7,8.1,8.5,8.6],\"coloraxis\":\"coloraxis\",\"size\":[1547227,887002,771464,722424],\"sizemode\":\"area\",\"sizeref\":6168.0725,\"symbol\":\"circle\"},\"mode\":\"markers\",\"name\":\"\",\"orientation\":\"v\",\"showlegend\":false,\"type\":\"scatter\",\"x\":[8.7,8.1,8.5,8.6],\"xaxis\":\"x\",\"y\":[1547227,887002,771464,722424],\"yaxis\":\"y\"}],\"name\":\"2002\"},{\"data\":[{\"hovertemplate\":\"year=1995<br>averageRating=%{marker.color}<br>number_of_votes=%{marker.size}<extra></extra>\",\"legendgroup\":\"\",\"marker\":{\"color\":[8.6,8.5,8.3,8.3,8.2,8.2,8.1,8.1,8.1,8.1],\"coloraxis\":\"coloraxis\",\"size\":[1518316,1029594,989203,927722,606627,488427,287159,160315,66475,56965],\"sizemode\":\"area\",\"sizeref\":6168.0725,\"symbol\":\"circle\"},\"mode\":\"markers\",\"name\":\"\",\"orientation\":\"v\",\"showlegend\":false,\"type\":\"scatter\",\"x\":[8.6,8.5,8.3,8.3,8.2,8.2,8.1,8.1,8.1,8.1],\"xaxis\":\"x\",\"y\":[1518316,1029594,989203,927722,606627,488427,287159,160315,66475,56965],\"yaxis\":\"y\"}],\"name\":\"1995\"},{\"data\":[{\"hovertemplate\":\"year=2000<br>averageRating=%{marker.color}<br>number_of_votes=%{marker.size}<extra></extra>\",\"legendgroup\":\"\",\"marker\":{\"color\":[8.5,8.4,8.3,8.3,8.1,8.1,8.2],\"coloraxis\":\"coloraxis\",\"size\":[1399974,1170047,812219,796340,232220,136857,62280],\"sizemode\":\"area\",\"sizeref\":6168.0725,\"symbol\":\"circle\"},\"mode\":\"markers\",\"name\":\"\",\"orientation\":\"v\",\"showlegend\":false,\"type\":\"scatter\",\"x\":[8.5,8.4,8.3,8.3,8.1,8.1,8.2],\"xaxis\":\"x\",\"y\":[1399974,1170047,812219,796340,232220,136857,62280],\"yaxis\":\"y\"}],\"name\":\"2000\"},{\"data\":[{\"hovertemplate\":\"year=2005<br>averageRating=%{marker.color}<br>number_of_votes=%{marker.size}<extra></extra>\",\"legendgroup\":\"\",\"marker\":{\"color\":[8.2,8.1,8.2],\"coloraxis\":\"coloraxis\",\"size\":[1361283,1067048,83157],\"sizemode\":\"area\",\"sizeref\":6168.0725,\"symbol\":\"circle\"},\"mode\":\"markers\",\"name\":\"\",\"orientation\":\"v\",\"showlegend\":false,\"type\":\"scatter\",\"x\":[8.2,8.1,8.2],\"xaxis\":\"x\",\"y\":[1361283,1067048,83157],\"yaxis\":\"y\"}],\"name\":\"2005\"},{\"data\":[{\"hovertemplate\":\"year=2009<br>averageRating=%{marker.color}<br>number_of_votes=%{marker.size}<extra></extra>\",\"legendgroup\":\"\",\"marker\":{\"color\":[8.3,8.2,8.4,8.1,8.2,8.1],\"coloraxis\":\"coloraxis\",\"size\":[1334288,976575,368159,266872,201237,170673],\"sizemode\":\"area\",\"sizeref\":6168.0725,\"symbol\":\"circle\"},\"mode\":\"markers\",\"name\":\"\",\"orientation\":\"v\",\"showlegend\":false,\"type\":\"scatter\",\"x\":[8.3,8.2,8.4,8.1,8.2,8.1],\"xaxis\":\"x\",\"y\":[1334288,976575,368159,266872,201237,170673],\"yaxis\":\"y\"}],\"name\":\"2009\"},{\"data\":[{\"hovertemplate\":\"year=1991<br>averageRating=%{marker.color}<br>number_of_votes=%{marker.size}<extra></extra>\",\"legendgroup\":\"\",\"marker\":{\"color\":[8.6,8.5],\"coloraxis\":\"coloraxis\",\"size\":[1333127,1034566],\"sizemode\":\"area\",\"sizeref\":6168.0725,\"symbol\":\"circle\"},\"mode\":\"markers\",\"name\":\"\",\"orientation\":\"v\",\"showlegend\":false,\"type\":\"scatter\",\"x\":[8.6,8.5],\"xaxis\":\"x\",\"y\":[1333127,1034566],\"yaxis\":\"y\"}],\"name\":\"1991\"},{\"data\":[{\"hovertemplate\":\"year=1998<br>averageRating=%{marker.color}<br>number_of_votes=%{marker.size}<extra></extra>\",\"legendgroup\":\"\",\"marker\":{\"color\":[8.6,8.5,8.1,8.1,8.2,8.1,8.1,8.1],\"coloraxis\":\"coloraxis\",\"size\":[1293171,1068187,990138,766727,555466,83468,61545,52409],\"sizemode\":\"area\",\"sizeref\":6168.0725,\"symbol\":\"circle\"},\"mode\":\"markers\",\"name\":\"\",\"orientation\":\"v\",\"showlegend\":false,\"type\":\"scatter\",\"x\":[8.6,8.5,8.1,8.1,8.2,8.1,8.1,8.1],\"xaxis\":\"x\",\"y\":[1293171,1068187,990138,766727,555466,83468,61545,52409],\"yaxis\":\"y\"}],\"name\":\"1998\"},{\"data\":[{\"hovertemplate\":\"year=1977<br>averageRating=%{marker.color}<br>number_of_votes=%{marker.size}<extra></extra>\",\"legendgroup\":\"\",\"marker\":{\"color\":[8.6],\"coloraxis\":\"coloraxis\",\"size\":[1277926],\"sizemode\":\"area\",\"sizeref\":6168.0725,\"symbol\":\"circle\"},\"mode\":\"markers\",\"name\":\"\",\"orientation\":\"v\",\"showlegend\":false,\"type\":\"scatter\",\"x\":[8.6],\"xaxis\":\"x\",\"y\":[1277926],\"yaxis\":\"y\"}],\"name\":\"1977\"},{\"data\":[{\"hovertemplate\":\"year=1993<br>averageRating=%{marker.color}<br>number_of_votes=%{marker.size}<extra></extra>\",\"legendgroup\":\"\",\"marker\":{\"color\":[8.9,8.1,8.1],\"coloraxis\":\"coloraxis\",\"size\":[1267768,909913,166095],\"sizemode\":\"area\",\"sizeref\":6168.0725,\"symbol\":\"circle\"},\"mode\":\"markers\",\"name\":\"\",\"orientation\":\"v\",\"showlegend\":false,\"type\":\"scatter\",\"x\":[8.9,8.1,8.1],\"xaxis\":\"x\",\"y\":[1267768,909913,166095],\"yaxis\":\"y\"}],\"name\":\"1993\"},{\"data\":[{\"hovertemplate\":\"year=2013<br>averageRating=%{marker.color}<br>number_of_votes=%{marker.size}<extra></extra>\",\"legendgroup\":\"\",\"marker\":{\"color\":[8.2,8.1,8.1,8.1,8.2,8.1,8.2],\"coloraxis\":\"coloraxis\",\"size\":[1266742,665314,638517,452889,64797,64449,63623],\"sizemode\":\"area\",\"sizeref\":6168.0725,\"symbol\":\"circle\"},\"mode\":\"markers\",\"name\":\"\",\"orientation\":\"v\",\"showlegend\":false,\"type\":\"scatter\",\"x\":[8.2,8.1,8.1,8.1,8.2,8.1,8.2],\"xaxis\":\"x\",\"y\":[1266742,665314,638517,452889,64797,64449,63623],\"yaxis\":\"y\"}],\"name\":\"2013\"},{\"data\":[{\"hovertemplate\":\"year=2006<br>averageRating=%{marker.color}<br>number_of_votes=%{marker.size}<extra></extra>\",\"legendgroup\":\"\",\"marker\":{\"color\":[8.5,8.5,8.2,8.4,8.1],\"coloraxis\":\"coloraxis\",\"size\":[1246174,1241847,639055,372998,116552],\"sizemode\":\"area\",\"sizeref\":6168.0725,\"symbol\":\"circle\"},\"mode\":\"markers\",\"name\":\"\",\"orientation\":\"v\",\"showlegend\":false,\"type\":\"scatter\",\"x\":[8.5,8.5,8.2,8.4,8.1],\"xaxis\":\"x\",\"y\":[1246174,1241847,639055,372998,116552],\"yaxis\":\"y\"}],\"name\":\"2006\"},{\"data\":[{\"hovertemplate\":\"year=1980<br>averageRating=%{marker.color}<br>number_of_votes=%{marker.size}<extra></extra>\",\"legendgroup\":\"\",\"marker\":{\"color\":[8.7,8.4,8.2,8.1],\"coloraxis\":\"coloraxis\",\"size\":[1206117,943341,335959,230682],\"sizemode\":\"area\",\"sizeref\":6168.0725,\"symbol\":\"circle\"},\"mode\":\"markers\",\"name\":\"\",\"orientation\":\"v\",\"showlegend\":false,\"type\":\"scatter\",\"x\":[8.7,8.4,8.2,8.1],\"xaxis\":\"x\",\"y\":[1206117,943341,335959,230682],\"yaxis\":\"y\"}],\"name\":\"1980\"},{\"data\":[{\"hovertemplate\":\"year=1974<br>averageRating=%{marker.color}<br>number_of_votes=%{marker.size}<extra></extra>\",\"legendgroup\":\"\",\"marker\":{\"color\":[9.0,8.2],\"coloraxis\":\"coloraxis\",\"size\":[1184768,309748],\"sizemode\":\"area\",\"sizeref\":6168.0725,\"symbol\":\"circle\"},\"mode\":\"markers\",\"name\":\"\",\"orientation\":\"v\",\"showlegend\":false,\"type\":\"scatter\",\"x\":[9.0,8.2],\"xaxis\":\"x\",\"y\":[1184768,309748],\"yaxis\":\"y\"}],\"name\":\"1974\"},{\"data\":[{\"hovertemplate\":\"year=1985<br>averageRating=%{marker.color}<br>number_of_votes=%{marker.size}<extra></extra>\",\"legendgroup\":\"\",\"marker\":{\"color\":[8.5,8.2,8.3],\"coloraxis\":\"coloraxis\",\"size\":[1114069,119517,68197],\"sizemode\":\"area\",\"sizeref\":6168.0725,\"symbol\":\"circle\"},\"mode\":\"markers\",\"name\":\"\",\"orientation\":\"v\",\"showlegend\":false,\"type\":\"scatter\",\"x\":[8.5,8.2,8.3],\"xaxis\":\"x\",\"y\":[1114069,119517,68197],\"yaxis\":\"y\"}],\"name\":\"1985\"},{\"data\":[{\"hovertemplate\":\"year=1990<br>averageRating=%{marker.color}<br>number_of_votes=%{marker.size}<extra></extra>\",\"legendgroup\":\"\",\"marker\":{\"color\":[8.7],\"coloraxis\":\"coloraxis\",\"size\":[1071234],\"sizemode\":\"area\",\"sizeref\":6168.0725,\"symbol\":\"circle\"},\"mode\":\"markers\",\"name\":\"\",\"orientation\":\"v\",\"showlegend\":false,\"type\":\"scatter\",\"x\":[8.7],\"xaxis\":\"x\",\"y\":[1071234],\"yaxis\":\"y\"}],\"name\":\"1990\"},{\"data\":[{\"hovertemplate\":\"year=2019<br>averageRating=%{marker.color}<br>number_of_votes=%{marker.size}<extra></extra>\",\"legendgroup\":\"\",\"marker\":{\"color\":[8.4,8.4,8.6,8.3,8.1,8.2,8.1,8.3],\"coloraxis\":\"coloraxis\",\"size\":[1069793,941857,662581,492827,336290,119941,77543,51848],\"sizemode\":\"area\",\"sizeref\":6168.0725,\"symbol\":\"circle\"},\"mode\":\"markers\",\"name\":\"\",\"orientation\":\"v\",\"showlegend\":false,\"type\":\"scatter\",\"x\":[8.4,8.4,8.6,8.3,8.1,8.2,8.1,8.3],\"xaxis\":\"x\",\"y\":[1069793,941857,662581,492827,336290,119941,77543,51848],\"yaxis\":\"y\"}],\"name\":\"2019\"},{\"data\":[{\"hovertemplate\":\"year=1983<br>averageRating=%{marker.color}<br>number_of_votes=%{marker.size}<extra></extra>\",\"legendgroup\":\"\",\"marker\":{\"color\":[8.3,8.3],\"coloraxis\":\"coloraxis\",\"size\":[986953,779099],\"sizemode\":\"area\",\"sizeref\":6168.0725,\"symbol\":\"circle\"},\"mode\":\"markers\",\"name\":\"\",\"orientation\":\"v\",\"showlegend\":false,\"type\":\"scatter\",\"x\":[8.3,8.3],\"xaxis\":\"x\",\"y\":[986953,779099],\"yaxis\":\"y\"}],\"name\":\"1983\"},{\"data\":[{\"hovertemplate\":\"year=1992<br>averageRating=%{marker.color}<br>number_of_votes=%{marker.size}<extra></extra>\",\"legendgroup\":\"\",\"marker\":{\"color\":[8.3,8.2],\"coloraxis\":\"coloraxis\",\"size\":[958770,392170],\"sizemode\":\"area\",\"sizeref\":6168.0725,\"symbol\":\"circle\"},\"mode\":\"markers\",\"name\":\"\",\"orientation\":\"v\",\"showlegend\":false,\"type\":\"scatter\",\"x\":[8.3,8.2],\"xaxis\":\"x\",\"y\":[958770,392170],\"yaxis\":\"y\"}],\"name\":\"1992\"},{\"data\":[{\"hovertemplate\":\"year=1975<br>averageRating=%{marker.color}<br>number_of_votes=%{marker.size}<extra></extra>\",\"legendgroup\":\"\",\"marker\":{\"color\":[8.7,8.2,8.1,8.2],\"coloraxis\":\"coloraxis\",\"size\":[954758,517951,158458,53683],\"sizemode\":\"area\",\"sizeref\":6168.0725,\"symbol\":\"circle\"},\"mode\":\"markers\",\"name\":\"\",\"orientation\":\"v\",\"showlegend\":false,\"type\":\"scatter\",\"x\":[8.7,8.2,8.1,8.2],\"xaxis\":\"x\",\"y\":[954758,517951,158458,53683],\"yaxis\":\"y\"}],\"name\":\"1975\"},{\"data\":[{\"hovertemplate\":\"year=2004<br>averageRating=%{marker.color}<br>number_of_votes=%{marker.size}<extra></extra>\",\"legendgroup\":\"\",\"marker\":{\"color\":[8.3,8.1,8.2,8.1,8.2,8.1,8.2],\"coloraxis\":\"coloraxis\",\"size\":[949157,658178,358101,343733,342001,248188,87104],\"sizemode\":\"area\",\"sizeref\":6168.0725,\"symbol\":\"circle\"},\"mode\":\"markers\",\"name\":\"\",\"orientation\":\"v\",\"showlegend\":false,\"type\":\"scatter\",\"x\":[8.3,8.1,8.2,8.1,8.2,8.1,8.2],\"xaxis\":\"x\",\"y\":[949157,658178,358101,343733,342001,248188,87104],\"yaxis\":\"y\"}],\"name\":\"2004\"},{\"data\":[{\"hovertemplate\":\"year=2015<br>averageRating=%{marker.color}<br>number_of_votes=%{marker.size}<extra></extra>\",\"legendgroup\":\"\",\"marker\":{\"color\":[8.1,8.1,8.1,8.1,8.2],\"coloraxis\":\"coloraxis\",\"size\":[928199,654361,442809,393244,76810],\"sizemode\":\"area\",\"sizeref\":6168.0725,\"symbol\":\"circle\"},\"mode\":\"markers\",\"name\":\"\",\"orientation\":\"v\",\"showlegend\":false,\"type\":\"scatter\",\"x\":[8.1,8.1,8.1,8.1,8.2],\"xaxis\":\"x\",\"y\":[928199,654361,442809,393244,76810],\"yaxis\":\"y\"}],\"name\":\"2015\"},{\"data\":[{\"hovertemplate\":\"year=2018<br>averageRating=%{marker.color}<br>number_of_votes=%{marker.size}<extra></extra>\",\"legendgroup\":\"\",\"marker\":{\"color\":[8.4,8.4,8.2,8.2,8.4,8.2],\"coloraxis\":\"coloraxis\",\"size\":[925836,428475,427455,82917,75699,59776],\"sizemode\":\"area\",\"sizeref\":6168.0725,\"symbol\":\"circle\"},\"mode\":\"markers\",\"name\":\"\",\"orientation\":\"v\",\"showlegend\":false,\"type\":\"scatter\",\"x\":[8.4,8.4,8.2,8.2,8.4,8.2],\"xaxis\":\"x\",\"y\":[925836,428475,427455,82917,75699,59776],\"yaxis\":\"y\"}],\"name\":\"2018\"},{\"data\":[{\"hovertemplate\":\"year=1981<br>averageRating=%{marker.color}<br>number_of_votes=%{marker.size}<extra></extra>\",\"legendgroup\":\"\",\"marker\":{\"color\":[8.4,8.3],\"coloraxis\":\"coloraxis\",\"size\":[917621,240750],\"sizemode\":\"area\",\"sizeref\":6168.0725,\"symbol\":\"circle\"},\"mode\":\"markers\",\"name\":\"\",\"orientation\":\"v\",\"showlegend\":false,\"type\":\"scatter\",\"x\":[8.4,8.3],\"xaxis\":\"x\",\"y\":[917621,240750],\"yaxis\":\"y\"}],\"name\":\"1981\"},{\"data\":[{\"hovertemplate\":\"year=2007<br>averageRating=%{marker.color}<br>number_of_votes=%{marker.size}<extra></extra>\",\"legendgroup\":\"\",\"marker\":{\"color\":[8.1,8.1,8.2,8.4,8.2],\"coloraxis\":\"coloraxis\",\"size\":[901637,594840,545417,180911,77473],\"sizemode\":\"area\",\"sizeref\":6168.0725,\"symbol\":\"circle\"},\"mode\":\"markers\",\"name\":\"\",\"orientation\":\"v\",\"showlegend\":false,\"type\":\"scatter\",\"x\":[8.1,8.1,8.2,8.4,8.2],\"xaxis\":\"x\",\"y\":[901637,594840,545417,180911,77473],\"yaxis\":\"y\"}],\"name\":\"2007\"},{\"data\":[{\"hovertemplate\":\"year=1997<br>averageRating=%{marker.color}<br>number_of_votes=%{marker.size}<extra></extra>\",\"legendgroup\":\"\",\"marker\":{\"color\":[8.3,8.6,8.2,8.4,8.3],\"coloraxis\":\"coloraxis\",\"size\":[901559,652737,552109,365253,70379],\"sizemode\":\"area\",\"sizeref\":6168.0725,\"symbol\":\"circle\"},\"mode\":\"markers\",\"name\":\"\",\"orientation\":\"v\",\"showlegend\":false,\"type\":\"scatter\",\"x\":[8.3,8.6,8.2,8.4,8.3],\"xaxis\":\"x\",\"y\":[901559,652737,552109,365253,70379],\"yaxis\":\"y\"}],\"name\":\"1997\"},{\"data\":[{\"hovertemplate\":\"year=1979<br>averageRating=%{marker.color}<br>number_of_votes=%{marker.size}<extra></extra>\",\"legendgroup\":\"\",\"marker\":{\"color\":[8.4,8.4,8.1,8.1],\"coloraxis\":\"coloraxis\",\"size\":[824005,630269,381735,126230],\"sizemode\":\"area\",\"sizeref\":6168.0725,\"symbol\":\"circle\"},\"mode\":\"markers\",\"name\":\"\",\"orientation\":\"v\",\"showlegend\":false,\"type\":\"scatter\",\"x\":[8.4,8.4,8.1,8.1],\"xaxis\":\"x\",\"y\":[824005,630269,381735,126230],\"yaxis\":\"y\"}],\"name\":\"1979\"},{\"data\":[{\"hovertemplate\":\"year=1988<br>averageRating=%{marker.color}<br>number_of_votes=%{marker.size}<extra></extra>\",\"legendgroup\":\"\",\"marker\":{\"color\":[8.2,8.2,8.5,8.5],\"coloraxis\":\"coloraxis\",\"size\":[821229,311280,253041,245604],\"sizemode\":\"area\",\"sizeref\":6168.0725,\"symbol\":\"circle\"},\"mode\":\"markers\",\"name\":\"\",\"orientation\":\"v\",\"showlegend\":false,\"type\":\"scatter\",\"x\":[8.2,8.2,8.5,8.5],\"xaxis\":\"x\",\"y\":[821229,311280,253041,245604],\"yaxis\":\"y\"}],\"name\":\"1988\"},{\"data\":[{\"hovertemplate\":\"year=2011<br>averageRating=%{marker.color}<br>number_of_votes=%{marker.size}<extra></extra>\",\"legendgroup\":\"\",\"marker\":{\"color\":[8.1,8.5,8.1,8.3,8.2],\"coloraxis\":\"coloraxis\",\"size\":[803440,797600,450305,232217,72943],\"sizemode\":\"area\",\"sizeref\":6168.0725,\"symbol\":\"circle\"},\"mode\":\"markers\",\"name\":\"\",\"orientation\":\"v\",\"showlegend\":false,\"type\":\"scatter\",\"x\":[8.1,8.5,8.1,8.3,8.2],\"xaxis\":\"x\",\"y\":[803440,797600,450305,232217,72943],\"yaxis\":\"y\"}],\"name\":\"2011\"},{\"data\":[{\"hovertemplate\":\"year=1971<br>averageRating=%{marker.color}<br>number_of_votes=%{marker.size}<extra></extra>\",\"legendgroup\":\"\",\"marker\":{\"color\":[8.3],\"coloraxis\":\"coloraxis\",\"size\":[786414],\"sizemode\":\"area\",\"sizeref\":6168.0725,\"symbol\":\"circle\"},\"mode\":\"markers\",\"name\":\"\",\"orientation\":\"v\",\"showlegend\":false,\"type\":\"scatter\",\"x\":[8.3],\"xaxis\":\"x\",\"y\":[786414],\"yaxis\":\"y\"}],\"name\":\"1971\"},{\"data\":[{\"hovertemplate\":\"year=1976<br>averageRating=%{marker.color}<br>number_of_votes=%{marker.size}<extra></extra>\",\"legendgroup\":\"\",\"marker\":{\"color\":[8.2,8.1,8.1],\"coloraxis\":\"coloraxis\",\"size\":[762400,540104,152458],\"sizemode\":\"area\",\"sizeref\":6168.0725,\"symbol\":\"circle\"},\"mode\":\"markers\",\"name\":\"\",\"orientation\":\"v\",\"showlegend\":false,\"type\":\"scatter\",\"x\":[8.2,8.1,8.1],\"xaxis\":\"x\",\"y\":[762400,540104,152458],\"yaxis\":\"y\"}],\"name\":\"1976\"},{\"data\":[{\"hovertemplate\":\"year=1957<br>averageRating=%{marker.color}<br>number_of_votes=%{marker.size}<extra></extra>\",\"legendgroup\":\"\",\"marker\":{\"color\":[9.0,8.1,8.4,8.2,8.4,8.2],\"coloraxis\":\"coloraxis\",\"size\":[730308,211368,187321,175568,116553,102235],\"sizemode\":\"area\",\"sizeref\":6168.0725,\"symbol\":\"circle\"},\"mode\":\"markers\",\"name\":\"\",\"orientation\":\"v\",\"showlegend\":false,\"type\":\"scatter\",\"x\":[9.0,8.1,8.4,8.2,8.4,8.2],\"xaxis\":\"x\",\"y\":[730308,211368,187321,175568,116553,102235],\"yaxis\":\"y\"}],\"name\":\"1957\"},{\"data\":[{\"hovertemplate\":\"year=1982<br>averageRating=%{marker.color}<br>number_of_votes=%{marker.size}<extra></extra>\",\"legendgroup\":\"\",\"marker\":{\"color\":[8.1,8.1,8.1],\"coloraxis\":\"coloraxis\",\"size\":[722521,391533,60833],\"sizemode\":\"area\",\"sizeref\":6168.0725,\"symbol\":\"circle\"},\"mode\":\"markers\",\"name\":\"\",\"orientation\":\"v\",\"showlegend\":false,\"type\":\"scatter\",\"x\":[8.1,8.1,8.1],\"xaxis\":\"x\",\"y\":[722521,391533,60833],\"yaxis\":\"y\"}],\"name\":\"1982\"},{\"data\":[{\"hovertemplate\":\"year=1966<br>averageRating=%{marker.color}<br>number_of_votes=%{marker.size}<extra></extra>\",\"legendgroup\":\"\",\"marker\":{\"color\":[8.8,8.1,8.1,8.1],\"coloraxis\":\"coloraxis\",\"size\":[718500,110817,56856,50860],\"sizemode\":\"area\",\"sizeref\":6168.0725,\"symbol\":\"circle\"},\"mode\":\"markers\",\"name\":\"\",\"orientation\":\"v\",\"showlegend\":false,\"type\":\"scatter\",\"x\":[8.8,8.1,8.1,8.1],\"xaxis\":\"x\",\"y\":[718500,110817,56856,50860],\"yaxis\":\"y\"}],\"name\":\"1966\"},{\"data\":[{\"hovertemplate\":\"year=1989<br>averageRating=%{marker.color}<br>number_of_votes=%{marker.size}<extra></extra>\",\"legendgroup\":\"\",\"marker\":{\"color\":[8.2,8.1],\"coloraxis\":\"coloraxis\",\"size\":[717727,449605],\"sizemode\":\"area\",\"sizeref\":6168.0725,\"symbol\":\"circle\"},\"mode\":\"markers\",\"name\":\"\",\"orientation\":\"v\",\"showlegend\":false,\"type\":\"scatter\",\"x\":[8.2,8.1],\"xaxis\":\"x\",\"y\":[717727,449605],\"yaxis\":\"y\"}],\"name\":\"1989\"},{\"data\":[{\"hovertemplate\":\"year=1987<br>averageRating=%{marker.color}<br>number_of_votes=%{marker.size}<extra></extra>\",\"legendgroup\":\"\",\"marker\":{\"color\":[8.3,8.1],\"coloraxis\":\"coloraxis\",\"size\":[702042,408536],\"sizemode\":\"area\",\"sizeref\":6168.0725,\"symbol\":\"circle\"},\"mode\":\"markers\",\"name\":\"\",\"orientation\":\"v\",\"showlegend\":false,\"type\":\"scatter\",\"x\":[8.3,8.1],\"xaxis\":\"x\",\"y\":[702042,408536],\"yaxis\":\"y\"}],\"name\":\"1987\"},{\"data\":[{\"hovertemplate\":\"year=2017<br>averageRating=%{marker.color}<br>number_of_votes=%{marker.size}<extra></extra>\",\"legendgroup\":\"\",\"marker\":{\"color\":[8.1,8.1,8.4,8.2],\"coloraxis\":\"coloraxis\",\"size\":[688717,466552,432725,81180],\"sizemode\":\"area\",\"sizeref\":6168.0725,\"symbol\":\"circle\"},\"mode\":\"markers\",\"name\":\"\",\"orientation\":\"v\",\"showlegend\":false,\"type\":\"scatter\",\"x\":[8.1,8.1,8.4,8.2],\"xaxis\":\"x\",\"y\":[688717,466552,432725,81180],\"yaxis\":\"y\"}],\"name\":\"2017\"},{\"data\":[{\"hovertemplate\":\"year=1986<br>averageRating=%{marker.color}<br>number_of_votes=%{marker.size}<extra></extra>\",\"legendgroup\":\"\",\"marker\":{\"color\":[8.3,8.1,8.1],\"coloraxis\":\"coloraxis\",\"size\":[678989,395536,380377],\"sizemode\":\"area\",\"sizeref\":6168.0725,\"symbol\":\"circle\"},\"mode\":\"markers\",\"name\":\"\",\"orientation\":\"v\",\"showlegend\":false,\"type\":\"scatter\",\"x\":[8.3,8.1,8.1],\"xaxis\":\"x\",\"y\":[678989,395536,380377],\"yaxis\":\"y\"}],\"name\":\"1986\"},{\"data\":[{\"hovertemplate\":\"year=1996<br>averageRating=%{marker.color}<br>number_of_votes=%{marker.size}<extra></extra>\",\"legendgroup\":\"\",\"marker\":{\"color\":[8.1,8.1,8.2],\"coloraxis\":\"coloraxis\",\"size\":[656426,643771,67727],\"sizemode\":\"area\",\"sizeref\":6168.0725,\"symbol\":\"circle\"},\"mode\":\"markers\",\"name\":\"\",\"orientation\":\"v\",\"showlegend\":false,\"type\":\"scatter\",\"x\":[8.1,8.1,8.2],\"xaxis\":\"x\",\"y\":[656426,643771,67727],\"yaxis\":\"y\"}],\"name\":\"1996\"},{\"data\":[{\"hovertemplate\":\"year=1960<br>averageRating=%{marker.color}<br>number_of_votes=%{marker.size}<extra></extra>\",\"legendgroup\":\"\",\"marker\":{\"color\":[8.5,8.3],\"coloraxis\":\"coloraxis\",\"size\":[631155,172293],\"sizemode\":\"area\",\"sizeref\":6168.0725,\"symbol\":\"circle\"},\"mode\":\"markers\",\"name\":\"\",\"orientation\":\"v\",\"showlegend\":false,\"type\":\"scatter\",\"x\":[8.5,8.3],\"xaxis\":\"x\",\"y\":[631155,172293],\"yaxis\":\"y\"}],\"name\":\"1960\"},{\"data\":[{\"hovertemplate\":\"year=1968<br>averageRating=%{marker.color}<br>number_of_votes=%{marker.size}<extra></extra>\",\"legendgroup\":\"\",\"marker\":{\"color\":[8.3,8.5],\"coloraxis\":\"coloraxis\",\"size\":[630232,314637],\"sizemode\":\"area\",\"sizeref\":6168.0725,\"symbol\":\"circle\"},\"mode\":\"markers\",\"name\":\"\",\"orientation\":\"v\",\"showlegend\":false,\"type\":\"scatter\",\"x\":[8.3,8.5],\"xaxis\":\"x\",\"y\":[630232,314637],\"yaxis\":\"y\"}],\"name\":\"1968\"},{\"data\":[{\"hovertemplate\":\"year=1942<br>averageRating=%{marker.color}<br>number_of_votes=%{marker.size}<extra></extra>\",\"legendgroup\":\"\",\"marker\":{\"color\":[8.5],\"coloraxis\":\"coloraxis\",\"size\":[543270],\"sizemode\":\"area\",\"sizeref\":6168.0725,\"symbol\":\"circle\"},\"mode\":\"markers\",\"name\":\"\",\"orientation\":\"v\",\"showlegend\":false,\"type\":\"scatter\",\"x\":[8.5],\"xaxis\":\"x\",\"y\":[543270],\"yaxis\":\"y\"}],\"name\":\"1942\"},{\"data\":[{\"hovertemplate\":\"year=2016<br>averageRating=%{marker.color}<br>number_of_votes=%{marker.size}<extra></extra>\",\"legendgroup\":\"\",\"marker\":{\"color\":[8.1,8.4,8.4,8.1,8.1,8.7,8.2],\"coloraxis\":\"coloraxis\",\"size\":[468276,225384,171613,160754,128191,106823,63394],\"sizemode\":\"area\",\"sizeref\":6168.0725,\"symbol\":\"circle\"},\"mode\":\"markers\",\"name\":\"\",\"orientation\":\"v\",\"showlegend\":false,\"type\":\"scatter\",\"x\":[8.1,8.4,8.4,8.1,8.1,8.7,8.2],\"xaxis\":\"x\",\"y\":[468276,225384,171613,160754,128191,106823,63394],\"yaxis\":\"y\"}],\"name\":\"2016\"},{\"data\":[{\"hovertemplate\":\"year=1964<br>averageRating=%{marker.color}<br>number_of_votes=%{marker.size}<extra></extra>\",\"legendgroup\":\"\",\"marker\":{\"color\":[8.4],\"coloraxis\":\"coloraxis\",\"size\":[467944],\"sizemode\":\"area\",\"sizeref\":6168.0725,\"symbol\":\"circle\"},\"mode\":\"markers\",\"name\":\"\",\"orientation\":\"v\",\"showlegend\":false,\"type\":\"scatter\",\"x\":[8.4],\"xaxis\":\"x\",\"y\":[467944],\"yaxis\":\"y\"}],\"name\":\"1964\"},{\"data\":[{\"hovertemplate\":\"year=1954<br>averageRating=%{marker.color}<br>number_of_votes=%{marker.size}<extra></extra>\",\"legendgroup\":\"\",\"marker\":{\"color\":[8.5,8.6,8.2,8.1],\"coloraxis\":\"coloraxis\",\"size\":[465763,329185,166839,148607],\"sizemode\":\"area\",\"sizeref\":6168.0725,\"symbol\":\"circle\"},\"mode\":\"markers\",\"name\":\"\",\"orientation\":\"v\",\"showlegend\":false,\"type\":\"scatter\",\"x\":[8.5,8.6,8.2,8.1],\"xaxis\":\"x\",\"y\":[465763,329185,166839,148607],\"yaxis\":\"y\"}],\"name\":\"1954\"},{\"data\":[{\"hovertemplate\":\"year=1941<br>averageRating=%{marker.color}<br>number_of_votes=%{marker.size}<extra></extra>\",\"legendgroup\":\"\",\"marker\":{\"color\":[8.3],\"coloraxis\":\"coloraxis\",\"size\":[422741],\"sizemode\":\"area\",\"sizeref\":6168.0725,\"symbol\":\"circle\"},\"mode\":\"markers\",\"name\":\"\",\"orientation\":\"v\",\"showlegend\":false,\"type\":\"scatter\",\"x\":[8.3],\"xaxis\":\"x\",\"y\":[422741],\"yaxis\":\"y\"}],\"name\":\"1941\"},{\"data\":[{\"hovertemplate\":\"year=1946<br>averageRating=%{marker.color}<br>number_of_votes=%{marker.size}<extra></extra>\",\"legendgroup\":\"\",\"marker\":{\"color\":[8.6,8.1],\"coloraxis\":\"coloraxis\",\"size\":[422657,61016],\"sizemode\":\"area\",\"sizeref\":6168.0725,\"symbol\":\"circle\"},\"mode\":\"markers\",\"name\":\"\",\"orientation\":\"v\",\"showlegend\":false,\"type\":\"scatter\",\"x\":[8.6,8.1],\"xaxis\":\"x\",\"y\":[422657,61016],\"yaxis\":\"y\"}],\"name\":\"1946\"},{\"data\":[{\"hovertemplate\":\"year=1984<br>averageRating=%{marker.color}<br>number_of_votes=%{marker.size}<extra></extra>\",\"legendgroup\":\"\",\"marker\":{\"color\":[8.3,8.3,8.1,8.1],\"coloraxis\":\"coloraxis\",\"size\":[382560,329461,160093,99213],\"sizemode\":\"area\",\"sizeref\":6168.0725,\"symbol\":\"circle\"},\"mode\":\"markers\",\"name\":\"\",\"orientation\":\"v\",\"showlegend\":false,\"type\":\"scatter\",\"x\":[8.3,8.3,8.1,8.1],\"xaxis\":\"x\",\"y\":[382560,329461,160093,99213],\"yaxis\":\"y\"}],\"name\":\"1984\"},{\"data\":[{\"hovertemplate\":\"year=1958<br>averageRating=%{marker.color}<br>number_of_votes=%{marker.size}<extra></extra>\",\"legendgroup\":\"\",\"marker\":{\"color\":[8.3],\"coloraxis\":\"coloraxis\",\"size\":[382469],\"sizemode\":\"area\",\"sizeref\":6168.0725,\"symbol\":\"circle\"},\"mode\":\"markers\",\"name\":\"\",\"orientation\":\"v\",\"showlegend\":false,\"type\":\"scatter\",\"x\":[8.3],\"xaxis\":\"x\",\"y\":[382469],\"yaxis\":\"y\"}],\"name\":\"1958\"},{\"data\":[{\"hovertemplate\":\"year=2021<br>averageRating=%{marker.color}<br>number_of_votes=%{marker.size}<extra></extra>\",\"legendgroup\":\"\",\"marker\":{\"color\":[8.1,8.7,8.4],\"coloraxis\":\"coloraxis\",\"size\":[337884,102616,57831],\"sizemode\":\"area\",\"sizeref\":6168.0725,\"symbol\":\"circle\"},\"mode\":\"markers\",\"name\":\"\",\"orientation\":\"v\",\"showlegend\":false,\"type\":\"scatter\",\"x\":[8.1,8.7,8.4],\"xaxis\":\"x\",\"y\":[337884,102616,57831],\"yaxis\":\"y\"}],\"name\":\"2021\"},{\"data\":[{\"hovertemplate\":\"year=1978<br>averageRating=%{marker.color}<br>number_of_votes=%{marker.size}<extra></extra>\",\"legendgroup\":\"\",\"marker\":{\"color\":[8.1],\"coloraxis\":\"coloraxis\",\"size\":[324804],\"sizemode\":\"area\",\"sizeref\":6168.0725,\"symbol\":\"circle\"},\"mode\":\"markers\",\"name\":\"\",\"orientation\":\"v\",\"showlegend\":false,\"type\":\"scatter\",\"x\":[8.1],\"xaxis\":\"x\",\"y\":[324804],\"yaxis\":\"y\"}],\"name\":\"1978\"},{\"data\":[{\"hovertemplate\":\"year=1959<br>averageRating=%{marker.color}<br>number_of_votes=%{marker.size}<extra></extra>\",\"legendgroup\":\"\",\"marker\":{\"color\":[8.3,8.2,8.1,8.1],\"coloraxis\":\"coloraxis\",\"size\":[312356,254673,228722,111490],\"sizemode\":\"area\",\"sizeref\":6168.0725,\"symbol\":\"circle\"},\"mode\":\"markers\",\"name\":\"\",\"orientation\":\"v\",\"showlegend\":false,\"type\":\"scatter\",\"x\":[8.3,8.2,8.1,8.1],\"xaxis\":\"x\",\"y\":[312356,254673,228722,111490],\"yaxis\":\"y\"}],\"name\":\"1959\"},{\"data\":[{\"hovertemplate\":\"year=1962<br>averageRating=%{marker.color}<br>number_of_votes=%{marker.size}<extra></extra>\",\"legendgroup\":\"\",\"marker\":{\"color\":[8.3,8.3,8.1,8.1],\"coloraxis\":\"coloraxis\",\"size\":[304462,279662,72573,52825],\"sizemode\":\"area\",\"sizeref\":6168.0725,\"symbol\":\"circle\"},\"mode\":\"markers\",\"name\":\"\",\"orientation\":\"v\",\"showlegend\":false,\"type\":\"scatter\",\"x\":[8.3,8.3,8.1,8.1],\"xaxis\":\"x\",\"y\":[304462,279662,72573,52825],\"yaxis\":\"y\"}],\"name\":\"1962\"},{\"data\":[{\"hovertemplate\":\"year=1939<br>averageRating=%{marker.color}<br>number_of_votes=%{marker.size}<extra></extra>\",\"legendgroup\":\"\",\"marker\":{\"color\":[8.1,8.1],\"coloraxis\":\"coloraxis\",\"size\":[301612,111473],\"sizemode\":\"area\",\"sizeref\":6168.0725,\"symbol\":\"circle\"},\"mode\":\"markers\",\"name\":\"\",\"orientation\":\"v\",\"showlegend\":false,\"type\":\"scatter\",\"x\":[8.1,8.1],\"xaxis\":\"x\",\"y\":[301612,111473],\"yaxis\":\"y\"}],\"name\":\"1939\"},{\"data\":[{\"hovertemplate\":\"year=2020<br>averageRating=%{marker.color}<br>number_of_votes=%{marker.size}<extra></extra>\",\"legendgroup\":\"\",\"marker\":{\"color\":[8.1,8.2,8.3,9.1,8.8,8.4],\"coloraxis\":\"coloraxis\",\"size\":[278941,124387,98033,90129,79414,74037],\"sizemode\":\"area\",\"sizeref\":6168.0725,\"symbol\":\"circle\"},\"mode\":\"markers\",\"name\":\"\",\"orientation\":\"v\",\"showlegend\":false,\"type\":\"scatter\",\"x\":[8.1,8.2,8.3,9.1,8.8,8.4],\"xaxis\":\"x\",\"y\":[278941,124387,98033,90129,79414,74037],\"yaxis\":\"y\"}],\"name\":\"2020\"},{\"data\":[{\"hovertemplate\":\"year=1973<br>averageRating=%{marker.color}<br>number_of_votes=%{marker.size}<extra></extra>\",\"legendgroup\":\"\",\"marker\":{\"color\":[8.3],\"coloraxis\":\"coloraxis\",\"size\":[250794],\"sizemode\":\"area\",\"sizeref\":6168.0725,\"symbol\":\"circle\"},\"mode\":\"markers\",\"name\":\"\",\"orientation\":\"v\",\"showlegend\":false,\"type\":\"scatter\",\"x\":[8.3],\"xaxis\":\"x\",\"y\":[250794],\"yaxis\":\"y\"}],\"name\":\"1973\"},{\"data\":[{\"hovertemplate\":\"year=1965<br>averageRating=%{marker.color}<br>number_of_votes=%{marker.size}<extra></extra>\",\"legendgroup\":\"\",\"marker\":{\"color\":[8.2],\"coloraxis\":\"coloraxis\",\"size\":[243607],\"sizemode\":\"area\",\"sizeref\":6168.0725,\"symbol\":\"circle\"},\"mode\":\"markers\",\"name\":\"\",\"orientation\":\"v\",\"showlegend\":false,\"type\":\"scatter\",\"x\":[8.2],\"xaxis\":\"x\",\"y\":[243607],\"yaxis\":\"y\"}],\"name\":\"1965\"},{\"data\":[{\"hovertemplate\":\"year=1963<br>averageRating=%{marker.color}<br>number_of_votes=%{marker.size}<extra></extra>\",\"legendgroup\":\"\",\"marker\":{\"color\":[8.2],\"coloraxis\":\"coloraxis\",\"size\":[233939],\"sizemode\":\"area\",\"sizeref\":6168.0725,\"symbol\":\"circle\"},\"mode\":\"markers\",\"name\":\"\",\"orientation\":\"v\",\"showlegend\":false,\"type\":\"scatter\",\"x\":[8.2],\"xaxis\":\"x\",\"y\":[233939],\"yaxis\":\"y\"}],\"name\":\"1963\"},{\"data\":[{\"hovertemplate\":\"year=1936<br>averageRating=%{marker.color}<br>number_of_votes=%{marker.size}<extra></extra>\",\"legendgroup\":\"\",\"marker\":{\"color\":[8.5],\"coloraxis\":\"coloraxis\",\"size\":[228899],\"sizemode\":\"area\",\"sizeref\":6168.0725,\"symbol\":\"circle\"},\"mode\":\"markers\",\"name\":\"\",\"orientation\":\"v\",\"showlegend\":false,\"type\":\"scatter\",\"x\":[8.5],\"xaxis\":\"x\",\"y\":[228899],\"yaxis\":\"y\"}],\"name\":\"1936\"},{\"data\":[{\"hovertemplate\":\"year=1952<br>averageRating=%{marker.color}<br>number_of_votes=%{marker.size}<extra></extra>\",\"legendgroup\":\"\",\"marker\":{\"color\":[8.3,8.3],\"coloraxis\":\"coloraxis\",\"size\":[228819,73751],\"sizemode\":\"area\",\"sizeref\":6168.0725,\"symbol\":\"circle\"},\"mode\":\"markers\",\"name\":\"\",\"orientation\":\"v\",\"showlegend\":false,\"type\":\"scatter\",\"x\":[8.3,8.3],\"xaxis\":\"x\",\"y\":[228819,73751],\"yaxis\":\"y\"}],\"name\":\"1952\"},{\"data\":[{\"hovertemplate\":\"year=1940<br>averageRating=%{marker.color}<br>number_of_votes=%{marker.size}<extra></extra>\",\"legendgroup\":\"\",\"marker\":{\"color\":[8.4,8.1,8.1],\"coloraxis\":\"coloraxis\",\"size\":[213371,131148,89526],\"sizemode\":\"area\",\"sizeref\":6168.0725,\"symbol\":\"circle\"},\"mode\":\"markers\",\"name\":\"\",\"orientation\":\"v\",\"showlegend\":false,\"type\":\"scatter\",\"x\":[8.4,8.1,8.1],\"xaxis\":\"x\",\"y\":[213371,131148,89526],\"yaxis\":\"y\"}],\"name\":\"1940\"},{\"data\":[{\"hovertemplate\":\"year=1950<br>averageRating=%{marker.color}<br>number_of_votes=%{marker.size}<extra></extra>\",\"legendgroup\":\"\",\"marker\":{\"color\":[8.4,8.2,8.2],\"coloraxis\":\"coloraxis\",\"size\":[211265,160191,125952],\"sizemode\":\"area\",\"sizeref\":6168.0725,\"symbol\":\"circle\"},\"mode\":\"markers\",\"name\":\"\",\"orientation\":\"v\",\"showlegend\":false,\"type\":\"scatter\",\"x\":[8.4,8.2,8.2],\"xaxis\":\"x\",\"y\":[211265,160191,125952],\"yaxis\":\"y\"}],\"name\":\"1950\"},{\"data\":[{\"hovertemplate\":\"year=1931<br>averageRating=%{marker.color}<br>number_of_votes=%{marker.size}<extra></extra>\",\"legendgroup\":\"\",\"marker\":{\"color\":[8.5,8.3],\"coloraxis\":\"coloraxis\",\"size\":[176123,150670],\"sizemode\":\"area\",\"sizeref\":6168.0725,\"symbol\":\"circle\"},\"mode\":\"markers\",\"name\":\"\",\"orientation\":\"v\",\"showlegend\":false,\"type\":\"scatter\",\"x\":[8.5,8.3],\"xaxis\":\"x\",\"y\":[176123,150670],\"yaxis\":\"y\"}],\"name\":\"1931\"},{\"data\":[{\"hovertemplate\":\"year=1967<br>averageRating=%{marker.color}<br>number_of_votes=%{marker.size}<extra></extra>\",\"legendgroup\":\"\",\"marker\":{\"color\":[8.1],\"coloraxis\":\"coloraxis\",\"size\":[170175],\"sizemode\":\"area\",\"sizeref\":6168.0725,\"symbol\":\"circle\"},\"mode\":\"markers\",\"name\":\"\",\"orientation\":\"v\",\"showlegend\":false,\"type\":\"scatter\",\"x\":[8.1],\"xaxis\":\"x\",\"y\":[170175],\"yaxis\":\"y\"}],\"name\":\"1967\"},{\"data\":[{\"hovertemplate\":\"year=1927<br>averageRating=%{marker.color}<br>number_of_votes=%{marker.size}<extra></extra>\",\"legendgroup\":\"\",\"marker\":{\"color\":[8.3],\"coloraxis\":\"coloraxis\",\"size\":[166894],\"sizemode\":\"area\",\"sizeref\":6168.0725,\"symbol\":\"circle\"},\"mode\":\"markers\",\"name\":\"\",\"orientation\":\"v\",\"showlegend\":false,\"type\":\"scatter\",\"x\":[8.3],\"xaxis\":\"x\",\"y\":[166894],\"yaxis\":\"y\"}],\"name\":\"1927\"},{\"data\":[{\"hovertemplate\":\"year=1949<br>averageRating=%{marker.color}<br>number_of_votes=%{marker.size}<extra></extra>\",\"legendgroup\":\"\",\"marker\":{\"color\":[8.1],\"coloraxis\":\"coloraxis\",\"size\":[165251],\"sizemode\":\"area\",\"sizeref\":6168.0725,\"symbol\":\"circle\"},\"mode\":\"markers\",\"name\":\"\",\"orientation\":\"v\",\"showlegend\":false,\"type\":\"scatter\",\"x\":[8.1],\"xaxis\":\"x\",\"y\":[165251],\"yaxis\":\"y\"}],\"name\":\"1949\"},{\"data\":[{\"hovertemplate\":\"year=1948<br>averageRating=%{marker.color}<br>number_of_votes=%{marker.size}<extra></extra>\",\"legendgroup\":\"\",\"marker\":{\"color\":[8.3,8.2],\"coloraxis\":\"coloraxis\",\"size\":[155781,119736],\"sizemode\":\"area\",\"sizeref\":6168.0725,\"symbol\":\"circle\"},\"mode\":\"markers\",\"name\":\"\",\"orientation\":\"v\",\"showlegend\":false,\"type\":\"scatter\",\"x\":[8.3,8.2],\"xaxis\":\"x\",\"y\":[155781,119736],\"yaxis\":\"y\"}],\"name\":\"1948\"},{\"data\":[{\"hovertemplate\":\"year=1944<br>averageRating=%{marker.color}<br>number_of_votes=%{marker.size}<extra></extra>\",\"legendgroup\":\"\",\"marker\":{\"color\":[8.3],\"coloraxis\":\"coloraxis\",\"size\":[150120],\"sizemode\":\"area\",\"sizeref\":6168.0725,\"symbol\":\"circle\"},\"mode\":\"markers\",\"name\":\"\",\"orientation\":\"v\",\"showlegend\":false,\"type\":\"scatter\",\"x\":[8.3],\"xaxis\":\"x\",\"y\":[150120],\"yaxis\":\"y\"}],\"name\":\"1944\"},{\"data\":[{\"hovertemplate\":\"year=1921<br>averageRating=%{marker.color}<br>number_of_votes=%{marker.size}<extra></extra>\",\"legendgroup\":\"\",\"marker\":{\"color\":[8.3],\"coloraxis\":\"coloraxis\",\"size\":[120238],\"sizemode\":\"area\",\"sizeref\":6168.0725,\"symbol\":\"circle\"},\"mode\":\"markers\",\"name\":\"\",\"orientation\":\"v\",\"showlegend\":false,\"type\":\"scatter\",\"x\":[8.3],\"xaxis\":\"x\",\"y\":[120238],\"yaxis\":\"y\"}],\"name\":\"1921\"},{\"data\":[{\"hovertemplate\":\"year=1961<br>averageRating=%{marker.color}<br>number_of_votes=%{marker.size}<extra></extra>\",\"legendgroup\":\"\",\"marker\":{\"color\":[8.2,8.2],\"coloraxis\":\"coloraxis\",\"size\":[117324,73791],\"sizemode\":\"area\",\"sizeref\":6168.0725,\"symbol\":\"circle\"},\"mode\":\"markers\",\"name\":\"\",\"orientation\":\"v\",\"showlegend\":false,\"type\":\"scatter\",\"x\":[8.2,8.2],\"xaxis\":\"x\",\"y\":[117324,73791],\"yaxis\":\"y\"}],\"name\":\"1961\"},{\"data\":[{\"hovertemplate\":\"year=1925<br>averageRating=%{marker.color}<br>number_of_votes=%{marker.size}<extra></extra>\",\"legendgroup\":\"\",\"marker\":{\"color\":[8.2],\"coloraxis\":\"coloraxis\",\"size\":[106545],\"sizemode\":\"area\",\"sizeref\":6168.0725,\"symbol\":\"circle\"},\"mode\":\"markers\",\"name\":\"\",\"orientation\":\"v\",\"showlegend\":false,\"type\":\"scatter\",\"x\":[8.2],\"xaxis\":\"x\",\"y\":[106545],\"yaxis\":\"y\"}],\"name\":\"1925\"},{\"data\":[{\"hovertemplate\":\"year=1934<br>averageRating=%{marker.color}<br>number_of_votes=%{marker.size}<extra></extra>\",\"legendgroup\":\"\",\"marker\":{\"color\":[8.1],\"coloraxis\":\"coloraxis\",\"size\":[98880],\"sizemode\":\"area\",\"sizeref\":6168.0725,\"symbol\":\"circle\"},\"mode\":\"markers\",\"name\":\"\",\"orientation\":\"v\",\"showlegend\":false,\"type\":\"scatter\",\"x\":[8.1],\"xaxis\":\"x\",\"y\":[98880],\"yaxis\":\"y\"}],\"name\":\"1934\"},{\"data\":[{\"hovertemplate\":\"year=1926<br>averageRating=%{marker.color}<br>number_of_votes=%{marker.size}<extra></extra>\",\"legendgroup\":\"\",\"marker\":{\"color\":[8.1],\"coloraxis\":\"coloraxis\",\"size\":[86876],\"sizemode\":\"area\",\"sizeref\":6168.0725,\"symbol\":\"circle\"},\"mode\":\"markers\",\"name\":\"\",\"orientation\":\"v\",\"showlegend\":false,\"type\":\"scatter\",\"x\":[8.1],\"xaxis\":\"x\",\"y\":[86876],\"yaxis\":\"y\"}],\"name\":\"1926\"},{\"data\":[{\"hovertemplate\":\"year=1955<br>averageRating=%{marker.color}<br>number_of_votes=%{marker.size}<extra></extra>\",\"legendgroup\":\"\",\"marker\":{\"color\":[8.1],\"coloraxis\":\"coloraxis\",\"size\":[63908],\"sizemode\":\"area\",\"sizeref\":6168.0725,\"symbol\":\"circle\"},\"mode\":\"markers\",\"name\":\"\",\"orientation\":\"v\",\"showlegend\":false,\"type\":\"scatter\",\"x\":[8.1],\"xaxis\":\"x\",\"y\":[63908],\"yaxis\":\"y\"}],\"name\":\"1955\"},{\"data\":[{\"hovertemplate\":\"year=1920<br>averageRating=%{marker.color}<br>number_of_votes=%{marker.size}<extra></extra>\",\"legendgroup\":\"\",\"marker\":{\"color\":[8.1],\"coloraxis\":\"coloraxis\",\"size\":[60354],\"sizemode\":\"area\",\"sizeref\":6168.0725,\"symbol\":\"circle\"},\"mode\":\"markers\",\"name\":\"\",\"orientation\":\"v\",\"showlegend\":false,\"type\":\"scatter\",\"x\":[8.1],\"xaxis\":\"x\",\"y\":[60354],\"yaxis\":\"y\"}],\"name\":\"1920\"},{\"data\":[{\"hovertemplate\":\"year=1930<br>averageRating=%{marker.color}<br>number_of_votes=%{marker.size}<extra></extra>\",\"legendgroup\":\"\",\"marker\":{\"color\":[8.1],\"coloraxis\":\"coloraxis\",\"size\":[59365],\"sizemode\":\"area\",\"sizeref\":6168.0725,\"symbol\":\"circle\"},\"mode\":\"markers\",\"name\":\"\",\"orientation\":\"v\",\"showlegend\":false,\"type\":\"scatter\",\"x\":[8.1],\"xaxis\":\"x\",\"y\":[59365],\"yaxis\":\"y\"}],\"name\":\"1930\"},{\"data\":[{\"hovertemplate\":\"year=1953<br>averageRating=%{marker.color}<br>number_of_votes=%{marker.size}<extra></extra>\",\"legendgroup\":\"\",\"marker\":{\"color\":[8.1,8.2],\"coloraxis\":\"coloraxis\",\"size\":[58256,57676],\"sizemode\":\"area\",\"sizeref\":6168.0725,\"symbol\":\"circle\"},\"mode\":\"markers\",\"name\":\"\",\"orientation\":\"v\",\"showlegend\":false,\"type\":\"scatter\",\"x\":[8.1,8.2],\"xaxis\":\"x\",\"y\":[58256,57676],\"yaxis\":\"y\"}],\"name\":\"1953\"},{\"data\":[{\"hovertemplate\":\"year=1928<br>averageRating=%{marker.color}<br>number_of_votes=%{marker.size}<extra></extra>\",\"legendgroup\":\"\",\"marker\":{\"color\":[8.1],\"coloraxis\":\"coloraxis\",\"size\":[51468],\"sizemode\":\"area\",\"sizeref\":6168.0725,\"symbol\":\"circle\"},\"mode\":\"markers\",\"name\":\"\",\"orientation\":\"v\",\"showlegend\":false,\"type\":\"scatter\",\"x\":[8.1],\"xaxis\":\"x\",\"y\":[51468],\"yaxis\":\"y\"}],\"name\":\"1928\"}]);\n",
       "                        }).then(function(){\n",
       "                            \n",
       "var gd = document.getElementById('73e02785-38d6-4619-83ce-3091ca00bc0f');\n",
       "var x = new MutationObserver(function (mutations, observer) {{\n",
       "        var display = window.getComputedStyle(gd).display;\n",
       "        if (!display || display === 'none') {{\n",
       "            console.log([gd, 'removed!']);\n",
       "            Plotly.purge(gd);\n",
       "            observer.disconnect();\n",
       "        }}\n",
       "}});\n",
       "\n",
       "// Listen for the removal of the full notebook cells\n",
       "var notebookContainer = gd.closest('#notebook-container');\n",
       "if (notebookContainer) {{\n",
       "    x.observe(notebookContainer, {childList: true});\n",
       "}}\n",
       "\n",
       "// Listen for the clearing of the current output cell\n",
       "var outputEl = gd.closest('.output');\n",
       "if (outputEl) {{\n",
       "    x.observe(outputEl, {childList: true});\n",
       "}}\n",
       "\n",
       "                        })                };                });            </script>        </div>"
      ]
     },
     "metadata": {},
     "output_type": "display_data"
    }
   ],
   "source": [
    "px.scatter(df, x=\"averageRating\", y=\"number_of_votes\",animation_frame=\"year\", size=\"number_of_votes\", color=\"averageRating\")"
   ]
  },
  {
   "cell_type": "code",
   "execution_count": 50,
   "metadata": {
    "ExecuteTime": {
     "end_time": "2021-10-03T03:57:22.635746Z",
     "start_time": "2021-10-03T03:57:22.013975Z"
    }
   },
   "outputs": [
    {
     "data": {
      "image/png": "[encoded data removed]",
      "text/plain": [
       "<Figure size 576x432 with 1 Axes>"
      ]
     },
     "metadata": {},
     "output_type": "display_data"
    }
   ],
   "source": [
    "sns.set_context('talk', font_scale=1.1)\n",
    "plt.figure(figsize=(8, 6))\n",
    "sns.scatterplot(df.averageRating, df.numVotes, \n",
    "                size=\"numVotes\",data=df,\n",
    "                hue=\"titleType\", \n",
    "                alpha=0.6, palette=\"deep\")\n",
    "plt.xlabel(\"Average Rating\")\n",
    "plt.ylabel(\"Number of Votes\")\n",
    "plt.title(\"Average Rating vs Number of Votes of media on IMDB by Type 2021 \", pad=20)\n",
    "plt.legend(bbox_to_anchor = (1.01, 1), borderaxespad=0.8)\n",
    "plt.show()"
   ]
  },
  {
   "cell_type": "code",
   "execution_count": 79,
   "metadata": {
    "ExecuteTime": {
     "end_time": "2021-10-03T13:48:23.098545Z",
     "start_time": "2021-10-03T13:48:23.058053Z"
    }
   },
   "outputs": [
    {
     "name": "stdout",
     "output_type": "stream",
     "text": [
      "<class 'pandas.core.frame.DataFrame'>\n",
      "RangeIndex: 1401 entries, 0 to 1400\n",
      "Data columns (total 8 columns):\n",
      "titleId          1401 non-null object\n",
      "title            1401 non-null object\n",
      "region           1401 non-null object\n",
      "language         1401 non-null object\n",
      "numVotes         1401 non-null int64\n",
      "averageRating    1401 non-null float64\n",
      "genres           1401 non-null object\n",
      "titleType        1401 non-null object\n",
      "dtypes: float64(1), int64(1), object(6)\n",
      "memory usage: 87.7+ KB\n"
     ]
    }
   ],
   "source": [
    "import pandas as pd\n",
    "\n",
    "#Load and View\n",
    "csv_file = \"resultstop20percent.csv\"\n",
    "mycsv = pd.read_csv(csv_file)\n",
    "mycsv.info()\n",
    "\n",
    "df.sort_values('numVotes', ascending=False).head()\n",
    "#mycsv = mycsv.melt(id_vars='numVotes',var_name='Column_name',value_name='Value')\n",
    "#print(mycsv.set_index('Column_name').groupby('numVotes')['Value'].apply(lambda grp: grp.nlargest(2)))"
   ]
  },
  {
   "cell_type": "code",
   "execution_count": 116,
   "metadata": {
    "ExecuteTime": {
     "end_time": "2021-10-03T15:05:10.857454Z",
     "start_time": "2021-10-03T15:05:10.802116Z"
    }
   },
   "outputs": [
    {
     "data": {
      "text/html": [
       "<div>\n",
       "<style scoped>\n",
       "    .dataframe tbody tr th:only-of-type {\n",
       "        vertical-align: middle;\n",
       "    }\n",
       "\n",
       "    .dataframe tbody tr th {\n",
       "        vertical-align: top;\n",
       "    }\n",
       "\n",
       "    .dataframe thead th {\n",
       "        text-align: right;\n",
       "    }\n",
       "</style>\n",
       "<table border=\"1\" class=\"dataframe\">\n",
       "  <thead>\n",
       "    <tr style=\"text-align: right;\">\n",
       "      <th></th>\n",
       "      <th>title</th>\n",
       "      <th>language</th>\n",
       "      <th>numVotes</th>\n",
       "      <th>averageRating</th>\n",
       "      <th>genres</th>\n",
       "      <th>titleType</th>\n",
       "    </tr>\n",
       "  </thead>\n",
       "  <tbody>\n",
       "    <tr>\n",
       "      <td>18</td>\n",
       "      <td>The Prisoner</td>\n",
       "      <td>en</td>\n",
       "      <td>2467229</td>\n",
       "      <td>9.3</td>\n",
       "      <td>Drama</td>\n",
       "      <td>movie</td>\n",
       "    </tr>\n",
       "    <tr>\n",
       "      <td>19</td>\n",
       "      <td>The Shawshank Redemption</td>\n",
       "      <td>en</td>\n",
       "      <td>2467229</td>\n",
       "      <td>9.3</td>\n",
       "      <td>Drama</td>\n",
       "      <td>movie</td>\n",
       "    </tr>\n",
       "    <tr>\n",
       "      <td>79</td>\n",
       "      <td>The Dark Knight</td>\n",
       "      <td>en</td>\n",
       "      <td>2421844</td>\n",
       "      <td>9.0</td>\n",
       "      <td>Action,Crime,Drama</td>\n",
       "      <td>movie</td>\n",
       "    </tr>\n",
       "    <tr>\n",
       "      <td>171</td>\n",
       "      <td>Inception</td>\n",
       "      <td>en</td>\n",
       "      <td>2172818</td>\n",
       "      <td>8.8</td>\n",
       "      <td>Action,Adventure,Sci-Fi</td>\n",
       "      <td>movie</td>\n",
       "    </tr>\n",
       "    <tr>\n",
       "      <td>151</td>\n",
       "      <td>Fight Club</td>\n",
       "      <td>en</td>\n",
       "      <td>1942270</td>\n",
       "      <td>8.8</td>\n",
       "      <td>Drama</td>\n",
       "      <td>movie</td>\n",
       "    </tr>\n",
       "    <tr>\n",
       "      <td>98</td>\n",
       "      <td>Pulp Fiction</td>\n",
       "      <td>en</td>\n",
       "      <td>1910475</td>\n",
       "      <td>8.9</td>\n",
       "      <td>Crime,Drama</td>\n",
       "      <td>movie</td>\n",
       "    </tr>\n",
       "    <tr>\n",
       "      <td>141</td>\n",
       "      <td>Forrest Gump</td>\n",
       "      <td>en</td>\n",
       "      <td>1907240</td>\n",
       "      <td>8.8</td>\n",
       "      <td>Drama,Romance</td>\n",
       "      <td>movie</td>\n",
       "    </tr>\n",
       "    <tr>\n",
       "      <td>37</td>\n",
       "      <td>Game of Thrones</td>\n",
       "      <td>en</td>\n",
       "      <td>1878330</td>\n",
       "      <td>9.2</td>\n",
       "      <td>Action,Adventure,Drama</td>\n",
       "      <td>tvSeries</td>\n",
       "    </tr>\n",
       "    <tr>\n",
       "      <td>43</td>\n",
       "      <td>GoT</td>\n",
       "      <td>en</td>\n",
       "      <td>1878330</td>\n",
       "      <td>9.2</td>\n",
       "      <td>Action,Adventure,Drama</td>\n",
       "      <td>tvSeries</td>\n",
       "    </tr>\n",
       "    <tr>\n",
       "      <td>212</td>\n",
       "      <td>The Matrix</td>\n",
       "      <td>en</td>\n",
       "      <td>1761346</td>\n",
       "      <td>8.7</td>\n",
       "      <td>Action,Sci-Fi</td>\n",
       "      <td>movie</td>\n",
       "    </tr>\n",
       "  </tbody>\n",
       "</table>\n",
       "</div>"
      ],
      "text/plain": [
       "                        title language  numVotes  averageRating  \\\n",
       "18               The Prisoner       en   2467229            9.3   \n",
       "19   The Shawshank Redemption       en   2467229            9.3   \n",
       "79            The Dark Knight       en   2421844            9.0   \n",
       "171                 Inception       en   2172818            8.8   \n",
       "151                Fight Club       en   1942270            8.8   \n",
       "98               Pulp Fiction       en   1910475            8.9   \n",
       "141              Forrest Gump       en   1907240            8.8   \n",
       "37            Game of Thrones       en   1878330            9.2   \n",
       "43                        GoT       en   1878330            9.2   \n",
       "212                The Matrix       en   1761346            8.7   \n",
       "\n",
       "                      genres titleType  \n",
       "18                     Drama     movie  \n",
       "19                     Drama     movie  \n",
       "79        Action,Crime,Drama     movie  \n",
       "171  Action,Adventure,Sci-Fi     movie  \n",
       "151                    Drama     movie  \n",
       "98               Crime,Drama     movie  \n",
       "141            Drama,Romance     movie  \n",
       "37    Action,Adventure,Drama  tvSeries  \n",
       "43    Action,Adventure,Drama  tvSeries  \n",
       "212            Action,Sci-Fi     movie  "
      ]
     },
     "execution_count": 116,
     "metadata": {},
     "output_type": "execute_result"
    }
   ],
   "source": [
    "df.sort_values('numVotes', ascending=False).drop_duplicates('title').drop(columns=['titleId','region']).head(10)"
   ]
  },
  {
   "cell_type": "code",
   "execution_count": 135,
   "metadata": {
    "ExecuteTime": {
     "end_time": "2021-10-03T15:22:24.541975Z",
     "start_time": "2021-10-03T15:22:22.450413Z"
    },
    "scrolled": true
   },
   "outputs": [
    {
     "ename": "AttributeError",
     "evalue": "'Table' object has no attribute 'set_table_styles'",
     "output_type": "error",
     "traceback": [
      "\u001b[1;31m---------------------------------------------------------------------------\u001b[0m",
      "\u001b[1;31mAttributeError\u001b[0m                            Traceback (most recent call last)",
      "\u001b[1;32m<ipython-input-135-4d01a6bb8d6d>\u001b[0m in \u001b[0;36m<module>\u001b[1;34m\u001b[0m\n\u001b[0;32m     22\u001b[0m }\n\u001b[0;32m     23\u001b[0m \u001b[1;33m\u001b[0m\u001b[0m\n\u001b[1;32m---> 24\u001b[1;33m \u001b[0mtab\u001b[0m\u001b[1;33m.\u001b[0m\u001b[0mset_table_styles\u001b[0m\u001b[1;33m(\u001b[0m\u001b[1;33m[\u001b[0m\u001b[0mheaders\u001b[0m\u001b[1;33m]\u001b[0m\u001b[1;33m)\u001b[0m\u001b[1;33m\u001b[0m\u001b[1;33m\u001b[0m\u001b[0m\n\u001b[0m\u001b[0;32m     25\u001b[0m \u001b[1;33m\u001b[0m\u001b[0m\n\u001b[0;32m     26\u001b[0m \u001b[1;31m# set font manually\u001b[0m\u001b[1;33m\u001b[0m\u001b[1;33m\u001b[0m\u001b[1;33m\u001b[0m\u001b[0m\n",
      "\u001b[1;31mAttributeError\u001b[0m: 'Table' object has no attribute 'set_table_styles'"
     ]
    },
    {
     "data": {
      "image/png": "[encoded data removed]",
      "text/plain": [
       "<Figure size 1152x432 with 1 Axes>"
      ]
     },
     "metadata": {},
     "output_type": "display_data"
    }
   ],
   "source": [
    "newdf = df.loc[df['genres'].isin(['Horror,Sci-Fi','Drama,Horror,Thriller','Horror,Mystery,Sci-Fi',\n",
    "                                  'Drama,Horror','Crime,Drama,Horror','Drama,Horror,Mystery',\n",
    "                                  'Drama,Fantasy,Horror','Horror,Mystery,Thriller'])].drop(columns=['titleId','region']).drop_duplicates('title')\n",
    "\n",
    "import pandas as pd\n",
    "import matplotlib.pylab as plt\n",
    "from pandas.plotting import table\n",
    "\n",
    "# set fig size\n",
    "fig, ax = plt.subplots(figsize=(16, 6)) \n",
    "# no axes\n",
    "ax.xaxis.set_visible(False)  \n",
    "ax.yaxis.set_visible(False)  \n",
    "# no frame\n",
    "ax.set_frame_on(False)  \n",
    "# plot table\n",
    "tab = table(ax, newdf, loc='upper right')  \n",
    "\n",
    "headers = {\n",
    "    'selector': 'th:not(.index_name)',\n",
    "    'props': 'background-color: #000066; color: white;'\n",
    "}\n",
    "\n",
    "tab.set_table_styles([headers])\n",
    "\n",
    "# set font manually\n",
    "tab.auto_set_font_size(False)\n",
    "tab.set_fontsize(8) \n",
    "# save the result\n",
    "plt.savefig('table.png')\n",
    "\n",
    "#from IPython.display import display, HTML\n",
    "#display(HTML(newdf.to_html()))"
   ]
  },
  {
   "cell_type": "code",
   "execution_count": 83,
   "metadata": {
    "ExecuteTime": {
     "end_time": "2021-10-03T14:03:00.200705Z",
     "start_time": "2021-10-03T14:03:00.184389Z"
    }
   },
   "outputs": [
    {
     "data": {
      "text/plain": [
       "array(['Drama', 'Biography,Crime,Drama', 'Documentary',\n",
       "       'Action,Drama,History', 'Crime,Drama,Thriller',\n",
       "       'Drama,History,Thriller', 'Action,Adventure,Animation',\n",
       "       'Crime,Drama', 'Action,Adventure,Drama',\n",
       "       'Adventure,Animation,Comedy', 'Crime,Drama,Mystery',\n",
       "       'Adventure,Comedy,Drama', 'Biography,Documentary,History',\n",
       "       'Adventure,Drama,Sci-Fi', 'Action,Crime,Drama',\n",
       "       'Animation,Crime,Drama', 'Biography,Drama,History', 'Comedy',\n",
       "       'Comedy,History,News', 'Western', 'Comedy,Romance',\n",
       "       'Drama,Romance', 'Comedy,Drama,Sport', 'Action,Adventure,Sci-Fi',\n",
       "       'Drama,Sci-Fi,Thriller', 'Action,Animation,Comedy',\n",
       "       'Action,Adventure,Fantasy', 'Animation,Comedy', 'Action,Sci-Fi',\n",
       "       'Comedy,Drama', 'Drama,Mystery', 'Action,Biography,Drama',\n",
       "       'Animation,Comedy,Drama', 'Drama,Fantasy,Horror',\n",
       "       'Action,Drama,War', 'Drama,Family,Fantasy',\n",
       "       'Action,Adventure,Mystery', 'Comedy,Drama,Romance',\n",
       "       'Crime,Drama,Fantasy', 'Drama,War', 'Adventure,Animation,Family',\n",
       "       'Crime,Drama,History', 'Adventure,Drama,Family',\n",
       "       'Drama,Mystery,Sci-Fi', 'Adventure,Comedy,Reality-TV',\n",
       "       'Crime,Documentary', 'Comedy,Drama,Thriller',\n",
       "       'Drama,Horror,Mystery', 'Action,Comedy,Drama',\n",
       "       'Comedy,Drama,Family', 'Drama,Romance,War', 'Mystery,Thriller',\n",
       "       'Horror,Mystery,Thriller', 'Adventure,Comedy,Sci-Fi',\n",
       "       'Animation,Drama,War', 'Comedy,Family',\n",
       "       'Adventure,Animation,Drama', 'Crime,Mystery,Thriller',\n",
       "       'Biography,Drama,Music', 'Action,Adventure,Biography',\n",
       "       'Biography,Comedy,Drama', 'Crime,Drama,Horror', 'Drama,Music',\n",
       "       'Comedy,Drama,War', 'Drama,Film-Noir', 'Horror,Sci-Fi',\n",
       "       'Drama,Mystery,War', 'Drama,Horror', 'Action,Adventure',\n",
       "       'Animation,Comedy,Sci-Fi', 'Action,Drama,Mystery',\n",
       "       'Drama,Mystery,Thriller', 'Drama,Family', 'Action',\n",
       "       'Drama,Western', 'Comedy,Crime', 'Drama,Fantasy,Romance',\n",
       "       'Animation,Drama,Fantasy', 'Drama,Sci-Fi', 'Crime,Drama,Film-Noir',\n",
       "       'Comedy,Musical,Romance', 'Mystery,Romance,Thriller',\n",
       "       'Adventure,Mystery,Thriller', 'Adventure,Biography,Drama',\n",
       "       'Adventure,Sci-Fi', 'Crime,Drama,Sci-Fi', 'Comedy,Crime,Drama',\n",
       "       'Adventure,Drama,Thriller', 'Drama,Romance,Sci-Fi',\n",
       "       'Adventure,Drama,War', 'Adventure,Drama,Fantasy',\n",
       "       'Comedy,Crime,Mystery', 'Action,Drama,Sci-Fi',\n",
       "       'Drama,Fantasy,Mystery', 'Adventure,Drama,Western',\n",
       "       'Crime,Thriller', 'Drama,Fantasy,History', 'Comedy,Music,Romance',\n",
       "       'Action,Drama,Thriller', 'Adventure,Drama,History',\n",
       "       'Adventure,Comedy,Fantasy', 'Biography,Drama,Sport',\n",
       "       'Action,Thriller', 'Animation,Family,Fantasy',\n",
       "       'Action,Drama,Fantasy', 'Action,Comedy,Crime',\n",
       "       'Animation,Comedy,Family', 'Biography,Drama', 'Drama,Musical',\n",
       "       'Drama,Fantasy,War', 'Drama,Mystery,Romance',\n",
       "       'Drama,Horror,Thriller', 'Comedy,Drama,Fantasy', 'Adventure,Drama',\n",
       "       'Action,Drama', 'Action,Crime,Mystery', 'Crime,Drama,Music',\n",
       "       'Action,Adventure,Comedy', 'Drama,History,Romance',\n",
       "       'Drama,History', 'Film-Noir,Mystery,Thriller', 'Drama,Thriller',\n",
       "       'Drama,Sport', 'Action,Sci-Fi,Thriller', 'Horror,Mystery,Sci-Fi',\n",
       "       'Adventure,Animation,Fantasy', 'Adventure,Family,Fantasy',\n",
       "       'Comedy,Crime,Sport', 'Drama,Musical,Sport',\n",
       "       'Biography,Drama,Family', 'Adventure,Fantasy,Mystery',\n",
       "       'Action,Drama,Sport', 'Adventure,Comedy,Crime',\n",
       "       'Comedy,Drama,Musical', 'Drama,Romance,Thriller'], dtype=object)"
      ]
     },
     "execution_count": 83,
     "metadata": {},
     "output_type": "execute_result"
    }
   ],
   "source": [
    "df.genres.unique()"
   ]
  },
  {
   "cell_type": "code",
   "execution_count": null,
   "metadata": {},
   "outputs": [],
   "source": []
  }
 ],
 "metadata": {
  "kernelspec": {
   "display_name": "Python 3",
   "language": "python",
   "name": "python3"
  },
  "language_info": {
   "codemirror_mode": {
    "name": "ipython",
    "version": 3
   },
   "file_extension": ".py",
   "mimetype": "text/x-python",
   "name": "python",
   "nbconvert_exporter": "python",
   "pygments_lexer": "ipython3",
   "version": "3.7.4"
  },
  "varInspector": {
   "cols": {
    "lenName": 16,
    "lenType": 16,
    "lenVar": 40
   },
   "kernels_config": {
    "python": {
     "delete_cmd_postfix": "",
     "delete_cmd_prefix": "del ",
     "library": "var_list.py",
     "varRefreshCmd": "print(var_dic_list())"
    },
    "r": {
     "delete_cmd_postfix": ") ",
     "delete_cmd_prefix": "rm(",
     "library": "var_list.r",
     "varRefreshCmd": "cat(var_dic_list()) "
    }
   },
   "types_to_exclude": [
    "module",
    "function",
    "builtin_function_or_method",
    "instance",
    "_Feature"
   ],
   "window_display": false
  }
 },
 "nbformat": 4,
 "nbformat_minor": 2
}
