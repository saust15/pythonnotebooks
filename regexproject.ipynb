{
  "nbformat": 4,
  "nbformat_minor": 0,
  "metadata": {
    "colab": {
      "name": "regexproject.ipynb",
      "provenance": [],
      "collapsed_sections": [],
      "authorship_tag": "ABX9TyPyTmIUIsiRjjL8CHdE/7Lj",
      "include_colab_link": true
    },
    "kernelspec": {
      "name": "python3",
      "display_name": "Python 3"
    },
    "language_info": {
      "name": "python"
    }
  },
  "cells": [
    {
      "cell_type": "markdown",
      "metadata": {
        "id": "view-in-github",
        "colab_type": "text"
      },
      "source": [
        "<a href=\"https://colab.research.google.com/github/saust15/pythonnotebooks/blob/main/regexproject.ipynb\" target=\"_parent\"><img src=\"https://colab.research.google.com/assets/colab-badge.svg\" alt=\"Open In Colab\"/></a>"
      ]
    },
    {
      "cell_type": "code",
      "metadata": {
        "id": "wc36W4k-Deaw"
      },
      "source": [
        "import re"
      ],
      "execution_count": 1,
      "outputs": []
    },
    {
      "cell_type": "markdown",
      "metadata": {
        "id": "w_XWy0QuD0oz"
      },
      "source": [
        "#Metacharacters\n",
        "(^$) - search a pattern at the start of at string, search at end of a string"
      ]
    },
    {
      "cell_type": "code",
      "metadata": {
        "id": "S6OIcuTnDzf2"
      },
      "source": [
        "st = 'dogs are adorable'"
      ],
      "execution_count": 2,
      "outputs": []
    },
    {
      "cell_type": "code",
      "metadata": {
        "id": "fq0S5gJLEHxk"
      },
      "source": [
        "p= '^dogs'"
      ],
      "execution_count": 3,
      "outputs": []
    },
    {
      "cell_type": "code",
      "metadata": {
        "colab": {
          "base_uri": "https://localhost:8080/"
        },
        "id": "FAIrpLMvEMR0",
        "outputId": "6b415fb9-66f1-4177-c274-5b9afc8053d2"
      },
      "source": [
        "re.search(p,st)"
      ],
      "execution_count": 4,
      "outputs": [
        {
          "output_type": "execute_result",
          "data": {
            "text/plain": [
              "<re.Match object; span=(0, 4), match='dogs'>"
            ]
          },
          "metadata": {},
          "execution_count": 4
        }
      ]
    },
    {
      "cell_type": "code",
      "metadata": {
        "id": "xQKMWwDMEjun"
      },
      "source": [
        "p2 = 'dogs$'"
      ],
      "execution_count": 5,
      "outputs": []
    },
    {
      "cell_type": "code",
      "metadata": {
        "colab": {
          "base_uri": "https://localhost:8080/"
        },
        "id": "4btHh8uREP_6",
        "outputId": "b57daa9a-bd5b-4d01-954d-1f3011a6f666"
      },
      "source": [
        "print(re.search(p2,st))"
      ],
      "execution_count": 6,
      "outputs": [
        {
          "output_type": "stream",
          "name": "stdout",
          "text": [
            "None\n"
          ]
        }
      ]
    },
    {
      "cell_type": "markdown",
      "metadata": {
        "id": "7yHLSJ1iFDvX"
      },
      "source": [
        "# Quantifiers\n",
        "? + *"
      ]
    },
    {
      "cell_type": "code",
      "metadata": {
        "id": "1dJeujx8E-7Q"
      },
      "source": [
        "st2 = 'color'\n",
        "st3 = 'colour'"
      ],
      "execution_count": 7,
      "outputs": []
    },
    {
      "cell_type": "code",
      "metadata": {
        "colab": {
          "base_uri": "https://localhost:8080/"
        },
        "id": "IBe6sZVRGr9j",
        "outputId": "2f478788-7627-4f5f-9f27-c5c0fb2496a2"
      },
      "source": [
        "re.search('colou?r', st3)"
      ],
      "execution_count": 8,
      "outputs": [
        {
          "output_type": "execute_result",
          "data": {
            "text/plain": [
              "<re.Match object; span=(0, 6), match='colour'>"
            ]
          },
          "metadata": {},
          "execution_count": 8
        }
      ]
    },
    {
      "cell_type": "code",
      "metadata": {
        "id": "dcHJDfKOG8HG"
      },
      "source": [
        "st4 = 'ac'\n",
        "st5 = 'abc'\n",
        "st6 = 'abbc'"
      ],
      "execution_count": 9,
      "outputs": []
    },
    {
      "cell_type": "code",
      "metadata": {
        "colab": {
          "base_uri": "https://localhost:8080/"
        },
        "id": "RbP1tl2jKTDw",
        "outputId": "4ef96244-fd2e-41bb-8633-4e2e12cec752"
      },
      "source": [
        "re.search('ab+c', st5)"
      ],
      "execution_count": 10,
      "outputs": [
        {
          "output_type": "execute_result",
          "data": {
            "text/plain": [
              "<re.Match object; span=(0, 3), match='abc'>"
            ]
          },
          "metadata": {},
          "execution_count": 10
        }
      ]
    },
    {
      "cell_type": "markdown",
      "metadata": {
        "id": "fyFKvqXyK1kT"
      },
      "source": [
        "# Metacharacters(- .)"
      ]
    },
    {
      "cell_type": "code",
      "metadata": {
        "id": "lajco-1JKavo"
      },
      "source": [
        ""
      ],
      "execution_count": 10,
      "outputs": []
    },
    {
      "cell_type": "markdown",
      "metadata": {
        "id": "02FLWERmNZNj"
      },
      "source": [
        "#Sets\n",
        "[] any character present in string,\n",
        "[a-n] any character alphabetically a through n,\n",
        "[^a-n] any charachter but NOT a-n,\n",
        "[arn] either a or r or n,\n",
        "[0145]either 0 or 1 or 4 or 5,\n",
        "[0-9] any digit 0-9,\n",
        "[0-5][0-9] and number from 0 to 59,\n",
        "[a-Z] all letters from a-z lowercase and uppercase"
      ]
    },
    {
      "cell_type": "code",
      "metadata": {
        "id": "eSYXDem0NYSL"
      },
      "source": [
        "import re\n",
        "str = 'dog are adorable'"
      ],
      "execution_count": 11,
      "outputs": []
    },
    {
      "cell_type": "code",
      "metadata": {
        "colab": {
          "base_uri": "https://localhost:8080/"
        },
        "id": "mF3p_431O3Oi",
        "outputId": "c48d6b15-8ada-42a6-c362-dfe0afc9515e"
      },
      "source": [
        "re.findall('[a-d]',str)"
      ],
      "execution_count": 12,
      "outputs": [
        {
          "output_type": "execute_result",
          "data": {
            "text/plain": [
              "['d', 'a', 'a', 'd', 'a', 'b']"
            ]
          },
          "metadata": {},
          "execution_count": 12
        }
      ]
    },
    {
      "cell_type": "markdown",
      "metadata": {
        "id": "3Tk3bzTOq6n-"
      },
      "source": [
        "# Special Sequences\n",
        "\n",
        "\\d \\w"
      ]
    },
    {
      "cell_type": "code",
      "metadata": {
        "colab": {
          "base_uri": "https://localhost:8080/"
        },
        "id": "Q30AOpQhq4ha",
        "outputId": "26202605-0945-499d-818f-178d06ef3c87"
      },
      "source": [
        "re.search('\\d','my password is pass1234')"
      ],
      "execution_count": 13,
      "outputs": [
        {
          "output_type": "execute_result",
          "data": {
            "text/plain": [
              "<re.Match object; span=(19, 20), match='1'>"
            ]
          },
          "metadata": {},
          "execution_count": 13
        }
      ]
    },
    {
      "cell_type": "code",
      "metadata": {
        "colab": {
          "base_uri": "https://localhost:8080/"
        },
        "id": "PdExydyqr3L0",
        "outputId": "d663a527-1c74-4cd7-eb7a-d55434564085"
      },
      "source": [
        "re.findall('\\d','my password is pass1234')"
      ],
      "execution_count": 14,
      "outputs": [
        {
          "output_type": "execute_result",
          "data": {
            "text/plain": [
              "['1', '2', '3', '4']"
            ]
          },
          "metadata": {},
          "execution_count": 14
        }
      ]
    },
    {
      "cell_type": "code",
      "metadata": {
        "id": "Clf3FTHHrvLw"
      },
      "source": [
        "#{8,15} 8-15 char {8,} at least 8 char\n",
        "\n",
        "regex = '[A-Za-z0-9@#$%^&=]{8,}'"
      ],
      "execution_count": 15,
      "outputs": []
    },
    {
      "cell_type": "code",
      "metadata": {
        "colab": {
          "base_uri": "https://localhost:8080/"
        },
        "id": "2jNZ5GiXtDhY",
        "outputId": "7082d44d-89b4-4873-8e3f-827b01cdeacd"
      },
      "source": [
        "import re \n",
        "pwd = input(\"Enter a password\")"
      ],
      "execution_count": 16,
      "outputs": [
        {
          "name": "stdout",
          "output_type": "stream",
          "text": [
            "Enter a passwordheypassword123456\n"
          ]
        }
      ]
    },
    {
      "cell_type": "code",
      "metadata": {
        "colab": {
          "base_uri": "https://localhost:8080/",
          "height": 35
        },
        "id": "OSckv7FrtgUx",
        "outputId": "617f776e-3492-4ff6-f947-b5a44947a3a4"
      },
      "source": [
        "pwd"
      ],
      "execution_count": 17,
      "outputs": [
        {
          "output_type": "execute_result",
          "data": {
            "application/vnd.google.colaboratory.intrinsic+json": {
              "type": "string"
            },
            "text/plain": [
              "'heypassword123456'"
            ]
          },
          "metadata": {},
          "execution_count": 17
        }
      ]
    },
    {
      "cell_type": "code",
      "metadata": {
        "colab": {
          "base_uri": "https://localhost:8080/"
        },
        "id": "UCu4Eokvtkg2",
        "outputId": "0af041e3-9755-48ba-9c98-46d251caf0b0"
      },
      "source": [
        "if re.fullmatch(regex,pwd):\n",
        "  print(\"Congrats match\")\n",
        "else:\n",
        "    print(\"No match\")"
      ],
      "execution_count": 18,
      "outputs": [
        {
          "output_type": "stream",
          "name": "stdout",
          "text": [
            "Congrats match\n"
          ]
        }
      ]
    },
    {
      "cell_type": "markdown",
      "metadata": {
        "id": "S6Gq2pXtMI2d"
      },
      "source": [
        "Write regex epression to validate a password \n",
        "\n",
        "\n",
        "*   At least 6 characters long\n",
        "*   Contains lowercase letter\n",
        "*   Contains uppercase letter\n",
        "*   Contains a number\n",
        "\n",
        "\n",
        "\n"
      ]
    },
    {
      "cell_type": "code",
      "metadata": {
        "id": "VkR28DPZtpyl"
      },
      "source": [
        "regex = '(?=.*[A-Z])(?=.*[a-z])(?=.*[0-9]{6,})'"
      ],
      "execution_count": 19,
      "outputs": []
    },
    {
      "cell_type": "code",
      "metadata": {
        "colab": {
          "base_uri": "https://localhost:8080/"
        },
        "id": "Am6tS0LhLT7H",
        "outputId": "b9bf77a8-6df2-4fba-d162-102c10978dad"
      },
      "source": [
        "if re.fullmatch(regex,pwd):\n",
        "    print('match yay')\n",
        "else: \n",
        "    print(\"No match\")"
      ],
      "execution_count": 20,
      "outputs": [
        {
          "output_type": "stream",
          "name": "stdout",
          "text": [
            "No match\n"
          ]
        }
      ]
    },
    {
      "cell_type": "markdown",
      "metadata": {
        "id": "Lk4DjqiLNIqm"
      },
      "source": [
        "Time Format Validation \n",
        "\n",
        "*  Write a time format checker\n"
      ]
    },
    {
      "cell_type": "code",
      "metadata": {
        "id": "RPlv0Yk8NcAV"
      },
      "source": [
        "inputs = ['18:29','23:55','123','ab:de','18.299','99:99']"
      ],
      "execution_count": 31,
      "outputs": []
    },
    {
      "cell_type": "code",
      "metadata": {
        "id": "lmU8Di3PNIDi"
      },
      "source": [
        "input1 = '12,455'"
      ],
      "execution_count": 23,
      "outputs": []
    },
    {
      "cell_type": "code",
      "metadata": {
        "id": "rzH95HYxaRef"
      },
      "source": [
        "import re\n",
        "re.fullmatch('[0-9]{2}:[0-9]{2}', input1)"
      ],
      "execution_count": 24,
      "outputs": []
    },
    {
      "cell_type": "code",
      "metadata": {
        "colab": {
          "base_uri": "https://localhost:8080/"
        },
        "id": "WKtI4SDIaRY9",
        "outputId": "8add6800-9b0e-4fd2-be84-94b489feb2b6"
      },
      "source": [
        "[re.fullmatch('[0-9]{2}:[0-9]{2}', x) for x in inputs]"
      ],
      "execution_count": 32,
      "outputs": [
        {
          "output_type": "execute_result",
          "data": {
            "text/plain": [
              "[<re.Match object; span=(0, 5), match='18:29'>,\n",
              " <re.Match object; span=(0, 5), match='23:55'>,\n",
              " None,\n",
              " None,\n",
              " None,\n",
              " <re.Match object; span=(0, 5), match='99:99'>]"
            ]
          },
          "metadata": {},
          "execution_count": 32
        }
      ]
    },
    {
      "cell_type": "markdown",
      "metadata": {
        "id": "fKr2ygyebRu-"
      },
      "source": [
        "The given time must be in a valid time format in the 24-hour time ranging from 00:00 to 23:59"
      ]
    },
    {
      "cell_type": "code",
      "metadata": {
        "id": "D3DssMSlbbdL"
      },
      "source": [
        "regex='([01][0-9]|2[0-3]):([0-5][0-9])'"
      ],
      "execution_count": 33,
      "outputs": []
    },
    {
      "cell_type": "code",
      "metadata": {
        "colab": {
          "base_uri": "https://localhost:8080/"
        },
        "id": "XBqU2dmheDml",
        "outputId": "805ba275-341b-4571-e10a-fa265363dc99"
      },
      "source": [
        "[re.fullmatch(regex, x) for x in inputs]"
      ],
      "execution_count": 34,
      "outputs": [
        {
          "output_type": "execute_result",
          "data": {
            "text/plain": [
              "[<re.Match object; span=(0, 5), match='18:29'>,\n",
              " <re.Match object; span=(0, 5), match='23:55'>,\n",
              " None,\n",
              " None,\n",
              " None,\n",
              " None]"
            ]
          },
          "metadata": {},
          "execution_count": 34
        }
      ]
    },
    {
      "cell_type": "markdown",
      "metadata": {
        "id": "iffa0KczZtRW"
      },
      "source": [
        "Email Validation"
      ]
    },
    {
      "cell_type": "code",
      "metadata": {
        "id": "f-CSlSTfeRh9"
      },
      "source": [
        "inputs = ['rog45@gmail.com','rog$45@gmail.com','r_duke78o@outlook.com','s.rog78o@outlook.com']"
      ],
      "execution_count": 39,
      "outputs": []
    },
    {
      "cell_type": "code",
      "metadata": {
        "id": "UbGp0SiMeRHd"
      },
      "source": [
        "regex4 = '^(\\w|\\.|\\_|\\-)+[@]\\w+[.]\\w{2,3}$'"
      ],
      "execution_count": 37,
      "outputs": []
    },
    {
      "cell_type": "code",
      "metadata": {
        "colab": {
          "base_uri": "https://localhost:8080/"
        },
        "id": "zMG8Gi1weQxo",
        "outputId": "1937fa9a-e752-447c-c30b-be925e56d12e"
      },
      "source": [
        "[re.fullmatch(regex4,x) for x in inputs]"
      ],
      "execution_count": 40,
      "outputs": [
        {
          "output_type": "execute_result",
          "data": {
            "text/plain": [
              "[<re.Match object; span=(0, 15), match='rog45@gmail.com'>,\n",
              " None,\n",
              " <re.Match object; span=(0, 21), match='r_duke78o@outlook.com'>,\n",
              " <re.Match object; span=(0, 20), match='s.rog78o@outlook.com'>]"
            ]
          },
          "metadata": {},
          "execution_count": 40
        }
      ]
    },
    {
      "cell_type": "markdown",
      "metadata": {
        "id": "osjGqQsPeojs"
      },
      "source": [
        "**Username Validation**\n",
        "\n",
        "---\n",
        "\n"
      ]
    },
    {
      "cell_type": "markdown",
      "metadata": {
        "id": "Qo9Aa1QIgM_k"
      },
      "source": [
        "username is character only allowing for underscore_ and . only"
      ]
    },
    {
      "cell_type": "code",
      "metadata": {
        "id": "QBhvIX_Be0o2"
      },
      "source": [
        "inputs1 = ['a_roger','aroger','a.roger_de','a.roger_2']"
      ],
      "execution_count": 41,
      "outputs": []
    },
    {
      "cell_type": "code",
      "metadata": {
        "id": "ZjY7_fLhgldK"
      },
      "source": [
        "regex5 = '^[a-zA-Z_.]+$'"
      ],
      "execution_count": 42,
      "outputs": []
    },
    {
      "cell_type": "code",
      "metadata": {
        "colab": {
          "base_uri": "https://localhost:8080/"
        },
        "id": "29pY7iHDglJb",
        "outputId": "4ff7e427-02f0-4ddc-a98a-2d9b886f3101"
      },
      "source": [
        "[re.fullmatch(regex5,x) for x in inputs1]"
      ],
      "execution_count": 43,
      "outputs": [
        {
          "output_type": "execute_result",
          "data": {
            "text/plain": [
              "[<re.Match object; span=(0, 7), match='a_roger'>,\n",
              " <re.Match object; span=(0, 6), match='aroger'>,\n",
              " <re.Match object; span=(0, 10), match='a.roger_de'>,\n",
              " None]"
            ]
          },
          "metadata": {},
          "execution_count": 43
        }
      ]
    },
    {
      "cell_type": "markdown",
      "metadata": {
        "id": "zs7IVgeNiiuU"
      },
      "source": [
        "#Extraction and Word Placement Problems \n",
        "\n",
        "---\n",
        "Question Mark : Optional regex to indicate 0 or 1 occurence, used with * (astrisk) can change regex search from greedy to forced 0\n"
      ]
    },
    {
      "cell_type": "code",
      "metadata": {
        "id": "jTeP55aMjABr"
      },
      "source": [
        "import re"
      ],
      "execution_count": 44,
      "outputs": []
    },
    {
      "cell_type": "code",
      "metadata": {
        "id": "fyzB-7LbjAwO"
      },
      "source": [
        "text = 'abcdefghujhg'"
      ],
      "execution_count": 45,
      "outputs": []
    },
    {
      "cell_type": "code",
      "metadata": {
        "colab": {
          "base_uri": "https://localhost:8080/"
        },
        "id": "LXGih9nCjBjx",
        "outputId": "52ab1196-7e92-4c24-c201-16a135a18706"
      },
      "source": [
        "re.findall('ab.*?', text)"
      ],
      "execution_count": 46,
      "outputs": [
        {
          "output_type": "execute_result",
          "data": {
            "text/plain": [
              "['ab']"
            ]
          },
          "metadata": {},
          "execution_count": 46
        }
      ]
    },
    {
      "cell_type": "code",
      "metadata": {
        "colab": {
          "base_uri": "https://localhost:8080/"
        },
        "id": "oNfz4DlZjUev",
        "outputId": "7c17e683-fb4a-4288-9989-275ae53157b4"
      },
      "source": [
        "re.findall('ab.*', text)"
      ],
      "execution_count": 47,
      "outputs": [
        {
          "output_type": "execute_result",
          "data": {
            "text/plain": [
              "['abcdefghujhg']"
            ]
          },
          "metadata": {},
          "execution_count": 47
        }
      ]
    }
  ]
}